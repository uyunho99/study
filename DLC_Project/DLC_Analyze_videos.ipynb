{
 "cells": [
  {
   "cell_type": "markdown",
   "id": "f8ae34de",
   "metadata": {},
   "source": [
    "# Analyze videos"
   ]
  },
  {
   "cell_type": "markdown",
   "id": "e938ab48",
   "metadata": {},
   "source": [
    "Notebook for analyzing videos when the DLC project has already been trained"
   ]
  },
  {
   "cell_type": "code",
   "execution_count": 2,
   "id": "083bade7",
   "metadata": {},
   "outputs": [
    {
     "name": "stdout",
     "output_type": "stream",
     "text": [
      "Loading DLC 2.2.1.1...\n"
     ]
    },
    {
     "name": "stderr",
     "output_type": "stream",
     "text": [
      "/home/andy/.local/lib/python3.8/site-packages/statsmodels/compat/pandas.py:65: FutureWarning: pandas.Int64Index is deprecated and will be removed from pandas in a future version. Use pandas.Index with the appropriate dtype instead.\n",
      "  from pandas import Int64Index as NumericIndex\n"
     ]
    },
    {
     "name": "stdout",
     "output_type": "stream",
     "text": [
      "Found config file :  /mnt/sdb2/DeepDraw/DLC_project/Laborless_demo_1-YH-2022-09-08/config.yaml\n"
     ]
    }
   ],
   "source": [
    "import deeplabcut\n",
    "import os\n",
    "\n",
    "date = '20220802'\n",
    "name = 'DP03'\n",
    "exptype = 'mri'\n",
    "cam_num = 1\n",
    "\n",
    "projects_path = \"/mnt/sdb2/DeepDraw/Projects\"\n",
    "project_name = '_'.join([date,name,exptype])\n",
    "video_path = os.path.join(projects_path, project_name, \"Camera_{}\".format(cam_num),'Video_cut')\n",
    "\n",
    "path_to_DLC_project = '/mnt/sdb2/DeepDraw/DLC_project/'\n",
    "list_of_proj = os.listdir(path_to_DLC_project)\n",
    "for path in list_of_proj:\n",
    "    if  path.startswith('_'.join([date,name,exptype])):\n",
    "        path_config_file = os.path.join(path_to_DLC_project, path, \"config.yaml\")\n",
    "        \n",
    "path_config_file = '/mnt/sdb2/DeepDraw/DLC_project/Laborless_demo_1-YH-2022-09-08/config.yaml'\n",
    "print(\"Found config file : \" , path_config_file)"
   ]
  },
  {
   "cell_type": "code",
   "execution_count": 3,
   "id": "4fa8e7d1",
   "metadata": {},
   "outputs": [
    {
     "name": "stdout",
     "output_type": "stream",
     "text": [
      "Snapshotindex is set to 'all' in the config.yaml file. Running video analysis with all snapshots is very costly! Use the function 'evaluate_network' to choose the best the snapshot. For now, changing snapshot index to -1!\n",
      "Using snapshot-100000 for model /mnt/sdb2/DeepDraw/DLC_project/Laborless_demo_1-YH-2022-09-08/dlc-models/iteration-2/Laborless_demo_1Sep8-trainset95shuffle1\n"
     ]
    },
    {
     "name": "stderr",
     "output_type": "stream",
     "text": [
      "/home/andy/anaconda3/envs/DEEPLABCUT-2/lib/python3.8/site-packages/tensorflow/python/keras/engine/base_layer_v1.py:1694: UserWarning: `layer.apply` is deprecated and will be removed in a future version. Please use `layer.__call__` method instead.\n",
      "  warnings.warn('`layer.apply` is deprecated and '\n",
      "/home/andy/.local/lib/python3.8/site-packages/tf_slim/layers/layers.py:684: UserWarning: `layer.apply` is deprecated and will be removed in a future version. Please use `layer.__call__` method instead.\n",
      "  outputs = layer.apply(inputs, training=is_training)\n",
      "2022-09-19 22:07:19.576081: I tensorflow/stream_executor/cuda/cuda_gpu_executor.cc:936] successful NUMA node read from SysFS had negative value (-1), but there must be at least one NUMA node, so returning NUMA node zero\n",
      "2022-09-19 22:07:19.580908: I tensorflow/stream_executor/cuda/cuda_gpu_executor.cc:936] successful NUMA node read from SysFS had negative value (-1), but there must be at least one NUMA node, so returning NUMA node zero\n",
      "2022-09-19 22:07:19.581137: I tensorflow/stream_executor/cuda/cuda_gpu_executor.cc:936] successful NUMA node read from SysFS had negative value (-1), but there must be at least one NUMA node, so returning NUMA node zero\n",
      "2022-09-19 22:07:19.582085: I tensorflow/core/platform/cpu_feature_guard.cc:151] This TensorFlow binary is optimized with oneAPI Deep Neural Network Library (oneDNN) to use the following CPU instructions in performance-critical operations:  SSE4.1 SSE4.2 AVX AVX2 FMA\n",
      "To enable them in other operations, rebuild TensorFlow with the appropriate compiler flags.\n",
      "2022-09-19 22:07:19.587801: I tensorflow/stream_executor/cuda/cuda_gpu_executor.cc:936] successful NUMA node read from SysFS had negative value (-1), but there must be at least one NUMA node, so returning NUMA node zero\n",
      "2022-09-19 22:07:19.588013: I tensorflow/stream_executor/cuda/cuda_gpu_executor.cc:936] successful NUMA node read from SysFS had negative value (-1), but there must be at least one NUMA node, so returning NUMA node zero\n",
      "2022-09-19 22:07:19.588197: I tensorflow/stream_executor/cuda/cuda_gpu_executor.cc:936] successful NUMA node read from SysFS had negative value (-1), but there must be at least one NUMA node, so returning NUMA node zero\n",
      "2022-09-19 22:07:19.945145: I tensorflow/stream_executor/cuda/cuda_gpu_executor.cc:936] successful NUMA node read from SysFS had negative value (-1), but there must be at least one NUMA node, so returning NUMA node zero\n",
      "2022-09-19 22:07:19.945374: I tensorflow/stream_executor/cuda/cuda_gpu_executor.cc:936] successful NUMA node read from SysFS had negative value (-1), but there must be at least one NUMA node, so returning NUMA node zero\n",
      "2022-09-19 22:07:19.945561: I tensorflow/stream_executor/cuda/cuda_gpu_executor.cc:936] successful NUMA node read from SysFS had negative value (-1), but there must be at least one NUMA node, so returning NUMA node zero\n",
      "2022-09-19 22:07:19.945701: I tensorflow/core/common_runtime/gpu/gpu_device.cc:1525] Created device /job:localhost/replica:0/task:0/device:GPU:0 with 21849 MB memory:  -> device: 0, name: NVIDIA GeForce RTX 3090, pci bus id: 0000:49:00.0, compute capability: 8.6\n"
     ]
    },
    {
     "name": "stdout",
     "output_type": "stream",
     "text": [
      "Starting to analyze %  /mnt/sdb2/DeepDraw/Projects/20220802_DP03_mri/Camera_1/Video_cut/cut_0_cam_1_run_1.mp4\n",
      "Loading  /mnt/sdb2/DeepDraw/Projects/20220802_DP03_mri/Camera_1/Video_cut/cut_0_cam_1_run_1.mp4\n",
      "Duration of video [s]:  4.53 , recorded with  30.0 fps!\n",
      "Overall # of frames:  136  found with (before cropping) frame dimensions:  1920 1080\n",
      "Starting to extract posture\n"
     ]
    },
    {
     "name": "stderr",
     "output_type": "stream",
     "text": [
      "  0%|          | 0/136 [00:00<?, ?it/s]2022-09-19 22:07:21.707806: I tensorflow/stream_executor/cuda/cuda_dnn.cc:368] Loaded cuDNN version 8401\n",
      "2022-09-19 22:07:22.540856: I tensorflow/core/platform/default/subprocess.cc:304] Start cannot spawn child process: No such file or directory\n",
      " 96%|█████████▌| 130/136 [00:17<00:00,  7.54it/s]\n"
     ]
    },
    {
     "name": "stdout",
     "output_type": "stream",
     "text": [
      "Saving results in /mnt/sdb2/DeepDraw/Projects/20220802_DP03_mri/Camera_1/Video_cut...\n",
      "Starting to analyze %  /mnt/sdb2/DeepDraw/Projects/20220802_DP03_mri/Camera_1/Video_cut/cut_1_cam_1_run_1.mp4\n",
      "Loading  /mnt/sdb2/DeepDraw/Projects/20220802_DP03_mri/Camera_1/Video_cut/cut_1_cam_1_run_1.mp4\n",
      "Duration of video [s]:  4.53 , recorded with  30.0 fps!\n",
      "Overall # of frames:  136  found with (before cropping) frame dimensions:  1920 1080\n",
      "Starting to extract posture\n"
     ]
    },
    {
     "name": "stderr",
     "output_type": "stream",
     "text": [
      " 96%|█████████▌| 130/136 [00:05<00:00, 24.08it/s]\n"
     ]
    },
    {
     "name": "stdout",
     "output_type": "stream",
     "text": [
      "Saving results in /mnt/sdb2/DeepDraw/Projects/20220802_DP03_mri/Camera_1/Video_cut...\n",
      "Starting to analyze %  /mnt/sdb2/DeepDraw/Projects/20220802_DP03_mri/Camera_1/Video_cut/cut_2_cam_1_run_1.mp4\n",
      "Loading  /mnt/sdb2/DeepDraw/Projects/20220802_DP03_mri/Camera_1/Video_cut/cut_2_cam_1_run_1.mp4\n",
      "Duration of video [s]:  4.53 , recorded with  30.0 fps!\n",
      "Overall # of frames:  136  found with (before cropping) frame dimensions:  1920 1080\n",
      "Starting to extract posture\n"
     ]
    },
    {
     "name": "stderr",
     "output_type": "stream",
     "text": [
      " 96%|█████████▌| 130/136 [00:05<00:00, 23.26it/s]\n"
     ]
    },
    {
     "name": "stdout",
     "output_type": "stream",
     "text": [
      "Saving results in /mnt/sdb2/DeepDraw/Projects/20220802_DP03_mri/Camera_1/Video_cut...\n",
      "Starting to analyze %  /mnt/sdb2/DeepDraw/Projects/20220802_DP03_mri/Camera_1/Video_cut/cut_3_cam_1_run_1.mp4\n",
      "Loading  /mnt/sdb2/DeepDraw/Projects/20220802_DP03_mri/Camera_1/Video_cut/cut_3_cam_1_run_1.mp4\n",
      "Duration of video [s]:  4.53 , recorded with  30.0 fps!\n",
      "Overall # of frames:  136  found with (before cropping) frame dimensions:  1920 1080\n",
      "Starting to extract posture\n"
     ]
    },
    {
     "name": "stderr",
     "output_type": "stream",
     "text": [
      " 96%|█████████▌| 130/136 [00:05<00:00, 23.87it/s]\n"
     ]
    },
    {
     "name": "stdout",
     "output_type": "stream",
     "text": [
      "Saving results in /mnt/sdb2/DeepDraw/Projects/20220802_DP03_mri/Camera_1/Video_cut...\n",
      "Starting to analyze %  /mnt/sdb2/DeepDraw/Projects/20220802_DP03_mri/Camera_1/Video_cut/cut_4_cam_1_run_1.mp4\n",
      "Loading  /mnt/sdb2/DeepDraw/Projects/20220802_DP03_mri/Camera_1/Video_cut/cut_4_cam_1_run_1.mp4\n",
      "Duration of video [s]:  4.53 , recorded with  30.0 fps!\n",
      "Overall # of frames:  136  found with (before cropping) frame dimensions:  1920 1080\n",
      "Starting to extract posture\n"
     ]
    },
    {
     "name": "stderr",
     "output_type": "stream",
     "text": [
      " 96%|█████████▌| 130/136 [00:05<00:00, 23.66it/s]\n"
     ]
    },
    {
     "name": "stdout",
     "output_type": "stream",
     "text": [
      "Saving results in /mnt/sdb2/DeepDraw/Projects/20220802_DP03_mri/Camera_1/Video_cut...\n",
      "Starting to analyze %  /mnt/sdb2/DeepDraw/Projects/20220802_DP03_mri/Camera_1/Video_cut/cut_5_cam_1_run_1.mp4\n",
      "Loading  /mnt/sdb2/DeepDraw/Projects/20220802_DP03_mri/Camera_1/Video_cut/cut_5_cam_1_run_1.mp4\n",
      "Duration of video [s]:  4.53 , recorded with  30.0 fps!\n",
      "Overall # of frames:  136  found with (before cropping) frame dimensions:  1920 1080\n",
      "Starting to extract posture\n"
     ]
    },
    {
     "name": "stderr",
     "output_type": "stream",
     "text": [
      " 96%|█████████▌| 130/136 [00:05<00:00, 23.94it/s]\n"
     ]
    },
    {
     "name": "stdout",
     "output_type": "stream",
     "text": [
      "Saving results in /mnt/sdb2/DeepDraw/Projects/20220802_DP03_mri/Camera_1/Video_cut...\n",
      "Starting to analyze %  /mnt/sdb2/DeepDraw/Projects/20220802_DP03_mri/Camera_1/Video_cut/cut_6_cam_1_run_1.mp4\n",
      "Loading  /mnt/sdb2/DeepDraw/Projects/20220802_DP03_mri/Camera_1/Video_cut/cut_6_cam_1_run_1.mp4\n",
      "Duration of video [s]:  4.53 , recorded with  30.0 fps!\n",
      "Overall # of frames:  136  found with (before cropping) frame dimensions:  1920 1080\n",
      "Starting to extract posture\n"
     ]
    },
    {
     "name": "stderr",
     "output_type": "stream",
     "text": [
      " 96%|█████████▌| 130/136 [00:05<00:00, 23.84it/s]\n"
     ]
    },
    {
     "name": "stdout",
     "output_type": "stream",
     "text": [
      "Saving results in /mnt/sdb2/DeepDraw/Projects/20220802_DP03_mri/Camera_1/Video_cut...\n",
      "Starting to analyze %  /mnt/sdb2/DeepDraw/Projects/20220802_DP03_mri/Camera_1/Video_cut/cut_7_cam_1_run_1.mp4\n",
      "Loading  /mnt/sdb2/DeepDraw/Projects/20220802_DP03_mri/Camera_1/Video_cut/cut_7_cam_1_run_1.mp4\n",
      "Duration of video [s]:  4.53 , recorded with  30.0 fps!\n",
      "Overall # of frames:  136  found with (before cropping) frame dimensions:  1920 1080\n",
      "Starting to extract posture\n"
     ]
    },
    {
     "name": "stderr",
     "output_type": "stream",
     "text": [
      " 96%|█████████▌| 130/136 [00:05<00:00, 23.77it/s]\n"
     ]
    },
    {
     "name": "stdout",
     "output_type": "stream",
     "text": [
      "Saving results in /mnt/sdb2/DeepDraw/Projects/20220802_DP03_mri/Camera_1/Video_cut...\n",
      "Starting to analyze %  /mnt/sdb2/DeepDraw/Projects/20220802_DP03_mri/Camera_1/Video_cut/cut_8_cam_1_run_1.mp4\n",
      "Loading  /mnt/sdb2/DeepDraw/Projects/20220802_DP03_mri/Camera_1/Video_cut/cut_8_cam_1_run_1.mp4\n",
      "Duration of video [s]:  4.53 , recorded with  30.0 fps!\n",
      "Overall # of frames:  136  found with (before cropping) frame dimensions:  1920 1080\n",
      "Starting to extract posture\n"
     ]
    },
    {
     "name": "stderr",
     "output_type": "stream",
     "text": [
      " 96%|█████████▌| 130/136 [00:05<00:00, 23.83it/s]\n"
     ]
    },
    {
     "name": "stdout",
     "output_type": "stream",
     "text": [
      "Saving results in /mnt/sdb2/DeepDraw/Projects/20220802_DP03_mri/Camera_1/Video_cut...\n",
      "Starting to analyze %  /mnt/sdb2/DeepDraw/Projects/20220802_DP03_mri/Camera_1/Video_cut/cut_9_cam_1_run_1.mp4\n",
      "Loading  /mnt/sdb2/DeepDraw/Projects/20220802_DP03_mri/Camera_1/Video_cut/cut_9_cam_1_run_1.mp4\n",
      "Duration of video [s]:  4.53 , recorded with  30.0 fps!\n",
      "Overall # of frames:  136  found with (before cropping) frame dimensions:  1920 1080\n",
      "Starting to extract posture\n"
     ]
    },
    {
     "name": "stderr",
     "output_type": "stream",
     "text": [
      " 96%|█████████▌| 130/136 [00:05<00:00, 23.64it/s]\n"
     ]
    },
    {
     "name": "stdout",
     "output_type": "stream",
     "text": [
      "Saving results in /mnt/sdb2/DeepDraw/Projects/20220802_DP03_mri/Camera_1/Video_cut...\n",
      "Starting to analyze %  /mnt/sdb2/DeepDraw/Projects/20220802_DP03_mri/Camera_1/Video_cut/cut_10_cam_1_run_1.mp4\n",
      "Loading  /mnt/sdb2/DeepDraw/Projects/20220802_DP03_mri/Camera_1/Video_cut/cut_10_cam_1_run_1.mp4\n",
      "Duration of video [s]:  4.53 , recorded with  30.0 fps!\n",
      "Overall # of frames:  136  found with (before cropping) frame dimensions:  1920 1080\n",
      "Starting to extract posture\n"
     ]
    },
    {
     "name": "stderr",
     "output_type": "stream",
     "text": [
      " 96%|█████████▌| 130/136 [00:05<00:00, 23.83it/s]\n"
     ]
    },
    {
     "name": "stdout",
     "output_type": "stream",
     "text": [
      "Saving results in /mnt/sdb2/DeepDraw/Projects/20220802_DP03_mri/Camera_1/Video_cut...\n",
      "Starting to analyze %  /mnt/sdb2/DeepDraw/Projects/20220802_DP03_mri/Camera_1/Video_cut/cut_11_cam_1_run_1.mp4\n",
      "Loading  /mnt/sdb2/DeepDraw/Projects/20220802_DP03_mri/Camera_1/Video_cut/cut_11_cam_1_run_1.mp4\n",
      "Duration of video [s]:  4.53 , recorded with  30.0 fps!\n",
      "Overall # of frames:  136  found with (before cropping) frame dimensions:  1920 1080\n",
      "Starting to extract posture\n"
     ]
    },
    {
     "name": "stderr",
     "output_type": "stream",
     "text": [
      " 96%|█████████▌| 130/136 [00:05<00:00, 23.64it/s]\n"
     ]
    },
    {
     "name": "stdout",
     "output_type": "stream",
     "text": [
      "Saving results in /mnt/sdb2/DeepDraw/Projects/20220802_DP03_mri/Camera_1/Video_cut...\n",
      "Starting to analyze %  /mnt/sdb2/DeepDraw/Projects/20220802_DP03_mri/Camera_1/Video_cut/cut_12_cam_1_run_1.mp4\n",
      "Loading  /mnt/sdb2/DeepDraw/Projects/20220802_DP03_mri/Camera_1/Video_cut/cut_12_cam_1_run_1.mp4\n",
      "Duration of video [s]:  4.53 , recorded with  30.0 fps!\n",
      "Overall # of frames:  136  found with (before cropping) frame dimensions:  1920 1080\n",
      "Starting to extract posture\n"
     ]
    },
    {
     "name": "stderr",
     "output_type": "stream",
     "text": [
      " 96%|█████████▌| 130/136 [00:05<00:00, 23.72it/s]\n"
     ]
    },
    {
     "name": "stdout",
     "output_type": "stream",
     "text": [
      "Saving results in /mnt/sdb2/DeepDraw/Projects/20220802_DP03_mri/Camera_1/Video_cut...\n",
      "Starting to analyze %  /mnt/sdb2/DeepDraw/Projects/20220802_DP03_mri/Camera_1/Video_cut/cut_13_cam_1_run_1.mp4\n",
      "Loading  /mnt/sdb2/DeepDraw/Projects/20220802_DP03_mri/Camera_1/Video_cut/cut_13_cam_1_run_1.mp4\n",
      "Duration of video [s]:  4.53 , recorded with  30.0 fps!\n",
      "Overall # of frames:  136  found with (before cropping) frame dimensions:  1920 1080\n",
      "Starting to extract posture\n"
     ]
    },
    {
     "name": "stderr",
     "output_type": "stream",
     "text": [
      " 96%|█████████▌| 130/136 [00:05<00:00, 23.36it/s]\n"
     ]
    },
    {
     "name": "stdout",
     "output_type": "stream",
     "text": [
      "Saving results in /mnt/sdb2/DeepDraw/Projects/20220802_DP03_mri/Camera_1/Video_cut...\n",
      "Starting to analyze %  /mnt/sdb2/DeepDraw/Projects/20220802_DP03_mri/Camera_1/Video_cut/cut_14_cam_1_run_1.mp4\n",
      "Loading  /mnt/sdb2/DeepDraw/Projects/20220802_DP03_mri/Camera_1/Video_cut/cut_14_cam_1_run_1.mp4\n",
      "Duration of video [s]:  4.53 , recorded with  30.0 fps!\n",
      "Overall # of frames:  136  found with (before cropping) frame dimensions:  1920 1080\n",
      "Starting to extract posture\n"
     ]
    },
    {
     "name": "stderr",
     "output_type": "stream",
     "text": [
      " 96%|█████████▌| 130/136 [00:05<00:00, 23.84it/s]\n"
     ]
    },
    {
     "name": "stdout",
     "output_type": "stream",
     "text": [
      "Saving results in /mnt/sdb2/DeepDraw/Projects/20220802_DP03_mri/Camera_1/Video_cut...\n",
      "Starting to analyze %  /mnt/sdb2/DeepDraw/Projects/20220802_DP03_mri/Camera_1/Video_cut/cut_15_cam_1_run_1.mp4\n",
      "Loading  /mnt/sdb2/DeepDraw/Projects/20220802_DP03_mri/Camera_1/Video_cut/cut_15_cam_1_run_1.mp4\n",
      "Duration of video [s]:  4.53 , recorded with  30.0 fps!\n",
      "Overall # of frames:  136  found with (before cropping) frame dimensions:  1920 1080\n",
      "Starting to extract posture\n"
     ]
    },
    {
     "name": "stderr",
     "output_type": "stream",
     "text": [
      " 96%|█████████▌| 130/136 [00:05<00:00, 23.89it/s]\n"
     ]
    },
    {
     "name": "stdout",
     "output_type": "stream",
     "text": [
      "Saving results in /mnt/sdb2/DeepDraw/Projects/20220802_DP03_mri/Camera_1/Video_cut...\n",
      "Starting to analyze %  /mnt/sdb2/DeepDraw/Projects/20220802_DP03_mri/Camera_1/Video_cut/cut_16_cam_1_run_1.mp4\n",
      "Loading  /mnt/sdb2/DeepDraw/Projects/20220802_DP03_mri/Camera_1/Video_cut/cut_16_cam_1_run_1.mp4\n",
      "Duration of video [s]:  4.53 , recorded with  30.0 fps!\n",
      "Overall # of frames:  136  found with (before cropping) frame dimensions:  1920 1080\n",
      "Starting to extract posture\n"
     ]
    },
    {
     "name": "stderr",
     "output_type": "stream",
     "text": [
      " 96%|█████████▌| 130/136 [00:05<00:00, 23.81it/s]\n"
     ]
    },
    {
     "name": "stdout",
     "output_type": "stream",
     "text": [
      "Saving results in /mnt/sdb2/DeepDraw/Projects/20220802_DP03_mri/Camera_1/Video_cut...\n",
      "Starting to analyze %  /mnt/sdb2/DeepDraw/Projects/20220802_DP03_mri/Camera_1/Video_cut/cut_17_cam_1_run_1.mp4\n",
      "Loading  /mnt/sdb2/DeepDraw/Projects/20220802_DP03_mri/Camera_1/Video_cut/cut_17_cam_1_run_1.mp4\n",
      "Duration of video [s]:  4.53 , recorded with  30.0 fps!\n",
      "Overall # of frames:  136  found with (before cropping) frame dimensions:  1920 1080\n",
      "Starting to extract posture\n"
     ]
    },
    {
     "name": "stderr",
     "output_type": "stream",
     "text": [
      " 96%|█████████▌| 130/136 [00:05<00:00, 23.71it/s]\n"
     ]
    },
    {
     "name": "stdout",
     "output_type": "stream",
     "text": [
      "Saving results in /mnt/sdb2/DeepDraw/Projects/20220802_DP03_mri/Camera_1/Video_cut...\n",
      "Starting to analyze %  /mnt/sdb2/DeepDraw/Projects/20220802_DP03_mri/Camera_1/Video_cut/cut_18_cam_1_run_1.mp4\n",
      "Loading  /mnt/sdb2/DeepDraw/Projects/20220802_DP03_mri/Camera_1/Video_cut/cut_18_cam_1_run_1.mp4\n",
      "Duration of video [s]:  4.53 , recorded with  30.0 fps!\n",
      "Overall # of frames:  136  found with (before cropping) frame dimensions:  1920 1080\n",
      "Starting to extract posture\n"
     ]
    },
    {
     "name": "stderr",
     "output_type": "stream",
     "text": [
      " 96%|█████████▌| 130/136 [00:05<00:00, 23.28it/s]\n"
     ]
    },
    {
     "name": "stdout",
     "output_type": "stream",
     "text": [
      "Saving results in /mnt/sdb2/DeepDraw/Projects/20220802_DP03_mri/Camera_1/Video_cut...\n",
      "Starting to analyze %  /mnt/sdb2/DeepDraw/Projects/20220802_DP03_mri/Camera_1/Video_cut/cut_19_cam_1_run_1.mp4\n",
      "Loading  /mnt/sdb2/DeepDraw/Projects/20220802_DP03_mri/Camera_1/Video_cut/cut_19_cam_1_run_1.mp4\n",
      "Duration of video [s]:  4.53 , recorded with  30.0 fps!\n",
      "Overall # of frames:  136  found with (before cropping) frame dimensions:  1920 1080\n",
      "Starting to extract posture\n"
     ]
    },
    {
     "name": "stderr",
     "output_type": "stream",
     "text": [
      " 96%|█████████▌| 130/136 [00:05<00:00, 23.46it/s]\n"
     ]
    },
    {
     "name": "stdout",
     "output_type": "stream",
     "text": [
      "Saving results in /mnt/sdb2/DeepDraw/Projects/20220802_DP03_mri/Camera_1/Video_cut...\n",
      "Starting to analyze %  /mnt/sdb2/DeepDraw/Projects/20220802_DP03_mri/Camera_1/Video_cut/cut_20_cam_1_run_1.mp4\n",
      "Loading  /mnt/sdb2/DeepDraw/Projects/20220802_DP03_mri/Camera_1/Video_cut/cut_20_cam_1_run_1.mp4\n",
      "Duration of video [s]:  4.53 , recorded with  30.0 fps!\n",
      "Overall # of frames:  136  found with (before cropping) frame dimensions:  1920 1080\n",
      "Starting to extract posture\n"
     ]
    },
    {
     "name": "stderr",
     "output_type": "stream",
     "text": [
      " 96%|█████████▌| 130/136 [00:05<00:00, 23.44it/s]\n"
     ]
    },
    {
     "name": "stdout",
     "output_type": "stream",
     "text": [
      "Saving results in /mnt/sdb2/DeepDraw/Projects/20220802_DP03_mri/Camera_1/Video_cut...\n",
      "Starting to analyze %  /mnt/sdb2/DeepDraw/Projects/20220802_DP03_mri/Camera_1/Video_cut/cut_21_cam_1_run_1.mp4\n",
      "Loading  /mnt/sdb2/DeepDraw/Projects/20220802_DP03_mri/Camera_1/Video_cut/cut_21_cam_1_run_1.mp4\n",
      "Duration of video [s]:  4.53 , recorded with  30.0 fps!\n",
      "Overall # of frames:  136  found with (before cropping) frame dimensions:  1920 1080\n",
      "Starting to extract posture\n"
     ]
    },
    {
     "name": "stderr",
     "output_type": "stream",
     "text": [
      " 96%|█████████▌| 130/136 [00:05<00:00, 23.93it/s]\n"
     ]
    },
    {
     "name": "stdout",
     "output_type": "stream",
     "text": [
      "Saving results in /mnt/sdb2/DeepDraw/Projects/20220802_DP03_mri/Camera_1/Video_cut...\n",
      "Starting to analyze %  /mnt/sdb2/DeepDraw/Projects/20220802_DP03_mri/Camera_1/Video_cut/cut_22_cam_1_run_1.mp4\n",
      "Loading  /mnt/sdb2/DeepDraw/Projects/20220802_DP03_mri/Camera_1/Video_cut/cut_22_cam_1_run_1.mp4\n",
      "Duration of video [s]:  4.53 , recorded with  30.0 fps!\n",
      "Overall # of frames:  136  found with (before cropping) frame dimensions:  1920 1080\n",
      "Starting to extract posture\n"
     ]
    },
    {
     "name": "stderr",
     "output_type": "stream",
     "text": [
      " 96%|█████████▌| 130/136 [00:05<00:00, 23.79it/s]\n"
     ]
    },
    {
     "name": "stdout",
     "output_type": "stream",
     "text": [
      "Saving results in /mnt/sdb2/DeepDraw/Projects/20220802_DP03_mri/Camera_1/Video_cut...\n",
      "Starting to analyze %  /mnt/sdb2/DeepDraw/Projects/20220802_DP03_mri/Camera_1/Video_cut/cut_23_cam_1_run_1.mp4\n",
      "Loading  /mnt/sdb2/DeepDraw/Projects/20220802_DP03_mri/Camera_1/Video_cut/cut_23_cam_1_run_1.mp4\n",
      "Duration of video [s]:  4.53 , recorded with  30.0 fps!\n",
      "Overall # of frames:  136  found with (before cropping) frame dimensions:  1920 1080\n",
      "Starting to extract posture\n"
     ]
    },
    {
     "name": "stderr",
     "output_type": "stream",
     "text": [
      " 96%|█████████▌| 130/136 [00:05<00:00, 23.76it/s]\n"
     ]
    },
    {
     "name": "stdout",
     "output_type": "stream",
     "text": [
      "Saving results in /mnt/sdb2/DeepDraw/Projects/20220802_DP03_mri/Camera_1/Video_cut...\n",
      "Starting to analyze %  /mnt/sdb2/DeepDraw/Projects/20220802_DP03_mri/Camera_1/Video_cut/cut_24_cam_1_run_1.mp4\n",
      "Loading  /mnt/sdb2/DeepDraw/Projects/20220802_DP03_mri/Camera_1/Video_cut/cut_24_cam_1_run_1.mp4\n",
      "Duration of video [s]:  4.53 , recorded with  30.0 fps!\n",
      "Overall # of frames:  136  found with (before cropping) frame dimensions:  1920 1080\n",
      "Starting to extract posture\n"
     ]
    },
    {
     "name": "stderr",
     "output_type": "stream",
     "text": [
      " 96%|█████████▌| 130/136 [00:05<00:00, 23.72it/s]\n"
     ]
    },
    {
     "name": "stdout",
     "output_type": "stream",
     "text": [
      "Saving results in /mnt/sdb2/DeepDraw/Projects/20220802_DP03_mri/Camera_1/Video_cut...\n",
      "Starting to analyze %  /mnt/sdb2/DeepDraw/Projects/20220802_DP03_mri/Camera_1/Video_cut/cut_25_cam_1_run_1.mp4\n",
      "Loading  /mnt/sdb2/DeepDraw/Projects/20220802_DP03_mri/Camera_1/Video_cut/cut_25_cam_1_run_1.mp4\n",
      "Duration of video [s]:  4.53 , recorded with  30.0 fps!\n",
      "Overall # of frames:  136  found with (before cropping) frame dimensions:  1920 1080\n",
      "Starting to extract posture\n"
     ]
    },
    {
     "name": "stderr",
     "output_type": "stream",
     "text": [
      " 96%|█████████▌| 130/136 [00:05<00:00, 23.51it/s]\n"
     ]
    },
    {
     "name": "stdout",
     "output_type": "stream",
     "text": [
      "Saving results in /mnt/sdb2/DeepDraw/Projects/20220802_DP03_mri/Camera_1/Video_cut...\n",
      "Starting to analyze %  /mnt/sdb2/DeepDraw/Projects/20220802_DP03_mri/Camera_1/Video_cut/cut_26_cam_1_run_1.mp4\n",
      "Loading  /mnt/sdb2/DeepDraw/Projects/20220802_DP03_mri/Camera_1/Video_cut/cut_26_cam_1_run_1.mp4\n",
      "Duration of video [s]:  4.53 , recorded with  30.0 fps!\n",
      "Overall # of frames:  136  found with (before cropping) frame dimensions:  1920 1080\n",
      "Starting to extract posture\n"
     ]
    },
    {
     "name": "stderr",
     "output_type": "stream",
     "text": [
      " 96%|█████████▌| 130/136 [00:05<00:00, 23.20it/s]\n"
     ]
    },
    {
     "name": "stdout",
     "output_type": "stream",
     "text": [
      "Saving results in /mnt/sdb2/DeepDraw/Projects/20220802_DP03_mri/Camera_1/Video_cut...\n",
      "Starting to analyze %  /mnt/sdb2/DeepDraw/Projects/20220802_DP03_mri/Camera_1/Video_cut/cut_27_cam_1_run_1.mp4\n",
      "Loading  /mnt/sdb2/DeepDraw/Projects/20220802_DP03_mri/Camera_1/Video_cut/cut_27_cam_1_run_1.mp4\n",
      "Duration of video [s]:  4.53 , recorded with  30.0 fps!\n",
      "Overall # of frames:  136  found with (before cropping) frame dimensions:  1920 1080\n",
      "Starting to extract posture\n"
     ]
    },
    {
     "name": "stderr",
     "output_type": "stream",
     "text": [
      " 96%|█████████▌| 130/136 [00:05<00:00, 23.52it/s]\n"
     ]
    },
    {
     "name": "stdout",
     "output_type": "stream",
     "text": [
      "Saving results in /mnt/sdb2/DeepDraw/Projects/20220802_DP03_mri/Camera_1/Video_cut...\n",
      "Starting to analyze %  /mnt/sdb2/DeepDraw/Projects/20220802_DP03_mri/Camera_1/Video_cut/cut_28_cam_1_run_1.mp4\n",
      "Loading  /mnt/sdb2/DeepDraw/Projects/20220802_DP03_mri/Camera_1/Video_cut/cut_28_cam_1_run_1.mp4\n",
      "Duration of video [s]:  4.53 , recorded with  30.0 fps!\n",
      "Overall # of frames:  136  found with (before cropping) frame dimensions:  1920 1080\n",
      "Starting to extract posture\n"
     ]
    },
    {
     "name": "stderr",
     "output_type": "stream",
     "text": [
      " 96%|█████████▌| 130/136 [00:05<00:00, 23.81it/s]\n"
     ]
    },
    {
     "name": "stdout",
     "output_type": "stream",
     "text": [
      "Saving results in /mnt/sdb2/DeepDraw/Projects/20220802_DP03_mri/Camera_1/Video_cut...\n",
      "Starting to analyze %  /mnt/sdb2/DeepDraw/Projects/20220802_DP03_mri/Camera_1/Video_cut/cut_29_cam_1_run_1.mp4\n",
      "Loading  /mnt/sdb2/DeepDraw/Projects/20220802_DP03_mri/Camera_1/Video_cut/cut_29_cam_1_run_1.mp4\n",
      "Duration of video [s]:  4.53 , recorded with  30.0 fps!\n",
      "Overall # of frames:  136  found with (before cropping) frame dimensions:  1920 1080\n",
      "Starting to extract posture\n"
     ]
    },
    {
     "name": "stderr",
     "output_type": "stream",
     "text": [
      " 96%|█████████▌| 130/136 [00:05<00:00, 23.80it/s]\n"
     ]
    },
    {
     "name": "stdout",
     "output_type": "stream",
     "text": [
      "Saving results in /mnt/sdb2/DeepDraw/Projects/20220802_DP03_mri/Camera_1/Video_cut...\n",
      "Starting to analyze %  /mnt/sdb2/DeepDraw/Projects/20220802_DP03_mri/Camera_1/Video_cut/cut_30_cam_1_run_1.mp4\n",
      "Loading  /mnt/sdb2/DeepDraw/Projects/20220802_DP03_mri/Camera_1/Video_cut/cut_30_cam_1_run_1.mp4\n",
      "Duration of video [s]:  4.53 , recorded with  30.0 fps!\n",
      "Overall # of frames:  136  found with (before cropping) frame dimensions:  1920 1080\n",
      "Starting to extract posture\n"
     ]
    },
    {
     "name": "stderr",
     "output_type": "stream",
     "text": [
      " 96%|█████████▌| 130/136 [00:05<00:00, 23.79it/s]\n"
     ]
    },
    {
     "name": "stdout",
     "output_type": "stream",
     "text": [
      "Saving results in /mnt/sdb2/DeepDraw/Projects/20220802_DP03_mri/Camera_1/Video_cut...\n",
      "Starting to analyze %  /mnt/sdb2/DeepDraw/Projects/20220802_DP03_mri/Camera_1/Video_cut/cut_31_cam_1_run_1.mp4\n",
      "Loading  /mnt/sdb2/DeepDraw/Projects/20220802_DP03_mri/Camera_1/Video_cut/cut_31_cam_1_run_1.mp4\n",
      "Duration of video [s]:  4.53 , recorded with  30.0 fps!\n",
      "Overall # of frames:  136  found with (before cropping) frame dimensions:  1920 1080\n",
      "Starting to extract posture\n"
     ]
    },
    {
     "name": "stderr",
     "output_type": "stream",
     "text": [
      " 96%|█████████▌| 130/136 [00:05<00:00, 23.85it/s]\n"
     ]
    },
    {
     "name": "stdout",
     "output_type": "stream",
     "text": [
      "Saving results in /mnt/sdb2/DeepDraw/Projects/20220802_DP03_mri/Camera_1/Video_cut...\n",
      "Starting to analyze %  /mnt/sdb2/DeepDraw/Projects/20220802_DP03_mri/Camera_1/Video_cut/cut_32_cam_1_run_1.mp4\n",
      "Loading  /mnt/sdb2/DeepDraw/Projects/20220802_DP03_mri/Camera_1/Video_cut/cut_32_cam_1_run_1.mp4\n",
      "Duration of video [s]:  4.53 , recorded with  30.0 fps!\n",
      "Overall # of frames:  136  found with (before cropping) frame dimensions:  1920 1080\n",
      "Starting to extract posture\n"
     ]
    },
    {
     "name": "stderr",
     "output_type": "stream",
     "text": [
      " 96%|█████████▌| 130/136 [00:05<00:00, 23.43it/s]\n"
     ]
    },
    {
     "name": "stdout",
     "output_type": "stream",
     "text": [
      "Saving results in /mnt/sdb2/DeepDraw/Projects/20220802_DP03_mri/Camera_1/Video_cut...\n",
      "Starting to analyze %  /mnt/sdb2/DeepDraw/Projects/20220802_DP03_mri/Camera_1/Video_cut/cut_33_cam_1_run_1.mp4\n",
      "Loading  /mnt/sdb2/DeepDraw/Projects/20220802_DP03_mri/Camera_1/Video_cut/cut_33_cam_1_run_1.mp4\n",
      "Duration of video [s]:  4.53 , recorded with  30.0 fps!\n",
      "Overall # of frames:  136  found with (before cropping) frame dimensions:  1920 1080\n",
      "Starting to extract posture\n"
     ]
    },
    {
     "name": "stderr",
     "output_type": "stream",
     "text": [
      " 96%|█████████▌| 130/136 [00:05<00:00, 23.45it/s]\n"
     ]
    },
    {
     "name": "stdout",
     "output_type": "stream",
     "text": [
      "Saving results in /mnt/sdb2/DeepDraw/Projects/20220802_DP03_mri/Camera_1/Video_cut...\n",
      "Starting to analyze %  /mnt/sdb2/DeepDraw/Projects/20220802_DP03_mri/Camera_1/Video_cut/cut_34_cam_1_run_1.mp4\n",
      "Loading  /mnt/sdb2/DeepDraw/Projects/20220802_DP03_mri/Camera_1/Video_cut/cut_34_cam_1_run_1.mp4\n",
      "Duration of video [s]:  4.53 , recorded with  30.0 fps!\n",
      "Overall # of frames:  136  found with (before cropping) frame dimensions:  1920 1080\n",
      "Starting to extract posture\n"
     ]
    },
    {
     "name": "stderr",
     "output_type": "stream",
     "text": [
      " 96%|█████████▌| 130/136 [00:05<00:00, 23.24it/s]\n"
     ]
    },
    {
     "name": "stdout",
     "output_type": "stream",
     "text": [
      "Saving results in /mnt/sdb2/DeepDraw/Projects/20220802_DP03_mri/Camera_1/Video_cut...\n",
      "Starting to analyze %  /mnt/sdb2/DeepDraw/Projects/20220802_DP03_mri/Camera_1/Video_cut/cut_35_cam_1_run_1.mp4\n",
      "Loading  /mnt/sdb2/DeepDraw/Projects/20220802_DP03_mri/Camera_1/Video_cut/cut_35_cam_1_run_1.mp4\n",
      "Duration of video [s]:  4.53 , recorded with  30.0 fps!\n",
      "Overall # of frames:  136  found with (before cropping) frame dimensions:  1920 1080\n",
      "Starting to extract posture\n"
     ]
    },
    {
     "name": "stderr",
     "output_type": "stream",
     "text": [
      " 96%|█████████▌| 130/136 [00:05<00:00, 23.34it/s]\n"
     ]
    },
    {
     "name": "stdout",
     "output_type": "stream",
     "text": [
      "Saving results in /mnt/sdb2/DeepDraw/Projects/20220802_DP03_mri/Camera_1/Video_cut...\n",
      "Starting to analyze %  /mnt/sdb2/DeepDraw/Projects/20220802_DP03_mri/Camera_1/Video_cut/cut_36_cam_1_run_1.mp4\n",
      "Loading  /mnt/sdb2/DeepDraw/Projects/20220802_DP03_mri/Camera_1/Video_cut/cut_36_cam_1_run_1.mp4\n",
      "Duration of video [s]:  4.53 , recorded with  30.0 fps!\n",
      "Overall # of frames:  136  found with (before cropping) frame dimensions:  1920 1080\n",
      "Starting to extract posture\n"
     ]
    },
    {
     "name": "stderr",
     "output_type": "stream",
     "text": [
      " 96%|█████████▌| 130/136 [00:05<00:00, 23.35it/s]\n"
     ]
    },
    {
     "name": "stdout",
     "output_type": "stream",
     "text": [
      "Saving results in /mnt/sdb2/DeepDraw/Projects/20220802_DP03_mri/Camera_1/Video_cut...\n",
      "Starting to analyze %  /mnt/sdb2/DeepDraw/Projects/20220802_DP03_mri/Camera_1/Video_cut/cut_37_cam_1_run_1.mp4\n",
      "Loading  /mnt/sdb2/DeepDraw/Projects/20220802_DP03_mri/Camera_1/Video_cut/cut_37_cam_1_run_1.mp4\n",
      "Duration of video [s]:  4.53 , recorded with  30.0 fps!\n",
      "Overall # of frames:  136  found with (before cropping) frame dimensions:  1920 1080\n",
      "Starting to extract posture\n"
     ]
    },
    {
     "name": "stderr",
     "output_type": "stream",
     "text": [
      " 96%|█████████▌| 130/136 [00:05<00:00, 23.22it/s]\n"
     ]
    },
    {
     "name": "stdout",
     "output_type": "stream",
     "text": [
      "Saving results in /mnt/sdb2/DeepDraw/Projects/20220802_DP03_mri/Camera_1/Video_cut...\n",
      "Starting to analyze %  /mnt/sdb2/DeepDraw/Projects/20220802_DP03_mri/Camera_1/Video_cut/cut_38_cam_1_run_1.mp4\n",
      "Loading  /mnt/sdb2/DeepDraw/Projects/20220802_DP03_mri/Camera_1/Video_cut/cut_38_cam_1_run_1.mp4\n",
      "Duration of video [s]:  4.53 , recorded with  30.0 fps!\n",
      "Overall # of frames:  136  found with (before cropping) frame dimensions:  1920 1080\n",
      "Starting to extract posture\n"
     ]
    },
    {
     "name": "stderr",
     "output_type": "stream",
     "text": [
      " 96%|█████████▌| 130/136 [00:05<00:00, 22.62it/s]\n"
     ]
    },
    {
     "name": "stdout",
     "output_type": "stream",
     "text": [
      "Saving results in /mnt/sdb2/DeepDraw/Projects/20220802_DP03_mri/Camera_1/Video_cut...\n",
      "Starting to analyze %  /mnt/sdb2/DeepDraw/Projects/20220802_DP03_mri/Camera_1/Video_cut/cut_0_cam_1_run_2.mp4\n",
      "Loading  /mnt/sdb2/DeepDraw/Projects/20220802_DP03_mri/Camera_1/Video_cut/cut_0_cam_1_run_2.mp4\n",
      "Duration of video [s]:  4.53 , recorded with  30.0 fps!\n",
      "Overall # of frames:  136  found with (before cropping) frame dimensions:  1920 1080\n",
      "Starting to extract posture\n"
     ]
    },
    {
     "name": "stderr",
     "output_type": "stream",
     "text": [
      " 96%|█████████▌| 130/136 [00:05<00:00, 23.49it/s]\n"
     ]
    },
    {
     "name": "stdout",
     "output_type": "stream",
     "text": [
      "Saving results in /mnt/sdb2/DeepDraw/Projects/20220802_DP03_mri/Camera_1/Video_cut...\n",
      "Starting to analyze %  /mnt/sdb2/DeepDraw/Projects/20220802_DP03_mri/Camera_1/Video_cut/cut_1_cam_1_run_2.mp4\n",
      "Loading  /mnt/sdb2/DeepDraw/Projects/20220802_DP03_mri/Camera_1/Video_cut/cut_1_cam_1_run_2.mp4\n",
      "Duration of video [s]:  4.53 , recorded with  30.0 fps!\n",
      "Overall # of frames:  136  found with (before cropping) frame dimensions:  1920 1080\n",
      "Starting to extract posture\n"
     ]
    },
    {
     "name": "stderr",
     "output_type": "stream",
     "text": [
      " 96%|█████████▌| 130/136 [00:05<00:00, 23.87it/s]\n"
     ]
    },
    {
     "name": "stdout",
     "output_type": "stream",
     "text": [
      "Saving results in /mnt/sdb2/DeepDraw/Projects/20220802_DP03_mri/Camera_1/Video_cut...\n",
      "Starting to analyze %  /mnt/sdb2/DeepDraw/Projects/20220802_DP03_mri/Camera_1/Video_cut/cut_2_cam_1_run_2.mp4\n",
      "Loading  /mnt/sdb2/DeepDraw/Projects/20220802_DP03_mri/Camera_1/Video_cut/cut_2_cam_1_run_2.mp4\n",
      "Duration of video [s]:  4.53 , recorded with  30.0 fps!\n",
      "Overall # of frames:  136  found with (before cropping) frame dimensions:  1920 1080\n",
      "Starting to extract posture\n"
     ]
    },
    {
     "name": "stderr",
     "output_type": "stream",
     "text": [
      " 96%|█████████▌| 130/136 [00:05<00:00, 23.62it/s]\n"
     ]
    },
    {
     "name": "stdout",
     "output_type": "stream",
     "text": [
      "Saving results in /mnt/sdb2/DeepDraw/Projects/20220802_DP03_mri/Camera_1/Video_cut...\n",
      "Starting to analyze %  /mnt/sdb2/DeepDraw/Projects/20220802_DP03_mri/Camera_1/Video_cut/cut_3_cam_1_run_2.mp4\n",
      "Loading  /mnt/sdb2/DeepDraw/Projects/20220802_DP03_mri/Camera_1/Video_cut/cut_3_cam_1_run_2.mp4\n",
      "Duration of video [s]:  4.53 , recorded with  30.0 fps!\n",
      "Overall # of frames:  136  found with (before cropping) frame dimensions:  1920 1080\n",
      "Starting to extract posture\n"
     ]
    },
    {
     "name": "stderr",
     "output_type": "stream",
     "text": [
      " 96%|█████████▌| 130/136 [00:05<00:00, 23.61it/s]\n"
     ]
    },
    {
     "name": "stdout",
     "output_type": "stream",
     "text": [
      "Saving results in /mnt/sdb2/DeepDraw/Projects/20220802_DP03_mri/Camera_1/Video_cut...\n",
      "Starting to analyze %  /mnt/sdb2/DeepDraw/Projects/20220802_DP03_mri/Camera_1/Video_cut/cut_4_cam_1_run_2.mp4\n",
      "Loading  /mnt/sdb2/DeepDraw/Projects/20220802_DP03_mri/Camera_1/Video_cut/cut_4_cam_1_run_2.mp4\n",
      "Duration of video [s]:  4.53 , recorded with  30.0 fps!\n",
      "Overall # of frames:  136  found with (before cropping) frame dimensions:  1920 1080\n",
      "Starting to extract posture\n"
     ]
    },
    {
     "name": "stderr",
     "output_type": "stream",
     "text": [
      " 96%|█████████▌| 130/136 [00:05<00:00, 23.08it/s]\n"
     ]
    },
    {
     "name": "stdout",
     "output_type": "stream",
     "text": [
      "Saving results in /mnt/sdb2/DeepDraw/Projects/20220802_DP03_mri/Camera_1/Video_cut...\n",
      "Starting to analyze %  /mnt/sdb2/DeepDraw/Projects/20220802_DP03_mri/Camera_1/Video_cut/cut_5_cam_1_run_2.mp4\n",
      "Loading  /mnt/sdb2/DeepDraw/Projects/20220802_DP03_mri/Camera_1/Video_cut/cut_5_cam_1_run_2.mp4\n",
      "Duration of video [s]:  4.53 , recorded with  30.0 fps!\n",
      "Overall # of frames:  136  found with (before cropping) frame dimensions:  1920 1080\n",
      "Starting to extract posture\n"
     ]
    },
    {
     "name": "stderr",
     "output_type": "stream",
     "text": [
      " 96%|█████████▌| 130/136 [00:05<00:00, 23.56it/s]\n"
     ]
    },
    {
     "name": "stdout",
     "output_type": "stream",
     "text": [
      "Saving results in /mnt/sdb2/DeepDraw/Projects/20220802_DP03_mri/Camera_1/Video_cut...\n",
      "Starting to analyze %  /mnt/sdb2/DeepDraw/Projects/20220802_DP03_mri/Camera_1/Video_cut/cut_6_cam_1_run_2.mp4\n",
      "Loading  /mnt/sdb2/DeepDraw/Projects/20220802_DP03_mri/Camera_1/Video_cut/cut_6_cam_1_run_2.mp4\n",
      "Duration of video [s]:  4.53 , recorded with  30.0 fps!\n",
      "Overall # of frames:  136  found with (before cropping) frame dimensions:  1920 1080\n",
      "Starting to extract posture\n"
     ]
    },
    {
     "name": "stderr",
     "output_type": "stream",
     "text": [
      " 96%|█████████▌| 130/136 [00:05<00:00, 23.56it/s]\n"
     ]
    },
    {
     "name": "stdout",
     "output_type": "stream",
     "text": [
      "Saving results in /mnt/sdb2/DeepDraw/Projects/20220802_DP03_mri/Camera_1/Video_cut...\n",
      "Starting to analyze %  /mnt/sdb2/DeepDraw/Projects/20220802_DP03_mri/Camera_1/Video_cut/cut_7_cam_1_run_2.mp4\n",
      "Loading  /mnt/sdb2/DeepDraw/Projects/20220802_DP03_mri/Camera_1/Video_cut/cut_7_cam_1_run_2.mp4\n",
      "Duration of video [s]:  4.53 , recorded with  30.0 fps!\n",
      "Overall # of frames:  136  found with (before cropping) frame dimensions:  1920 1080\n",
      "Starting to extract posture\n"
     ]
    },
    {
     "name": "stderr",
     "output_type": "stream",
     "text": [
      " 96%|█████████▌| 130/136 [00:05<00:00, 23.63it/s]\n"
     ]
    },
    {
     "name": "stdout",
     "output_type": "stream",
     "text": [
      "Saving results in /mnt/sdb2/DeepDraw/Projects/20220802_DP03_mri/Camera_1/Video_cut...\n",
      "Starting to analyze %  /mnt/sdb2/DeepDraw/Projects/20220802_DP03_mri/Camera_1/Video_cut/cut_8_cam_1_run_2.mp4\n",
      "Loading  /mnt/sdb2/DeepDraw/Projects/20220802_DP03_mri/Camera_1/Video_cut/cut_8_cam_1_run_2.mp4\n",
      "Duration of video [s]:  4.53 , recorded with  30.0 fps!\n",
      "Overall # of frames:  136  found with (before cropping) frame dimensions:  1920 1080\n",
      "Starting to extract posture\n"
     ]
    },
    {
     "name": "stderr",
     "output_type": "stream",
     "text": [
      " 96%|█████████▌| 130/136 [00:05<00:00, 23.48it/s]\n"
     ]
    },
    {
     "name": "stdout",
     "output_type": "stream",
     "text": [
      "Saving results in /mnt/sdb2/DeepDraw/Projects/20220802_DP03_mri/Camera_1/Video_cut...\n",
      "Starting to analyze %  /mnt/sdb2/DeepDraw/Projects/20220802_DP03_mri/Camera_1/Video_cut/cut_9_cam_1_run_2.mp4\n",
      "Loading  /mnt/sdb2/DeepDraw/Projects/20220802_DP03_mri/Camera_1/Video_cut/cut_9_cam_1_run_2.mp4\n",
      "Duration of video [s]:  4.53 , recorded with  30.0 fps!\n",
      "Overall # of frames:  136  found with (before cropping) frame dimensions:  1920 1080\n",
      "Starting to extract posture\n"
     ]
    },
    {
     "name": "stderr",
     "output_type": "stream",
     "text": [
      " 96%|█████████▌| 130/136 [00:05<00:00, 23.54it/s]\n"
     ]
    },
    {
     "name": "stdout",
     "output_type": "stream",
     "text": [
      "Saving results in /mnt/sdb2/DeepDraw/Projects/20220802_DP03_mri/Camera_1/Video_cut...\n",
      "Starting to analyze %  /mnt/sdb2/DeepDraw/Projects/20220802_DP03_mri/Camera_1/Video_cut/cut_10_cam_1_run_2.mp4\n",
      "Loading  /mnt/sdb2/DeepDraw/Projects/20220802_DP03_mri/Camera_1/Video_cut/cut_10_cam_1_run_2.mp4\n",
      "Duration of video [s]:  4.53 , recorded with  30.0 fps!\n",
      "Overall # of frames:  136  found with (before cropping) frame dimensions:  1920 1080\n",
      "Starting to extract posture\n"
     ]
    },
    {
     "name": "stderr",
     "output_type": "stream",
     "text": [
      " 96%|█████████▌| 130/136 [00:05<00:00, 23.47it/s]\n"
     ]
    },
    {
     "name": "stdout",
     "output_type": "stream",
     "text": [
      "Saving results in /mnt/sdb2/DeepDraw/Projects/20220802_DP03_mri/Camera_1/Video_cut...\n",
      "Starting to analyze %  /mnt/sdb2/DeepDraw/Projects/20220802_DP03_mri/Camera_1/Video_cut/cut_11_cam_1_run_2.mp4\n",
      "Loading  /mnt/sdb2/DeepDraw/Projects/20220802_DP03_mri/Camera_1/Video_cut/cut_11_cam_1_run_2.mp4\n",
      "Duration of video [s]:  4.53 , recorded with  30.0 fps!\n",
      "Overall # of frames:  136  found with (before cropping) frame dimensions:  1920 1080\n",
      "Starting to extract posture\n"
     ]
    },
    {
     "name": "stderr",
     "output_type": "stream",
     "text": [
      " 96%|█████████▌| 130/136 [00:05<00:00, 23.56it/s]\n"
     ]
    },
    {
     "name": "stdout",
     "output_type": "stream",
     "text": [
      "Saving results in /mnt/sdb2/DeepDraw/Projects/20220802_DP03_mri/Camera_1/Video_cut...\n",
      "Starting to analyze %  /mnt/sdb2/DeepDraw/Projects/20220802_DP03_mri/Camera_1/Video_cut/cut_12_cam_1_run_2.mp4\n",
      "Loading  /mnt/sdb2/DeepDraw/Projects/20220802_DP03_mri/Camera_1/Video_cut/cut_12_cam_1_run_2.mp4\n",
      "Duration of video [s]:  4.53 , recorded with  30.0 fps!\n",
      "Overall # of frames:  136  found with (before cropping) frame dimensions:  1920 1080\n",
      "Starting to extract posture\n"
     ]
    },
    {
     "name": "stderr",
     "output_type": "stream",
     "text": [
      " 96%|█████████▌| 130/136 [00:05<00:00, 23.60it/s]\n"
     ]
    },
    {
     "name": "stdout",
     "output_type": "stream",
     "text": [
      "Saving results in /mnt/sdb2/DeepDraw/Projects/20220802_DP03_mri/Camera_1/Video_cut...\n",
      "Starting to analyze %  /mnt/sdb2/DeepDraw/Projects/20220802_DP03_mri/Camera_1/Video_cut/cut_13_cam_1_run_2.mp4\n",
      "Loading  /mnt/sdb2/DeepDraw/Projects/20220802_DP03_mri/Camera_1/Video_cut/cut_13_cam_1_run_2.mp4\n",
      "Duration of video [s]:  4.53 , recorded with  30.0 fps!\n",
      "Overall # of frames:  136  found with (before cropping) frame dimensions:  1920 1080\n",
      "Starting to extract posture\n"
     ]
    },
    {
     "name": "stderr",
     "output_type": "stream",
     "text": [
      " 96%|█████████▌| 130/136 [00:05<00:00, 23.77it/s]\n"
     ]
    },
    {
     "name": "stdout",
     "output_type": "stream",
     "text": [
      "Saving results in /mnt/sdb2/DeepDraw/Projects/20220802_DP03_mri/Camera_1/Video_cut...\n",
      "Starting to analyze %  /mnt/sdb2/DeepDraw/Projects/20220802_DP03_mri/Camera_1/Video_cut/cut_14_cam_1_run_2.mp4\n",
      "Loading  /mnt/sdb2/DeepDraw/Projects/20220802_DP03_mri/Camera_1/Video_cut/cut_14_cam_1_run_2.mp4\n",
      "Duration of video [s]:  4.53 , recorded with  30.0 fps!\n",
      "Overall # of frames:  136  found with (before cropping) frame dimensions:  1920 1080\n",
      "Starting to extract posture\n"
     ]
    },
    {
     "name": "stderr",
     "output_type": "stream",
     "text": [
      " 96%|█████████▌| 130/136 [00:05<00:00, 23.72it/s]\n"
     ]
    },
    {
     "name": "stdout",
     "output_type": "stream",
     "text": [
      "Saving results in /mnt/sdb2/DeepDraw/Projects/20220802_DP03_mri/Camera_1/Video_cut...\n",
      "Starting to analyze %  /mnt/sdb2/DeepDraw/Projects/20220802_DP03_mri/Camera_1/Video_cut/cut_15_cam_1_run_2.mp4\n",
      "Loading  /mnt/sdb2/DeepDraw/Projects/20220802_DP03_mri/Camera_1/Video_cut/cut_15_cam_1_run_2.mp4\n",
      "Duration of video [s]:  4.53 , recorded with  30.0 fps!\n",
      "Overall # of frames:  136  found with (before cropping) frame dimensions:  1920 1080\n",
      "Starting to extract posture\n"
     ]
    },
    {
     "name": "stderr",
     "output_type": "stream",
     "text": [
      " 96%|█████████▌| 130/136 [00:05<00:00, 23.53it/s]\n"
     ]
    },
    {
     "name": "stdout",
     "output_type": "stream",
     "text": [
      "Saving results in /mnt/sdb2/DeepDraw/Projects/20220802_DP03_mri/Camera_1/Video_cut...\n",
      "Starting to analyze %  /mnt/sdb2/DeepDraw/Projects/20220802_DP03_mri/Camera_1/Video_cut/cut_16_cam_1_run_2.mp4\n",
      "Loading  /mnt/sdb2/DeepDraw/Projects/20220802_DP03_mri/Camera_1/Video_cut/cut_16_cam_1_run_2.mp4\n",
      "Duration of video [s]:  4.53 , recorded with  30.0 fps!\n",
      "Overall # of frames:  136  found with (before cropping) frame dimensions:  1920 1080\n",
      "Starting to extract posture\n"
     ]
    },
    {
     "name": "stderr",
     "output_type": "stream",
     "text": [
      " 96%|█████████▌| 130/136 [00:05<00:00, 23.65it/s]\n"
     ]
    },
    {
     "name": "stdout",
     "output_type": "stream",
     "text": [
      "Saving results in /mnt/sdb2/DeepDraw/Projects/20220802_DP03_mri/Camera_1/Video_cut...\n",
      "Starting to analyze %  /mnt/sdb2/DeepDraw/Projects/20220802_DP03_mri/Camera_1/Video_cut/cut_17_cam_1_run_2.mp4\n",
      "Loading  /mnt/sdb2/DeepDraw/Projects/20220802_DP03_mri/Camera_1/Video_cut/cut_17_cam_1_run_2.mp4\n",
      "Duration of video [s]:  4.53 , recorded with  30.0 fps!\n",
      "Overall # of frames:  136  found with (before cropping) frame dimensions:  1920 1080\n",
      "Starting to extract posture\n"
     ]
    },
    {
     "name": "stderr",
     "output_type": "stream",
     "text": [
      " 96%|█████████▌| 130/136 [00:05<00:00, 23.55it/s]\n"
     ]
    },
    {
     "name": "stdout",
     "output_type": "stream",
     "text": [
      "Saving results in /mnt/sdb2/DeepDraw/Projects/20220802_DP03_mri/Camera_1/Video_cut...\n",
      "Starting to analyze %  /mnt/sdb2/DeepDraw/Projects/20220802_DP03_mri/Camera_1/Video_cut/cut_18_cam_1_run_2.mp4\n",
      "Loading  /mnt/sdb2/DeepDraw/Projects/20220802_DP03_mri/Camera_1/Video_cut/cut_18_cam_1_run_2.mp4\n",
      "Duration of video [s]:  4.53 , recorded with  30.0 fps!\n",
      "Overall # of frames:  136  found with (before cropping) frame dimensions:  1920 1080\n",
      "Starting to extract posture\n"
     ]
    },
    {
     "name": "stderr",
     "output_type": "stream",
     "text": [
      " 96%|█████████▌| 130/136 [00:05<00:00, 23.58it/s]\n"
     ]
    },
    {
     "name": "stdout",
     "output_type": "stream",
     "text": [
      "Saving results in /mnt/sdb2/DeepDraw/Projects/20220802_DP03_mri/Camera_1/Video_cut...\n",
      "Starting to analyze %  /mnt/sdb2/DeepDraw/Projects/20220802_DP03_mri/Camera_1/Video_cut/cut_19_cam_1_run_2.mp4\n",
      "Loading  /mnt/sdb2/DeepDraw/Projects/20220802_DP03_mri/Camera_1/Video_cut/cut_19_cam_1_run_2.mp4\n",
      "Duration of video [s]:  4.53 , recorded with  30.0 fps!\n",
      "Overall # of frames:  136  found with (before cropping) frame dimensions:  1920 1080\n",
      "Starting to extract posture\n"
     ]
    },
    {
     "name": "stderr",
     "output_type": "stream",
     "text": [
      " 96%|█████████▌| 130/136 [00:05<00:00, 23.58it/s]\n"
     ]
    },
    {
     "name": "stdout",
     "output_type": "stream",
     "text": [
      "Saving results in /mnt/sdb2/DeepDraw/Projects/20220802_DP03_mri/Camera_1/Video_cut...\n",
      "Starting to analyze %  /mnt/sdb2/DeepDraw/Projects/20220802_DP03_mri/Camera_1/Video_cut/cut_20_cam_1_run_2.mp4\n",
      "Loading  /mnt/sdb2/DeepDraw/Projects/20220802_DP03_mri/Camera_1/Video_cut/cut_20_cam_1_run_2.mp4\n",
      "Duration of video [s]:  4.53 , recorded with  30.0 fps!\n",
      "Overall # of frames:  136  found with (before cropping) frame dimensions:  1920 1080\n",
      "Starting to extract posture\n"
     ]
    },
    {
     "name": "stderr",
     "output_type": "stream",
     "text": [
      " 96%|█████████▌| 130/136 [00:05<00:00, 23.70it/s]\n"
     ]
    },
    {
     "name": "stdout",
     "output_type": "stream",
     "text": [
      "Saving results in /mnt/sdb2/DeepDraw/Projects/20220802_DP03_mri/Camera_1/Video_cut...\n",
      "Starting to analyze %  /mnt/sdb2/DeepDraw/Projects/20220802_DP03_mri/Camera_1/Video_cut/cut_21_cam_1_run_2.mp4\n",
      "Loading  /mnt/sdb2/DeepDraw/Projects/20220802_DP03_mri/Camera_1/Video_cut/cut_21_cam_1_run_2.mp4\n",
      "Duration of video [s]:  4.53 , recorded with  30.0 fps!\n",
      "Overall # of frames:  136  found with (before cropping) frame dimensions:  1920 1080\n",
      "Starting to extract posture\n"
     ]
    },
    {
     "name": "stderr",
     "output_type": "stream",
     "text": [
      " 96%|█████████▌| 130/136 [00:05<00:00, 23.59it/s]\n"
     ]
    },
    {
     "name": "stdout",
     "output_type": "stream",
     "text": [
      "Saving results in /mnt/sdb2/DeepDraw/Projects/20220802_DP03_mri/Camera_1/Video_cut...\n",
      "Starting to analyze %  /mnt/sdb2/DeepDraw/Projects/20220802_DP03_mri/Camera_1/Video_cut/cut_22_cam_1_run_2.mp4\n",
      "Loading  /mnt/sdb2/DeepDraw/Projects/20220802_DP03_mri/Camera_1/Video_cut/cut_22_cam_1_run_2.mp4\n",
      "Duration of video [s]:  4.53 , recorded with  30.0 fps!\n",
      "Overall # of frames:  136  found with (before cropping) frame dimensions:  1920 1080\n",
      "Starting to extract posture\n"
     ]
    },
    {
     "name": "stderr",
     "output_type": "stream",
     "text": [
      " 96%|█████████▌| 130/136 [00:05<00:00, 23.47it/s]\n"
     ]
    },
    {
     "name": "stdout",
     "output_type": "stream",
     "text": [
      "Saving results in /mnt/sdb2/DeepDraw/Projects/20220802_DP03_mri/Camera_1/Video_cut...\n",
      "Starting to analyze %  /mnt/sdb2/DeepDraw/Projects/20220802_DP03_mri/Camera_1/Video_cut/cut_23_cam_1_run_2.mp4\n",
      "Loading  /mnt/sdb2/DeepDraw/Projects/20220802_DP03_mri/Camera_1/Video_cut/cut_23_cam_1_run_2.mp4\n",
      "Duration of video [s]:  4.53 , recorded with  30.0 fps!\n",
      "Overall # of frames:  136  found with (before cropping) frame dimensions:  1920 1080\n",
      "Starting to extract posture\n"
     ]
    },
    {
     "name": "stderr",
     "output_type": "stream",
     "text": [
      " 96%|█████████▌| 130/136 [00:05<00:00, 23.72it/s]\n"
     ]
    },
    {
     "name": "stdout",
     "output_type": "stream",
     "text": [
      "Saving results in /mnt/sdb2/DeepDraw/Projects/20220802_DP03_mri/Camera_1/Video_cut...\n",
      "Starting to analyze %  /mnt/sdb2/DeepDraw/Projects/20220802_DP03_mri/Camera_1/Video_cut/cut_24_cam_1_run_2.mp4\n",
      "Loading  /mnt/sdb2/DeepDraw/Projects/20220802_DP03_mri/Camera_1/Video_cut/cut_24_cam_1_run_2.mp4\n",
      "Duration of video [s]:  4.53 , recorded with  30.0 fps!\n",
      "Overall # of frames:  136  found with (before cropping) frame dimensions:  1920 1080\n",
      "Starting to extract posture\n"
     ]
    },
    {
     "name": "stderr",
     "output_type": "stream",
     "text": [
      " 96%|█████████▌| 130/136 [00:05<00:00, 23.64it/s]\n"
     ]
    },
    {
     "name": "stdout",
     "output_type": "stream",
     "text": [
      "Saving results in /mnt/sdb2/DeepDraw/Projects/20220802_DP03_mri/Camera_1/Video_cut...\n",
      "Starting to analyze %  /mnt/sdb2/DeepDraw/Projects/20220802_DP03_mri/Camera_1/Video_cut/cut_25_cam_1_run_2.mp4\n",
      "Loading  /mnt/sdb2/DeepDraw/Projects/20220802_DP03_mri/Camera_1/Video_cut/cut_25_cam_1_run_2.mp4\n",
      "Duration of video [s]:  4.53 , recorded with  30.0 fps!\n",
      "Overall # of frames:  136  found with (before cropping) frame dimensions:  1920 1080\n",
      "Starting to extract posture\n"
     ]
    },
    {
     "name": "stderr",
     "output_type": "stream",
     "text": [
      " 96%|█████████▌| 130/136 [00:05<00:00, 23.43it/s]\n"
     ]
    },
    {
     "name": "stdout",
     "output_type": "stream",
     "text": [
      "Saving results in /mnt/sdb2/DeepDraw/Projects/20220802_DP03_mri/Camera_1/Video_cut...\n",
      "Starting to analyze %  /mnt/sdb2/DeepDraw/Projects/20220802_DP03_mri/Camera_1/Video_cut/cut_26_cam_1_run_2.mp4\n",
      "Loading  /mnt/sdb2/DeepDraw/Projects/20220802_DP03_mri/Camera_1/Video_cut/cut_26_cam_1_run_2.mp4\n",
      "Duration of video [s]:  4.53 , recorded with  30.0 fps!\n",
      "Overall # of frames:  136  found with (before cropping) frame dimensions:  1920 1080\n",
      "Starting to extract posture\n"
     ]
    },
    {
     "name": "stderr",
     "output_type": "stream",
     "text": [
      " 96%|█████████▌| 130/136 [00:05<00:00, 23.69it/s]\n"
     ]
    },
    {
     "name": "stdout",
     "output_type": "stream",
     "text": [
      "Saving results in /mnt/sdb2/DeepDraw/Projects/20220802_DP03_mri/Camera_1/Video_cut...\n",
      "Starting to analyze %  /mnt/sdb2/DeepDraw/Projects/20220802_DP03_mri/Camera_1/Video_cut/cut_27_cam_1_run_2.mp4\n",
      "Loading  /mnt/sdb2/DeepDraw/Projects/20220802_DP03_mri/Camera_1/Video_cut/cut_27_cam_1_run_2.mp4\n",
      "Duration of video [s]:  4.53 , recorded with  30.0 fps!\n",
      "Overall # of frames:  136  found with (before cropping) frame dimensions:  1920 1080\n",
      "Starting to extract posture\n"
     ]
    },
    {
     "name": "stderr",
     "output_type": "stream",
     "text": [
      " 96%|█████████▌| 130/136 [00:05<00:00, 23.57it/s]\n"
     ]
    },
    {
     "name": "stdout",
     "output_type": "stream",
     "text": [
      "Saving results in /mnt/sdb2/DeepDraw/Projects/20220802_DP03_mri/Camera_1/Video_cut...\n",
      "Starting to analyze %  /mnt/sdb2/DeepDraw/Projects/20220802_DP03_mri/Camera_1/Video_cut/cut_28_cam_1_run_2.mp4\n",
      "Loading  /mnt/sdb2/DeepDraw/Projects/20220802_DP03_mri/Camera_1/Video_cut/cut_28_cam_1_run_2.mp4\n",
      "Duration of video [s]:  4.53 , recorded with  30.0 fps!\n",
      "Overall # of frames:  136  found with (before cropping) frame dimensions:  1920 1080\n",
      "Starting to extract posture\n"
     ]
    },
    {
     "name": "stderr",
     "output_type": "stream",
     "text": [
      " 96%|█████████▌| 130/136 [00:05<00:00, 23.44it/s]\n"
     ]
    },
    {
     "name": "stdout",
     "output_type": "stream",
     "text": [
      "Saving results in /mnt/sdb2/DeepDraw/Projects/20220802_DP03_mri/Camera_1/Video_cut...\n",
      "Starting to analyze %  /mnt/sdb2/DeepDraw/Projects/20220802_DP03_mri/Camera_1/Video_cut/cut_29_cam_1_run_2.mp4\n",
      "Loading  /mnt/sdb2/DeepDraw/Projects/20220802_DP03_mri/Camera_1/Video_cut/cut_29_cam_1_run_2.mp4\n",
      "Duration of video [s]:  4.53 , recorded with  30.0 fps!\n",
      "Overall # of frames:  136  found with (before cropping) frame dimensions:  1920 1080\n",
      "Starting to extract posture\n"
     ]
    },
    {
     "name": "stderr",
     "output_type": "stream",
     "text": [
      " 96%|█████████▌| 130/136 [00:05<00:00, 23.51it/s]\n"
     ]
    },
    {
     "name": "stdout",
     "output_type": "stream",
     "text": [
      "Saving results in /mnt/sdb2/DeepDraw/Projects/20220802_DP03_mri/Camera_1/Video_cut...\n",
      "Starting to analyze %  /mnt/sdb2/DeepDraw/Projects/20220802_DP03_mri/Camera_1/Video_cut/cut_30_cam_1_run_2.mp4\n",
      "Loading  /mnt/sdb2/DeepDraw/Projects/20220802_DP03_mri/Camera_1/Video_cut/cut_30_cam_1_run_2.mp4\n",
      "Duration of video [s]:  4.53 , recorded with  30.0 fps!\n",
      "Overall # of frames:  136  found with (before cropping) frame dimensions:  1920 1080\n",
      "Starting to extract posture\n"
     ]
    },
    {
     "name": "stderr",
     "output_type": "stream",
     "text": [
      " 96%|█████████▌| 130/136 [00:05<00:00, 23.79it/s]\n"
     ]
    },
    {
     "name": "stdout",
     "output_type": "stream",
     "text": [
      "Saving results in /mnt/sdb2/DeepDraw/Projects/20220802_DP03_mri/Camera_1/Video_cut...\n",
      "Starting to analyze %  /mnt/sdb2/DeepDraw/Projects/20220802_DP03_mri/Camera_1/Video_cut/cut_31_cam_1_run_2.mp4\n",
      "Loading  /mnt/sdb2/DeepDraw/Projects/20220802_DP03_mri/Camera_1/Video_cut/cut_31_cam_1_run_2.mp4\n",
      "Duration of video [s]:  4.53 , recorded with  30.0 fps!\n",
      "Overall # of frames:  136  found with (before cropping) frame dimensions:  1920 1080\n",
      "Starting to extract posture\n"
     ]
    },
    {
     "name": "stderr",
     "output_type": "stream",
     "text": [
      " 96%|█████████▌| 130/136 [00:05<00:00, 23.49it/s]\n"
     ]
    },
    {
     "name": "stdout",
     "output_type": "stream",
     "text": [
      "Saving results in /mnt/sdb2/DeepDraw/Projects/20220802_DP03_mri/Camera_1/Video_cut...\n",
      "Starting to analyze %  /mnt/sdb2/DeepDraw/Projects/20220802_DP03_mri/Camera_1/Video_cut/cut_32_cam_1_run_2.mp4\n",
      "Loading  /mnt/sdb2/DeepDraw/Projects/20220802_DP03_mri/Camera_1/Video_cut/cut_32_cam_1_run_2.mp4\n",
      "Duration of video [s]:  4.53 , recorded with  30.0 fps!\n",
      "Overall # of frames:  136  found with (before cropping) frame dimensions:  1920 1080\n",
      "Starting to extract posture\n"
     ]
    },
    {
     "name": "stderr",
     "output_type": "stream",
     "text": [
      " 96%|█████████▌| 130/136 [00:05<00:00, 23.24it/s]\n"
     ]
    },
    {
     "name": "stdout",
     "output_type": "stream",
     "text": [
      "Saving results in /mnt/sdb2/DeepDraw/Projects/20220802_DP03_mri/Camera_1/Video_cut...\n",
      "Starting to analyze %  /mnt/sdb2/DeepDraw/Projects/20220802_DP03_mri/Camera_1/Video_cut/cut_33_cam_1_run_2.mp4\n",
      "Loading  /mnt/sdb2/DeepDraw/Projects/20220802_DP03_mri/Camera_1/Video_cut/cut_33_cam_1_run_2.mp4\n",
      "Duration of video [s]:  4.53 , recorded with  30.0 fps!\n",
      "Overall # of frames:  136  found with (before cropping) frame dimensions:  1920 1080\n",
      "Starting to extract posture\n"
     ]
    },
    {
     "name": "stderr",
     "output_type": "stream",
     "text": [
      " 96%|█████████▌| 130/136 [00:05<00:00, 23.49it/s]\n"
     ]
    },
    {
     "name": "stdout",
     "output_type": "stream",
     "text": [
      "Saving results in /mnt/sdb2/DeepDraw/Projects/20220802_DP03_mri/Camera_1/Video_cut...\n",
      "Starting to analyze %  /mnt/sdb2/DeepDraw/Projects/20220802_DP03_mri/Camera_1/Video_cut/cut_34_cam_1_run_2.mp4\n",
      "Loading  /mnt/sdb2/DeepDraw/Projects/20220802_DP03_mri/Camera_1/Video_cut/cut_34_cam_1_run_2.mp4\n",
      "Duration of video [s]:  4.53 , recorded with  30.0 fps!\n",
      "Overall # of frames:  136  found with (before cropping) frame dimensions:  1920 1080\n",
      "Starting to extract posture\n"
     ]
    },
    {
     "name": "stderr",
     "output_type": "stream",
     "text": [
      " 96%|█████████▌| 130/136 [00:05<00:00, 23.12it/s]\n"
     ]
    },
    {
     "name": "stdout",
     "output_type": "stream",
     "text": [
      "Saving results in /mnt/sdb2/DeepDraw/Projects/20220802_DP03_mri/Camera_1/Video_cut...\n",
      "Starting to analyze %  /mnt/sdb2/DeepDraw/Projects/20220802_DP03_mri/Camera_1/Video_cut/cut_35_cam_1_run_2.mp4\n",
      "Loading  /mnt/sdb2/DeepDraw/Projects/20220802_DP03_mri/Camera_1/Video_cut/cut_35_cam_1_run_2.mp4\n",
      "Duration of video [s]:  4.53 , recorded with  30.0 fps!\n",
      "Overall # of frames:  136  found with (before cropping) frame dimensions:  1920 1080\n",
      "Starting to extract posture\n"
     ]
    },
    {
     "name": "stderr",
     "output_type": "stream",
     "text": [
      " 96%|█████████▌| 130/136 [00:05<00:00, 23.12it/s]\n"
     ]
    },
    {
     "name": "stdout",
     "output_type": "stream",
     "text": [
      "Saving results in /mnt/sdb2/DeepDraw/Projects/20220802_DP03_mri/Camera_1/Video_cut...\n",
      "Starting to analyze %  /mnt/sdb2/DeepDraw/Projects/20220802_DP03_mri/Camera_1/Video_cut/cut_36_cam_1_run_2.mp4\n",
      "Loading  /mnt/sdb2/DeepDraw/Projects/20220802_DP03_mri/Camera_1/Video_cut/cut_36_cam_1_run_2.mp4\n",
      "Duration of video [s]:  4.53 , recorded with  30.0 fps!\n",
      "Overall # of frames:  136  found with (before cropping) frame dimensions:  1920 1080\n",
      "Starting to extract posture\n"
     ]
    },
    {
     "name": "stderr",
     "output_type": "stream",
     "text": [
      " 96%|█████████▌| 130/136 [00:05<00:00, 23.23it/s]\n"
     ]
    },
    {
     "name": "stdout",
     "output_type": "stream",
     "text": [
      "Saving results in /mnt/sdb2/DeepDraw/Projects/20220802_DP03_mri/Camera_1/Video_cut...\n",
      "Starting to analyze %  /mnt/sdb2/DeepDraw/Projects/20220802_DP03_mri/Camera_1/Video_cut/cut_37_cam_1_run_2.mp4\n",
      "Loading  /mnt/sdb2/DeepDraw/Projects/20220802_DP03_mri/Camera_1/Video_cut/cut_37_cam_1_run_2.mp4\n",
      "Duration of video [s]:  4.53 , recorded with  30.0 fps!\n",
      "Overall # of frames:  136  found with (before cropping) frame dimensions:  1920 1080\n",
      "Starting to extract posture\n"
     ]
    },
    {
     "name": "stderr",
     "output_type": "stream",
     "text": [
      " 96%|█████████▌| 130/136 [00:05<00:00, 23.12it/s]\n"
     ]
    },
    {
     "name": "stdout",
     "output_type": "stream",
     "text": [
      "Saving results in /mnt/sdb2/DeepDraw/Projects/20220802_DP03_mri/Camera_1/Video_cut...\n",
      "Starting to analyze %  /mnt/sdb2/DeepDraw/Projects/20220802_DP03_mri/Camera_1/Video_cut/cut_38_cam_1_run_2.mp4\n",
      "Loading  /mnt/sdb2/DeepDraw/Projects/20220802_DP03_mri/Camera_1/Video_cut/cut_38_cam_1_run_2.mp4\n",
      "Duration of video [s]:  4.53 , recorded with  30.0 fps!\n",
      "Overall # of frames:  136  found with (before cropping) frame dimensions:  1920 1080\n",
      "Starting to extract posture\n"
     ]
    },
    {
     "name": "stderr",
     "output_type": "stream",
     "text": [
      " 96%|█████████▌| 130/136 [00:05<00:00, 23.05it/s]\n"
     ]
    },
    {
     "name": "stdout",
     "output_type": "stream",
     "text": [
      "Saving results in /mnt/sdb2/DeepDraw/Projects/20220802_DP03_mri/Camera_1/Video_cut...\n",
      "Starting to analyze %  /mnt/sdb2/DeepDraw/Projects/20220802_DP03_mri/Camera_1/Video_cut/cut_0_cam_1_run_3.mp4\n",
      "Loading  /mnt/sdb2/DeepDraw/Projects/20220802_DP03_mri/Camera_1/Video_cut/cut_0_cam_1_run_3.mp4\n",
      "Duration of video [s]:  4.53 , recorded with  30.0 fps!\n",
      "Overall # of frames:  136  found with (before cropping) frame dimensions:  1920 1080\n",
      "Starting to extract posture\n"
     ]
    },
    {
     "name": "stderr",
     "output_type": "stream",
     "text": [
      " 96%|█████████▌| 130/136 [00:05<00:00, 23.64it/s]\n"
     ]
    },
    {
     "name": "stdout",
     "output_type": "stream",
     "text": [
      "Saving results in /mnt/sdb2/DeepDraw/Projects/20220802_DP03_mri/Camera_1/Video_cut...\n",
      "Starting to analyze %  /mnt/sdb2/DeepDraw/Projects/20220802_DP03_mri/Camera_1/Video_cut/cut_1_cam_1_run_3.mp4\n",
      "Loading  /mnt/sdb2/DeepDraw/Projects/20220802_DP03_mri/Camera_1/Video_cut/cut_1_cam_1_run_3.mp4\n",
      "Duration of video [s]:  4.53 , recorded with  30.0 fps!\n",
      "Overall # of frames:  136  found with (before cropping) frame dimensions:  1920 1080\n",
      "Starting to extract posture\n"
     ]
    },
    {
     "name": "stderr",
     "output_type": "stream",
     "text": [
      " 96%|█████████▌| 130/136 [00:05<00:00, 23.59it/s]\n"
     ]
    },
    {
     "name": "stdout",
     "output_type": "stream",
     "text": [
      "Saving results in /mnt/sdb2/DeepDraw/Projects/20220802_DP03_mri/Camera_1/Video_cut...\n",
      "Starting to analyze %  /mnt/sdb2/DeepDraw/Projects/20220802_DP03_mri/Camera_1/Video_cut/cut_2_cam_1_run_3.mp4\n",
      "Loading  /mnt/sdb2/DeepDraw/Projects/20220802_DP03_mri/Camera_1/Video_cut/cut_2_cam_1_run_3.mp4\n",
      "Duration of video [s]:  4.53 , recorded with  30.0 fps!\n",
      "Overall # of frames:  136  found with (before cropping) frame dimensions:  1920 1080\n",
      "Starting to extract posture\n"
     ]
    },
    {
     "name": "stderr",
     "output_type": "stream",
     "text": [
      " 96%|█████████▌| 130/136 [00:05<00:00, 23.36it/s]\n"
     ]
    },
    {
     "name": "stdout",
     "output_type": "stream",
     "text": [
      "Saving results in /mnt/sdb2/DeepDraw/Projects/20220802_DP03_mri/Camera_1/Video_cut...\n",
      "Starting to analyze %  /mnt/sdb2/DeepDraw/Projects/20220802_DP03_mri/Camera_1/Video_cut/cut_3_cam_1_run_3.mp4\n",
      "Loading  /mnt/sdb2/DeepDraw/Projects/20220802_DP03_mri/Camera_1/Video_cut/cut_3_cam_1_run_3.mp4\n",
      "Duration of video [s]:  4.53 , recorded with  30.0 fps!\n",
      "Overall # of frames:  136  found with (before cropping) frame dimensions:  1920 1080\n",
      "Starting to extract posture\n"
     ]
    },
    {
     "name": "stderr",
     "output_type": "stream",
     "text": [
      " 96%|█████████▌| 130/136 [00:05<00:00, 23.51it/s]\n"
     ]
    },
    {
     "name": "stdout",
     "output_type": "stream",
     "text": [
      "Saving results in /mnt/sdb2/DeepDraw/Projects/20220802_DP03_mri/Camera_1/Video_cut...\n",
      "Starting to analyze %  /mnt/sdb2/DeepDraw/Projects/20220802_DP03_mri/Camera_1/Video_cut/cut_4_cam_1_run_3.mp4\n",
      "Loading  /mnt/sdb2/DeepDraw/Projects/20220802_DP03_mri/Camera_1/Video_cut/cut_4_cam_1_run_3.mp4\n",
      "Duration of video [s]:  4.53 , recorded with  30.0 fps!\n",
      "Overall # of frames:  136  found with (before cropping) frame dimensions:  1920 1080\n",
      "Starting to extract posture\n"
     ]
    },
    {
     "name": "stderr",
     "output_type": "stream",
     "text": [
      " 96%|█████████▌| 130/136 [00:05<00:00, 23.54it/s]\n"
     ]
    },
    {
     "name": "stdout",
     "output_type": "stream",
     "text": [
      "Saving results in /mnt/sdb2/DeepDraw/Projects/20220802_DP03_mri/Camera_1/Video_cut...\n",
      "Starting to analyze %  /mnt/sdb2/DeepDraw/Projects/20220802_DP03_mri/Camera_1/Video_cut/cut_5_cam_1_run_3.mp4\n",
      "Loading  /mnt/sdb2/DeepDraw/Projects/20220802_DP03_mri/Camera_1/Video_cut/cut_5_cam_1_run_3.mp4\n",
      "Duration of video [s]:  4.53 , recorded with  30.0 fps!\n",
      "Overall # of frames:  136  found with (before cropping) frame dimensions:  1920 1080\n",
      "Starting to extract posture\n"
     ]
    },
    {
     "name": "stderr",
     "output_type": "stream",
     "text": [
      " 96%|█████████▌| 130/136 [00:05<00:00, 23.62it/s]\n"
     ]
    },
    {
     "name": "stdout",
     "output_type": "stream",
     "text": [
      "Saving results in /mnt/sdb2/DeepDraw/Projects/20220802_DP03_mri/Camera_1/Video_cut...\n",
      "Starting to analyze %  /mnt/sdb2/DeepDraw/Projects/20220802_DP03_mri/Camera_1/Video_cut/cut_6_cam_1_run_3.mp4\n",
      "Loading  /mnt/sdb2/DeepDraw/Projects/20220802_DP03_mri/Camera_1/Video_cut/cut_6_cam_1_run_3.mp4\n",
      "Duration of video [s]:  4.53 , recorded with  30.0 fps!\n",
      "Overall # of frames:  136  found with (before cropping) frame dimensions:  1920 1080\n",
      "Starting to extract posture\n"
     ]
    },
    {
     "name": "stderr",
     "output_type": "stream",
     "text": [
      " 96%|█████████▌| 130/136 [00:05<00:00, 23.58it/s]\n"
     ]
    },
    {
     "name": "stdout",
     "output_type": "stream",
     "text": [
      "Saving results in /mnt/sdb2/DeepDraw/Projects/20220802_DP03_mri/Camera_1/Video_cut...\n",
      "Starting to analyze %  /mnt/sdb2/DeepDraw/Projects/20220802_DP03_mri/Camera_1/Video_cut/cut_7_cam_1_run_3.mp4\n",
      "Loading  /mnt/sdb2/DeepDraw/Projects/20220802_DP03_mri/Camera_1/Video_cut/cut_7_cam_1_run_3.mp4\n",
      "Duration of video [s]:  4.53 , recorded with  30.0 fps!\n",
      "Overall # of frames:  136  found with (before cropping) frame dimensions:  1920 1080\n",
      "Starting to extract posture\n"
     ]
    },
    {
     "name": "stderr",
     "output_type": "stream",
     "text": [
      " 96%|█████████▌| 130/136 [00:05<00:00, 23.53it/s]\n"
     ]
    },
    {
     "name": "stdout",
     "output_type": "stream",
     "text": [
      "Saving results in /mnt/sdb2/DeepDraw/Projects/20220802_DP03_mri/Camera_1/Video_cut...\n",
      "Starting to analyze %  /mnt/sdb2/DeepDraw/Projects/20220802_DP03_mri/Camera_1/Video_cut/cut_8_cam_1_run_3.mp4\n",
      "Loading  /mnt/sdb2/DeepDraw/Projects/20220802_DP03_mri/Camera_1/Video_cut/cut_8_cam_1_run_3.mp4\n",
      "Duration of video [s]:  4.53 , recorded with  30.0 fps!\n",
      "Overall # of frames:  136  found with (before cropping) frame dimensions:  1920 1080\n",
      "Starting to extract posture\n"
     ]
    },
    {
     "name": "stderr",
     "output_type": "stream",
     "text": [
      " 96%|█████████▌| 130/136 [00:05<00:00, 23.48it/s]\n"
     ]
    },
    {
     "name": "stdout",
     "output_type": "stream",
     "text": [
      "Saving results in /mnt/sdb2/DeepDraw/Projects/20220802_DP03_mri/Camera_1/Video_cut...\n",
      "Starting to analyze %  /mnt/sdb2/DeepDraw/Projects/20220802_DP03_mri/Camera_1/Video_cut/cut_9_cam_1_run_3.mp4\n",
      "Loading  /mnt/sdb2/DeepDraw/Projects/20220802_DP03_mri/Camera_1/Video_cut/cut_9_cam_1_run_3.mp4\n",
      "Duration of video [s]:  4.53 , recorded with  30.0 fps!\n",
      "Overall # of frames:  136  found with (before cropping) frame dimensions:  1920 1080\n",
      "Starting to extract posture\n"
     ]
    },
    {
     "name": "stderr",
     "output_type": "stream",
     "text": [
      " 96%|█████████▌| 130/136 [00:05<00:00, 23.42it/s]\n"
     ]
    },
    {
     "name": "stdout",
     "output_type": "stream",
     "text": [
      "Saving results in /mnt/sdb2/DeepDraw/Projects/20220802_DP03_mri/Camera_1/Video_cut...\n",
      "Starting to analyze %  /mnt/sdb2/DeepDraw/Projects/20220802_DP03_mri/Camera_1/Video_cut/cut_10_cam_1_run_3.mp4\n",
      "Loading  /mnt/sdb2/DeepDraw/Projects/20220802_DP03_mri/Camera_1/Video_cut/cut_10_cam_1_run_3.mp4\n",
      "Duration of video [s]:  4.53 , recorded with  30.0 fps!\n",
      "Overall # of frames:  136  found with (before cropping) frame dimensions:  1920 1080\n",
      "Starting to extract posture\n"
     ]
    },
    {
     "name": "stderr",
     "output_type": "stream",
     "text": [
      " 96%|█████████▌| 130/136 [00:05<00:00, 23.54it/s]\n"
     ]
    },
    {
     "name": "stdout",
     "output_type": "stream",
     "text": [
      "Saving results in /mnt/sdb2/DeepDraw/Projects/20220802_DP03_mri/Camera_1/Video_cut...\n",
      "Starting to analyze %  /mnt/sdb2/DeepDraw/Projects/20220802_DP03_mri/Camera_1/Video_cut/cut_11_cam_1_run_3.mp4\n",
      "Loading  /mnt/sdb2/DeepDraw/Projects/20220802_DP03_mri/Camera_1/Video_cut/cut_11_cam_1_run_3.mp4\n",
      "Duration of video [s]:  4.53 , recorded with  30.0 fps!\n",
      "Overall # of frames:  136  found with (before cropping) frame dimensions:  1920 1080\n",
      "Starting to extract posture\n"
     ]
    },
    {
     "name": "stderr",
     "output_type": "stream",
     "text": [
      " 96%|█████████▌| 130/136 [00:05<00:00, 23.49it/s]\n"
     ]
    },
    {
     "name": "stdout",
     "output_type": "stream",
     "text": [
      "Saving results in /mnt/sdb2/DeepDraw/Projects/20220802_DP03_mri/Camera_1/Video_cut...\n",
      "Starting to analyze %  /mnt/sdb2/DeepDraw/Projects/20220802_DP03_mri/Camera_1/Video_cut/cut_12_cam_1_run_3.mp4\n",
      "Loading  /mnt/sdb2/DeepDraw/Projects/20220802_DP03_mri/Camera_1/Video_cut/cut_12_cam_1_run_3.mp4\n",
      "Duration of video [s]:  4.53 , recorded with  30.0 fps!\n",
      "Overall # of frames:  136  found with (before cropping) frame dimensions:  1920 1080\n",
      "Starting to extract posture\n"
     ]
    },
    {
     "name": "stderr",
     "output_type": "stream",
     "text": [
      " 96%|█████████▌| 130/136 [00:05<00:00, 23.18it/s]\n"
     ]
    },
    {
     "name": "stdout",
     "output_type": "stream",
     "text": [
      "Saving results in /mnt/sdb2/DeepDraw/Projects/20220802_DP03_mri/Camera_1/Video_cut...\n",
      "Starting to analyze %  /mnt/sdb2/DeepDraw/Projects/20220802_DP03_mri/Camera_1/Video_cut/cut_13_cam_1_run_3.mp4\n",
      "Loading  /mnt/sdb2/DeepDraw/Projects/20220802_DP03_mri/Camera_1/Video_cut/cut_13_cam_1_run_3.mp4\n",
      "Duration of video [s]:  4.53 , recorded with  30.0 fps!\n",
      "Overall # of frames:  136  found with (before cropping) frame dimensions:  1920 1080\n",
      "Starting to extract posture\n"
     ]
    },
    {
     "name": "stderr",
     "output_type": "stream",
     "text": [
      " 96%|█████████▌| 130/136 [00:09<00:00, 13.94it/s]\n"
     ]
    },
    {
     "name": "stdout",
     "output_type": "stream",
     "text": [
      "Saving results in /mnt/sdb2/DeepDraw/Projects/20220802_DP03_mri/Camera_1/Video_cut...\n",
      "Starting to analyze %  /mnt/sdb2/DeepDraw/Projects/20220802_DP03_mri/Camera_1/Video_cut/cut_14_cam_1_run_3.mp4\n",
      "Loading  /mnt/sdb2/DeepDraw/Projects/20220802_DP03_mri/Camera_1/Video_cut/cut_14_cam_1_run_3.mp4\n",
      "Duration of video [s]:  4.53 , recorded with  30.0 fps!\n",
      "Overall # of frames:  136  found with (before cropping) frame dimensions:  1920 1080\n",
      "Starting to extract posture\n"
     ]
    },
    {
     "name": "stderr",
     "output_type": "stream",
     "text": [
      " 96%|█████████▌| 130/136 [00:08<00:00, 14.51it/s]\n"
     ]
    },
    {
     "name": "stdout",
     "output_type": "stream",
     "text": [
      "Saving results in /mnt/sdb2/DeepDraw/Projects/20220802_DP03_mri/Camera_1/Video_cut...\n",
      "Starting to analyze %  /mnt/sdb2/DeepDraw/Projects/20220802_DP03_mri/Camera_1/Video_cut/cut_15_cam_1_run_3.mp4\n",
      "Loading  /mnt/sdb2/DeepDraw/Projects/20220802_DP03_mri/Camera_1/Video_cut/cut_15_cam_1_run_3.mp4\n",
      "Duration of video [s]:  4.53 , recorded with  30.0 fps!\n",
      "Overall # of frames:  136  found with (before cropping) frame dimensions:  1920 1080\n",
      "Starting to extract posture\n"
     ]
    },
    {
     "name": "stderr",
     "output_type": "stream",
     "text": [
      " 96%|█████████▌| 130/136 [00:14<00:00,  8.78it/s]\n"
     ]
    },
    {
     "name": "stdout",
     "output_type": "stream",
     "text": [
      "Saving results in /mnt/sdb2/DeepDraw/Projects/20220802_DP03_mri/Camera_1/Video_cut...\n",
      "Starting to analyze %  /mnt/sdb2/DeepDraw/Projects/20220802_DP03_mri/Camera_1/Video_cut/cut_16_cam_1_run_3.mp4\n",
      "Loading  /mnt/sdb2/DeepDraw/Projects/20220802_DP03_mri/Camera_1/Video_cut/cut_16_cam_1_run_3.mp4\n",
      "Duration of video [s]:  4.53 , recorded with  30.0 fps!\n",
      "Overall # of frames:  136  found with (before cropping) frame dimensions:  1920 1080\n",
      "Starting to extract posture\n"
     ]
    },
    {
     "name": "stderr",
     "output_type": "stream",
     "text": [
      " 96%|█████████▌| 130/136 [00:08<00:00, 14.95it/s]\n"
     ]
    },
    {
     "name": "stdout",
     "output_type": "stream",
     "text": [
      "Saving results in /mnt/sdb2/DeepDraw/Projects/20220802_DP03_mri/Camera_1/Video_cut...\n",
      "Starting to analyze %  /mnt/sdb2/DeepDraw/Projects/20220802_DP03_mri/Camera_1/Video_cut/cut_17_cam_1_run_3.mp4\n",
      "Loading  /mnt/sdb2/DeepDraw/Projects/20220802_DP03_mri/Camera_1/Video_cut/cut_17_cam_1_run_3.mp4\n",
      "Duration of video [s]:  4.53 , recorded with  30.0 fps!\n",
      "Overall # of frames:  136  found with (before cropping) frame dimensions:  1920 1080\n",
      "Starting to extract posture\n"
     ]
    },
    {
     "name": "stderr",
     "output_type": "stream",
     "text": [
      " 96%|█████████▌| 130/136 [00:11<00:00, 11.55it/s]\n"
     ]
    },
    {
     "name": "stdout",
     "output_type": "stream",
     "text": [
      "Saving results in /mnt/sdb2/DeepDraw/Projects/20220802_DP03_mri/Camera_1/Video_cut...\n",
      "Starting to analyze %  /mnt/sdb2/DeepDraw/Projects/20220802_DP03_mri/Camera_1/Video_cut/cut_18_cam_1_run_3.mp4\n",
      "Loading  /mnt/sdb2/DeepDraw/Projects/20220802_DP03_mri/Camera_1/Video_cut/cut_18_cam_1_run_3.mp4\n",
      "Duration of video [s]:  4.53 , recorded with  30.0 fps!\n",
      "Overall # of frames:  136  found with (before cropping) frame dimensions:  1920 1080\n",
      "Starting to extract posture\n"
     ]
    },
    {
     "name": "stderr",
     "output_type": "stream",
     "text": [
      " 96%|█████████▌| 130/136 [00:12<00:00, 10.41it/s]\n"
     ]
    },
    {
     "name": "stdout",
     "output_type": "stream",
     "text": [
      "Saving results in /mnt/sdb2/DeepDraw/Projects/20220802_DP03_mri/Camera_1/Video_cut...\n",
      "Starting to analyze %  /mnt/sdb2/DeepDraw/Projects/20220802_DP03_mri/Camera_1/Video_cut/cut_19_cam_1_run_3.mp4\n",
      "Loading  /mnt/sdb2/DeepDraw/Projects/20220802_DP03_mri/Camera_1/Video_cut/cut_19_cam_1_run_3.mp4\n",
      "Duration of video [s]:  4.53 , recorded with  30.0 fps!\n",
      "Overall # of frames:  136  found with (before cropping) frame dimensions:  1920 1080\n",
      "Starting to extract posture\n"
     ]
    },
    {
     "name": "stderr",
     "output_type": "stream",
     "text": [
      " 96%|█████████▌| 130/136 [00:13<00:00,  9.57it/s]\n"
     ]
    },
    {
     "name": "stdout",
     "output_type": "stream",
     "text": [
      "Saving results in /mnt/sdb2/DeepDraw/Projects/20220802_DP03_mri/Camera_1/Video_cut...\n",
      "Starting to analyze %  /mnt/sdb2/DeepDraw/Projects/20220802_DP03_mri/Camera_1/Video_cut/cut_20_cam_1_run_3.mp4\n",
      "Loading  /mnt/sdb2/DeepDraw/Projects/20220802_DP03_mri/Camera_1/Video_cut/cut_20_cam_1_run_3.mp4\n",
      "Duration of video [s]:  4.53 , recorded with  30.0 fps!\n",
      "Overall # of frames:  136  found with (before cropping) frame dimensions:  1920 1080\n",
      "Starting to extract posture\n"
     ]
    },
    {
     "name": "stderr",
     "output_type": "stream",
     "text": [
      " 96%|█████████▌| 130/136 [00:08<00:00, 15.77it/s]\n"
     ]
    },
    {
     "name": "stdout",
     "output_type": "stream",
     "text": [
      "Saving results in /mnt/sdb2/DeepDraw/Projects/20220802_DP03_mri/Camera_1/Video_cut...\n",
      "Starting to analyze %  /mnt/sdb2/DeepDraw/Projects/20220802_DP03_mri/Camera_1/Video_cut/cut_21_cam_1_run_3.mp4\n",
      "Loading  /mnt/sdb2/DeepDraw/Projects/20220802_DP03_mri/Camera_1/Video_cut/cut_21_cam_1_run_3.mp4\n",
      "Duration of video [s]:  4.53 , recorded with  30.0 fps!\n",
      "Overall # of frames:  136  found with (before cropping) frame dimensions:  1920 1080\n",
      "Starting to extract posture\n"
     ]
    },
    {
     "name": "stderr",
     "output_type": "stream",
     "text": [
      " 96%|█████████▌| 130/136 [00:05<00:00, 22.89it/s]\n"
     ]
    },
    {
     "name": "stdout",
     "output_type": "stream",
     "text": [
      "Saving results in /mnt/sdb2/DeepDraw/Projects/20220802_DP03_mri/Camera_1/Video_cut...\n",
      "Starting to analyze %  /mnt/sdb2/DeepDraw/Projects/20220802_DP03_mri/Camera_1/Video_cut/cut_22_cam_1_run_3.mp4\n",
      "Loading  /mnt/sdb2/DeepDraw/Projects/20220802_DP03_mri/Camera_1/Video_cut/cut_22_cam_1_run_3.mp4\n",
      "Duration of video [s]:  4.53 , recorded with  30.0 fps!\n",
      "Overall # of frames:  136  found with (before cropping) frame dimensions:  1920 1080\n",
      "Starting to extract posture\n"
     ]
    },
    {
     "name": "stderr",
     "output_type": "stream",
     "text": [
      " 96%|█████████▌| 130/136 [00:05<00:00, 23.08it/s]\n"
     ]
    },
    {
     "name": "stdout",
     "output_type": "stream",
     "text": [
      "Saving results in /mnt/sdb2/DeepDraw/Projects/20220802_DP03_mri/Camera_1/Video_cut...\n",
      "Starting to analyze %  /mnt/sdb2/DeepDraw/Projects/20220802_DP03_mri/Camera_1/Video_cut/cut_23_cam_1_run_3.mp4\n",
      "Loading  /mnt/sdb2/DeepDraw/Projects/20220802_DP03_mri/Camera_1/Video_cut/cut_23_cam_1_run_3.mp4\n",
      "Duration of video [s]:  4.53 , recorded with  30.0 fps!\n",
      "Overall # of frames:  136  found with (before cropping) frame dimensions:  1920 1080\n",
      "Starting to extract posture\n"
     ]
    },
    {
     "name": "stderr",
     "output_type": "stream",
     "text": [
      " 96%|█████████▌| 130/136 [00:06<00:00, 19.17it/s]\n"
     ]
    },
    {
     "name": "stdout",
     "output_type": "stream",
     "text": [
      "Saving results in /mnt/sdb2/DeepDraw/Projects/20220802_DP03_mri/Camera_1/Video_cut...\n",
      "Starting to analyze %  /mnt/sdb2/DeepDraw/Projects/20220802_DP03_mri/Camera_1/Video_cut/cut_24_cam_1_run_3.mp4\n",
      "Loading  /mnt/sdb2/DeepDraw/Projects/20220802_DP03_mri/Camera_1/Video_cut/cut_24_cam_1_run_3.mp4\n",
      "Duration of video [s]:  4.53 , recorded with  30.0 fps!\n",
      "Overall # of frames:  136  found with (before cropping) frame dimensions:  1920 1080\n",
      "Starting to extract posture\n"
     ]
    },
    {
     "name": "stderr",
     "output_type": "stream",
     "text": [
      " 96%|█████████▌| 130/136 [00:11<00:00, 11.44it/s]\n"
     ]
    },
    {
     "name": "stdout",
     "output_type": "stream",
     "text": [
      "Saving results in /mnt/sdb2/DeepDraw/Projects/20220802_DP03_mri/Camera_1/Video_cut...\n",
      "Starting to analyze %  /mnt/sdb2/DeepDraw/Projects/20220802_DP03_mri/Camera_1/Video_cut/cut_25_cam_1_run_3.mp4\n",
      "Loading  /mnt/sdb2/DeepDraw/Projects/20220802_DP03_mri/Camera_1/Video_cut/cut_25_cam_1_run_3.mp4\n",
      "Duration of video [s]:  4.53 , recorded with  30.0 fps!\n",
      "Overall # of frames:  136  found with (before cropping) frame dimensions:  1920 1080\n",
      "Starting to extract posture\n"
     ]
    },
    {
     "name": "stderr",
     "output_type": "stream",
     "text": [
      " 96%|█████████▌| 130/136 [00:13<00:00,  9.55it/s]\n"
     ]
    },
    {
     "name": "stdout",
     "output_type": "stream",
     "text": [
      "Saving results in /mnt/sdb2/DeepDraw/Projects/20220802_DP03_mri/Camera_1/Video_cut...\n",
      "Starting to analyze %  /mnt/sdb2/DeepDraw/Projects/20220802_DP03_mri/Camera_1/Video_cut/cut_26_cam_1_run_3.mp4\n",
      "Loading  /mnt/sdb2/DeepDraw/Projects/20220802_DP03_mri/Camera_1/Video_cut/cut_26_cam_1_run_3.mp4\n",
      "Duration of video [s]:  4.53 , recorded with  30.0 fps!\n",
      "Overall # of frames:  136  found with (before cropping) frame dimensions:  1920 1080\n",
      "Starting to extract posture\n"
     ]
    },
    {
     "name": "stderr",
     "output_type": "stream",
     "text": [
      " 96%|█████████▌| 130/136 [00:08<00:00, 16.08it/s]\n"
     ]
    },
    {
     "name": "stdout",
     "output_type": "stream",
     "text": [
      "Saving results in /mnt/sdb2/DeepDraw/Projects/20220802_DP03_mri/Camera_1/Video_cut...\n",
      "Starting to analyze %  /mnt/sdb2/DeepDraw/Projects/20220802_DP03_mri/Camera_1/Video_cut/cut_27_cam_1_run_3.mp4\n",
      "Loading  /mnt/sdb2/DeepDraw/Projects/20220802_DP03_mri/Camera_1/Video_cut/cut_27_cam_1_run_3.mp4\n",
      "Duration of video [s]:  4.53 , recorded with  30.0 fps!\n",
      "Overall # of frames:  136  found with (before cropping) frame dimensions:  1920 1080\n",
      "Starting to extract posture\n"
     ]
    },
    {
     "name": "stderr",
     "output_type": "stream",
     "text": [
      " 96%|█████████▌| 130/136 [00:11<00:00, 11.57it/s]\n"
     ]
    },
    {
     "name": "stdout",
     "output_type": "stream",
     "text": [
      "Saving results in /mnt/sdb2/DeepDraw/Projects/20220802_DP03_mri/Camera_1/Video_cut...\n",
      "Starting to analyze %  /mnt/sdb2/DeepDraw/Projects/20220802_DP03_mri/Camera_1/Video_cut/cut_28_cam_1_run_3.mp4\n",
      "Loading  /mnt/sdb2/DeepDraw/Projects/20220802_DP03_mri/Camera_1/Video_cut/cut_28_cam_1_run_3.mp4\n",
      "Duration of video [s]:  4.53 , recorded with  30.0 fps!\n",
      "Overall # of frames:  136  found with (before cropping) frame dimensions:  1920 1080\n",
      "Starting to extract posture\n"
     ]
    },
    {
     "name": "stderr",
     "output_type": "stream",
     "text": [
      " 96%|█████████▌| 130/136 [00:13<00:00,  9.33it/s]\n"
     ]
    },
    {
     "name": "stdout",
     "output_type": "stream",
     "text": [
      "Saving results in /mnt/sdb2/DeepDraw/Projects/20220802_DP03_mri/Camera_1/Video_cut...\n",
      "Starting to analyze %  /mnt/sdb2/DeepDraw/Projects/20220802_DP03_mri/Camera_1/Video_cut/cut_29_cam_1_run_3.mp4\n",
      "Loading  /mnt/sdb2/DeepDraw/Projects/20220802_DP03_mri/Camera_1/Video_cut/cut_29_cam_1_run_3.mp4\n",
      "Duration of video [s]:  4.53 , recorded with  30.0 fps!\n",
      "Overall # of frames:  136  found with (before cropping) frame dimensions:  1920 1080\n",
      "Starting to extract posture\n"
     ]
    },
    {
     "name": "stderr",
     "output_type": "stream",
     "text": [
      " 96%|█████████▌| 130/136 [00:05<00:00, 23.15it/s]\n"
     ]
    },
    {
     "name": "stdout",
     "output_type": "stream",
     "text": [
      "Saving results in /mnt/sdb2/DeepDraw/Projects/20220802_DP03_mri/Camera_1/Video_cut...\n",
      "Starting to analyze %  /mnt/sdb2/DeepDraw/Projects/20220802_DP03_mri/Camera_1/Video_cut/cut_30_cam_1_run_3.mp4\n",
      "Loading  /mnt/sdb2/DeepDraw/Projects/20220802_DP03_mri/Camera_1/Video_cut/cut_30_cam_1_run_3.mp4\n",
      "Duration of video [s]:  4.53 , recorded with  30.0 fps!\n",
      "Overall # of frames:  136  found with (before cropping) frame dimensions:  1920 1080\n",
      "Starting to extract posture\n"
     ]
    },
    {
     "name": "stderr",
     "output_type": "stream",
     "text": [
      " 96%|█████████▌| 130/136 [00:05<00:00, 23.19it/s]\n"
     ]
    },
    {
     "name": "stdout",
     "output_type": "stream",
     "text": [
      "Saving results in /mnt/sdb2/DeepDraw/Projects/20220802_DP03_mri/Camera_1/Video_cut...\n",
      "Starting to analyze %  /mnt/sdb2/DeepDraw/Projects/20220802_DP03_mri/Camera_1/Video_cut/cut_31_cam_1_run_3.mp4\n",
      "Loading  /mnt/sdb2/DeepDraw/Projects/20220802_DP03_mri/Camera_1/Video_cut/cut_31_cam_1_run_3.mp4\n",
      "Duration of video [s]:  4.53 , recorded with  30.0 fps!\n",
      "Overall # of frames:  136  found with (before cropping) frame dimensions:  1920 1080\n",
      "Starting to extract posture\n"
     ]
    },
    {
     "name": "stderr",
     "output_type": "stream",
     "text": [
      " 96%|█████████▌| 130/136 [00:05<00:00, 23.36it/s]\n"
     ]
    },
    {
     "name": "stdout",
     "output_type": "stream",
     "text": [
      "Saving results in /mnt/sdb2/DeepDraw/Projects/20220802_DP03_mri/Camera_1/Video_cut...\n",
      "Starting to analyze %  /mnt/sdb2/DeepDraw/Projects/20220802_DP03_mri/Camera_1/Video_cut/cut_32_cam_1_run_3.mp4\n",
      "Loading  /mnt/sdb2/DeepDraw/Projects/20220802_DP03_mri/Camera_1/Video_cut/cut_32_cam_1_run_3.mp4\n",
      "Duration of video [s]:  4.53 , recorded with  30.0 fps!\n",
      "Overall # of frames:  136  found with (before cropping) frame dimensions:  1920 1080\n",
      "Starting to extract posture\n"
     ]
    },
    {
     "name": "stderr",
     "output_type": "stream",
     "text": [
      " 96%|█████████▌| 130/136 [00:10<00:00, 12.96it/s]\n"
     ]
    },
    {
     "name": "stdout",
     "output_type": "stream",
     "text": [
      "Saving results in /mnt/sdb2/DeepDraw/Projects/20220802_DP03_mri/Camera_1/Video_cut...\n",
      "Starting to analyze %  /mnt/sdb2/DeepDraw/Projects/20220802_DP03_mri/Camera_1/Video_cut/cut_33_cam_1_run_3.mp4\n",
      "Loading  /mnt/sdb2/DeepDraw/Projects/20220802_DP03_mri/Camera_1/Video_cut/cut_33_cam_1_run_3.mp4\n",
      "Duration of video [s]:  4.53 , recorded with  30.0 fps!\n",
      "Overall # of frames:  136  found with (before cropping) frame dimensions:  1920 1080\n",
      "Starting to extract posture\n"
     ]
    },
    {
     "name": "stderr",
     "output_type": "stream",
     "text": [
      " 96%|█████████▌| 130/136 [00:11<00:00, 11.01it/s]\n"
     ]
    },
    {
     "name": "stdout",
     "output_type": "stream",
     "text": [
      "Saving results in /mnt/sdb2/DeepDraw/Projects/20220802_DP03_mri/Camera_1/Video_cut...\n",
      "Starting to analyze %  /mnt/sdb2/DeepDraw/Projects/20220802_DP03_mri/Camera_1/Video_cut/cut_34_cam_1_run_3.mp4\n",
      "Loading  /mnt/sdb2/DeepDraw/Projects/20220802_DP03_mri/Camera_1/Video_cut/cut_34_cam_1_run_3.mp4\n",
      "Duration of video [s]:  4.53 , recorded with  30.0 fps!\n",
      "Overall # of frames:  136  found with (before cropping) frame dimensions:  1920 1080\n",
      "Starting to extract posture\n"
     ]
    },
    {
     "name": "stderr",
     "output_type": "stream",
     "text": [
      " 96%|█████████▌| 130/136 [00:09<00:00, 13.74it/s]\n"
     ]
    },
    {
     "name": "stdout",
     "output_type": "stream",
     "text": [
      "Saving results in /mnt/sdb2/DeepDraw/Projects/20220802_DP03_mri/Camera_1/Video_cut...\n",
      "Starting to analyze %  /mnt/sdb2/DeepDraw/Projects/20220802_DP03_mri/Camera_1/Video_cut/cut_35_cam_1_run_3.mp4\n",
      "Loading  /mnt/sdb2/DeepDraw/Projects/20220802_DP03_mri/Camera_1/Video_cut/cut_35_cam_1_run_3.mp4\n",
      "Duration of video [s]:  4.53 , recorded with  30.0 fps!\n",
      "Overall # of frames:  136  found with (before cropping) frame dimensions:  1920 1080\n",
      "Starting to extract posture\n"
     ]
    },
    {
     "name": "stderr",
     "output_type": "stream",
     "text": [
      " 96%|█████████▌| 130/136 [00:10<00:00, 12.53it/s]\n"
     ]
    },
    {
     "name": "stdout",
     "output_type": "stream",
     "text": [
      "Saving results in /mnt/sdb2/DeepDraw/Projects/20220802_DP03_mri/Camera_1/Video_cut...\n",
      "Starting to analyze %  /mnt/sdb2/DeepDraw/Projects/20220802_DP03_mri/Camera_1/Video_cut/cut_36_cam_1_run_3.mp4\n",
      "Loading  /mnt/sdb2/DeepDraw/Projects/20220802_DP03_mri/Camera_1/Video_cut/cut_36_cam_1_run_3.mp4\n",
      "Duration of video [s]:  4.53 , recorded with  30.0 fps!\n",
      "Overall # of frames:  136  found with (before cropping) frame dimensions:  1920 1080\n",
      "Starting to extract posture\n"
     ]
    },
    {
     "name": "stderr",
     "output_type": "stream",
     "text": [
      " 96%|█████████▌| 130/136 [00:08<00:00, 15.17it/s]\n"
     ]
    },
    {
     "name": "stdout",
     "output_type": "stream",
     "text": [
      "Saving results in /mnt/sdb2/DeepDraw/Projects/20220802_DP03_mri/Camera_1/Video_cut...\n",
      "Starting to analyze %  /mnt/sdb2/DeepDraw/Projects/20220802_DP03_mri/Camera_1/Video_cut/cut_37_cam_1_run_3.mp4\n",
      "Loading  /mnt/sdb2/DeepDraw/Projects/20220802_DP03_mri/Camera_1/Video_cut/cut_37_cam_1_run_3.mp4\n",
      "Duration of video [s]:  4.53 , recorded with  30.0 fps!\n",
      "Overall # of frames:  136  found with (before cropping) frame dimensions:  1920 1080\n",
      "Starting to extract posture\n"
     ]
    },
    {
     "name": "stderr",
     "output_type": "stream",
     "text": [
      " 96%|█████████▌| 130/136 [00:05<00:00, 22.97it/s]\n"
     ]
    },
    {
     "name": "stdout",
     "output_type": "stream",
     "text": [
      "Saving results in /mnt/sdb2/DeepDraw/Projects/20220802_DP03_mri/Camera_1/Video_cut...\n",
      "Starting to analyze %  /mnt/sdb2/DeepDraw/Projects/20220802_DP03_mri/Camera_1/Video_cut/cut_38_cam_1_run_3.mp4\n",
      "Loading  /mnt/sdb2/DeepDraw/Projects/20220802_DP03_mri/Camera_1/Video_cut/cut_38_cam_1_run_3.mp4\n",
      "Duration of video [s]:  4.53 , recorded with  30.0 fps!\n",
      "Overall # of frames:  136  found with (before cropping) frame dimensions:  1920 1080\n",
      "Starting to extract posture\n"
     ]
    },
    {
     "name": "stderr",
     "output_type": "stream",
     "text": [
      " 96%|█████████▌| 130/136 [00:05<00:00, 23.09it/s]"
     ]
    },
    {
     "name": "stdout",
     "output_type": "stream",
     "text": [
      "Saving results in /mnt/sdb2/DeepDraw/Projects/20220802_DP03_mri/Camera_1/Video_cut...\n",
      "The videos are analyzed. Now your research can truly start! \n",
      " You can create labeled videos with 'create_labeled_video'\n",
      "If the tracking is not satisfactory for some videos, consider expanding the training set. You can use the function 'extract_outlier_frames' to extract a few representative outlier frames.\n"
     ]
    },
    {
     "name": "stderr",
     "output_type": "stream",
     "text": [
      "\n"
     ]
    },
    {
     "data": {
      "text/plain": [
       "'DLC_resnet50_Laborless_demo_1Sep8shuffle1_100000'"
      ]
     },
     "execution_count": 3,
     "metadata": {},
     "output_type": "execute_result"
    }
   ],
   "source": [
    "videofile_path = os.listdir(video_path)\n",
    "videofile_path = [os.path.join(video_path, path) for path in videofile_path]\n",
    "deeplabcut.analyze_videos(path_config_file,videofile_path, videotype='.mp4', trainingsetindex = 0, gputouse = 1)"
   ]
  },
  {
   "cell_type": "code",
   "execution_count": 5,
   "id": "a681e6d4",
   "metadata": {},
   "outputs": [
    {
     "name": "stdout",
     "output_type": "stream",
     "text": [
      "Changing snapshotindext to the last one -- plotting, videomaking, etc. should not be performed for all indices. For more selectivity enter the ordinal number of the snapshot you want (ie. 4 for the fifth) in the config file.\n",
      "Starting to process video: /mnt/sdb2/DeepDraw/Projects/20220802_DP03_mri/Camera_1/Video_cut/cut_10_cam_1_run_1.mp4\n",
      "Loading /mnt/sdb2/DeepDraw/Projects/20220802_DP03_mri/Camera_1/Video_cut/cut_10_cam_1_run_1.mp4 and data.\n",
      "Duration of video [s]: 4.53, recorded with 30.0 fps!\n",
      "Overall # of frames: 136 with cropped frame dimensions: 1920 1080\n",
      "Generating frames and creating video.\n"
     ]
    },
    {
     "name": "stderr",
     "output_type": "stream",
     "text": [
      "100%|██████████| 136/136 [00:01<00:00, 79.57it/s]\n"
     ]
    }
   ],
   "source": [
    "deeplabcut.create_labeled_video(path_config_file,[videofile_path[10]])"
   ]
  },
  {
   "cell_type": "code",
   "execution_count": null,
   "id": "8c569304",
   "metadata": {},
   "outputs": [],
   "source": []
  }
 ],
 "metadata": {
  "kernelspec": {
   "display_name": "Python 3",
   "language": "python",
   "name": "python3"
  },
  "language_info": {
   "codemirror_mode": {
    "name": "ipython",
    "version": 3
   },
   "file_extension": ".py",
   "mimetype": "text/x-python",
   "name": "python",
   "nbconvert_exporter": "python",
   "pygments_lexer": "ipython3",
   "version": "3.10.6 (main, Aug 30 2022, 04:58:14) [Clang 13.1.6 (clang-1316.0.21.2.5)]"
  },
  "vscode": {
   "interpreter": {
    "hash": "b0fa6594d8f4cbf19f97940f81e996739fb7646882a419484c72d19e05852a7e"
   }
  }
 },
 "nbformat": 4,
 "nbformat_minor": 5
}
