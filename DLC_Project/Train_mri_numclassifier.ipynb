{
 "cells": [
  {
   "cell_type": "code",
   "execution_count": 95,
   "id": "21fcc8d3",
   "metadata": {},
   "outputs": [],
   "source": [
    "import numpy as np\n",
    "import os\n",
    "import PIL\n",
    "from PIL import Image\n",
    "import tensorflow as tf\n",
    "import matplotlib.pyplot as plt"
   ]
  },
  {
   "cell_type": "markdown",
   "id": "bfba55be",
   "metadata": {},
   "source": [
    "# Training"
   ]
  },
  {
   "cell_type": "code",
   "execution_count": 96,
   "id": "b4f7cf2e",
   "metadata": {},
   "outputs": [],
   "source": [
    "batch_size = 128\n",
    "img_height = 44\n",
    "img_width = 33"
   ]
  },
  {
   "cell_type": "code",
   "execution_count": 97,
   "id": "448a5e85",
   "metadata": {},
   "outputs": [],
   "source": [
    "data_dir = '/home/andy/Documents/Test_numbers'"
   ]
  },
  {
   "cell_type": "code",
   "execution_count": 98,
   "id": "20f8c9e6",
   "metadata": {},
   "outputs": [
    {
     "name": "stdout",
     "output_type": "stream",
     "text": [
      "Found 1961 files belonging to 10 classes.\n",
      "Using 1569 files for training.\n"
     ]
    }
   ],
   "source": [
    "train_ds = tf.keras.utils.image_dataset_from_directory(\n",
    "  data_dir,\n",
    "  validation_split=0.2,\n",
    "  subset=\"training\",\n",
    "  seed=123,\n",
    "  image_size=(img_height, img_width),\n",
    "  batch_size=batch_size)"
   ]
  },
  {
   "cell_type": "code",
   "execution_count": 99,
   "id": "5463f617",
   "metadata": {},
   "outputs": [
    {
     "name": "stdout",
     "output_type": "stream",
     "text": [
      "Found 1961 files belonging to 10 classes.\n",
      "Using 392 files for validation.\n"
     ]
    }
   ],
   "source": [
    "val_ds = tf.keras.utils.image_dataset_from_directory(\n",
    "  data_dir,\n",
    "  validation_split=0.2,\n",
    "  subset=\"validation\",\n",
    "  seed=123,\n",
    "  image_size=(img_height, img_width),\n",
    "  batch_size=batch_size)"
   ]
  },
  {
   "cell_type": "code",
   "execution_count": 100,
   "id": "25674527",
   "metadata": {},
   "outputs": [
    {
     "name": "stdout",
     "output_type": "stream",
     "text": [
      "['0', '1', '2', '3', '4', '5', '6', '7', '8', '9']\n"
     ]
    }
   ],
   "source": [
    "class_names = train_ds.class_names\n",
    "print(class_names)"
   ]
  },
  {
   "cell_type": "code",
   "execution_count": 101,
   "id": "642f4c67",
   "metadata": {},
   "outputs": [],
   "source": [
    "# normalization_layer = tf.keras.layers.Rescaling(1./255)\n",
    "# normalized_ds = train_ds.map(lambda x, y: (normalization_layer(x), y))\n",
    "# image_batch, labels_batch = next(iter(normalized_ds))"
   ]
  },
  {
   "cell_type": "code",
   "execution_count": 102,
   "id": "2b05182e",
   "metadata": {},
   "outputs": [],
   "source": [
    "AUTOTUNE = tf.data.AUTOTUNE\n",
    "\n",
    "train_ds = train_ds.cache().prefetch(buffer_size=AUTOTUNE)\n",
    "val_ds = val_ds.cache().prefetch(buffer_size=AUTOTUNE)"
   ]
  },
  {
   "cell_type": "code",
   "execution_count": 103,
   "id": "f6997721",
   "metadata": {},
   "outputs": [],
   "source": [
    "num_classes = 10\n",
    "def create_model():\n",
    "    model = tf.keras.Sequential([\n",
    "      tf.keras.layers.Rescaling(1./255),\n",
    "      tf.keras.layers.Conv2D(32, 3, activation='relu'),\n",
    "      tf.keras.layers.MaxPooling2D(),\n",
    "      tf.keras.layers.Conv2D(32, 3, activation='relu'),\n",
    "      tf.keras.layers.MaxPooling2D(),\n",
    "      tf.keras.layers.Conv2D(32, 3, activation='relu'),\n",
    "      tf.keras.layers.MaxPooling2D(),\n",
    "      tf.keras.layers.Flatten(),\n",
    "      tf.keras.layers.Dense(128, activation='relu'),\n",
    "      tf.keras.layers.Dense(num_classes)\n",
    "    ])\n",
    "    return model"
   ]
  },
  {
   "cell_type": "code",
   "execution_count": 104,
   "id": "b4580ec4",
   "metadata": {},
   "outputs": [],
   "source": [
    "model = create_model()\n",
    "model.compile(\n",
    "  optimizer='adam',\n",
    "  loss=tf.losses.SparseCategoricalCrossentropy(from_logits=True),\n",
    "  metrics=['accuracy'])"
   ]
  },
  {
   "cell_type": "code",
   "execution_count": 105,
   "id": "2001861d",
   "metadata": {
    "scrolled": true
   },
   "outputs": [
    {
     "name": "stdout",
     "output_type": "stream",
     "text": [
      "Epoch 1/100\n",
      "13/13 [==============================] - 0s 12ms/step - loss: 2.0803 - accuracy: 0.4493 - val_loss: 1.5853 - val_accuracy: 0.9413\n",
      "Epoch 2/100\n",
      "13/13 [==============================] - 0s 5ms/step - loss: 0.9386 - accuracy: 0.9446 - val_loss: 0.2770 - val_accuracy: 0.9643\n",
      "Epoch 3/100\n",
      "13/13 [==============================] - 0s 5ms/step - loss: 0.1973 - accuracy: 0.9611 - val_loss: 0.1283 - val_accuracy: 0.9566\n",
      "Epoch 4/100\n",
      "13/13 [==============================] - 0s 5ms/step - loss: 0.1401 - accuracy: 0.9637 - val_loss: 0.0987 - val_accuracy: 0.9694\n",
      "Epoch 5/100\n",
      "13/13 [==============================] - 0s 5ms/step - loss: 0.0950 - accuracy: 0.9726 - val_loss: 0.0685 - val_accuracy: 0.9847\n",
      "Epoch 6/100\n",
      "13/13 [==============================] - 0s 5ms/step - loss: 0.0623 - accuracy: 0.9809 - val_loss: 0.0472 - val_accuracy: 0.9949\n",
      "Epoch 7/100\n",
      "13/13 [==============================] - 0s 5ms/step - loss: 0.0409 - accuracy: 0.9917 - val_loss: 0.0296 - val_accuracy: 1.0000\n",
      "Epoch 8/100\n",
      "13/13 [==============================] - 0s 5ms/step - loss: 0.0274 - accuracy: 0.9955 - val_loss: 0.0200 - val_accuracy: 1.0000\n",
      "Epoch 9/100\n",
      "13/13 [==============================] - 0s 5ms/step - loss: 0.0153 - accuracy: 1.0000 - val_loss: 0.0155 - val_accuracy: 1.0000\n",
      "Epoch 10/100\n",
      "13/13 [==============================] - 0s 5ms/step - loss: 0.0095 - accuracy: 1.0000 - val_loss: 0.0082 - val_accuracy: 1.0000\n",
      "Epoch 11/100\n",
      "13/13 [==============================] - 0s 5ms/step - loss: 0.0062 - accuracy: 1.0000 - val_loss: 0.0061 - val_accuracy: 1.0000\n",
      "Epoch 12/100\n",
      "13/13 [==============================] - 0s 5ms/step - loss: 0.0041 - accuracy: 1.0000 - val_loss: 0.0043 - val_accuracy: 1.0000\n",
      "Epoch 13/100\n",
      "13/13 [==============================] - 0s 5ms/step - loss: 0.0031 - accuracy: 1.0000 - val_loss: 0.0032 - val_accuracy: 1.0000\n",
      "Epoch 14/100\n",
      "13/13 [==============================] - 0s 5ms/step - loss: 0.0024 - accuracy: 1.0000 - val_loss: 0.0027 - val_accuracy: 1.0000\n",
      "Epoch 15/100\n",
      "13/13 [==============================] - 0s 5ms/step - loss: 0.0018 - accuracy: 1.0000 - val_loss: 0.0021 - val_accuracy: 1.0000\n",
      "Epoch 16/100\n",
      "13/13 [==============================] - 0s 5ms/step - loss: 0.0015 - accuracy: 1.0000 - val_loss: 0.0018 - val_accuracy: 1.0000\n",
      "Epoch 17/100\n",
      "13/13 [==============================] - 0s 5ms/step - loss: 0.0013 - accuracy: 1.0000 - val_loss: 0.0015 - val_accuracy: 1.0000\n",
      "Epoch 18/100\n",
      "13/13 [==============================] - 0s 5ms/step - loss: 0.0011 - accuracy: 1.0000 - val_loss: 0.0013 - val_accuracy: 1.0000\n",
      "Epoch 19/100\n",
      "13/13 [==============================] - 0s 5ms/step - loss: 9.1952e-04 - accuracy: 1.0000 - val_loss: 0.0012 - val_accuracy: 1.0000\n",
      "Epoch 20/100\n",
      "13/13 [==============================] - 0s 5ms/step - loss: 8.0076e-04 - accuracy: 1.0000 - val_loss: 0.0010 - val_accuracy: 1.0000\n",
      "Epoch 21/100\n",
      "13/13 [==============================] - 0s 5ms/step - loss: 6.9988e-04 - accuracy: 1.0000 - val_loss: 8.9081e-04 - val_accuracy: 1.0000\n",
      "Epoch 22/100\n",
      "13/13 [==============================] - 0s 5ms/step - loss: 6.2139e-04 - accuracy: 1.0000 - val_loss: 7.9649e-04 - val_accuracy: 1.0000\n",
      "Epoch 23/100\n",
      "13/13 [==============================] - 0s 5ms/step - loss: 5.5323e-04 - accuracy: 1.0000 - val_loss: 7.2261e-04 - val_accuracy: 1.0000\n",
      "Epoch 24/100\n",
      "13/13 [==============================] - 0s 5ms/step - loss: 4.9575e-04 - accuracy: 1.0000 - val_loss: 6.5248e-04 - val_accuracy: 1.0000\n",
      "Epoch 25/100\n",
      "13/13 [==============================] - 0s 5ms/step - loss: 4.4673e-04 - accuracy: 1.0000 - val_loss: 5.9578e-04 - val_accuracy: 1.0000\n",
      "Epoch 26/100\n",
      "13/13 [==============================] - 0s 5ms/step - loss: 4.0532e-04 - accuracy: 1.0000 - val_loss: 5.4582e-04 - val_accuracy: 1.0000\n",
      "Epoch 27/100\n",
      "13/13 [==============================] - 0s 5ms/step - loss: 3.6820e-04 - accuracy: 1.0000 - val_loss: 4.9913e-04 - val_accuracy: 1.0000\n",
      "Epoch 28/100\n",
      "13/13 [==============================] - 0s 5ms/step - loss: 3.3651e-04 - accuracy: 1.0000 - val_loss: 4.5902e-04 - val_accuracy: 1.0000\n",
      "Epoch 29/100\n",
      "13/13 [==============================] - 0s 5ms/step - loss: 3.0844e-04 - accuracy: 1.0000 - val_loss: 4.2215e-04 - val_accuracy: 1.0000\n",
      "Epoch 30/100\n",
      "13/13 [==============================] - 0s 5ms/step - loss: 2.8358e-04 - accuracy: 1.0000 - val_loss: 3.9012e-04 - val_accuracy: 1.0000\n",
      "Epoch 31/100\n",
      "13/13 [==============================] - 0s 5ms/step - loss: 2.6152e-04 - accuracy: 1.0000 - val_loss: 3.6309e-04 - val_accuracy: 1.0000\n",
      "Epoch 32/100\n",
      "13/13 [==============================] - 0s 5ms/step - loss: 2.4184e-04 - accuracy: 1.0000 - val_loss: 3.3767e-04 - val_accuracy: 1.0000\n",
      "Epoch 33/100\n",
      "13/13 [==============================] - 0s 5ms/step - loss: 2.2435e-04 - accuracy: 1.0000 - val_loss: 3.1477e-04 - val_accuracy: 1.0000\n",
      "Epoch 34/100\n",
      "13/13 [==============================] - 0s 5ms/step - loss: 2.0850e-04 - accuracy: 1.0000 - val_loss: 2.9295e-04 - val_accuracy: 1.0000\n",
      "Epoch 35/100\n",
      "13/13 [==============================] - 0s 5ms/step - loss: 1.9409e-04 - accuracy: 1.0000 - val_loss: 2.7368e-04 - val_accuracy: 1.0000\n",
      "Epoch 36/100\n",
      "13/13 [==============================] - 0s 5ms/step - loss: 1.8110e-04 - accuracy: 1.0000 - val_loss: 2.5698e-04 - val_accuracy: 1.0000\n",
      "Epoch 37/100\n",
      "13/13 [==============================] - 0s 5ms/step - loss: 1.6944e-04 - accuracy: 1.0000 - val_loss: 2.4113e-04 - val_accuracy: 1.0000\n",
      "Epoch 38/100\n",
      "13/13 [==============================] - 0s 5ms/step - loss: 1.5868e-04 - accuracy: 1.0000 - val_loss: 2.2690e-04 - val_accuracy: 1.0000\n",
      "Epoch 39/100\n",
      "13/13 [==============================] - 0s 5ms/step - loss: 1.4902e-04 - accuracy: 1.0000 - val_loss: 2.1402e-04 - val_accuracy: 1.0000\n",
      "Epoch 40/100\n",
      "13/13 [==============================] - 0s 5ms/step - loss: 1.4010e-04 - accuracy: 1.0000 - val_loss: 2.0224e-04 - val_accuracy: 1.0000\n",
      "Epoch 41/100\n",
      "13/13 [==============================] - 0s 5ms/step - loss: 1.3207e-04 - accuracy: 1.0000 - val_loss: 1.9128e-04 - val_accuracy: 1.0000\n",
      "Epoch 42/100\n",
      "13/13 [==============================] - 0s 5ms/step - loss: 1.2457e-04 - accuracy: 1.0000 - val_loss: 1.8145e-04 - val_accuracy: 1.0000\n",
      "Epoch 43/100\n",
      "13/13 [==============================] - 0s 5ms/step - loss: 1.1767e-04 - accuracy: 1.0000 - val_loss: 1.7230e-04 - val_accuracy: 1.0000\n",
      "Epoch 44/100\n",
      "13/13 [==============================] - 0s 5ms/step - loss: 1.1143e-04 - accuracy: 1.0000 - val_loss: 1.6388e-04 - val_accuracy: 1.0000\n",
      "Epoch 45/100\n",
      "13/13 [==============================] - 0s 5ms/step - loss: 1.0558e-04 - accuracy: 1.0000 - val_loss: 1.5608e-04 - val_accuracy: 1.0000\n",
      "Epoch 46/100\n",
      "13/13 [==============================] - 0s 5ms/step - loss: 1.0028e-04 - accuracy: 1.0000 - val_loss: 1.4883e-04 - val_accuracy: 1.0000\n",
      "Epoch 47/100\n",
      "13/13 [==============================] - 0s 5ms/step - loss: 9.5249e-05 - accuracy: 1.0000 - val_loss: 1.4212e-04 - val_accuracy: 1.0000\n",
      "Epoch 48/100\n",
      "13/13 [==============================] - 0s 5ms/step - loss: 9.0615e-05 - accuracy: 1.0000 - val_loss: 1.3564e-04 - val_accuracy: 1.0000\n",
      "Epoch 49/100\n",
      "13/13 [==============================] - 0s 5ms/step - loss: 8.6249e-05 - accuracy: 1.0000 - val_loss: 1.2965e-04 - val_accuracy: 1.0000\n",
      "Epoch 50/100\n",
      "13/13 [==============================] - 0s 5ms/step - loss: 8.2134e-05 - accuracy: 1.0000 - val_loss: 1.2436e-04 - val_accuracy: 1.0000\n",
      "Epoch 51/100\n",
      "13/13 [==============================] - 0s 5ms/step - loss: 7.8193e-05 - accuracy: 1.0000 - val_loss: 1.1920e-04 - val_accuracy: 1.0000\n",
      "Epoch 52/100\n",
      "13/13 [==============================] - 0s 5ms/step - loss: 7.4620e-05 - accuracy: 1.0000 - val_loss: 1.1404e-04 - val_accuracy: 1.0000\n",
      "Epoch 53/100\n",
      "13/13 [==============================] - 0s 5ms/step - loss: 7.1357e-05 - accuracy: 1.0000 - val_loss: 1.0938e-04 - val_accuracy: 1.0000\n",
      "Epoch 54/100\n",
      "13/13 [==============================] - 0s 5ms/step - loss: 6.8204e-05 - accuracy: 1.0000 - val_loss: 1.0469e-04 - val_accuracy: 1.0000\n",
      "Epoch 55/100\n",
      "13/13 [==============================] - 0s 5ms/step - loss: 6.5324e-05 - accuracy: 1.0000 - val_loss: 1.0055e-04 - val_accuracy: 1.0000\n",
      "Epoch 56/100\n",
      "13/13 [==============================] - 0s 5ms/step - loss: 6.2609e-05 - accuracy: 1.0000 - val_loss: 9.6819e-05 - val_accuracy: 1.0000\n"
     ]
    },
    {
     "name": "stdout",
     "output_type": "stream",
     "text": [
      "Epoch 57/100\n",
      "13/13 [==============================] - 0s 5ms/step - loss: 6.0033e-05 - accuracy: 1.0000 - val_loss: 9.3188e-05 - val_accuracy: 1.0000\n",
      "Epoch 58/100\n",
      "13/13 [==============================] - 0s 5ms/step - loss: 5.7674e-05 - accuracy: 1.0000 - val_loss: 8.9792e-05 - val_accuracy: 1.0000\n",
      "Epoch 59/100\n",
      "13/13 [==============================] - 0s 5ms/step - loss: 5.5410e-05 - accuracy: 1.0000 - val_loss: 8.6619e-05 - val_accuracy: 1.0000\n",
      "Epoch 60/100\n",
      "13/13 [==============================] - 0s 5ms/step - loss: 5.3266e-05 - accuracy: 1.0000 - val_loss: 8.3371e-05 - val_accuracy: 1.0000\n",
      "Epoch 61/100\n",
      "13/13 [==============================] - 0s 5ms/step - loss: 5.1281e-05 - accuracy: 1.0000 - val_loss: 8.0542e-05 - val_accuracy: 1.0000\n",
      "Epoch 62/100\n",
      "13/13 [==============================] - 0s 5ms/step - loss: 4.9319e-05 - accuracy: 1.0000 - val_loss: 7.7854e-05 - val_accuracy: 1.0000\n",
      "Epoch 63/100\n",
      "13/13 [==============================] - 0s 5ms/step - loss: 4.7561e-05 - accuracy: 1.0000 - val_loss: 7.5264e-05 - val_accuracy: 1.0000\n",
      "Epoch 64/100\n",
      "13/13 [==============================] - 0s 5ms/step - loss: 4.5777e-05 - accuracy: 1.0000 - val_loss: 7.2507e-05 - val_accuracy: 1.0000\n",
      "Epoch 65/100\n",
      "13/13 [==============================] - 0s 5ms/step - loss: 4.4200e-05 - accuracy: 1.0000 - val_loss: 7.0217e-05 - val_accuracy: 1.0000\n",
      "Epoch 66/100\n",
      "13/13 [==============================] - 0s 5ms/step - loss: 4.2616e-05 - accuracy: 1.0000 - val_loss: 6.8007e-05 - val_accuracy: 1.0000\n",
      "Epoch 67/100\n",
      "13/13 [==============================] - 0s 5ms/step - loss: 4.1121e-05 - accuracy: 1.0000 - val_loss: 6.5669e-05 - val_accuracy: 1.0000\n",
      "Epoch 68/100\n",
      "13/13 [==============================] - 0s 5ms/step - loss: 3.9734e-05 - accuracy: 1.0000 - val_loss: 6.3650e-05 - val_accuracy: 1.0000\n",
      "Epoch 69/100\n",
      "13/13 [==============================] - 0s 5ms/step - loss: 3.8393e-05 - accuracy: 1.0000 - val_loss: 6.1679e-05 - val_accuracy: 1.0000\n",
      "Epoch 70/100\n",
      "13/13 [==============================] - 0s 5ms/step - loss: 3.7103e-05 - accuracy: 1.0000 - val_loss: 5.9755e-05 - val_accuracy: 1.0000\n",
      "Epoch 71/100\n",
      "13/13 [==============================] - 0s 5ms/step - loss: 3.5891e-05 - accuracy: 1.0000 - val_loss: 5.7923e-05 - val_accuracy: 1.0000\n",
      "Epoch 72/100\n",
      "13/13 [==============================] - 0s 5ms/step - loss: 3.4703e-05 - accuracy: 1.0000 - val_loss: 5.6203e-05 - val_accuracy: 1.0000\n",
      "Epoch 73/100\n",
      "13/13 [==============================] - 0s 5ms/step - loss: 3.3604e-05 - accuracy: 1.0000 - val_loss: 5.4585e-05 - val_accuracy: 1.0000\n",
      "Epoch 74/100\n",
      "13/13 [==============================] - 0s 5ms/step - loss: 3.2543e-05 - accuracy: 1.0000 - val_loss: 5.2883e-05 - val_accuracy: 1.0000\n",
      "Epoch 75/100\n",
      "13/13 [==============================] - 0s 5ms/step - loss: 3.1524e-05 - accuracy: 1.0000 - val_loss: 5.1323e-05 - val_accuracy: 1.0000\n",
      "Epoch 76/100\n",
      "13/13 [==============================] - 0s 5ms/step - loss: 3.0566e-05 - accuracy: 1.0000 - val_loss: 4.9907e-05 - val_accuracy: 1.0000\n",
      "Epoch 77/100\n",
      "13/13 [==============================] - 0s 5ms/step - loss: 2.9598e-05 - accuracy: 1.0000 - val_loss: 4.8471e-05 - val_accuracy: 1.0000\n",
      "Epoch 78/100\n",
      "13/13 [==============================] - 0s 5ms/step - loss: 2.8701e-05 - accuracy: 1.0000 - val_loss: 4.7081e-05 - val_accuracy: 1.0000\n",
      "Epoch 79/100\n",
      "13/13 [==============================] - 0s 5ms/step - loss: 2.7843e-05 - accuracy: 1.0000 - val_loss: 4.5810e-05 - val_accuracy: 1.0000\n",
      "Epoch 80/100\n",
      "13/13 [==============================] - 0s 5ms/step - loss: 2.7044e-05 - accuracy: 1.0000 - val_loss: 4.4512e-05 - val_accuracy: 1.0000\n",
      "Epoch 81/100\n",
      "13/13 [==============================] - 0s 5ms/step - loss: 2.6243e-05 - accuracy: 1.0000 - val_loss: 4.3229e-05 - val_accuracy: 1.0000\n",
      "Epoch 82/100\n",
      "13/13 [==============================] - 0s 5ms/step - loss: 2.5484e-05 - accuracy: 1.0000 - val_loss: 4.2079e-05 - val_accuracy: 1.0000\n",
      "Epoch 83/100\n",
      "13/13 [==============================] - 0s 5ms/step - loss: 2.4754e-05 - accuracy: 1.0000 - val_loss: 4.0951e-05 - val_accuracy: 1.0000\n",
      "Epoch 84/100\n",
      "13/13 [==============================] - 0s 5ms/step - loss: 2.4068e-05 - accuracy: 1.0000 - val_loss: 3.9895e-05 - val_accuracy: 1.0000\n",
      "Epoch 85/100\n",
      "13/13 [==============================] - 0s 5ms/step - loss: 2.3396e-05 - accuracy: 1.0000 - val_loss: 3.8800e-05 - val_accuracy: 1.0000\n",
      "Epoch 86/100\n",
      "13/13 [==============================] - 0s 5ms/step - loss: 2.2733e-05 - accuracy: 1.0000 - val_loss: 3.7848e-05 - val_accuracy: 1.0000\n",
      "Epoch 87/100\n",
      "13/13 [==============================] - 0s 5ms/step - loss: 2.2135e-05 - accuracy: 1.0000 - val_loss: 3.6895e-05 - val_accuracy: 1.0000\n",
      "Epoch 88/100\n",
      "13/13 [==============================] - 0s 5ms/step - loss: 2.1538e-05 - accuracy: 1.0000 - val_loss: 3.5935e-05 - val_accuracy: 1.0000\n",
      "Epoch 89/100\n",
      "13/13 [==============================] - 0s 5ms/step - loss: 2.0961e-05 - accuracy: 1.0000 - val_loss: 3.5091e-05 - val_accuracy: 1.0000\n",
      "Epoch 90/100\n",
      "13/13 [==============================] - 0s 5ms/step - loss: 2.0417e-05 - accuracy: 1.0000 - val_loss: 3.4178e-05 - val_accuracy: 1.0000\n",
      "Epoch 91/100\n",
      "13/13 [==============================] - 0s 5ms/step - loss: 1.9889e-05 - accuracy: 1.0000 - val_loss: 3.3322e-05 - val_accuracy: 1.0000\n",
      "Epoch 92/100\n",
      "13/13 [==============================] - 0s 5ms/step - loss: 1.9373e-05 - accuracy: 1.0000 - val_loss: 3.2521e-05 - val_accuracy: 1.0000\n",
      "Epoch 93/100\n",
      "13/13 [==============================] - 0s 5ms/step - loss: 1.8864e-05 - accuracy: 1.0000 - val_loss: 3.1764e-05 - val_accuracy: 1.0000\n",
      "Epoch 94/100\n",
      "13/13 [==============================] - 0s 6ms/step - loss: 1.8378e-05 - accuracy: 1.0000 - val_loss: 3.1004e-05 - val_accuracy: 1.0000\n",
      "Epoch 95/100\n",
      "13/13 [==============================] - 0s 5ms/step - loss: 1.7923e-05 - accuracy: 1.0000 - val_loss: 3.0302e-05 - val_accuracy: 1.0000\n",
      "Epoch 96/100\n",
      "13/13 [==============================] - 0s 5ms/step - loss: 1.7478e-05 - accuracy: 1.0000 - val_loss: 2.9574e-05 - val_accuracy: 1.0000\n",
      "Epoch 97/100\n",
      "13/13 [==============================] - 0s 5ms/step - loss: 1.7045e-05 - accuracy: 1.0000 - val_loss: 2.8952e-05 - val_accuracy: 1.0000\n",
      "Epoch 98/100\n",
      "13/13 [==============================] - 0s 5ms/step - loss: 1.6641e-05 - accuracy: 1.0000 - val_loss: 2.8267e-05 - val_accuracy: 1.0000\n",
      "Epoch 99/100\n",
      "13/13 [==============================] - 0s 5ms/step - loss: 1.6231e-05 - accuracy: 1.0000 - val_loss: 2.7563e-05 - val_accuracy: 1.0000\n",
      "Epoch 100/100\n",
      "13/13 [==============================] - 0s 5ms/step - loss: 1.5629e-05 - accuracy: 1.0000 - val_loss: 2.5780e-05 - val_accuracy: 1.0000\n"
     ]
    },
    {
     "data": {
      "text/plain": [
       "<keras.callbacks.History at 0x7f701841ca00>"
      ]
     },
     "execution_count": 105,
     "metadata": {},
     "output_type": "execute_result"
    }
   ],
   "source": [
    "model.fit(\n",
    "  train_ds,\n",
    "  validation_data=val_ds,\n",
    "  epochs=100\n",
    ")"
   ]
  },
  {
   "cell_type": "code",
   "execution_count": 106,
   "id": "a5664bfb",
   "metadata": {},
   "outputs": [],
   "source": [
    "path_to_numbers = '/home/andy/Documents/Test_numbers_NOLABEL'\n",
    "import shutil\n",
    "\n",
    "for i in range(5000, 5099):\n",
    "    filename = os.path.join(path_to_numbers,'frame_{}_label_NO_LABEL.png'.format(i))\n",
    "    img = Image.open(filename)\n",
    "    image_array = np.asarray(img)\n",
    "    a = model.predict(np.expand_dims(image_array, axis=0))\n",
    "    val = np.argmax(a)\n",
    "    shutil.copyfile(filename, os.path.join(path_to_numbers,'results', 'frame_{}_label_{}.png'.format(i,val)))"
   ]
  },
  {
   "cell_type": "code",
   "execution_count": 107,
   "id": "b0d37d95",
   "metadata": {},
   "outputs": [],
   "source": [
    "model.save_weights('pretrained_num_classification')"
   ]
  },
  {
   "cell_type": "code",
   "execution_count": 117,
   "id": "73af6913",
   "metadata": {},
   "outputs": [
    {
     "name": "stderr",
     "output_type": "stream",
     "text": [
      "2022-07-11 16:12:27.820650: W tensorflow/python/util/util.cc:368] Sets are not currently considered sequences, but this may change in the future, so consider avoiding using them.\n"
     ]
    },
    {
     "name": "stdout",
     "output_type": "stream",
     "text": [
      "INFO:tensorflow:Assets written to: pretrained_model/assets\n"
     ]
    }
   ],
   "source": [
    "model.save('pretrained_model')"
   ]
  },
  {
   "cell_type": "code",
   "execution_count": 116,
   "id": "d261a07f",
   "metadata": {},
   "outputs": [
    {
     "name": "stdout",
     "output_type": "stream",
     "text": [
      "WARNING:tensorflow:Detecting that an object or model or tf.train.Checkpoint is being deleted with unrestored values. See the following logs for the specific values in question. To silence these warnings, use `status.expect_partial()`. See https://www.tensorflow.org/api_docs/python/tf/train/Checkpoint#restorefor details about the status object returned by the restore function.\n",
      "WARNING:tensorflow:Value in checkpoint could not be found in the restored object: (root).optimizer.iter\n",
      "WARNING:tensorflow:Value in checkpoint could not be found in the restored object: (root).optimizer.beta_1\n",
      "WARNING:tensorflow:Value in checkpoint could not be found in the restored object: (root).optimizer.beta_2\n",
      "WARNING:tensorflow:Value in checkpoint could not be found in the restored object: (root).optimizer.decay\n",
      "WARNING:tensorflow:Value in checkpoint could not be found in the restored object: (root).optimizer.learning_rate\n",
      "WARNING:tensorflow:Value in checkpoint could not be found in the restored object: (root).optimizer's state 'm' for (root).layer_with_weights-0.kernel\n",
      "WARNING:tensorflow:Value in checkpoint could not be found in the restored object: (root).optimizer's state 'm' for (root).layer_with_weights-0.bias\n",
      "WARNING:tensorflow:Value in checkpoint could not be found in the restored object: (root).optimizer's state 'm' for (root).layer_with_weights-1.kernel\n",
      "WARNING:tensorflow:Value in checkpoint could not be found in the restored object: (root).optimizer's state 'm' for (root).layer_with_weights-1.bias\n",
      "WARNING:tensorflow:Value in checkpoint could not be found in the restored object: (root).optimizer's state 'm' for (root).layer_with_weights-2.kernel\n",
      "WARNING:tensorflow:Value in checkpoint could not be found in the restored object: (root).optimizer's state 'm' for (root).layer_with_weights-2.bias\n",
      "WARNING:tensorflow:Value in checkpoint could not be found in the restored object: (root).optimizer's state 'm' for (root).layer_with_weights-3.kernel\n",
      "WARNING:tensorflow:Value in checkpoint could not be found in the restored object: (root).optimizer's state 'm' for (root).layer_with_weights-3.bias\n",
      "WARNING:tensorflow:Value in checkpoint could not be found in the restored object: (root).optimizer's state 'm' for (root).layer_with_weights-4.kernel\n",
      "WARNING:tensorflow:Value in checkpoint could not be found in the restored object: (root).optimizer's state 'm' for (root).layer_with_weights-4.bias\n",
      "WARNING:tensorflow:Value in checkpoint could not be found in the restored object: (root).optimizer's state 'v' for (root).layer_with_weights-0.kernel\n",
      "WARNING:tensorflow:Value in checkpoint could not be found in the restored object: (root).optimizer's state 'v' for (root).layer_with_weights-0.bias\n",
      "WARNING:tensorflow:Value in checkpoint could not be found in the restored object: (root).optimizer's state 'v' for (root).layer_with_weights-1.kernel\n",
      "WARNING:tensorflow:Value in checkpoint could not be found in the restored object: (root).optimizer's state 'v' for (root).layer_with_weights-1.bias\n",
      "WARNING:tensorflow:Value in checkpoint could not be found in the restored object: (root).optimizer's state 'v' for (root).layer_with_weights-2.kernel\n",
      "WARNING:tensorflow:Value in checkpoint could not be found in the restored object: (root).optimizer's state 'v' for (root).layer_with_weights-2.bias\n",
      "WARNING:tensorflow:Value in checkpoint could not be found in the restored object: (root).optimizer's state 'v' for (root).layer_with_weights-3.kernel\n",
      "WARNING:tensorflow:Value in checkpoint could not be found in the restored object: (root).optimizer's state 'v' for (root).layer_with_weights-3.bias\n",
      "WARNING:tensorflow:Value in checkpoint could not be found in the restored object: (root).optimizer's state 'v' for (root).layer_with_weights-4.kernel\n",
      "WARNING:tensorflow:Value in checkpoint could not be found in the restored object: (root).optimizer's state 'v' for (root).layer_with_weights-4.bias\n",
      "7\n"
     ]
    }
   ],
   "source": [
    "load_model = create_model()\n",
    "load_model.load_weights('pretrained_num_classification')\n",
    "\n",
    "path_to_numbers = '/home/andy/Documents/Test_numbers_NOLABEL'\n",
    "\n",
    "filename = os.path.join(path_to_numbers,'frame_5035_label_NO_LABEL.png')\n",
    "img = Image.open(filename)\n",
    "image_array = np.asarray(img)\n",
    "\n",
    "a = load_model.predict(np.expand_dims(image_array, axis=0))\n",
    "val = np.argmax(a)\n",
    "print(val)\n",
    "# shutil.copyfile(filename, os.path.join(path_to_numbers,'results', 'frame_{}_label_{}.png'.format(i,val)))\n"
   ]
  },
  {
   "cell_type": "code",
   "execution_count": null,
   "id": "fe99fbac",
   "metadata": {},
   "outputs": [],
   "source": []
  },
  {
   "cell_type": "code",
   "execution_count": null,
   "id": "66d5ebb3",
   "metadata": {},
   "outputs": [],
   "source": []
  }
 ],
 "metadata": {
  "kernelspec": {
   "display_name": "Python 3",
   "language": "python",
   "name": "python3"
  },
  "language_info": {
   "codemirror_mode": {
    "name": "ipython",
    "version": 3
   },
   "file_extension": ".py",
   "mimetype": "text/x-python",
   "name": "python",
   "nbconvert_exporter": "python",
   "pygments_lexer": "ipython3",
   "version": "3.10.6 (main, Aug 30 2022, 04:58:14) [Clang 13.1.6 (clang-1316.0.21.2.5)]"
  },
  "vscode": {
   "interpreter": {
    "hash": "b0fa6594d8f4cbf19f97940f81e996739fb7646882a419484c72d19e05852a7e"
   }
  }
 },
 "nbformat": 4,
 "nbformat_minor": 5
}
