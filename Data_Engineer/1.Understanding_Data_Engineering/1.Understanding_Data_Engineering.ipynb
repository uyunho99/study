{
 "cells": [
  {
   "cell_type": "markdown",
   "metadata": {},
   "source": [
    "# 1. Understanding Data Engineering"
   ]
  },
  {
   "cell_type": "markdown",
   "metadata": {},
   "source": [
    "## What is data engineering?"
   ]
  },
  {
   "cell_type": "markdown",
   "metadata": {},
   "source": [
    "### Go with the flow"
   ]
  },
  {
   "cell_type": "markdown",
   "metadata": {},
   "source": [
    "Experimentation and prediction\n",
    "\n",
    "-> Data preparation\n",
    "\n",
    "-> Data collection and storage\n",
    "\n",
    "-> Exploration and visualization\n"
   ]
  },
  {
   "cell_type": "markdown",
   "metadata": {},
   "source": [
    "### Data engineers vs. Data scientists"
   ]
  },
  {
   "cell_type": "markdown",
   "metadata": {},
   "source": [
    "Data engineer\n",
    "\n",
    "> Ingest and store data\n",
    "\n",
    "> Set up databases\n",
    "\n",
    "> Build data pipelines\n",
    "\n",
    "> Strong software skills\n",
    "\n",
    "Data scients\n",
    "\n",
    "> Exploit data\n",
    "\n",
    "> Access databases\n",
    "\n",
    "> Use pipeline outputs\n",
    "\n",
    "> Strong analytical skills"
   ]
  },
  {
   "cell_type": "markdown",
   "metadata": {},
   "source": [
    "## Storing data"
   ]
  },
  {
   "cell_type": "markdown",
   "metadata": {},
   "source": []
  }
 ],
 "metadata": {
  "language_info": {
   "name": "python"
  },
  "orig_nbformat": 4
 },
 "nbformat": 4,
 "nbformat_minor": 2
}
