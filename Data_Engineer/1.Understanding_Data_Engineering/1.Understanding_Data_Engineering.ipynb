{
 "cells": [
  {
   "cell_type": "markdown",
   "metadata": {},
   "source": [
    "# 1. Understanding Data Engineering"
   ]
  },
  {
   "cell_type": "markdown",
   "metadata": {},
   "source": [
    "## What is data engineering?"
   ]
  },
  {
   "cell_type": "markdown",
   "metadata": {},
   "source": [
    "### Go with the flow"
   ]
  },
  {
   "cell_type": "markdown",
   "metadata": {},
   "source": [
    "Experimentation and prediction\n",
    "\n",
    "-> Data preparation\n",
    "\n",
    "-> Data collection and storage\n",
    "\n",
    "-> Exploration and visualization\n"
   ]
  },
  {
   "cell_type": "markdown",
   "metadata": {},
   "source": [
    "### Data engineers vs. Data scientists"
   ]
  },
  {
   "cell_type": "markdown",
   "metadata": {},
   "source": [
    "Data engineer\n",
    "\n",
    "> Ingest and store data\n",
    "\n",
    "> Set up databases\n",
    "\n",
    "> Build data pipelines\n",
    "\n",
    "> Strong software skills\n",
    "\n",
    "Data scients\n",
    "\n",
    "> Exploit data\n",
    "\n",
    "> Access databases\n",
    "\n",
    "> Use pipeline outputs\n",
    "\n",
    "> Strong analytical skills"
   ]
  },
  {
   "cell_type": "markdown",
   "metadata": {},
   "source": [
    "## Storing data"
   ]
  },
  {
   "cell_type": "markdown",
   "metadata": {},
   "source": [
    "SQL : Structured Query Language\n",
    "\n",
    "Data engineers use SQL to create and maintain databases\n",
    "\n",
    "Data scientists use SQL to query databases"
   ]
  },
  {
   "cell_type": "markdown",
   "metadata": {},
   "source": [
    "## Moving and processing data"
   ]
  }
 ],
 "metadata": {
  "kernelspec": {
   "display_name": "Python 3.10.4 64-bit",
   "language": "python",
   "name": "python3"
  },
  "language_info": {
   "name": "python",
   "version": "3.10.4"
  },
  "orig_nbformat": 4,
  "vscode": {
   "interpreter": {
    "hash": "aee8b7b246df8f9039afb4144a1f6fd8d2ca17a180786b69acc140d282b71a49"
   }
  }
 },
 "nbformat": 4,
 "nbformat_minor": 2
}
