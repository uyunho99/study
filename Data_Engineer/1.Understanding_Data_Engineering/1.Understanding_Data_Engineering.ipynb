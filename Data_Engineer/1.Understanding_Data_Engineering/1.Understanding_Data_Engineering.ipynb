{
 "cells": [
  {
   "cell_type": "markdown",
   "metadata": {},
   "source": [
    "# 1. Understanding Data Engineering"
   ]
  },
  {
   "cell_type": "markdown",
   "metadata": {},
   "source": [
    "## 1. What is data engineering?"
   ]
  },
  {
   "cell_type": "markdown",
   "metadata": {},
   "source": [
    "### Go with the flow\n",
    "\n",
    "Experimentation and prediction\n",
    "\n",
    "Data preparation\n",
    "-> Data collection and storage\n",
    "-> Exploration and visualization"
   ]
  },
  {
   "cell_type": "markdown",
   "metadata": {},
   "source": [
    "### Data engineers vs. Data scientists\n",
    "\n",
    "#### Data engineer\n",
    "- Ingest and store data\n",
    "- Set up databases\n",
    "- Build data pipelines\n",
    "- Strong software skills\n",
    "\n",
    "#### Data scients\n",
    "- Exploit data\n",
    "- Access databases\n",
    "- Use pipeline outputs\n",
    "- Strong analytical skills"
   ]
  },
  {
   "cell_type": "markdown",
   "metadata": {},
   "source": [
    "### ETL and data pipelines\n",
    "\n",
    "#### ETL\n",
    "\n",
    "Popular framework for designing data pipelines\n",
    "\n",
    "1) Extract data\n",
    "2) Transform extracted data\n",
    "3) Load transformed data to another database\n",
    "\n",
    "#### Pipelines\n",
    "- Move data from one system to another\n",
    "- May follow ETL\n",
    "- Data may not be transformed\n",
    "- Data may be directly loaded in applications"
   ]
  },
  {
   "cell_type": "markdown",
   "metadata": {},
   "source": [
    "## 2. Storing data"
   ]
  },
  {
   "cell_type": "markdown",
   "metadata": {},
   "source": [
    "### Case of datasets\n",
    "\n",
    "#### Structured data\n",
    "- Easy to search and organize\n",
    "- Consistent model, rows and columns\n",
    "- Defined types\n",
    "- Can be grouped to form relations\n",
    "- Stored in relational databases\n",
    "- About 20% of the data is structured\n",
    "- Created and queried using SQL\n",
    "\n",
    "#### Semi-structured data\n",
    "- Relatively easy to search and organize\n",
    "- Consistent model, less-rigid implementation; different observations have different sizes\n",
    "- Different types\n",
    "- Can be grouped, but needs more work\n",
    "- NoSQL databases: JSON, XML, YAML\n",
    "\n",
    "#### Unstructured data\n",
    "- Does not follow a model, can't be contained in rows and columns\n",
    "- Difficult to search and organize\n",
    "- Usually text, sound, pictures or videos\n",
    "- Usually stored in data lakes, can appear in data warehouses or databases\n",
    "- Most of the data is unstructured\n",
    "- Can be extremely valuable"
   ]
  },
  {
   "cell_type": "markdown",
   "metadata": {},
   "source": [
    "### SQL\n",
    "\n",
    "#### SQL : Structured Query Language\n",
    "\n",
    "- Data engineers use SQL to create and maintain databases\n",
    "- Data scientists use SQL to query databases"
   ]
  },
  {
   "cell_type": "markdown",
   "metadata": {},
   "source": [
    "### Data lake, warehouse\n",
    "\n",
    "#### Data lake\n",
    "- Stores all the row data\n",
    "- Can be petabytes(1 million GBs)\n",
    "- Cost-effective\n",
    "- Difficult to analyze\n",
    "- Requires an up-to-date data catalog\n",
    "- Used by data scientists\n",
    "- Big data, real-time analytics\n",
    "\n",
    "#### Data warehouse\n",
    "- Specific data for specifie use\n",
    "- Relatively small\n",
    "- Stores mainly structured data\n",
    "- More costly to update\n",
    "- Optimized for data analysis\n",
    "- Also used by data analysts and business analysts\n",
    "- Ad-hoc, read-only queries"
   ]
  },
  {
   "cell_type": "markdown",
   "metadata": {},
   "source": [
    "## 3. Moving and processing data"
   ]
  },
  {
   "cell_type": "markdown",
   "metadata": {},
   "source": [
    "### Data processing value\n",
    "\n",
    "- Remove unwanted data\n",
    "- Optimize memory, process and network costs\n",
    "- Convert data from ony tupe to another\n",
    "- Orgnaize data\n",
    "- To fit into a schema/structure\n",
    "- Increase productivity"
   ]
  },
  {
   "cell_type": "markdown",
   "metadata": {},
   "source": [
    "### Scheduling"
   ]
  },
  {
   "cell_type": "markdown",
   "metadata": {},
   "source": [
    "### Parallel computing"
   ]
  },
  {
   "cell_type": "markdown",
   "metadata": {},
   "source": [
    "### Cloud computing"
   ]
  }
 ],
 "metadata": {
  "kernelspec": {
   "display_name": "Python 3.10.4 64-bit",
   "language": "python",
   "name": "python3"
  },
  "language_info": {
   "name": "python",
   "version": "3.10.4"
  },
  "orig_nbformat": 4,
  "vscode": {
   "interpreter": {
    "hash": "aee8b7b246df8f9039afb4144a1f6fd8d2ca17a180786b69acc140d282b71a49"
   }
  }
 },
 "nbformat": 4,
 "nbformat_minor": 2
}
