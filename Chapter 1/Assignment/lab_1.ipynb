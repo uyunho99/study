{
 "cells": [
  {
   "cell_type": "markdown",
   "metadata": {},
   "source": [
    "Basic Linear Algebra"
   ]
  },
  {
   "cell_type": "code",
   "execution_count": 1,
   "metadata": {},
   "outputs": [
    {
     "data": {
      "text/plain": [
       "True"
      ]
     },
     "execution_count": 1,
     "metadata": {},
     "output_type": "execute_result"
    }
   ],
   "source": [
    "def vector_size_check(*vector_variables):\n",
    "    return all(len(vector_variables[0]) == x\n",
    "                for x in [len(vector) for vector in vector_variables[1:]])\n",
    "    \n",
    "vector_size_check([1,2,3], [2,3,4], [5,6,7])"
   ]
  },
  {
   "cell_type": "code",
   "execution_count": 2,
   "metadata": {},
   "outputs": [
    {
     "name": "stdout",
     "output_type": "stream",
     "text": [
      "[9, 14]\n"
     ]
    }
   ],
   "source": [
    "def vector_addition(*vector_variables):\n",
    "    if vector_size_check(*vector_variables) == False:\n",
    "        raise ArithmeticError\n",
    "    return [sum(elements) for elements in zip(*vector_variables)]\n",
    "\n",
    "print(vector_addition([1, 3], [2, 4], [6, 7]))"
   ]
  },
  {
   "cell_type": "code",
   "execution_count": 3,
   "metadata": {},
   "outputs": [
    {
     "name": "stdout",
     "output_type": "stream",
     "text": [
      "[-1, -1]\n"
     ]
    }
   ],
   "source": [
    "def vector_subtraction(*vector_variables):\n",
    "    if vector_size_check(*vector_variables) == False:\n",
    "        raise ArithmeticError\n",
    "    return [elements[0]*2-sum(elements) for elements in zip(*vector_variables)]\n",
    "\n",
    "print(vector_subtraction([1, 3], [2, 4]))"
   ]
  },
  {
   "cell_type": "code",
   "execution_count": 4,
   "metadata": {},
   "outputs": [
    {
     "name": "stdout",
     "output_type": "stream",
     "text": [
      "[5, 10, 15]\n"
     ]
    }
   ],
   "source": [
    "def scalar_vector_product(alpha, vector_variable):\n",
    "    return [alpha*elements for elements in vector_variable]\n",
    "\n",
    "print(scalar_vector_product(5,[1,2,3]))"
   ]
  },
  {
   "cell_type": "code",
   "execution_count": 5,
   "metadata": {},
   "outputs": [
    {
     "name": "stdout",
     "output_type": "stream",
     "text": [
      "False\n"
     ]
    }
   ],
   "source": [
    "def matrix_size_check(*matrix_variables):\n",
    "    return all([len(set(len(matrix[0]) for matrix in matrix_variables)) == 1]) \\\n",
    "           and all([len(matrix_variables[0]) == len(matrix) for matrix in matrix_variables])\n",
    "\n",
    "matrix_x = [[2, 2], [2, 2], [2, 2]]\n",
    "matrix_y = [[2, 5], [2, 1]]\n",
    "matrix_z = [[2, 4], [5, 3]]\n",
    "print(matrix_size_check(matrix_x, matrix_y, matrix_z))"
   ]
  },
  {
   "cell_type": "code",
   "execution_count": 6,
   "metadata": {},
   "outputs": [
    {
     "name": "stdout",
     "output_type": "stream",
     "text": [
      "False\n"
     ]
    }
   ],
   "source": [
    "def is_matrix_equal(*matrix_variables):\n",
    "    return all([all([len(set(row)) == 1 for row in zip(*matrix)])\n",
    "                for matrix in zip(*matrix_variables)])\n",
    "\n",
    "matrix_x = [[2, 2], [2, 2]]\n",
    "matrix_y = [[2, 5], [2, 1]]\n",
    "print (is_matrix_equal(matrix_x, matrix_y))"
   ]
  },
  {
   "cell_type": "code",
   "execution_count": 7,
   "metadata": {},
   "outputs": [
    {
     "name": "stdout",
     "output_type": "stream",
     "text": [
      "[[4, 7], [4, 3]]\n"
     ]
    }
   ],
   "source": [
    "def matrix_addition(*matrix_variables):\n",
    "    if matrix_size_check(*matrix_variables) == False:\n",
    "        raise ArithmeticError\n",
    "    return [[sum(row) for row in zip(*t)] for t in zip(*matrix_variables)]\n",
    "    \n",
    "matrix_x = [[2, 2], [2, 2]]\n",
    "matrix_y = [[2, 5], [2, 1]]\n",
    "matrix_z = [[2, 4], [5, 3]]\n",
    "\n",
    "print (matrix_addition(matrix_x, matrix_y))"
   ]
  },
  {
   "cell_type": "code",
   "execution_count": 8,
   "metadata": {},
   "outputs": [
    {
     "name": "stdout",
     "output_type": "stream",
     "text": [
      "[[0, -3], [0, 1]]\n"
     ]
    }
   ],
   "source": [
    "def matrix_subtraction(*matrix_variables):\n",
    "    if matrix_size_check(*matrix_variables) == False:\n",
    "        raise ArithmeticError\n",
    "    return [[row[0]*2 - sum(row) for row in zip(*t)] for t in zip(*matrix_variables)]\n",
    "\n",
    "matrix_x = [[2, 2], [2, 2]]\n",
    "matrix_y = [[2, 5], [2, 1]]\n",
    "matrix_z = [[2, 4], [5, 3]]\n",
    "\n",
    "print (matrix_subtraction(matrix_x, matrix_y))"
   ]
  },
  {
   "cell_type": "code",
   "execution_count": 9,
   "metadata": {},
   "outputs": [
    {
     "name": "stdout",
     "output_type": "stream",
     "text": [
      "[[2, 1, 2], [5, 1, 2]]\n"
     ]
    }
   ],
   "source": [
    "def matrix_transpose(matrix_variable):\n",
    "    return [[element for element in t] for t in zip(*matrix_variable)]\n",
    "\n",
    "matrix_w = [[2, 5], [1, 1], [2, 2]]\n",
    "print(matrix_transpose(matrix_w))"
   ]
  },
  {
   "cell_type": "code",
   "execution_count": 10,
   "metadata": {},
   "outputs": [
    {
     "name": "stdout",
     "output_type": "stream",
     "text": [
      "True\n"
     ]
    }
   ],
   "source": [
    "def is_product_availability_matrix(matrix_a, matrix_b):\n",
    "    return len([col for col in zip(*matrix_a)]) == len(matrix_b)\n",
    "\n",
    "matrix_x= [[2, 5], [1, 1]]\n",
    "matrix_y = [[1, 1, 2], [2, 1, 1]]\n",
    "matrix_z = [[2, 4], [5, 3], [1, 3]]\n",
    "\n",
    "print(is_product_availability_matrix(matrix_y, matrix_z))"
   ]
  },
  {
   "cell_type": "code",
   "execution_count": 11,
   "metadata": {},
   "outputs": [
    {
     "name": "stdout",
     "output_type": "stream",
     "text": [
      "[[9, 13], [10, 14]]\n"
     ]
    }
   ],
   "source": [
    "def matrix_product(matrix_a, matrix_b):\n",
    "    if is_product_availability_matrix(matrix_a, matrix_b) == False:\n",
    "        raise ArithmeticError\n",
    "    return [[sum(a*b for a,b in zip(row_a, col_b)) for col_b in zip(*matrix_b)] for row_a in matrix_a]\n",
    "\n",
    "matrix_x= [[2, 5], [1, 1]]\n",
    "matrix_y = [[1, 1, 2], [2, 1, 1]]\n",
    "matrix_z = [[2, 4], [5, 3], [1, 3]]\n",
    "\n",
    "print(matrix_product(matrix_y, matrix_z))"
   ]
  },
  {
   "cell_type": "markdown",
   "metadata": {},
   "source": [
    "Insert Operation\n",
    "\n",
    "https://www.acmicpc.net/problem/14888"
   ]
  },
  {
   "cell_type": "code",
   "execution_count": 12,
   "metadata": {},
   "outputs": [],
   "source": [
    "import itertools\n",
    "from functools import reduce\n",
    "import sys\n",
    "import time"
   ]
  },
  {
   "cell_type": "code",
   "execution_count": 13,
   "metadata": {},
   "outputs": [],
   "source": [
    "def insert_operation(length, input_num, input_operation):\n",
    "    ops = {\"0\": (lambda x,y:x+y), \"1\": (lambda x,y:x-y), \"2\": (lambda x,y:x*y), \"3\": (lambda x,y:x/y)}\n",
    "    oper_permutation = []\n",
    "    result = []\n",
    "    list(oper_permutation.extend([str(index)]*value) for index, value in enumerate(input_operation) if value>0)\n",
    "    permutation = [list(x) for x in set(itertools.permutations(oper_permutation))]\n",
    "    for i in permutation:\n",
    "        result.append(reduce(lambda x,y : ops[i.pop()](x,y), input_num))\n",
    "        \n",
    "    print(str(max(result))+\"\\n\"+str(min(result)))"
   ]
  },
  {
   "cell_type": "code",
   "execution_count": 14,
   "metadata": {},
   "outputs": [
    {
     "name": "stdout",
     "output_type": "stream",
     "text": [
      "52.0\n",
      "-21.0\n"
     ]
    }
   ],
   "source": [
    "n = 6\n",
    "numbers = [1, 2, 3, 4, 5, 6]\n",
    "arithmetics = [2, 1, 1, 1]\n",
    "insert_operation(n, numbers, arithmetics)"
   ]
  }
 ],
 "metadata": {
  "kernelspec": {
   "display_name": "Python 3.8.13 ('study')",
   "language": "python",
   "name": "python3"
  },
  "language_info": {
   "codemirror_mode": {
    "name": "ipython",
    "version": 3
   },
   "file_extension": ".py",
   "mimetype": "text/x-python",
   "name": "python",
   "nbconvert_exporter": "python",
   "pygments_lexer": "ipython3",
   "version": "3.8.13"
  },
  "orig_nbformat": 4,
  "vscode": {
   "interpreter": {
    "hash": "d8dc7d3aa09af79666e556f106494fe4e31b040c6a4ab6a124d4dbda5928b8f5"
   }
  }
 },
 "nbformat": 4,
 "nbformat_minor": 2
}
