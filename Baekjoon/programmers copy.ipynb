{
 "cells": [
  {
   "cell_type": "code",
   "execution_count": 24,
   "metadata": {},
   "outputs": [],
   "source": [
    "from time import time\n",
    "from random import randint"
   ]
  },
  {
   "cell_type": "code",
   "execution_count": 10,
   "metadata": {},
   "outputs": [],
   "source": [
    "import numpy as np"
   ]
  },
  {
   "cell_type": "code",
   "execution_count": 20,
   "metadata": {},
   "outputs": [],
   "source": [
    "def solution(array, height):\n",
    "    array.append(height)\n",
    "    array.sort(reverse=True)\n",
    "    return array.index(height)"
   ]
  },
  {
   "cell_type": "code",
   "execution_count": 24,
   "metadata": {},
   "outputs": [
    {
     "name": "stdout",
     "output_type": "stream",
     "text": [
      "time : 0.04308915138244629\n"
     ]
    }
   ],
   "source": [
    "start = time()\n",
    "\n",
    "biglist = [i for i in range(10**6)]\n",
    "\n",
    "solution(biglist, 167)\n",
    "\n",
    "end = time()\n",
    "\n",
    "print(\"time :\", end - start)"
   ]
  },
  {
   "cell_type": "code",
   "execution_count": 142,
   "metadata": {},
   "outputs": [
    {
     "ename": "TypeError",
     "evalue": "'int' object is not iterable",
     "output_type": "error",
     "traceback": [
      "\u001b[0;31m---------------------------------------------------------------------------\u001b[0m",
      "\u001b[0;31mTypeError\u001b[0m                                 Traceback (most recent call last)",
      "\u001b[1;32m/Users/uyunho/Documents/study/Baekjoon/programmers.ipynb 셀 4\u001b[0m in \u001b[0;36m<cell line: 3>\u001b[0;34m()\u001b[0m\n\u001b[1;32m      <a href='vscode-notebook-cell:/Users/uyunho/Documents/study/Baekjoon/programmers.ipynb#W1sZmlsZQ%3D%3D?line=0'>1</a>\u001b[0m start \u001b[39m=\u001b[39m time()\n\u001b[1;32m      <a href='vscode-notebook-cell:/Users/uyunho/Documents/study/Baekjoon/programmers.ipynb#W1sZmlsZQ%3D%3D?line=2'>3</a>\u001b[0m \u001b[39mfor\u001b[39;00m i \u001b[39min\u001b[39;00m \u001b[39mrange\u001b[39m(\u001b[39m1000\u001b[39m):\n\u001b[0;32m----> <a href='vscode-notebook-cell:/Users/uyunho/Documents/study/Baekjoon/programmers.ipynb#W1sZmlsZQ%3D%3D?line=3'>4</a>\u001b[0m     isin \u001b[39m=\u001b[39m solution(i)\n\u001b[1;32m      <a href='vscode-notebook-cell:/Users/uyunho/Documents/study/Baekjoon/programmers.ipynb#W1sZmlsZQ%3D%3D?line=5'>6</a>\u001b[0m end \u001b[39m=\u001b[39m time()\n\u001b[1;32m      <a href='vscode-notebook-cell:/Users/uyunho/Documents/study/Baekjoon/programmers.ipynb#W1sZmlsZQ%3D%3D?line=7'>8</a>\u001b[0m \u001b[39mprint\u001b[39m(\u001b[39m\"\u001b[39m\u001b[39mtime :\u001b[39m\u001b[39m\"\u001b[39m, end \u001b[39m-\u001b[39m start)\n",
      "\u001b[1;32m/Users/uyunho/Documents/study/Baekjoon/programmers.ipynb 셀 4\u001b[0m in \u001b[0;36msolution\u001b[0;34m(numbers)\u001b[0m\n\u001b[1;32m      <a href='vscode-notebook-cell:/Users/uyunho/Documents/study/Baekjoon/programmers.ipynb#W1sZmlsZQ%3D%3D?line=0'>1</a>\u001b[0m \u001b[39mdef\u001b[39;00m \u001b[39msolution\u001b[39m(numbers):\n\u001b[0;32m----> <a href='vscode-notebook-cell:/Users/uyunho/Documents/study/Baekjoon/programmers.ipynb#W1sZmlsZQ%3D%3D?line=1'>2</a>\u001b[0m     answer \u001b[39m=\u001b[39m \u001b[39msum\u001b[39;49m(numbers)\u001b[39m/\u001b[39m\u001b[39mlen\u001b[39m(numbers)\n\u001b[1;32m      <a href='vscode-notebook-cell:/Users/uyunho/Documents/study/Baekjoon/programmers.ipynb#W1sZmlsZQ%3D%3D?line=2'>3</a>\u001b[0m     \u001b[39mreturn\u001b[39;00m answer\n",
      "\u001b[0;31mTypeError\u001b[0m: 'int' object is not iterable"
     ]
    }
   ],
   "source": [
    "start = time()\n",
    "\n",
    "for i in range(1000):\n",
    "    isin = solution(i)\n",
    "\n",
    "end = time()\n",
    "\n",
    "print(\"time :\", end - start)"
   ]
  },
  {
   "cell_type": "code",
   "execution_count": 5,
   "metadata": {},
   "outputs": [],
   "source": [
    "def solution(array, height):\n",
    "    answer = len(list(filter(lambda x : x > height, array)))\n",
    "    return answer"
   ]
  },
  {
   "cell_type": "code",
   "execution_count": 6,
   "metadata": {},
   "outputs": [
    {
     "ename": "NameError",
     "evalue": "name 'time' is not defined",
     "output_type": "error",
     "traceback": [
      "\u001b[0;31m---------------------------------------------------------------------------\u001b[0m",
      "\u001b[0;31mNameError\u001b[0m                                 Traceback (most recent call last)",
      "\u001b[1;32m/Users/uyunho/Documents/study/Baekjoon/programmers copy.ipynb 셀 7\u001b[0m in \u001b[0;36m<cell line: 1>\u001b[0;34m()\u001b[0m\n\u001b[0;32m----> <a href='vscode-notebook-cell:/Users/uyunho/Documents/study/Baekjoon/programmers%20copy.ipynb#W6sZmlsZQ%3D%3D?line=0'>1</a>\u001b[0m start \u001b[39m=\u001b[39m time()\n\u001b[1;32m      <a href='vscode-notebook-cell:/Users/uyunho/Documents/study/Baekjoon/programmers%20copy.ipynb#W6sZmlsZQ%3D%3D?line=2'>3</a>\u001b[0m \u001b[39mfor\u001b[39;00m i \u001b[39min\u001b[39;00m \u001b[39mrange\u001b[39m(\u001b[39m1000\u001b[39m):\n\u001b[1;32m      <a href='vscode-notebook-cell:/Users/uyunho/Documents/study/Baekjoon/programmers%20copy.ipynb#W6sZmlsZQ%3D%3D?line=3'>4</a>\u001b[0m     isin \u001b[39m=\u001b[39m solution(i)\n",
      "\u001b[0;31mNameError\u001b[0m: name 'time' is not defined"
     ]
    }
   ],
   "source": [
    "start = time()\n",
    "\n",
    "for i in range(1000):\n",
    "    isin = solution(i)\n",
    "\n",
    "end = time()\n",
    "\n",
    "print(\"time :\", end - start)"
   ]
  },
  {
   "cell_type": "code",
   "execution_count": 3,
   "metadata": {},
   "outputs": [
    {
     "data": {
      "text/plain": [
       "3"
      ]
     },
     "execution_count": 3,
     "metadata": {},
     "output_type": "execute_result"
    }
   ],
   "source": [
    "def solution(array, height):\n",
    "    answer = len(list(filter(lambda x : x > height, array)))\n",
    "    return answer\n",
    "\n",
    "array = [149, 180, 192, 170]\n",
    "height = 167\n",
    "solution(array, height)"
   ]
  },
  {
   "cell_type": "code",
   "execution_count": null,
   "metadata": {},
   "outputs": [],
   "source": [
    "def solution(array, height):\n",
    "    array.append(height)\n",
    "    array.sort(reverse=True)\n",
    "    return array.index(height)"
   ]
  },
  {
   "cell_type": "code",
   "execution_count": 1,
   "metadata": {},
   "outputs": [
    {
     "ename": "IndexError",
     "evalue": "list index out of range",
     "output_type": "error",
     "traceback": [
      "\u001b[0;31m---------------------------------------------------------------------------\u001b[0m",
      "\u001b[0;31mIndexError\u001b[0m                                Traceback (most recent call last)",
      "\u001b[1;32m/Users/uyunho/Documents/study/Baekjoon/programmers copy.ipynb 셀 10\u001b[0m in \u001b[0;36m<cell line: 6>\u001b[0;34m()\u001b[0m\n\u001b[1;32m      <a href='vscode-notebook-cell:/Users/uyunho/Documents/study/Baekjoon/programmers%20copy.ipynb#X12sZmlsZQ%3D%3D?line=3'>4</a>\u001b[0m count_list \u001b[39m=\u001b[39m [\u001b[39m0\u001b[39m] \u001b[39m*\u001b[39m \u001b[39m10\u001b[39m\n\u001b[1;32m      <a href='vscode-notebook-cell:/Users/uyunho/Documents/study/Baekjoon/programmers%20copy.ipynb#X12sZmlsZQ%3D%3D?line=5'>6</a>\u001b[0m \u001b[39mfor\u001b[39;00m i \u001b[39min\u001b[39;00m \u001b[39mrange\u001b[39m(\u001b[39mlen\u001b[39m(num_list)):\n\u001b[0;32m----> <a href='vscode-notebook-cell:/Users/uyunho/Documents/study/Baekjoon/programmers%20copy.ipynb#X12sZmlsZQ%3D%3D?line=6'>7</a>\u001b[0m     count_list[i] \u001b[39m+\u001b[39m\u001b[39m=\u001b[39m i\n\u001b[1;32m      <a href='vscode-notebook-cell:/Users/uyunho/Documents/study/Baekjoon/programmers%20copy.ipynb#X12sZmlsZQ%3D%3D?line=8'>9</a>\u001b[0m \u001b[39m# 출력 코드\u001b[39;00m\n\u001b[1;32m     <a href='vscode-notebook-cell:/Users/uyunho/Documents/study/Baekjoon/programmers%20copy.ipynb#X12sZmlsZQ%3D%3D?line=9'>10</a>\u001b[0m \u001b[39mprint\u001b[39m(count_list)\n",
      "\u001b[0;31mIndexError\u001b[0m: list index out of range"
     ]
    }
   ],
   "source": [
    "num_list = [9, 2, 3, 1, 6, 8, 0, \n",
    "            8, 9, 2, 1, 7, 7, 3, 5]\n",
    "\n",
    "count_list = [0] * 10\n",
    "\n",
    "for i in range(len(num_list)):\n",
    "    count_list[i] += i\n",
    "\n",
    "# 출력 코드\n",
    "print(count_list)"
   ]
  },
  {
   "cell_type": "code",
   "execution_count": 2,
   "metadata": {},
   "outputs": [
    {
     "data": {
      "text/plain": [
       "[0, 1, 2, 3, 4, 5, 6, 7, 8, 9]"
      ]
     },
     "execution_count": 2,
     "metadata": {},
     "output_type": "execute_result"
    }
   ],
   "source": [
    "count_list"
   ]
  },
  {
   "cell_type": "code",
   "execution_count": 1,
   "metadata": {},
   "outputs": [],
   "source": [
    "from itertools import combinations\n",
    "\n",
    "def solution(balls, share):\n",
    "    answer = list(combinations(balls, share))\n",
    "    return answer"
   ]
  },
  {
   "cell_type": "code",
   "execution_count": 2,
   "metadata": {},
   "outputs": [
    {
     "ename": "TypeError",
     "evalue": "'int' object is not iterable",
     "output_type": "error",
     "traceback": [
      "\u001b[0;31m---------------------------------------------------------------------------\u001b[0m",
      "\u001b[0;31mTypeError\u001b[0m                                 Traceback (most recent call last)",
      "\u001b[1;32m/Users/uyunho/Documents/study/Baekjoon/programmers copy.ipynb 셀 13\u001b[0m in \u001b[0;36m<cell line: 1>\u001b[0;34m()\u001b[0m\n\u001b[0;32m----> <a href='vscode-notebook-cell:/Users/uyunho/Documents/study/Baekjoon/programmers%20copy.ipynb#X15sZmlsZQ%3D%3D?line=0'>1</a>\u001b[0m solution(\u001b[39m2\u001b[39;49m, \u001b[39m3\u001b[39;49m)\n",
      "\u001b[1;32m/Users/uyunho/Documents/study/Baekjoon/programmers copy.ipynb 셀 13\u001b[0m in \u001b[0;36msolution\u001b[0;34m(balls, share)\u001b[0m\n\u001b[1;32m      <a href='vscode-notebook-cell:/Users/uyunho/Documents/study/Baekjoon/programmers%20copy.ipynb#X15sZmlsZQ%3D%3D?line=2'>3</a>\u001b[0m \u001b[39mdef\u001b[39;00m \u001b[39msolution\u001b[39m(balls, share):\n\u001b[0;32m----> <a href='vscode-notebook-cell:/Users/uyunho/Documents/study/Baekjoon/programmers%20copy.ipynb#X15sZmlsZQ%3D%3D?line=3'>4</a>\u001b[0m     answer \u001b[39m=\u001b[39m \u001b[39mlist\u001b[39m(combinations(balls, share))\n\u001b[1;32m      <a href='vscode-notebook-cell:/Users/uyunho/Documents/study/Baekjoon/programmers%20copy.ipynb#X15sZmlsZQ%3D%3D?line=4'>5</a>\u001b[0m     \u001b[39mreturn\u001b[39;00m answer\n",
      "\u001b[0;31mTypeError\u001b[0m: 'int' object is not iterable"
     ]
    }
   ],
   "source": [
    "solution(2, 3)"
   ]
  },
  {
   "cell_type": "code",
   "execution_count": null,
   "metadata": {},
   "outputs": [],
   "source": [
    "from math import factorial\n",
    "\n",
    "def solution(balls, share):\n",
    "    return factorial(balls)/(factorial(balls-share)*factorial(share))"
   ]
  },
  {
   "cell_type": "code",
   "execution_count": null,
   "metadata": {},
   "outputs": [],
   "source": [
    "import math\n",
    "\n",
    "def solution(balls, share):\n",
    "    return math.comb(balls, share)"
   ]
  },
  {
   "cell_type": "code",
   "execution_count": 1,
   "metadata": {},
   "outputs": [
    {
     "data": {
      "text/plain": [
       "array([[1, 2],\n",
       "       [3, 4],\n",
       "       [5, 6],\n",
       "       [7, 8]])"
      ]
     },
     "execution_count": 1,
     "metadata": {},
     "output_type": "execute_result"
    }
   ],
   "source": [
    "num_list = [1, 2, 3, 4, 5, 6, 7, 8]\t\n",
    "n = 2\n",
    "\n",
    "import numpy as np\n",
    "\n",
    "def solution(num_list, n):\n",
    "    answer = np.reshape(num_list,(int(len(num_list)/n),n))\n",
    "    return answer\n",
    "\n",
    "solution(num_list, n)"
   ]
  },
  {
   "cell_type": "code",
   "execution_count": 10,
   "metadata": {},
   "outputs": [
    {
     "name": "stdout",
     "output_type": "stream",
     "text": [
      "[(3, 3), (1, 1), (2, 1), (4, 1)]\n"
     ]
    },
    {
     "data": {
      "text/plain": [
       "3"
      ]
     },
     "execution_count": 10,
     "metadata": {},
     "output_type": "execute_result"
    }
   ],
   "source": [
    "from collections import Counter\n",
    "\n",
    "def solution(array):\n",
    "    cnt = Counter(array).most_common()\n",
    "    print(cnt)\n",
    "    if cnt[0][1] == cnt[1][1]:\n",
    "        return -1\n",
    "    else :\n",
    "        return cnt[0][0]\n",
    "\n",
    "array = [1, 2, 3, 3, 3, 4]\n",
    "solution(array)"
   ]
  },
  {
   "cell_type": "code",
   "execution_count": null,
   "metadata": {},
   "outputs": [],
   "source": [
    "start = time()\n",
    "\n",
    "biglist = [i for i in range(10**6)]\n",
    "\n",
    "solution(biglist, 167)\n",
    "\n",
    "end = time()\n",
    "\n",
    "print(\"time :\", end - start)"
   ]
  },
  {
   "cell_type": "code",
   "execution_count": 25,
   "metadata": {},
   "outputs": [
    {
     "name": "stdout",
     "output_type": "stream",
     "text": [
      "2\n",
      "time : 0.0002608299255371094\n"
     ]
    }
   ],
   "source": [
    "n, k = map(int, input().split())\n",
    "\n",
    "result = 0\n",
    "\n",
    "while True:\n",
    "    target = (n // k) * k\n",
    "    result += (n - target)\n",
    "    n = target\n",
    "    \n",
    "    if n < k :\n",
    "        break\n",
    "    \n",
    "    result += 1\n",
    "    n //= k\n",
    "\n",
    "result += (n - 1)\n",
    "print(result)"
   ]
  },
  {
   "cell_type": "code",
   "execution_count": 26,
   "metadata": {},
   "outputs": [
    {
     "name": "stdout",
     "output_type": "stream",
     "text": [
      "2\n",
      "time : 0.00021886825561523438\n"
     ]
    }
   ],
   "source": [
    "n, k = map(int, input().split())\n",
    "\n",
    "result = 0\n",
    "\n",
    "while (n!=1):\n",
    "    if n % k != 0:\n",
    "        n -= 1\n",
    "    else:\n",
    "        n = (n//k)\n",
    "    result += 1\n",
    "\n",
    "print(result)"
   ]
  },
  {
   "cell_type": "markdown",
   "metadata": {},
   "source": [
    "문자열이 '0', '1'은 더해야함\n",
    "cf) 문자열의 첫자리가 '0'이면 '0' 바로 뒤 자리수도 무조건 더해야함\n",
    "\n",
    "문자열이 '0', '1'을 제외한 나머지는 곱해야함\n",
    "\n",
    ">>>\n",
    "두 수에 대하여 연산을 수행할 때, 두 수 중에서 하나라도 1 이하인 경우에는 더하며, 두 수가 모두 2 이상인 경우에는 곱해야함"
   ]
  },
  {
   "cell_type": "code",
   "execution_count": 20,
   "metadata": {},
   "outputs": [],
   "source": [
    "n = str(input().split())\n",
    "\n",
    "for i in range(len(n)):\n",
    "    answer = int(n[0])\n",
    "    num = int(n[i])\n",
    "    if num <= 1 or answer <= 1:\n",
    "        result += num\n",
    "    else:\n",
    "        result *= num"
   ]
  },
  {
   "cell_type": "code",
   "execution_count": 32,
   "metadata": {},
   "outputs": [
    {
     "name": "stdout",
     "output_type": "stream",
     "text": [
      "b\n",
      "c\n"
     ]
    }
   ],
   "source": [
    "s1 = [\"a\", \"b\", \"c\"]\n",
    "s2 = [\"com\", \"b\", \"d\", \"p\", \"c\"]\t\n",
    "\n",
    "for i in s1:\n",
    "    count = 0\n",
    "    if i in s2:\n",
    "        count += 1\n",
    "    print(count)"
   ]
  },
  {
   "cell_type": "code",
   "execution_count": 33,
   "metadata": {},
   "outputs": [
    {
     "ename": "TypeError",
     "evalue": "'int' object is not subscriptable",
     "output_type": "error",
     "traceback": [
      "\u001b[0;31m---------------------------------------------------------------------------\u001b[0m",
      "\u001b[0;31mTypeError\u001b[0m                                 Traceback (most recent call last)",
      "\u001b[1;32m/Users/uyunho/Documents/study/Baekjoon/programmers copy.ipynb 셀 24\u001b[0m in \u001b[0;36m<cell line: 5>\u001b[0;34m()\u001b[0m\n\u001b[1;32m      <a href='vscode-notebook-cell:/Users/uyunho/Documents/study/Baekjoon/programmers%20copy.ipynb#X35sZmlsZQ%3D%3D?line=1'>2</a>\u001b[0m     m \u001b[39m=\u001b[39m \u001b[39m'\u001b[39m\u001b[39mabcdefghij\u001b[39m\u001b[39m'\u001b[39m\n\u001b[1;32m      <a href='vscode-notebook-cell:/Users/uyunho/Documents/study/Baekjoon/programmers%20copy.ipynb#X35sZmlsZQ%3D%3D?line=2'>3</a>\u001b[0m     \u001b[39mreturn\u001b[39;00m \u001b[39m\"\u001b[39m\u001b[39m\"\u001b[39m\u001b[39m.\u001b[39mjoin([m[age[i]] \u001b[39mfor\u001b[39;00m i \u001b[39min\u001b[39;00m \u001b[39mrange\u001b[39m(\u001b[39mlen\u001b[39m(\u001b[39mstr\u001b[39m(age)))])\n\u001b[0;32m----> <a href='vscode-notebook-cell:/Users/uyunho/Documents/study/Baekjoon/programmers%20copy.ipynb#X35sZmlsZQ%3D%3D?line=4'>5</a>\u001b[0m solution(\u001b[39m23\u001b[39;49m)\n",
      "\u001b[1;32m/Users/uyunho/Documents/study/Baekjoon/programmers copy.ipynb 셀 24\u001b[0m in \u001b[0;36msolution\u001b[0;34m(age)\u001b[0m\n\u001b[1;32m      <a href='vscode-notebook-cell:/Users/uyunho/Documents/study/Baekjoon/programmers%20copy.ipynb#X35sZmlsZQ%3D%3D?line=0'>1</a>\u001b[0m \u001b[39mdef\u001b[39;00m \u001b[39msolution\u001b[39m(age):\n\u001b[1;32m      <a href='vscode-notebook-cell:/Users/uyunho/Documents/study/Baekjoon/programmers%20copy.ipynb#X35sZmlsZQ%3D%3D?line=1'>2</a>\u001b[0m     m \u001b[39m=\u001b[39m \u001b[39m'\u001b[39m\u001b[39mabcdefghij\u001b[39m\u001b[39m'\u001b[39m\n\u001b[0;32m----> <a href='vscode-notebook-cell:/Users/uyunho/Documents/study/Baekjoon/programmers%20copy.ipynb#X35sZmlsZQ%3D%3D?line=2'>3</a>\u001b[0m     \u001b[39mreturn\u001b[39;00m \u001b[39m\"\u001b[39m\u001b[39m\"\u001b[39m\u001b[39m.\u001b[39mjoin([m[age[i]] \u001b[39mfor\u001b[39;00m i \u001b[39min\u001b[39;00m \u001b[39mrange\u001b[39m(\u001b[39mlen\u001b[39m(\u001b[39mstr\u001b[39m(age)))])\n",
      "\u001b[1;32m/Users/uyunho/Documents/study/Baekjoon/programmers copy.ipynb 셀 24\u001b[0m in \u001b[0;36m<listcomp>\u001b[0;34m(.0)\u001b[0m\n\u001b[1;32m      <a href='vscode-notebook-cell:/Users/uyunho/Documents/study/Baekjoon/programmers%20copy.ipynb#X35sZmlsZQ%3D%3D?line=0'>1</a>\u001b[0m \u001b[39mdef\u001b[39;00m \u001b[39msolution\u001b[39m(age):\n\u001b[1;32m      <a href='vscode-notebook-cell:/Users/uyunho/Documents/study/Baekjoon/programmers%20copy.ipynb#X35sZmlsZQ%3D%3D?line=1'>2</a>\u001b[0m     m \u001b[39m=\u001b[39m \u001b[39m'\u001b[39m\u001b[39mabcdefghij\u001b[39m\u001b[39m'\u001b[39m\n\u001b[0;32m----> <a href='vscode-notebook-cell:/Users/uyunho/Documents/study/Baekjoon/programmers%20copy.ipynb#X35sZmlsZQ%3D%3D?line=2'>3</a>\u001b[0m     \u001b[39mreturn\u001b[39;00m \u001b[39m\"\u001b[39m\u001b[39m\"\u001b[39m\u001b[39m.\u001b[39mjoin([m[age[i]] \u001b[39mfor\u001b[39;00m i \u001b[39min\u001b[39;00m \u001b[39mrange\u001b[39m(\u001b[39mlen\u001b[39m(\u001b[39mstr\u001b[39m(age)))])\n",
      "\u001b[0;31mTypeError\u001b[0m: 'int' object is not subscriptable"
     ]
    }
   ],
   "source": [
    "def solution(age):\n",
    "    m = 'abcdefghij'\n",
    "    return \"\".join([m[age[i]] for i in range(len(str(age)))])\n",
    "\n",
    "solution(23)"
   ]
  },
  {
   "cell_type": "code",
   "execution_count": 35,
   "metadata": {},
   "outputs": [
    {
     "data": {
      "text/plain": [
       "True"
      ]
     },
     "execution_count": 35,
     "metadata": {},
     "output_type": "execute_result"
    }
   ],
   "source": [
    "str = '123'\n",
    "'1' in str"
   ]
  },
  {
   "cell_type": "markdown",
   "metadata": {},
   "source": [
    " $$P(A)= \\frac{\\mathrm{# favorable outcomes}}{\\mathrm{# possible outcomes}}$$"
   ]
  },
  {
   "cell_type": "code",
   "execution_count": null,
   "metadata": {},
   "outputs": [],
   "source": []
  }
 ],
 "metadata": {
  "kernelspec": {
   "display_name": "Python 3.8.13 ('study')",
   "language": "python",
   "name": "python3"
  },
  "language_info": {
   "codemirror_mode": {
    "name": "ipython",
    "version": 3
   },
   "file_extension": ".py",
   "mimetype": "text/x-python",
   "name": "python",
   "nbconvert_exporter": "python",
   "pygments_lexer": "ipython3",
   "version": "3.8.15 | packaged by conda-forge | (default, Nov 22 2022, 08:52:09) \n[Clang 14.0.6 ]"
  },
  "orig_nbformat": 4,
  "vscode": {
   "interpreter": {
    "hash": "d8dc7d3aa09af79666e556f106494fe4e31b040c6a4ab6a124d4dbda5928b8f5"
   }
  }
 },
 "nbformat": 4,
 "nbformat_minor": 2
}
