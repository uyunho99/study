{
 "cells": [
  {
   "cell_type": "code",
   "execution_count": 9,
   "metadata": {},
   "outputs": [],
   "source": [
    "from time import time\n",
    "from random import randint"
   ]
  },
  {
   "cell_type": "code",
   "execution_count": 10,
   "metadata": {},
   "outputs": [],
   "source": [
    "import numpy as np"
   ]
  },
  {
   "cell_type": "code",
   "execution_count": 20,
   "metadata": {},
   "outputs": [],
   "source": [
    "def solution(array, height):\n",
    "    array.append(height)\n",
    "    array.sort(reverse=True)\n",
    "    return array.index(height)"
   ]
  },
  {
   "cell_type": "code",
   "execution_count": 24,
   "metadata": {},
   "outputs": [
    {
     "name": "stdout",
     "output_type": "stream",
     "text": [
      "time : 0.04308915138244629\n"
     ]
    }
   ],
   "source": [
    "start = time()\n",
    "\n",
    "biglist = [i for i in range(10**6)]\n",
    "\n",
    "solution(biglist, 167)\n",
    "\n",
    "end = time()\n",
    "\n",
    "print(\"time :\", end - start)"
   ]
  },
  {
   "cell_type": "code",
   "execution_count": 142,
   "metadata": {},
   "outputs": [
    {
     "ename": "TypeError",
     "evalue": "'int' object is not iterable",
     "output_type": "error",
     "traceback": [
      "\u001b[0;31m---------------------------------------------------------------------------\u001b[0m",
      "\u001b[0;31mTypeError\u001b[0m                                 Traceback (most recent call last)",
      "\u001b[1;32m/Users/uyunho/Documents/study/Baekjoon/programmers.ipynb 셀 4\u001b[0m in \u001b[0;36m<cell line: 3>\u001b[0;34m()\u001b[0m\n\u001b[1;32m      <a href='vscode-notebook-cell:/Users/uyunho/Documents/study/Baekjoon/programmers.ipynb#W1sZmlsZQ%3D%3D?line=0'>1</a>\u001b[0m start \u001b[39m=\u001b[39m time()\n\u001b[1;32m      <a href='vscode-notebook-cell:/Users/uyunho/Documents/study/Baekjoon/programmers.ipynb#W1sZmlsZQ%3D%3D?line=2'>3</a>\u001b[0m \u001b[39mfor\u001b[39;00m i \u001b[39min\u001b[39;00m \u001b[39mrange\u001b[39m(\u001b[39m1000\u001b[39m):\n\u001b[0;32m----> <a href='vscode-notebook-cell:/Users/uyunho/Documents/study/Baekjoon/programmers.ipynb#W1sZmlsZQ%3D%3D?line=3'>4</a>\u001b[0m     isin \u001b[39m=\u001b[39m solution(i)\n\u001b[1;32m      <a href='vscode-notebook-cell:/Users/uyunho/Documents/study/Baekjoon/programmers.ipynb#W1sZmlsZQ%3D%3D?line=5'>6</a>\u001b[0m end \u001b[39m=\u001b[39m time()\n\u001b[1;32m      <a href='vscode-notebook-cell:/Users/uyunho/Documents/study/Baekjoon/programmers.ipynb#W1sZmlsZQ%3D%3D?line=7'>8</a>\u001b[0m \u001b[39mprint\u001b[39m(\u001b[39m\"\u001b[39m\u001b[39mtime :\u001b[39m\u001b[39m\"\u001b[39m, end \u001b[39m-\u001b[39m start)\n",
      "\u001b[1;32m/Users/uyunho/Documents/study/Baekjoon/programmers.ipynb 셀 4\u001b[0m in \u001b[0;36msolution\u001b[0;34m(numbers)\u001b[0m\n\u001b[1;32m      <a href='vscode-notebook-cell:/Users/uyunho/Documents/study/Baekjoon/programmers.ipynb#W1sZmlsZQ%3D%3D?line=0'>1</a>\u001b[0m \u001b[39mdef\u001b[39;00m \u001b[39msolution\u001b[39m(numbers):\n\u001b[0;32m----> <a href='vscode-notebook-cell:/Users/uyunho/Documents/study/Baekjoon/programmers.ipynb#W1sZmlsZQ%3D%3D?line=1'>2</a>\u001b[0m     answer \u001b[39m=\u001b[39m \u001b[39msum\u001b[39;49m(numbers)\u001b[39m/\u001b[39m\u001b[39mlen\u001b[39m(numbers)\n\u001b[1;32m      <a href='vscode-notebook-cell:/Users/uyunho/Documents/study/Baekjoon/programmers.ipynb#W1sZmlsZQ%3D%3D?line=2'>3</a>\u001b[0m     \u001b[39mreturn\u001b[39;00m answer\n",
      "\u001b[0;31mTypeError\u001b[0m: 'int' object is not iterable"
     ]
    }
   ],
   "source": [
    "start = time()\n",
    "\n",
    "for i in range(1000):\n",
    "    isin = solution(i)\n",
    "\n",
    "end = time()\n",
    "\n",
    "print(\"time :\", end - start)"
   ]
  },
  {
   "cell_type": "code",
   "execution_count": 5,
   "metadata": {},
   "outputs": [],
   "source": [
    "def solution(array, height):\n",
    "    answer = len(list(filter(lambda x : x > height, array)))\n",
    "    return answer"
   ]
  },
  {
   "cell_type": "code",
   "execution_count": 6,
   "metadata": {},
   "outputs": [
    {
     "ename": "NameError",
     "evalue": "name 'time' is not defined",
     "output_type": "error",
     "traceback": [
      "\u001b[0;31m---------------------------------------------------------------------------\u001b[0m",
      "\u001b[0;31mNameError\u001b[0m                                 Traceback (most recent call last)",
      "\u001b[1;32m/Users/uyunho/Documents/study/Baekjoon/programmers copy.ipynb 셀 7\u001b[0m in \u001b[0;36m<cell line: 1>\u001b[0;34m()\u001b[0m\n\u001b[0;32m----> <a href='vscode-notebook-cell:/Users/uyunho/Documents/study/Baekjoon/programmers%20copy.ipynb#W6sZmlsZQ%3D%3D?line=0'>1</a>\u001b[0m start \u001b[39m=\u001b[39m time()\n\u001b[1;32m      <a href='vscode-notebook-cell:/Users/uyunho/Documents/study/Baekjoon/programmers%20copy.ipynb#W6sZmlsZQ%3D%3D?line=2'>3</a>\u001b[0m \u001b[39mfor\u001b[39;00m i \u001b[39min\u001b[39;00m \u001b[39mrange\u001b[39m(\u001b[39m1000\u001b[39m):\n\u001b[1;32m      <a href='vscode-notebook-cell:/Users/uyunho/Documents/study/Baekjoon/programmers%20copy.ipynb#W6sZmlsZQ%3D%3D?line=3'>4</a>\u001b[0m     isin \u001b[39m=\u001b[39m solution(i)\n",
      "\u001b[0;31mNameError\u001b[0m: name 'time' is not defined"
     ]
    }
   ],
   "source": [
    "start = time()\n",
    "\n",
    "for i in range(1000):\n",
    "    isin = solution(i)\n",
    "\n",
    "end = time()\n",
    "\n",
    "print(\"time :\", end - start)"
   ]
  },
  {
   "cell_type": "code",
   "execution_count": 3,
   "metadata": {},
   "outputs": [
    {
     "data": {
      "text/plain": [
       "3"
      ]
     },
     "execution_count": 3,
     "metadata": {},
     "output_type": "execute_result"
    }
   ],
   "source": [
    "def solution(array, height):\n",
    "    answer = len(list(filter(lambda x : x > height, array)))\n",
    "    return answer\n",
    "\n",
    "array = [149, 180, 192, 170]\n",
    "height = 167\n",
    "solution(array, height)"
   ]
  },
  {
   "cell_type": "code",
   "execution_count": null,
   "metadata": {},
   "outputs": [],
   "source": [
    "def solution(array, height):\n",
    "    array.append(height)\n",
    "    array.sort(reverse=True)\n",
    "    return array.index(height)"
   ]
  },
  {
   "cell_type": "code",
   "execution_count": 1,
   "metadata": {},
   "outputs": [
    {
     "ename": "IndexError",
     "evalue": "list index out of range",
     "output_type": "error",
     "traceback": [
      "\u001b[0;31m---------------------------------------------------------------------------\u001b[0m",
      "\u001b[0;31mIndexError\u001b[0m                                Traceback (most recent call last)",
      "\u001b[1;32m/Users/uyunho/Documents/study/Baekjoon/programmers copy.ipynb 셀 10\u001b[0m in \u001b[0;36m<cell line: 6>\u001b[0;34m()\u001b[0m\n\u001b[1;32m      <a href='vscode-notebook-cell:/Users/uyunho/Documents/study/Baekjoon/programmers%20copy.ipynb#X12sZmlsZQ%3D%3D?line=3'>4</a>\u001b[0m count_list \u001b[39m=\u001b[39m [\u001b[39m0\u001b[39m] \u001b[39m*\u001b[39m \u001b[39m10\u001b[39m\n\u001b[1;32m      <a href='vscode-notebook-cell:/Users/uyunho/Documents/study/Baekjoon/programmers%20copy.ipynb#X12sZmlsZQ%3D%3D?line=5'>6</a>\u001b[0m \u001b[39mfor\u001b[39;00m i \u001b[39min\u001b[39;00m \u001b[39mrange\u001b[39m(\u001b[39mlen\u001b[39m(num_list)):\n\u001b[0;32m----> <a href='vscode-notebook-cell:/Users/uyunho/Documents/study/Baekjoon/programmers%20copy.ipynb#X12sZmlsZQ%3D%3D?line=6'>7</a>\u001b[0m     count_list[i] \u001b[39m+\u001b[39m\u001b[39m=\u001b[39m i\n\u001b[1;32m      <a href='vscode-notebook-cell:/Users/uyunho/Documents/study/Baekjoon/programmers%20copy.ipynb#X12sZmlsZQ%3D%3D?line=8'>9</a>\u001b[0m \u001b[39m# 출력 코드\u001b[39;00m\n\u001b[1;32m     <a href='vscode-notebook-cell:/Users/uyunho/Documents/study/Baekjoon/programmers%20copy.ipynb#X12sZmlsZQ%3D%3D?line=9'>10</a>\u001b[0m \u001b[39mprint\u001b[39m(count_list)\n",
      "\u001b[0;31mIndexError\u001b[0m: list index out of range"
     ]
    }
   ],
   "source": [
    "num_list = [9, 2, 3, 1, 6, 8, 0, \n",
    "            8, 9, 2, 1, 7, 7, 3, 5]\n",
    "\n",
    "count_list = [0] * 10\n",
    "\n",
    "for i in range(len(num_list)):\n",
    "    count_list[i] += i\n",
    "\n",
    "# 출력 코드\n",
    "print(count_list)"
   ]
  },
  {
   "cell_type": "code",
   "execution_count": 2,
   "metadata": {},
   "outputs": [
    {
     "data": {
      "text/plain": [
       "[0, 1, 2, 3, 4, 5, 6, 7, 8, 9]"
      ]
     },
     "execution_count": 2,
     "metadata": {},
     "output_type": "execute_result"
    }
   ],
   "source": [
    "count_list"
   ]
  },
  {
   "cell_type": "code",
   "execution_count": null,
   "metadata": {},
   "outputs": [],
   "source": []
  }
 ],
 "metadata": {
  "kernelspec": {
   "display_name": "Python 3.8.13 ('study')",
   "language": "python",
   "name": "python3"
  },
  "language_info": {
   "codemirror_mode": {
    "name": "ipython",
    "version": 3
   },
   "file_extension": ".py",
   "mimetype": "text/x-python",
   "name": "python",
   "nbconvert_exporter": "python",
   "pygments_lexer": "ipython3",
   "version": "3.8.13"
  },
  "orig_nbformat": 4,
  "vscode": {
   "interpreter": {
    "hash": "d8dc7d3aa09af79666e556f106494fe4e31b040c6a4ab6a124d4dbda5928b8f5"
   }
  }
 },
 "nbformat": 4,
 "nbformat_minor": 2
}
