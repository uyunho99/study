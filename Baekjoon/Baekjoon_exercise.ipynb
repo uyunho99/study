{
 "cells": [
  {
   "cell_type": "markdown",
   "metadata": {},
   "source": [
    "## 1. 입출력과 사칙연산"
   ]
  },
  {
   "cell_type": "markdown",
   "metadata": {},
   "source": [
    "1000\n",
    "\n",
    "https://www.acmicpc.net/problem/1000"
   ]
  },
  {
   "cell_type": "code",
   "execution_count": null,
   "metadata": {},
   "outputs": [],
   "source": [
    "a, b = map(int, input().split())\n",
    "# map(변환 함수, 데이터)\n",
    "# split() > 스페이스바로 변수 구분 지정\n",
    "\n",
    "print(a+b)"
   ]
  },
  {
   "cell_type": "markdown",
   "metadata": {},
   "source": [
    "10926\n",
    "\n",
    "https://www.acmicpc.net/problem/10926"
   ]
  },
  {
   "cell_type": "code",
   "execution_count": null,
   "metadata": {},
   "outputs": [],
   "source": [
    "name = input()\n",
    "print(name+'??!')"
   ]
  },
  {
   "cell_type": "markdown",
   "metadata": {},
   "source": [
    "3003\n",
    "\n",
    "https://www.acmicpc.net/problem/3003"
   ]
  },
  {
   "cell_type": "code",
   "execution_count": null,
   "metadata": {},
   "outputs": [],
   "source": [
    "chess = [1, 1, 2, 2, 2, 8]\n",
    "remain = list(map(int, input().split()))\n",
    "\n",
    "for i in range(6):\n",
    "    print(chess[i]-remain[i], end=' ')"
   ]
  },
  {
   "cell_type": "markdown",
   "metadata": {},
   "source": [
    "2588\n",
    "\n",
    "https://www.acmicpc.net/problem/2588"
   ]
  },
  {
   "cell_type": "code",
   "execution_count": null,
   "metadata": {},
   "outputs": [],
   "source": [
    "a = int(input())\n",
    "b = input()\n",
    "\n",
    "a1 = a * int(b[2])\n",
    "a2 = a * int(b[1])\n",
    "a3 = a * int(b[0])\n",
    "a4 = a * int(b)\n",
    "\n",
    "print (a1, a2, a3, a4, sep='\\n')"
   ]
  },
  {
   "cell_type": "markdown",
   "metadata": {},
   "source": [
    "## 2. 조건문"
   ]
  },
  {
   "cell_type": "markdown",
   "metadata": {},
   "source": [
    "1330\n",
    "\n",
    "https://www.acmicpc.net/problem/1330"
   ]
  },
  {
   "cell_type": "code",
   "execution_count": null,
   "metadata": {},
   "outputs": [],
   "source": [
    "A,B = map(int,input().split())\n",
    "\n",
    "if A > B:\n",
    "    print('>')\n",
    "elif A < B:\n",
    "    print('<')\n",
    "else:\n",
    "    print('==')"
   ]
  },
  {
   "cell_type": "markdown",
   "metadata": {},
   "source": [
    "2884\n",
    "\n",
    "https://www.acmicpc.net/problem/2884"
   ]
  },
  {
   "cell_type": "code",
   "execution_count": null,
   "metadata": {},
   "outputs": [],
   "source": [
    "H, M = map(int, input().split())\n",
    "\n",
    "if M < 45 :\t\n",
    "    if H == 0 :\n",
    "        H = 23\n",
    "        M += 60\n",
    "    else :\n",
    "        H -= 1\t\n",
    "        M += 60\n",
    "        \n",
    "print(H, M-45)\t"
   ]
  },
  {
   "cell_type": "markdown",
   "metadata": {},
   "source": [
    "## 3. 반복문"
   ]
  },
  {
   "cell_type": "markdown",
   "metadata": {},
   "source": [
    "2739\n",
    "\n",
    "https://www.acmicpc.net/problem/2739"
   ]
  },
  {
   "cell_type": "code",
   "execution_count": null,
   "metadata": {},
   "outputs": [],
   "source": [
    "n = int(input())\n",
    "\n",
    "for i in range(1, 10):\n",
    "    output = \"{} * {} = {}\".format(n, i, n*i)\n",
    "    print(output)"
   ]
  },
  {
   "cell_type": "markdown",
   "metadata": {},
   "source": [
    "10950\n",
    "\n",
    "https://www.acmicpc.net/problem/10950"
   ]
  },
  {
   "cell_type": "code",
   "execution_count": null,
   "metadata": {},
   "outputs": [],
   "source": [
    "t = int(input())\n",
    "\n",
    "for _ in range(t): \n",
    "    a,b = map(int,input().split())\n",
    "    print(a+b)"
   ]
  },
  {
   "cell_type": "markdown",
   "metadata": {},
   "source": [
    "8393\n",
    "\n",
    "https://www.acmicpc.net/problem/8393"
   ]
  },
  {
   "cell_type": "code",
   "execution_count": null,
   "metadata": {},
   "outputs": [],
   "source": [
    "n = int(input())\n",
    "sum = 0\n",
    "for i in range(n+1):\n",
    "    sum = sum + i\n",
    "print(sum)"
   ]
  },
  {
   "cell_type": "markdown",
   "metadata": {},
   "source": [
    "25304\n",
    "\n",
    "https://www.acmicpc.net/problem/25304"
   ]
  },
  {
   "cell_type": "code",
   "execution_count": null,
   "metadata": {},
   "outputs": [],
   "source": [
    "total = int(input())\n",
    "times = int(input())\n",
    "\n",
    "for i in range(times):\n",
    "    amount, units = input().split()\n",
    "    amount, units = int(amount), int(units)\n",
    "    \n",
    "    total -= amount*units\n",
    "\n",
    "print(\"Yes\" if total==0 else \"No\")"
   ]
  },
  {
   "cell_type": "markdown",
   "metadata": {},
   "source": [
    "15552\n",
    "\n",
    "https://www.acmicpc.net/problem/15552"
   ]
  },
  {
   "cell_type": "code",
   "execution_count": null,
   "metadata": {},
   "outputs": [],
   "source": [
    "#1\n",
    "import sys\n",
    "\n",
    "t = int(input())\n",
    "\n",
    "for i in range(t): \n",
    "    a,b = map(int, sys.stdin.readline().split())\n",
    "    print(a+b)\n",
    "\n",
    "#2\n",
    "import sys\n",
    "input = sys.stdin.readline\n",
    "T = int(input())\n",
    "\n",
    "for i in range(T):\n",
    "    a, b = map(int, input().split())\n",
    "    print(a+b)"
   ]
  },
  {
   "cell_type": "markdown",
   "metadata": {},
   "source": [
    "11021\n",
    "\n",
    "https://www.acmicpc.net/problem/11021"
   ]
  },
  {
   "cell_type": "code",
   "execution_count": null,
   "metadata": {},
   "outputs": [],
   "source": [
    "import sys\n",
    "\n",
    "t = int(input())\n",
    "\n",
    "for i in range(t): \n",
    "    a,b = map(int, sys.stdin.readline().split())\n",
    "    print(\"Case #{}: {}\".format(i+1, a+b))"
   ]
  },
  {
   "cell_type": "markdown",
   "metadata": {},
   "source": [
    "2438\n",
    "\n",
    "https://www.acmicpc.net/problem/2438"
   ]
  },
  {
   "cell_type": "code",
   "execution_count": null,
   "metadata": {},
   "outputs": [],
   "source": [
    "t = int(input())\n",
    "\n",
    "for i in range(1, t+1):\n",
    "    print(\" \" * (t-i) + \"*\" * i)"
   ]
  },
  {
   "cell_type": "markdown",
   "metadata": {},
   "source": [
    "10871\n",
    "\n",
    "https://www.acmicpc.net/problem/10871"
   ]
  },
  {
   "cell_type": "code",
   "execution_count": null,
   "metadata": {},
   "outputs": [],
   "source": [
    "N, X = map(int, input().split())\n",
    "inp = list(map(int, input().split()))\n",
    "\n",
    "for i in range(N):\n",
    "    if inp[i] < X:\n",
    "        print(inp[i], end = \" \")"
   ]
  },
  {
   "cell_type": "markdown",
   "metadata": {},
   "source": [
    "10952\n",
    "\n",
    "https://www.acmicpc.net/problem/10952"
   ]
  },
  {
   "cell_type": "code",
   "execution_count": null,
   "metadata": {},
   "outputs": [],
   "source": [
    "while True:\n",
    "    a, b = map(int, input().split())\n",
    "    if (a == 0 and b == 0):\n",
    "        break\n",
    "    else:\n",
    "        print(a+b)"
   ]
  },
  {
   "cell_type": "markdown",
   "metadata": {},
   "source": [
    "10951\n",
    "\n",
    "https://www.acmicpc.net/problem/10951"
   ]
  },
  {
   "cell_type": "code",
   "execution_count": null,
   "metadata": {},
   "outputs": [],
   "source": [
    "while True:\n",
    "    try:\n",
    "        a, b = map(int, input().split())\n",
    "        print(a+b)\n",
    "    except:\n",
    "        break"
   ]
  },
  {
   "cell_type": "markdown",
   "metadata": {},
   "source": [
    "1110\n",
    "\n",
    "https://www.acmicpc.net/problem/1110"
   ]
  },
  {
   "cell_type": "code",
   "execution_count": null,
   "metadata": {},
   "outputs": [],
   "source": [
    "n = int(input())\n",
    "num = n\n",
    "cnt = 0\n",
    "\n",
    "while True:\n",
    "    a = num // 10\n",
    "    b = num % 10\n",
    "    c = (a+b) % 10\n",
    "    num = (b * 10) + c\n",
    "    \n",
    "    cnt = cnt + 1\n",
    "    if(num == n):\n",
    "        break\n",
    "print(cnt)"
   ]
  },
  {
   "cell_type": "markdown",
   "metadata": {},
   "source": [
    "## 4. 배열"
   ]
  },
  {
   "cell_type": "markdown",
   "metadata": {},
   "source": [
    "10818\n",
    "\n",
    "https://www.acmicpc.net/problem/10818"
   ]
  },
  {
   "cell_type": "code",
   "execution_count": null,
   "metadata": {},
   "outputs": [],
   "source": [
    "N = int(input())\n",
    "inp = list(map(int, input().split()))\n",
    "print(min(inp), max(inp))"
   ]
  },
  {
   "cell_type": "markdown",
   "metadata": {},
   "source": [
    "2562\n",
    "\n",
    "https://www.acmicpc.net/problem/2562"
   ]
  },
  {
   "cell_type": "code",
   "execution_count": null,
   "metadata": {},
   "outputs": [],
   "source": [
    "num_list = []\n",
    "for i in range(9) :\n",
    "    num_list.append(int(input()))\n",
    "\n",
    "print(max(num_list))\n",
    "print(num_list.index(max(num_list))+1)"
   ]
  },
  {
   "cell_type": "markdown",
   "metadata": {},
   "source": [
    "3052\n",
    "\n",
    "https://www.acmicpc.net/problem/3052"
   ]
  },
  {
   "cell_type": "code",
   "execution_count": null,
   "metadata": {},
   "outputs": [],
   "source": [
    "num_list = []\n",
    "for i in range(10) :\n",
    "    inp = int(input())\n",
    "    rem = inp % 42\n",
    "    num_list.append(rem)\n",
    "    \n",
    "remain_set = set(num_list)\n",
    "print(len(remain_set))"
   ]
  },
  {
   "cell_type": "markdown",
   "metadata": {},
   "source": [
    "1546\n",
    "\n",
    "https://www.acmicpc.net/problem/1546"
   ]
  },
  {
   "cell_type": "code",
   "execution_count": null,
   "metadata": {},
   "outputs": [],
   "source": [
    "n = int(input())\n",
    "score_list = list(map(int, input().split()))\n",
    "max_score = max(score_list)\n",
    "new_list = []\n",
    "for score in score_list:\n",
    "    new_list.append(score/max_score*100)\n",
    "test_avg = sum(new_list)/n\n",
    "print(test_avg)"
   ]
  },
  {
   "cell_type": "markdown",
   "metadata": {},
   "source": [
    "8958\n",
    "\n",
    "https://www.acmicpc.net/problem/8958"
   ]
  },
  {
   "cell_type": "code",
   "execution_count": null,
   "metadata": {},
   "outputs": [],
   "source": [
    "n = int(input())\n",
    "\n",
    "for i in range(n):\n",
    "    answer_list = input()\n",
    "    add = 0\n",
    "    score_list = []\n",
    "\n",
    "    for answer in answer_list:\n",
    "        if answer == \"O\":\n",
    "            add += 1\n",
    "        else:\n",
    "            add = 0\n",
    "        score_list.append(add)\n",
    "    print(sum(score_list))"
   ]
  },
  {
   "cell_type": "markdown",
   "metadata": {},
   "source": [
    "4344\n",
    "\n",
    "https://www.acmicpc.net/problem/4344"
   ]
  },
  {
   "cell_type": "code",
   "execution_count": null,
   "metadata": {},
   "outputs": [],
   "source": [
    "total = int(input())\n",
    "\n",
    "for i in range(total):\n",
    "    score = list(map(int, input().split()))\n",
    "    avg = sum(score[1:]) / score[0]\n",
    "    cnt = 0\n",
    "    for j in score[1:]:\n",
    "        if j > avg:\n",
    "            cnt += 1\n",
    "    print(f'{cnt/score[0]*100:.3f}%')"
   ]
  },
  {
   "cell_type": "markdown",
   "metadata": {},
   "source": [
    "## 5. 함수"
   ]
  },
  {
   "cell_type": "markdown",
   "metadata": {},
   "source": [
    "15596\n",
    "\n",
    "https://www.acmicpc.net/problem/15596"
   ]
  },
  {
   "cell_type": "code",
   "execution_count": null,
   "metadata": {},
   "outputs": [],
   "source": [
    "def solve(a):\n",
    "    ans = 0\n",
    "    for i in a:\n",
    "        ans += i\n",
    "    return ans\n",
    "\n",
    "def solve1(a):\n",
    "    return sum(a)"
   ]
  },
  {
   "cell_type": "markdown",
   "metadata": {},
   "source": [
    "4673\n",
    "\n",
    "https://www.acmicpc.net/problem/4673"
   ]
  },
  {
   "cell_type": "code",
   "execution_count": null,
   "metadata": {},
   "outputs": [],
   "source": [
    "def d(n):\n",
    "    n = n + sum(map(int, str(n)))\n",
    "    return n\n",
    "\n",
    "constructor_number = set()\n",
    "\n",
    "for i in range(1, 10001):\n",
    "    constructor_number.add(d(i))\n",
    "\n",
    "for j in range(1, 10001):\n",
    "    if j not in constructor_number:\n",
    "        print(j)"
   ]
  },
  {
   "cell_type": "markdown",
   "metadata": {},
   "source": [
    "1065\n",
    "\n",
    "https://www.acmicpc.net/problem/1065"
   ]
  },
  {
   "cell_type": "code",
   "execution_count": null,
   "metadata": {},
   "outputs": [],
   "source": [
    "def han(n):\n",
    "    han_num_cnt = 0\n",
    "    for i in range(1, n+1):\n",
    "        num_list = list(map(int, str(i)))\n",
    "        if i < 100:\n",
    "            han_num_cnt += 1\n",
    "        elif num_list[0]+num_list[2] == 2*num_list[1]:\n",
    "            han_num_cnt += 1\n",
    "    return han_num_cnt\n",
    "\n",
    "num = int(input())\n",
    "print(han(num))"
   ]
  },
  {
   "cell_type": "markdown",
   "metadata": {},
   "source": [
    "## 6. 문자열"
   ]
  },
  {
   "cell_type": "markdown",
   "metadata": {},
   "source": [
    "11654\n",
    "\n",
    "https://www.acmicpc.net/problem/11654"
   ]
  },
  {
   "cell_type": "code",
   "execution_count": null,
   "metadata": {},
   "outputs": [],
   "source": [
    "n = input()\n",
    "print(ord(n))"
   ]
  },
  {
   "cell_type": "markdown",
   "metadata": {},
   "source": [
    "11720\n",
    "\n",
    "https://www.acmicpc.net/problem/11720"
   ]
  },
  {
   "cell_type": "code",
   "execution_count": 5,
   "metadata": {},
   "outputs": [
    {
     "name": "stdout",
     "output_type": "stream",
     "text": [
      "6\n"
     ]
    }
   ],
   "source": [
    "n = input()\n",
    "num = input()\n",
    "add = 0\n",
    "\n",
    "for i in num:\n",
    "    add += int(i)\n",
    "print(add)"
   ]
  },
  {
   "cell_type": "markdown",
   "metadata": {},
   "source": [
    "10809\n",
    "\n",
    "https://www.acmicpc.net/problem/10809"
   ]
  },
  {
   "cell_type": "code",
   "execution_count": 7,
   "metadata": {},
   "outputs": [
    {
     "name": "stdout",
     "output_type": "stream",
     "text": [
      "-1 -1 -1 3 -1 -1 -1 -1 -1 -1 -1 -1 -1 -1 1 -1 -1 2 -1 -1 -1 -1 0 -1 -1 -1 "
     ]
    }
   ],
   "source": [
    "word = input()\n",
    "alphabet ='abcdefghijklmnopqrstuvwxyz'\n",
    "\n",
    "for i in alphabet:\n",
    "    if i in word:\n",
    "        print(word.index(i), end=' ')\n",
    "    else:\n",
    "        print(-1, end=' ')"
   ]
  },
  {
   "cell_type": "markdown",
   "metadata": {},
   "source": [
    "2675\n",
    "\n",
    "https://www.acmicpc.net/problem/2675"
   ]
  },
  {
   "cell_type": "code",
   "execution_count": null,
   "metadata": {},
   "outputs": [],
   "source": [
    "qrcode = int(input())\n",
    "for i in range(qrcode):\n",
    "    num, s = input().split()\n",
    "    text = ''\n",
    "    for i in s:\n",
    "        text += int(num) * i\n",
    "    print(text)"
   ]
  },
  {
   "cell_type": "markdown",
   "metadata": {},
   "source": [
    "1157\n",
    "\n",
    "https://www.acmicpc.net/problem/1157"
   ]
  },
  {
   "cell_type": "code",
   "execution_count": null,
   "metadata": {},
   "outputs": [],
   "source": [
    "word = input().upper()\n",
    "word_list = list(set(word))\n",
    "cnt = []\n",
    "\n",
    "for i in word_list:\n",
    "    count = word.count(i)\n",
    "    cnt.append(count)\n",
    "\n",
    "if cnt.count(max(cnt)) >= 2:\n",
    "    print(\"?\")\n",
    "else:\n",
    "    print(word_list[(cnt.index(max(cnt)))])"
   ]
  },
  {
   "cell_type": "markdown",
   "metadata": {},
   "source": [
    "1152\n",
    "\n",
    "https://www.acmicpc.net/problem/1152"
   ]
  },
  {
   "cell_type": "code",
   "execution_count": null,
   "metadata": {},
   "outputs": [],
   "source": [
    "word = input().split()\n",
    "print(len(word))"
   ]
  },
  {
   "cell_type": "markdown",
   "metadata": {},
   "source": [
    "2908\n",
    "\n",
    "https://www.acmicpc.net/problem/2908"
   ]
  },
  {
   "cell_type": "code",
   "execution_count": null,
   "metadata": {},
   "outputs": [],
   "source": [
    "num1, num2 = input().split()\n",
    "\n",
    "num1 = int(num1[::-1])\n",
    "num2 = int(num2[::-1])\n",
    "\n",
    "if num1 > num2:\n",
    "    print(num1)\n",
    "else:\n",
    "    print(num2)"
   ]
  },
  {
   "cell_type": "markdown",
   "metadata": {},
   "source": [
    "5622\n",
    "\n",
    "https://www.acmicpc.net/problem/5622"
   ]
  },
  {
   "cell_type": "code",
   "execution_count": null,
   "metadata": {},
   "outputs": [],
   "source": [
    "alpabet_list = ['ABC','DEF','GHI','JKL','MNO','PQRS','TUV','WXYZ']\n",
    "word = input()\n",
    "num = 0\n",
    "\n",
    "for j in range(len(word)):\n",
    "    for i in alpabet_list:\n",
    "        if word[j] in i:\n",
    "            num += alpabet_list.index(i)+3\n",
    "        \n",
    "print(num)"
   ]
  },
  {
   "cell_type": "markdown",
   "metadata": {},
   "source": [
    "2941\n",
    "\n",
    "https://www.acmicpc.net/problem/2941"
   ]
  },
  {
   "cell_type": "code",
   "execution_count": null,
   "metadata": {},
   "outputs": [],
   "source": [
    "croatia = ['c=', 'c-', 'dz=', 'd-', 'lj', 'nj', 's=', 'z=']\n",
    "word = input()\n",
    "\n",
    "for i in croatia:\n",
    "    word = word.replace(i, '*')\n",
    "print(len(word))"
   ]
  },
  {
   "cell_type": "markdown",
   "metadata": {},
   "source": [
    "1316\n",
    "\n",
    "https://www.acmicpc.net/problem/1316"
   ]
  },
  {
   "cell_type": "code",
   "execution_count": null,
   "metadata": {},
   "outputs": [],
   "source": [
    "n = int(input())\n",
    "group_word = 0\n",
    "\n",
    "for i in range(n):\n",
    "    word = input()\n",
    "    error = 0\n",
    "    for index in range(0, len(word)-1):  # 인덱스 범위 생성 : 0부터 단어개수 -1까지 \n",
    "        if word[index] != word[index+1]:  # 연달은 두 문자가 다른 때,\n",
    "            new_word = word[index+1:]  # 현재글자 이후 문자열을 새로운 단어로 생성\n",
    "            if new_word.count(word[index]) > 0:  # 남은 문자열에서 현재글자가 있있다면\n",
    "                error += 1  # error에 1씩 증가.\n",
    "    if error == 0:  \n",
    "        group_word += 1  # error가 0이면 그룹단어\n",
    "print(group_word)"
   ]
  },
  {
   "cell_type": "markdown",
   "metadata": {},
   "source": [
    "## 7. 기본 수학 1"
   ]
  },
  {
   "cell_type": "markdown",
   "metadata": {},
   "source": [
    "1712\n",
    "\n",
    "https://www.acmicpc.net/problem/1712"
   ]
  },
  {
   "cell_type": "code",
   "execution_count": null,
   "metadata": {},
   "outputs": [],
   "source": [
    "A, B, C = map(int, input().split())\n",
    "\n",
    "if (B >= C):\n",
    "    print(-1)\n",
    "else:\n",
    "    print(int(A/(C-B))+1)"
   ]
  },
  {
   "cell_type": "markdown",
   "metadata": {},
   "source": [
    "2292\n",
    "\n",
    "https://www.acmicpc.net/problem/2292"
   ]
  },
  {
   "cell_type": "code",
   "execution_count": null,
   "metadata": {},
   "outputs": [],
   "source": [
    "n = int(input())\n",
    "a = 1\n",
    "cnt = 0\n",
    " \n",
    "while a < n:\n",
    "        cnt += 1\n",
    "        a += 6 * cnt\n",
    "        \n",
    "print(cnt+1)"
   ]
  },
  {
   "cell_type": "markdown",
   "metadata": {},
   "source": [
    "1193\n",
    "\n",
    "https://www.acmicpc.net/problem/1193"
   ]
  },
  {
   "cell_type": "code",
   "execution_count": null,
   "metadata": {},
   "outputs": [],
   "source": [
    "X=int(input())\n",
    "\n",
    "line=1\n",
    "while X>line:\n",
    "    X-=line\n",
    "    line+=1\n",
    "    \n",
    "if line%2==0:\n",
    "    a=X\n",
    "    b=line-X+1\n",
    "else:\n",
    "    a=line-X+1\n",
    "    b=X\n",
    "    \n",
    "print(a, '/', b, sep='')"
   ]
  },
  {
   "cell_type": "markdown",
   "metadata": {},
   "source": [
    "2869\n",
    "\n",
    "https://www.acmicpc.net/problem/2869"
   ]
  },
  {
   "cell_type": "code",
   "execution_count": null,
   "metadata": {},
   "outputs": [],
   "source": [
    "A,B,V = map(int, input().split())\n",
    "\n",
    "if (V-B) % (A-B) == 0 :\n",
    "    print((V-B) // (A-B))\n",
    "else :\n",
    "    print(((V-B) // (A-B)) +1)"
   ]
  },
  {
   "cell_type": "markdown",
   "metadata": {},
   "source": [
    "10250\n",
    "\n",
    "https://www.acmicpc.net/problem/10250"
   ]
  },
  {
   "cell_type": "code",
   "execution_count": null,
   "metadata": {},
   "outputs": [],
   "source": [
    "t = int(input())\n",
    "for i in range(t):\n",
    "    h, w, n = map(int, input().split())\n",
    "    num = n//h + 1\n",
    "    floor = n % h \n",
    "    if n%h == 0:\n",
    "        num = n//h\n",
    "        floor = h\n",
    "    print(f'{floor*100+num}')"
   ]
  },
  {
   "cell_type": "markdown",
   "metadata": {},
   "source": [
    "2775\n",
    "\n",
    "https://www.acmicpc.net/problem/2775"
   ]
  },
  {
   "cell_type": "code",
   "execution_count": null,
   "metadata": {},
   "outputs": [],
   "source": [
    "t = int(input())\n",
    "for i in range(t):\n",
    "    k = int(input())\n",
    "    n = int(input())\n",
    "    people = [ i for i in range(1, n+1)]\n",
    "    \n",
    "    for x in range(k):\n",
    "        for y in range(1, n):\n",
    "            people[y] += people[y-1]\n",
    "    print(people[-1])"
   ]
  },
  {
   "cell_type": "markdown",
   "metadata": {},
   "source": [
    "2839\n",
    "\n",
    "https://www.acmicpc.net/problem/2839"
   ]
  },
  {
   "cell_type": "code",
   "execution_count": null,
   "metadata": {},
   "outputs": [],
   "source": [
    "n = int(input())\n",
    "\n",
    "count = 0\n",
    "while n >= 0:\n",
    "    if n % 5 == 0:\n",
    "        count += n//5\n",
    "        break\n",
    "    n -= 3\n",
    "    count += 1\n",
    "else :\n",
    "    count = -1\n",
    "    \n",
    "print(count)"
   ]
  },
  {
   "cell_type": "markdown",
   "metadata": {},
   "source": [
    "1978\n",
    "\n",
    "https://www.acmicpc.net/submit/1978"
   ]
  },
  {
   "cell_type": "code",
   "execution_count": null,
   "metadata": {},
   "outputs": [],
   "source": [
    "t = int(input())\n",
    "n = map(int, input().split())\n",
    "count = 0\n",
    "\n",
    "for i in n:\n",
    "    cnt = 0\n",
    "    if i==1 :\n",
    "        continue\n",
    "    for j in range(2, i+1):\n",
    "        if i%j==0:\n",
    "            cnt += 1\n",
    "    if cnt==1:\n",
    "        count += 1\n",
    "print(count)"
   ]
  },
  {
   "cell_type": "markdown",
   "metadata": {},
   "source": [
    "2581\n",
    "\n",
    "https://www.acmicpc.net/problem/2581"
   ]
  },
  {
   "cell_type": "code",
   "execution_count": null,
   "metadata": {},
   "outputs": [],
   "source": [
    "start = int(input())\n",
    "end = int(input())\n",
    "\n",
    "prime_list = []\n",
    "\n",
    "for i in range(start, end+1):\n",
    "    count = 0\n",
    "    if i>1 :\n",
    "        for j in range(2, i):\n",
    "            if i%j == 0:\n",
    "                count += 1\n",
    "                break\n",
    "        if count ==0 :\n",
    "            prime_list.append(i)\n",
    "\n",
    "if len(prime_list)>0:\n",
    "    print(sum(prime_list))\n",
    "    print(min(prime_list))\n",
    "else:\n",
    "    print(-1)"
   ]
  },
  {
   "cell_type": "markdown",
   "metadata": {},
   "source": [
    "11653\n",
    "\n",
    "https://www.acmicpc.net/problem/11653"
   ]
  },
  {
   "cell_type": "code",
   "execution_count": null,
   "metadata": {},
   "outputs": [],
   "source": [
    "n = int(input())\n",
    "d = 2\n",
    "\n",
    "while n != 1:\n",
    "    if n % d != 0:\n",
    "        d += 1\n",
    "    else:\n",
    "        n //= d\n",
    "        print(d)"
   ]
  },
  {
   "cell_type": "markdown",
   "metadata": {},
   "source": [
    "1929\n",
    "\n",
    "https://www.acmicpc.net/problem/1929"
   ]
  },
  {
   "cell_type": "code",
   "execution_count": null,
   "metadata": {},
   "outputs": [],
   "source": [
    "start, end = map(int, input().split())\n",
    "\n",
    "for i in range(start, end+1):\n",
    "    if i==1 :\n",
    "        continue\n",
    "    for j in range(2, int(i**0.5)+1):\n",
    "        if i%j==0:\n",
    "            break\n",
    "    else:\n",
    "        print(i)"
   ]
  },
  {
   "cell_type": "markdown",
   "metadata": {},
   "source": [
    "4948\n",
    "\n",
    "https://www.acmicpc.net/problem/4948"
   ]
  },
  {
   "cell_type": "code",
   "execution_count": null,
   "metadata": {},
   "outputs": [],
   "source": [
    "prime_list = []\n",
    "\n",
    "for i in range(2, 246913):\n",
    "    cnt = 0\n",
    "    for j in range(2, int(i**0.5)+1):\n",
    "            if i%j==0:\n",
    "                cnt += 1\n",
    "                break\n",
    "    \n",
    "    if cnt == 0:\n",
    "        prime_list.append(i)\n",
    "\n",
    "while True:\n",
    "    n = int(input())\n",
    "    res = 0\n",
    "    if n==0:\n",
    "        break\n",
    "    \n",
    "    for i in prime_list:\n",
    "        if n < i <= 2*n:\n",
    "            res += 1\n",
    "\n",
    "    print(res)"
   ]
  },
  {
   "cell_type": "markdown",
   "metadata": {},
   "source": [
    "9020\n",
    "\n",
    "https://www.acmicpc.net/problem/9020"
   ]
  },
  {
   "cell_type": "code",
   "execution_count": 4,
   "metadata": {},
   "outputs": [
    {
     "ename": "TypeError",
     "evalue": "'function' object is not subscriptable",
     "output_type": "error",
     "traceback": [
      "\u001b[0;31m---------------------------------------------------------------------------\u001b[0m",
      "\u001b[0;31mTypeError\u001b[0m                                 Traceback (most recent call last)",
      "\u001b[1;32m/Users/uyunho/Documents/study/Baekjoon/Baekjoon_exercise.ipynb 셀 105\u001b[0m in \u001b[0;36m<cell line: 28>\u001b[0;34m()\u001b[0m\n\u001b[1;32m     <a href='vscode-notebook-cell:/Users/uyunho/Documents/study/Baekjoon/Baekjoon_exercise.ipynb#Y205sZmlsZQ%3D%3D?line=24'>25</a>\u001b[0m             a \u001b[39m-\u001b[39m\u001b[39m=\u001b[39m \u001b[39m1\u001b[39m\n\u001b[1;32m     <a href='vscode-notebook-cell:/Users/uyunho/Documents/study/Baekjoon/Baekjoon_exercise.ipynb#Y205sZmlsZQ%3D%3D?line=25'>26</a>\u001b[0m             b \u001b[39m+\u001b[39m\u001b[39m=\u001b[39m \u001b[39m1\u001b[39m\n\u001b[0;32m---> <a href='vscode-notebook-cell:/Users/uyunho/Documents/study/Baekjoon/Baekjoon_exercise.ipynb#Y205sZmlsZQ%3D%3D?line=27'>28</a>\u001b[0m Goldbach()\n",
      "\u001b[1;32m/Users/uyunho/Documents/study/Baekjoon/Baekjoon_exercise.ipynb 셀 105\u001b[0m in \u001b[0;36mGoldbach\u001b[0;34m()\u001b[0m\n\u001b[1;32m      <a href='vscode-notebook-cell:/Users/uyunho/Documents/study/Baekjoon/Baekjoon_exercise.ipynb#Y205sZmlsZQ%3D%3D?line=6'>7</a>\u001b[0m prime_check \u001b[39m=\u001b[39m [\u001b[39mFalse\u001b[39;00m, \u001b[39mFalse\u001b[39;00m] \u001b[39m+\u001b[39m [\u001b[39mTrue\u001b[39;00m]\u001b[39m*\u001b[39m\u001b[39m10000\u001b[39m\n\u001b[1;32m      <a href='vscode-notebook-cell:/Users/uyunho/Documents/study/Baekjoon/Baekjoon_exercise.ipynb#Y205sZmlsZQ%3D%3D?line=8'>9</a>\u001b[0m \u001b[39mfor\u001b[39;00m i \u001b[39min\u001b[39;00m \u001b[39mrange\u001b[39m(\u001b[39m2\u001b[39m, \u001b[39m101\u001b[39m):\n\u001b[0;32m---> <a href='vscode-notebook-cell:/Users/uyunho/Documents/study/Baekjoon/Baekjoon_exercise.ipynb#Y205sZmlsZQ%3D%3D?line=9'>10</a>\u001b[0m     \u001b[39mif\u001b[39;00m check[i] \u001b[39m==\u001b[39m \u001b[39mTrue\u001b[39;00m:\n\u001b[1;32m     <a href='vscode-notebook-cell:/Users/uyunho/Documents/study/Baekjoon/Baekjoon_exercise.ipynb#Y205sZmlsZQ%3D%3D?line=10'>11</a>\u001b[0m         \u001b[39mfor\u001b[39;00m j \u001b[39min\u001b[39;00m \u001b[39mrange\u001b[39m(i\u001b[39m+\u001b[39mi, \u001b[39m10001\u001b[39m, i):\n\u001b[1;32m     <a href='vscode-notebook-cell:/Users/uyunho/Documents/study/Baekjoon/Baekjoon_exercise.ipynb#Y205sZmlsZQ%3D%3D?line=11'>12</a>\u001b[0m             check[j] \u001b[39m=\u001b[39m \u001b[39mFalse\u001b[39;00m\n",
      "\u001b[0;31mTypeError\u001b[0m: 'function' object is not subscriptable"
     ]
    }
   ],
   "source": [
    "import sys\n",
    "from tabnanny import check\n",
    "\n",
    "prime_list = [False, False] + [True]*10002\n",
    "\n",
    "def Goldbach():\n",
    "    prime_check = [False, False] + [True]*10000\n",
    "    \n",
    "    for i in range(2, 101):\n",
    "        if check[i] == True:\n",
    "            for j in range(i+i, 10001, i):\n",
    "                check[j] = False\n",
    "                \n",
    "    t = int(input())\n",
    "    for _ in range(t):\n",
    "        n = int(input())\n",
    "        \n",
    "        a = n//2\n",
    "        b = a\n",
    "        \n",
    "        for _ in range(10000):\n",
    "            if prime_check[a] and prime_check[b]:\n",
    "                print(a, b)\n",
    "                break\n",
    "            a -= 1\n",
    "            b += 1\n",
    "            \n",
    "Goldbach()"
   ]
  },
  {
   "cell_type": "code",
   "execution_count": null,
   "metadata": {},
   "outputs": [],
   "source": []
  }
 ],
 "metadata": {
  "kernelspec": {
   "display_name": "Python 3.10.4 64-bit",
   "language": "python",
   "name": "python3"
  },
  "language_info": {
   "codemirror_mode": {
    "name": "ipython",
    "version": 3
   },
   "file_extension": ".py",
   "mimetype": "text/x-python",
   "name": "python",
   "nbconvert_exporter": "python",
   "pygments_lexer": "ipython3",
   "version": "3.10.4"
  },
  "orig_nbformat": 4,
  "vscode": {
   "interpreter": {
    "hash": "aee8b7b246df8f9039afb4144a1f6fd8d2ca17a180786b69acc140d282b71a49"
   }
  }
 },
 "nbformat": 4,
 "nbformat_minor": 2
}
