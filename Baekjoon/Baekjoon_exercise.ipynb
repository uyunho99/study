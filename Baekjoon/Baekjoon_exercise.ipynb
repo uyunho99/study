{
 "cells": [
  {
   "cell_type": "markdown",
   "metadata": {},
   "source": [
    "## 1. 입출력과 사칙연산"
   ]
  },
  {
   "cell_type": "markdown",
   "metadata": {},
   "source": [
    "1000\n",
    "\n",
    "https://www.acmicpc.net/problem/1000"
   ]
  },
  {
   "cell_type": "code",
   "execution_count": null,
   "metadata": {},
   "outputs": [],
   "source": [
    "a, b = map(int, input().split())\n",
    "# map(변환 함수, 데이터)\n",
    "# split() > 스페이스바로 변수 구분 지정\n",
    "\n",
    "print(a+b)"
   ]
  },
  {
   "cell_type": "markdown",
   "metadata": {},
   "source": [
    "10926\n",
    "\n",
    "https://www.acmicpc.net/problem/10926"
   ]
  },
  {
   "cell_type": "code",
   "execution_count": null,
   "metadata": {},
   "outputs": [],
   "source": [
    "name = input()\n",
    "print(name+'??!')"
   ]
  },
  {
   "cell_type": "markdown",
   "metadata": {},
   "source": [
    "3003\n",
    "\n",
    "https://www.acmicpc.net/problem/3003"
   ]
  },
  {
   "cell_type": "code",
   "execution_count": null,
   "metadata": {},
   "outputs": [],
   "source": [
    "chess = [1, 1, 2, 2, 2, 8]\n",
    "remain = list(map(int, input().split()))\n",
    "\n",
    "for i in range(6):\n",
    "    print(chess[i]-remain[i], end=' ')"
   ]
  },
  {
   "cell_type": "markdown",
   "metadata": {},
   "source": [
    "2588\n",
    "\n",
    "https://www.acmicpc.net/problem/2588"
   ]
  },
  {
   "cell_type": "code",
   "execution_count": null,
   "metadata": {},
   "outputs": [],
   "source": [
    "a = int(input())\n",
    "b = input()\n",
    "\n",
    "a1 = a * int(b[2])\n",
    "a2 = a * int(b[1])\n",
    "a3 = a * int(b[0])\n",
    "a4 = a * int(b)\n",
    "\n",
    "print (a1, a2, a3, a4, sep='\\n')"
   ]
  }
 ],
 "metadata": {
  "kernelspec": {
   "display_name": "Python 3.10.4 64-bit",
   "language": "python",
   "name": "python3"
  },
  "language_info": {
   "name": "python",
   "version": "3.10.4"
  },
  "orig_nbformat": 4,
  "vscode": {
   "interpreter": {
    "hash": "aee8b7b246df8f9039afb4144a1f6fd8d2ca17a180786b69acc140d282b71a49"
   }
  }
 },
 "nbformat": 4,
 "nbformat_minor": 2
}
