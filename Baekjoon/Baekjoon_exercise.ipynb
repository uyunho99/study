{
 "cells": [
  {
   "cell_type": "markdown",
   "metadata": {},
   "source": [
    "## 1. 입출력과 사칙연산"
   ]
  },
  {
   "cell_type": "markdown",
   "metadata": {},
   "source": [
    "1000\n",
    "\n",
    "https://www.acmicpc.net/problem/1000"
   ]
  },
  {
   "cell_type": "code",
   "execution_count": null,
   "metadata": {},
   "outputs": [],
   "source": [
    "a, b = map(int, input().split())\n",
    "# map(변환 함수, 데이터)\n",
    "# split() > 스페이스바로 변수 구분 지정\n",
    "\n",
    "print(a+b)"
   ]
  },
  {
   "cell_type": "markdown",
   "metadata": {},
   "source": [
    "10926\n",
    "\n",
    "https://www.acmicpc.net/problem/10926"
   ]
  },
  {
   "cell_type": "code",
   "execution_count": null,
   "metadata": {},
   "outputs": [],
   "source": [
    "name = input()\n",
    "print(name+'??!')"
   ]
  },
  {
   "cell_type": "markdown",
   "metadata": {},
   "source": [
    "3003\n",
    "\n",
    "https://www.acmicpc.net/problem/3003"
   ]
  },
  {
   "cell_type": "code",
   "execution_count": null,
   "metadata": {},
   "outputs": [],
   "source": [
    "chess = [1, 1, 2, 2, 2, 8]\n",
    "remain = list(map(int, input().split()))\n",
    "\n",
    "for i in range(6):\n",
    "    print(chess[i]-remain[i], end=' ')"
   ]
  },
  {
   "cell_type": "markdown",
   "metadata": {},
   "source": [
    "2588\n",
    "\n",
    "https://www.acmicpc.net/problem/2588"
   ]
  },
  {
   "cell_type": "code",
   "execution_count": null,
   "metadata": {},
   "outputs": [],
   "source": [
    "a = int(input())\n",
    "b = input()\n",
    "\n",
    "a1 = a * int(b[2])\n",
    "a2 = a * int(b[1])\n",
    "a3 = a * int(b[0])\n",
    "a4 = a * int(b)\n",
    "\n",
    "print (a1, a2, a3, a4, sep='\\n')"
   ]
  },
  {
   "cell_type": "markdown",
   "metadata": {},
   "source": [
    "## 2. 조건문"
   ]
  },
  {
   "cell_type": "markdown",
   "metadata": {},
   "source": [
    "1330\n",
    "\n",
    "https://www.acmicpc.net/problem/1330"
   ]
  },
  {
   "cell_type": "code",
   "execution_count": null,
   "metadata": {},
   "outputs": [],
   "source": [
    "A,B = map(int,input().split())\n",
    "\n",
    "if A > B:\n",
    "    print('>')\n",
    "elif A < B:\n",
    "    print('<')\n",
    "else:\n",
    "    print('==')"
   ]
  },
  {
   "cell_type": "markdown",
   "metadata": {},
   "source": [
    "2884\n",
    "\n",
    "https://www.acmicpc.net/problem/2884"
   ]
  },
  {
   "cell_type": "code",
   "execution_count": null,
   "metadata": {},
   "outputs": [],
   "source": [
    "H, M = map(int, input().split())\n",
    "\n",
    "if M < 45 :\t\n",
    "    if H == 0 :\n",
    "        H = 23\n",
    "        M += 60\n",
    "    else :\n",
    "        H -= 1\t\n",
    "        M += 60\n",
    "        \n",
    "print(H, M-45)\t"
   ]
  },
  {
   "cell_type": "markdown",
   "metadata": {},
   "source": [
    "## 3. 반복문"
   ]
  },
  {
   "cell_type": "markdown",
   "metadata": {},
   "source": [
    "2739\n",
    "\n",
    "https://www.acmicpc.net/problem/2739"
   ]
  },
  {
   "cell_type": "code",
   "execution_count": null,
   "metadata": {},
   "outputs": [],
   "source": [
    "n = int(input())\n",
    "\n",
    "for i in range(1, 10):\n",
    "    output = \"{} * {} = {}\".format(n, i, n*i)\n",
    "    print(output)"
   ]
  },
  {
   "cell_type": "markdown",
   "metadata": {},
   "source": [
    "10950\n",
    "\n",
    "https://www.acmicpc.net/problem/10950"
   ]
  },
  {
   "cell_type": "code",
   "execution_count": null,
   "metadata": {},
   "outputs": [],
   "source": [
    "t = int(input())\n",
    "\n",
    "for _ in range(t): \n",
    "    a,b = map(int,input().split())\n",
    "    print(a+b)"
   ]
  },
  {
   "cell_type": "markdown",
   "metadata": {},
   "source": [
    "8393\n",
    "\n",
    "https://www.acmicpc.net/problem/8393"
   ]
  },
  {
   "cell_type": "code",
   "execution_count": null,
   "metadata": {},
   "outputs": [],
   "source": [
    "n = int(input())\n",
    "sum = 0\n",
    "for i in range(n+1):\n",
    "    sum = sum + i\n",
    "print(sum)"
   ]
  },
  {
   "cell_type": "markdown",
   "metadata": {},
   "source": [
    "25304\n",
    "\n",
    "https://www.acmicpc.net/problem/25304"
   ]
  },
  {
   "cell_type": "code",
   "execution_count": null,
   "metadata": {},
   "outputs": [],
   "source": [
    "total = int(input())\n",
    "times = int(input())\n",
    "\n",
    "for i in range(times):\n",
    "    amount, units = input().split()\n",
    "    amount, units = int(amount), int(units)\n",
    "    \n",
    "    total -= amount*units\n",
    "\n",
    "print(\"Yes\" if total==0 else \"No\")"
   ]
  },
  {
   "cell_type": "markdown",
   "metadata": {},
   "source": [
    "15552\n",
    "\n",
    "https://www.acmicpc.net/problem/15552"
   ]
  },
  {
   "cell_type": "code",
   "execution_count": null,
   "metadata": {},
   "outputs": [],
   "source": [
    "#1\n",
    "import sys\n",
    "\n",
    "t = int(input())\n",
    "\n",
    "for i in range(t): \n",
    "    a,b = map(int, sys.stdin.readline().split())\n",
    "    print(a+b)\n",
    "\n",
    "#2\n",
    "import sys\n",
    "input = sys.stdin.readline\n",
    "T = int(input())\n",
    "\n",
    "for i in range(T):\n",
    "    a, b = map(int, input().split())\n",
    "    print(a+b)"
   ]
  },
  {
   "cell_type": "markdown",
   "metadata": {},
   "source": [
    "11021\n",
    "\n",
    "https://www.acmicpc.net/problem/11021"
   ]
  },
  {
   "cell_type": "code",
   "execution_count": null,
   "metadata": {},
   "outputs": [],
   "source": [
    "import sys\n",
    "\n",
    "t = int(input())\n",
    "\n",
    "for i in range(t): \n",
    "    a,b = map(int, sys.stdin.readline().split())\n",
    "    print(\"Case #{}: {}\".format(i+1, a+b))"
   ]
  },
  {
   "cell_type": "markdown",
   "metadata": {},
   "source": [
    "2438\n",
    "\n",
    "https://www.acmicpc.net/problem/2438"
   ]
  },
  {
   "cell_type": "code",
   "execution_count": null,
   "metadata": {},
   "outputs": [],
   "source": [
    "t = int(input())\n",
    "\n",
    "for i in range(1, t+1):\n",
    "    print(\" \" * (t-i) + \"*\" * i)"
   ]
  },
  {
   "cell_type": "markdown",
   "metadata": {},
   "source": [
    "10871\n",
    "\n",
    "https://www.acmicpc.net/problem/10871"
   ]
  },
  {
   "cell_type": "code",
   "execution_count": null,
   "metadata": {},
   "outputs": [],
   "source": [
    "N, X = map(int, input().split())\n",
    "inp = list(map(int, input().split()))\n",
    "\n",
    "for i in range(N):\n",
    "    if inp[i] < X:\n",
    "        print(inp[i], end = \" \")"
   ]
  },
  {
   "cell_type": "markdown",
   "metadata": {},
   "source": [
    "10952\n",
    "\n",
    "https://www.acmicpc.net/problem/10952"
   ]
  },
  {
   "cell_type": "code",
   "execution_count": null,
   "metadata": {},
   "outputs": [],
   "source": [
    "while True:\n",
    "    a, b = map(int, input().split())\n",
    "    if (a == 0 and b == 0):\n",
    "        break\n",
    "    else:\n",
    "        print(a+b)"
   ]
  },
  {
   "cell_type": "markdown",
   "metadata": {},
   "source": [
    "10951\n",
    "\n",
    "https://www.acmicpc.net/problem/10951"
   ]
  },
  {
   "cell_type": "code",
   "execution_count": null,
   "metadata": {},
   "outputs": [],
   "source": [
    "while True:\n",
    "    try:\n",
    "        a, b = map(int, input().split())\n",
    "        print(a+b)\n",
    "    except:\n",
    "        break"
   ]
  },
  {
   "cell_type": "markdown",
   "metadata": {},
   "source": [
    "1110\n",
    "\n",
    "https://www.acmicpc.net/problem/1110"
   ]
  },
  {
   "cell_type": "code",
   "execution_count": null,
   "metadata": {},
   "outputs": [],
   "source": [
    "n = int(input())\n",
    "num = n\n",
    "cnt = 0\n",
    "\n",
    "while True:\n",
    "    a = num // 10\n",
    "    b = num % 10\n",
    "    c = (a+b) % 10\n",
    "    num = (b * 10) + c\n",
    "    \n",
    "    cnt = cnt + 1\n",
    "    if(num == n):\n",
    "        break\n",
    "print(cnt)"
   ]
  },
  {
   "cell_type": "markdown",
   "metadata": {},
   "source": [
    "## 4. 배열"
   ]
  },
  {
   "cell_type": "markdown",
   "metadata": {},
   "source": [
    "10818\n",
    "\n",
    "https://www.acmicpc.net/problem/10818"
   ]
  },
  {
   "cell_type": "code",
   "execution_count": null,
   "metadata": {},
   "outputs": [],
   "source": [
    "N = int(input())\n",
    "inp = list(map(int, input().split()))\n",
    "print(min(inp), max(inp))"
   ]
  },
  {
   "cell_type": "markdown",
   "metadata": {},
   "source": [
    "2562\n",
    "\n",
    "https://www.acmicpc.net/problem/2562"
   ]
  },
  {
   "cell_type": "code",
   "execution_count": null,
   "metadata": {},
   "outputs": [],
   "source": [
    "num_list = []\n",
    "for i in range(9) :\n",
    "    num_list.append(int(input()))\n",
    "\n",
    "print(max(num_list))\n",
    "print(num_list.index(max(num_list))+1)"
   ]
  },
  {
   "cell_type": "markdown",
   "metadata": {},
   "source": [
    "3052\n",
    "\n",
    "https://www.acmicpc.net/problem/3052"
   ]
  },
  {
   "cell_type": "code",
   "execution_count": null,
   "metadata": {},
   "outputs": [],
   "source": [
    "num_list = []\n",
    "for i in range(10) :\n",
    "    inp = int(input())\n",
    "    rem = inp % 42\n",
    "    num_list.append(rem)\n",
    "    \n",
    "remain_set = set(num_list)\n",
    "print(len(remain_set))"
   ]
  },
  {
   "cell_type": "markdown",
   "metadata": {},
   "source": [
    "1546\n",
    "\n",
    "https://www.acmicpc.net/problem/1546"
   ]
  },
  {
   "cell_type": "code",
   "execution_count": null,
   "metadata": {},
   "outputs": [],
   "source": [
    "n = int(input())\n",
    "score_list = list(map(int, input().split()))\n",
    "max_score = max(score_list)\n",
    "new_list = []\n",
    "for score in score_list:\n",
    "    new_list.append(score/max_score*100)\n",
    "test_avg = sum(new_list)/n\n",
    "print(test_avg)"
   ]
  },
  {
   "cell_type": "markdown",
   "metadata": {},
   "source": [
    "8958\n",
    "\n",
    "https://www.acmicpc.net/problem/8958"
   ]
  },
  {
   "cell_type": "code",
   "execution_count": null,
   "metadata": {},
   "outputs": [],
   "source": [
    "n = int(input())\n",
    "\n",
    "for i in range(n):\n",
    "    answer_list = input()\n",
    "    add = 0\n",
    "    score_list = []\n",
    "\n",
    "    for answer in answer_list:\n",
    "        if answer == \"O\":\n",
    "            add += 1\n",
    "        else:\n",
    "            add = 0\n",
    "        score_list.append(add)\n",
    "    print(sum(score_list))"
   ]
  },
  {
   "cell_type": "markdown",
   "metadata": {},
   "source": [
    "4344\n",
    "\n",
    "https://www.acmicpc.net/problem/4344"
   ]
  },
  {
   "cell_type": "code",
   "execution_count": null,
   "metadata": {},
   "outputs": [],
   "source": [
    "total = int(input())\n",
    "\n",
    "for i in range(total):\n",
    "    score = list(map(int, input().split()))\n",
    "    avg = sum(score[1:]) / score[0]\n",
    "    cnt = 0\n",
    "    for j in score[1:]:\n",
    "        if j > avg:\n",
    "            cnt += 1\n",
    "    print(f'{cnt/score[0]*100:.3f}%')"
   ]
  },
  {
   "cell_type": "markdown",
   "metadata": {},
   "source": [
    "## 5. 함수"
   ]
  },
  {
   "cell_type": "markdown",
   "metadata": {},
   "source": [
    "15596\n",
    "\n",
    "https://www.acmicpc.net/problem/15596"
   ]
  },
  {
   "cell_type": "code",
   "execution_count": null,
   "metadata": {},
   "outputs": [],
   "source": [
    "def solve(a):\n",
    "    ans = 0\n",
    "    for i in a:\n",
    "        ans += i\n",
    "    return ans\n",
    "\n",
    "def solve1(a):\n",
    "    return sum(a)"
   ]
  },
  {
   "cell_type": "markdown",
   "metadata": {},
   "source": [
    "4673\n",
    "\n",
    "https://www.acmicpc.net/problem/4673"
   ]
  },
  {
   "cell_type": "code",
   "execution_count": null,
   "metadata": {},
   "outputs": [],
   "source": [
    "def d(n):\n",
    "    n = n + sum(map(int, str(n)))\n",
    "    return n\n",
    "\n",
    "constructor_number = set()\n",
    "\n",
    "for i in range(1, 10001):\n",
    "    constructor_number.add(d(i))\n",
    "\n",
    "for j in range(1, 10001):\n",
    "    if j not in constructor_number:\n",
    "        print(j)"
   ]
  },
  {
   "cell_type": "markdown",
   "metadata": {},
   "source": [
    "1065\n",
    "\n",
    "https://www.acmicpc.net/problem/1065"
   ]
  },
  {
   "cell_type": "code",
   "execution_count": null,
   "metadata": {},
   "outputs": [],
   "source": [
    "def han(n):\n",
    "    han_num_cnt = 0\n",
    "    for i in range(1, n+1):\n",
    "        num_list = list(map(int, str(i)))\n",
    "        if i < 100:\n",
    "            han_num_cnt += 1\n",
    "        elif num_list[0]+num_list[2] == 2*num_list[1]:\n",
    "            han_num_cnt += 1\n",
    "    return han_num_cnt\n",
    "\n",
    "num = int(input())\n",
    "print(han(num))"
   ]
  },
  {
   "cell_type": "markdown",
   "metadata": {},
   "source": [
    "## 6. 문자열"
   ]
  },
  {
   "cell_type": "markdown",
   "metadata": {},
   "source": [
    "11654\n",
    "\n",
    "https://www.acmicpc.net/problem/11654"
   ]
  },
  {
   "cell_type": "code",
   "execution_count": null,
   "metadata": {},
   "outputs": [],
   "source": [
    "n = input()\n",
    "print(ord(n))"
   ]
  },
  {
   "cell_type": "markdown",
   "metadata": {},
   "source": [
    "11720\n",
    "\n",
    "https://www.acmicpc.net/problem/11720"
   ]
  },
  {
   "cell_type": "code",
   "execution_count": 5,
   "metadata": {},
   "outputs": [
    {
     "name": "stdout",
     "output_type": "stream",
     "text": [
      "6\n"
     ]
    }
   ],
   "source": [
    "n = input()\n",
    "num = input()\n",
    "add = 0\n",
    "\n",
    "for i in num:\n",
    "    add += int(i)\n",
    "print(add)"
   ]
  },
  {
   "cell_type": "markdown",
   "metadata": {},
   "source": [
    "10809\n",
    "\n",
    "https://www.acmicpc.net/problem/10809"
   ]
  },
  {
   "cell_type": "code",
   "execution_count": 7,
   "metadata": {},
   "outputs": [
    {
     "name": "stdout",
     "output_type": "stream",
     "text": [
      "-1 -1 -1 3 -1 -1 -1 -1 -1 -1 -1 -1 -1 -1 1 -1 -1 2 -1 -1 -1 -1 0 -1 -1 -1 "
     ]
    }
   ],
   "source": [
    "word = input()\n",
    "alphabet ='abcdefghijklmnopqrstuvwxyz'\n",
    "\n",
    "for i in alphabet:\n",
    "    if i in word:\n",
    "        print(word.index(i), end=' ')\n",
    "    else:\n",
    "        print(-1, end=' ')"
   ]
  },
  {
   "cell_type": "markdown",
   "metadata": {},
   "source": [
    "2675\n",
    "\n",
    "https://www.acmicpc.net/problem/2675"
   ]
  },
  {
   "cell_type": "code",
   "execution_count": null,
   "metadata": {},
   "outputs": [],
   "source": [
    "qrcode = int(input())\n",
    "for i in range(qrcode):\n",
    "    num, s = input().split()\n",
    "    text = ''\n",
    "    for i in s:\n",
    "        text += int(num) * i\n",
    "    print(text)"
   ]
  },
  {
   "cell_type": "markdown",
   "metadata": {},
   "source": [
    "1157\n",
    "\n",
    "https://www.acmicpc.net/problem/1157"
   ]
  },
  {
   "cell_type": "code",
   "execution_count": null,
   "metadata": {},
   "outputs": [],
   "source": [
    "word = input().upper()\n",
    "word_list = list(set(word))\n",
    "cnt = []\n",
    "\n",
    "for i in word_list:\n",
    "    count = word.count(i)\n",
    "    cnt.append(count)\n",
    "\n",
    "if cnt.count(max(cnt)) >= 2:\n",
    "    print(\"?\")\n",
    "else:\n",
    "    print(word_list[(cnt.index(max(cnt)))])"
   ]
  }
 ],
 "metadata": {
  "kernelspec": {
   "display_name": "Python 3.10.4 64-bit",
   "language": "python",
   "name": "python3"
  },
  "language_info": {
   "codemirror_mode": {
    "name": "ipython",
    "version": 3
   },
   "file_extension": ".py",
   "mimetype": "text/x-python",
   "name": "python",
   "nbconvert_exporter": "python",
   "pygments_lexer": "ipython3",
   "version": "3.10.4"
  },
  "orig_nbformat": 4,
  "vscode": {
   "interpreter": {
    "hash": "aee8b7b246df8f9039afb4144a1f6fd8d2ca17a180786b69acc140d282b71a49"
   }
  }
 },
 "nbformat": 4,
 "nbformat_minor": 2
}
