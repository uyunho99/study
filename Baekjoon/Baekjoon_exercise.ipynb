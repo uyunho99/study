{
 "cells": [
  {
   "cell_type": "markdown",
   "metadata": {},
   "source": [
    "## 1. 입출력과 사칙연산"
   ]
  },
  {
   "cell_type": "markdown",
   "metadata": {},
   "source": [
    "1000\n",
    "\n",
    "https://www.acmicpc.net/problem/1000"
   ]
  },
  {
   "cell_type": "code",
   "execution_count": null,
   "metadata": {},
   "outputs": [],
   "source": [
    "a, b = map(int, input().split())\n",
    "# map(변환 함수, 데이터)\n",
    "# split() > 스페이스바로 변수 구분 지정\n",
    "\n",
    "print(a+b)"
   ]
  },
  {
   "cell_type": "markdown",
   "metadata": {},
   "source": [
    "10926\n",
    "\n",
    "https://www.acmicpc.net/problem/10926"
   ]
  },
  {
   "cell_type": "code",
   "execution_count": null,
   "metadata": {},
   "outputs": [],
   "source": [
    "name = input()\n",
    "print(name+'??!')"
   ]
  },
  {
   "cell_type": "markdown",
   "metadata": {},
   "source": [
    "3003\n",
    "\n",
    "https://www.acmicpc.net/problem/3003"
   ]
  },
  {
   "cell_type": "code",
   "execution_count": null,
   "metadata": {},
   "outputs": [],
   "source": [
    "chess = [1, 1, 2, 2, 2, 8]\n",
    "remain = list(map(int, input().split()))\n",
    "\n",
    "for i in range(6):\n",
    "    print(chess[i]-remain[i], end=' ')"
   ]
  },
  {
   "cell_type": "markdown",
   "metadata": {},
   "source": [
    "2588\n",
    "\n",
    "https://www.acmicpc.net/problem/2588"
   ]
  },
  {
   "cell_type": "code",
   "execution_count": null,
   "metadata": {},
   "outputs": [],
   "source": [
    "a = int(input())\n",
    "b = input()\n",
    "\n",
    "a1 = a * int(b[2])\n",
    "a2 = a * int(b[1])\n",
    "a3 = a * int(b[0])\n",
    "a4 = a * int(b)\n",
    "\n",
    "print (a1, a2, a3, a4, sep='\\n')"
   ]
  },
  {
   "cell_type": "markdown",
   "metadata": {},
   "source": [
    "## 2. 조건문"
   ]
  },
  {
   "cell_type": "markdown",
   "metadata": {},
   "source": [
    "1330\n",
    "\n",
    "https://www.acmicpc.net/problem/1330"
   ]
  },
  {
   "cell_type": "code",
   "execution_count": null,
   "metadata": {},
   "outputs": [],
   "source": [
    "A,B = map(int,input().split())\n",
    "\n",
    "if A > B:\n",
    "    print('>')\n",
    "elif A < B:\n",
    "    print('<')\n",
    "else:\n",
    "    print('==')"
   ]
  },
  {
   "cell_type": "markdown",
   "metadata": {},
   "source": [
    "2884\n",
    "\n",
    "https://www.acmicpc.net/problem/2884"
   ]
  },
  {
   "cell_type": "code",
   "execution_count": null,
   "metadata": {},
   "outputs": [],
   "source": [
    "H, M = map(int, input().split())\n",
    "\n",
    "if M < 45 :\t\n",
    "    if H == 0 :\n",
    "        H = 23\n",
    "        M += 60\n",
    "    else :\n",
    "        H -= 1\t\n",
    "        M += 60\n",
    "        \n",
    "print(H, M-45)\t"
   ]
  },
  {
   "cell_type": "markdown",
   "metadata": {},
   "source": [
    "## 3. 반복문"
   ]
  },
  {
   "cell_type": "markdown",
   "metadata": {},
   "source": [
    "2739\n",
    "\n",
    "https://www.acmicpc.net/problem/2739"
   ]
  },
  {
   "cell_type": "code",
   "execution_count": 6,
   "metadata": {},
   "outputs": [
    {
     "name": "stdout",
     "output_type": "stream",
     "text": [
      "2 * 1 = 2\n",
      "2 * 2 = 4\n",
      "2 * 3 = 6\n",
      "2 * 4 = 8\n",
      "2 * 5 = 10\n",
      "2 * 6 = 12\n",
      "2 * 7 = 14\n",
      "2 * 8 = 16\n",
      "2 * 9 = 18\n"
     ]
    }
   ],
   "source": [
    "n = int(input())\n",
    "\n",
    "for i in range(1, 10):\n",
    "    output = \"{} * {} = {}\".format(n, i, n*i)\n",
    "    print(output)\n"
   ]
  },
  {
   "cell_type": "markdown",
   "metadata": {},
   "source": [
    "10950\n",
    "\n",
    "https://www.acmicpc.net/problem/10950"
   ]
  },
  {
   "cell_type": "code",
   "execution_count": null,
   "metadata": {},
   "outputs": [],
   "source": [
    "t = int(input())\n",
    "\n",
    "for _ in range(t): \n",
    "    a,b = map(int,input().split())\n",
    "    print(a+b)"
   ]
  },
  {
   "cell_type": "markdown",
   "metadata": {},
   "source": [
    "8393\n",
    "\n",
    "https://www.acmicpc.net/problem/8393"
   ]
  },
  {
   "cell_type": "code",
   "execution_count": 16,
   "metadata": {},
   "outputs": [
    {
     "name": "stdout",
     "output_type": "stream",
     "text": [
      "6\n"
     ]
    }
   ],
   "source": [
    "n = int(input())\n",
    "sum = 0\n",
    "for i in range(n+1):\n",
    "    sum = sum + i\n",
    "print(sum)"
   ]
  },
  {
   "cell_type": "markdown",
   "metadata": {},
   "source": [
    "25304\n",
    "\n",
    "https://www.acmicpc.net/problem/25304"
   ]
  },
  {
   "cell_type": "code",
   "execution_count": null,
   "metadata": {},
   "outputs": [],
   "source": [
    "total = int(input())\n",
    "times = int(input())\n",
    "\n",
    "for i in range(times):\n",
    "    amount, units = input().split()\n",
    "    amount, units = int(amount), int(units)\n",
    "    \n",
    "    total -= amount*units\n",
    "\n",
    "print(\"Yes\" if total==0 else \"No\")"
   ]
  },
  {
   "cell_type": "markdown",
   "metadata": {},
   "source": [
    "15552\n",
    "\n",
    "https://www.acmicpc.net/problem/15552"
   ]
  },
  {
   "cell_type": "code",
   "execution_count": null,
   "metadata": {},
   "outputs": [],
   "source": [
    "#1\n",
    "import sys\n",
    "\n",
    "t = int(input())\n",
    "\n",
    "for i in range(t): \n",
    "    a,b = map(int, sys.stdin.readline().split())\n",
    "    print(a+b)\n",
    "\n",
    "#2\n",
    "import sys\n",
    "input = sys.stdin.readline\n",
    "T = int(input())\n",
    "\n",
    "for i in range(T):\n",
    "    a, b = map(int, input().split())\n",
    "    print(a+b)"
   ]
  },
  {
   "cell_type": "markdown",
   "metadata": {},
   "source": [
    "11021\n",
    "\n",
    "https://www.acmicpc.net/problem/11021"
   ]
  },
  {
   "cell_type": "code",
   "execution_count": null,
   "metadata": {},
   "outputs": [],
   "source": [
    "import sys\n",
    "\n",
    "t = int(input())\n",
    "\n",
    "for i in range(t): \n",
    "    a,b = map(int, sys.stdin.readline().split())\n",
    "    print(\"Case #{}: {}\".format(i+1, a+b))"
   ]
  },
  {
   "cell_type": "markdown",
   "metadata": {},
   "source": [
    "2438\n",
    "\n",
    "https://www.acmicpc.net/problem/2438"
   ]
  },
  {
   "cell_type": "code",
   "execution_count": null,
   "metadata": {},
   "outputs": [],
   "source": [
    "t = int(input())\n",
    "\n",
    "for i in range(1, t+1):\n",
    "    print(\" \" * (t-i) + \"*\" * i)"
   ]
  },
  {
   "cell_type": "markdown",
   "metadata": {},
   "source": [
    "10871\n",
    "\n",
    "https://www.acmicpc.net/problem/10871"
   ]
  },
  {
   "cell_type": "code",
   "execution_count": null,
   "metadata": {},
   "outputs": [],
   "source": [
    "N, X = map(int, input().split())\n",
    "inp = list(map(int, input().split()))\n",
    "\n",
    "for i in range(N):\n",
    "    if inp[i] < X:\n",
    "        print(inp[i], end = \" \")"
   ]
  },
  {
   "cell_type": "markdown",
   "metadata": {},
   "source": [
    "10952\n",
    "\n",
    "https://www.acmicpc.net/problem/10952"
   ]
  },
  {
   "cell_type": "code",
   "execution_count": null,
   "metadata": {},
   "outputs": [],
   "source": [
    "while True:\n",
    "    a, b = map(int, input().split())\n",
    "    if (a == 0 and b == 0):\n",
    "        break\n",
    "    else:\n",
    "        print(a+b)"
   ]
  },
  {
   "cell_type": "markdown",
   "metadata": {},
   "source": [
    "10951\n",
    "\n",
    "https://www.acmicpc.net/problem/10951"
   ]
  },
  {
   "cell_type": "code",
   "execution_count": null,
   "metadata": {},
   "outputs": [],
   "source": [
    "while True:\n",
    "    try:\n",
    "        a, b = map(int, input().split())\n",
    "        print(a+b)\n",
    "    except:\n",
    "        break"
   ]
  },
  {
   "cell_type": "markdown",
   "metadata": {},
   "source": [
    "1110\n",
    "\n",
    "https://www.acmicpc.net/problem/1110"
   ]
  },
  {
   "cell_type": "code",
   "execution_count": null,
   "metadata": {},
   "outputs": [],
   "source": [
    "n = int(input())\n",
    "num = n\n",
    "cnt = 0\n",
    "\n",
    "while True:\n",
    "    a = num // 10\n",
    "    b = num % 10\n",
    "    c = (a+b) % 10\n",
    "    num = (b * 10) + c\n",
    "    \n",
    "    cnt = cnt + 1\n",
    "    if(num == n):\n",
    "        break\n",
    "print(cnt)"
   ]
  }
 ],
 "metadata": {
  "kernelspec": {
   "display_name": "Python 3.10.4 64-bit",
   "language": "python",
   "name": "python3"
  },
  "language_info": {
   "codemirror_mode": {
    "name": "ipython",
    "version": 3
   },
   "file_extension": ".py",
   "mimetype": "text/x-python",
   "name": "python",
   "nbconvert_exporter": "python",
   "pygments_lexer": "ipython3",
   "version": "3.10.4"
  },
  "orig_nbformat": 4,
  "vscode": {
   "interpreter": {
    "hash": "aee8b7b246df8f9039afb4144a1f6fd8d2ca17a180786b69acc140d282b71a49"
   }
  }
 },
 "nbformat": 4,
 "nbformat_minor": 2
}
