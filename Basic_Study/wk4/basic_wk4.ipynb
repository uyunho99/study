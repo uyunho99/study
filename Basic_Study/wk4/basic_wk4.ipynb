{
 "cells": [
  {
   "cell_type": "markdown",
   "metadata": {},
   "source": [
    "# 분류"
   ]
  },
  {
   "cell_type": "markdown",
   "metadata": {},
   "source": [
    "머신러닝의 학습 방법은 크게 지도 학습(supervised learning)과 비지도 학습(unsupervised learning)으로 나눌 수 있다. \n",
    "- 지도 학습 : 라벨링이 된 데이터를 학습시키는 것을 의미\n",
    "- 비지도 학습 : 라벨링이 되지 않은 데이터를 학습시키는 것을 의미\n",
    "\n",
    "(여기서 라벨링이란 학습시킬 데이터(train data)에 각각에 맞추고 싶은 정답(target data)이 표시된 것을 의미한다.)\n",
    "\n",
    "지도학습은 target data의 형태에 따라 분류(classification)와 회귀(regression)로 나눌 수 있다.\n",
    "- 분류 : target data가 categorical/discrete 형태인 경우, 데이터가 속한 그룹을 찾아내는 것을 의미\n",
    "- 회귀 : target data가 continuous 형태인 경우, feature variable과 target variable의 관계를 찾아내는 것을 의미"
   ]
  },
  {
   "cell_type": "markdown",
   "metadata": {},
   "source": [
    "<img src='https://img1.daumcdn.net/thumb/R1280x0/?scode=mtistory2&fname=https%3A%2F%2Fblog.kakaocdn.net%2Fdn%2FbblCkC%2FbtqEq8rEkUa%2FLM1DLkUgBku9ApbkTYX90K%2Fimg.png' width='600' height='300'/>"
   ]
  },
  {
   "cell_type": "markdown",
   "metadata": {},
   "source": [
    "# KNN Classifier"
   ]
  },
  {
   "cell_type": "markdown",
   "metadata": {},
   "source": [
    "k-NN(k-Nearest Neighbors) 알고리즘은 가장 간단한 분류 머신러닝 알고리즘이다. \n",
    "\n",
    "1) 임의의 k를 정해, \n",
    "2) 예측할 데이터를 기준으로 가장 가까운 k개의 요소(이웃)의 분류 클래스를 기준으로,\n",
    "3) 더 많은 이웃이 있는 클래스로 분류한다. "
   ]
  },
  {
   "cell_type": "markdown",
   "metadata": {},
   "source": [
    "### 예제"
   ]
  },
  {
   "cell_type": "markdown",
   "metadata": {},
   "source": [
    "k-NN classifier를 scikit-learn에 있는 붗꽃 종류 데이터를 활용해 서술했다. 우선 dataset에서 DataFrame을 활용해 구조를 파악하고, feature, target variable을 설정한다."
   ]
  },
  {
   "cell_type": "code",
   "execution_count": 1,
   "metadata": {},
   "outputs": [
    {
     "data": {
      "text/html": [
       "<div>\n",
       "<style scoped>\n",
       "    .dataframe tbody tr th:only-of-type {\n",
       "        vertical-align: middle;\n",
       "    }\n",
       "\n",
       "    .dataframe tbody tr th {\n",
       "        vertical-align: top;\n",
       "    }\n",
       "\n",
       "    .dataframe thead th {\n",
       "        text-align: right;\n",
       "    }\n",
       "</style>\n",
       "<table border=\"1\" class=\"dataframe\">\n",
       "  <thead>\n",
       "    <tr style=\"text-align: right;\">\n",
       "      <th></th>\n",
       "      <th>sepal length (cm)</th>\n",
       "      <th>sepal width (cm)</th>\n",
       "      <th>petal length (cm)</th>\n",
       "      <th>petal width (cm)</th>\n",
       "      <th>target</th>\n",
       "    </tr>\n",
       "  </thead>\n",
       "  <tbody>\n",
       "    <tr>\n",
       "      <th>0</th>\n",
       "      <td>5.1</td>\n",
       "      <td>3.5</td>\n",
       "      <td>1.4</td>\n",
       "      <td>0.2</td>\n",
       "      <td>0</td>\n",
       "    </tr>\n",
       "    <tr>\n",
       "      <th>1</th>\n",
       "      <td>4.9</td>\n",
       "      <td>3.0</td>\n",
       "      <td>1.4</td>\n",
       "      <td>0.2</td>\n",
       "      <td>0</td>\n",
       "    </tr>\n",
       "    <tr>\n",
       "      <th>2</th>\n",
       "      <td>4.7</td>\n",
       "      <td>3.2</td>\n",
       "      <td>1.3</td>\n",
       "      <td>0.2</td>\n",
       "      <td>0</td>\n",
       "    </tr>\n",
       "    <tr>\n",
       "      <th>3</th>\n",
       "      <td>4.6</td>\n",
       "      <td>3.1</td>\n",
       "      <td>1.5</td>\n",
       "      <td>0.2</td>\n",
       "      <td>0</td>\n",
       "    </tr>\n",
       "    <tr>\n",
       "      <th>4</th>\n",
       "      <td>5.0</td>\n",
       "      <td>3.6</td>\n",
       "      <td>1.4</td>\n",
       "      <td>0.2</td>\n",
       "      <td>0</td>\n",
       "    </tr>\n",
       "  </tbody>\n",
       "</table>\n",
       "</div>"
      ],
      "text/plain": [
       "   sepal length (cm)  sepal width (cm)  petal length (cm)  petal width (cm)  \\\n",
       "0                5.1               3.5                1.4               0.2   \n",
       "1                4.9               3.0                1.4               0.2   \n",
       "2                4.7               3.2                1.3               0.2   \n",
       "3                4.6               3.1                1.5               0.2   \n",
       "4                5.0               3.6                1.4               0.2   \n",
       "\n",
       "   target  \n",
       "0       0  \n",
       "1       0  \n",
       "2       0  \n",
       "3       0  \n",
       "4       0  "
      ]
     },
     "execution_count": 1,
     "metadata": {},
     "output_type": "execute_result"
    }
   ],
   "source": [
    "import pandas as pd\n",
    "from sklearn.datasets import load_iris\n",
    "\n",
    "dataset = load_iris()\n",
    "df = pd.DataFrame(dataset.data, columns=dataset.feature_names)\n",
    "df['target'] = dataset.target\n",
    "\n",
    "x_data = dataset.data\n",
    "y_data = dataset.target\n",
    "\n",
    "df.head()"
   ]
  },
  {
   "cell_type": "code",
   "execution_count": 2,
   "metadata": {},
   "outputs": [
    {
     "data": {
      "text/plain": [
       "0    50\n",
       "1    50\n",
       "2    50\n",
       "Name: target, dtype: int64"
      ]
     },
     "execution_count": 2,
     "metadata": {},
     "output_type": "execute_result"
    }
   ],
   "source": [
    "df['target'].value_counts()"
   ]
  },
  {
   "cell_type": "markdown",
   "metadata": {},
   "source": [
    "train data와 test data를 8:2 비율로 분할한다."
   ]
  },
  {
   "cell_type": "code",
   "execution_count": 3,
   "metadata": {},
   "outputs": [],
   "source": [
    "from sklearn.model_selection import train_test_split\n",
    "\n",
    "x_train, x_test, y_train, y_test = train_test_split(x_data, y_data, test_size=0.2)\n",
    "# x_train, x_test, y_train, y_test = train_test_split(x_data, y_data, test_size=0.2, stratify = y_data)"
   ]
  },
  {
   "cell_type": "markdown",
   "metadata": {},
   "source": [
    "`KNeighborsClassifier`을 활용해 k-NN classifier 모델을 만들고 학습시킨다. (여기서 확인하는 주변 이웃의 숫자를 5로 지정한다.)"
   ]
  },
  {
   "cell_type": "code",
   "execution_count": 4,
   "metadata": {},
   "outputs": [
    {
     "name": "stdout",
     "output_type": "stream",
     "text": [
      "[0 1 2 0 2 0 2 2 0 1 2 2 0 2 0 2 2 0 2 2 0 1 0 1 2 1 0 0 0 2]\n",
      "[0 2 2 0 1 0 2 2 0 1 2 2 0 2 0 2 1 0 2 2 0 1 0 1 2 1 0 0 0 2]\n"
     ]
    }
   ],
   "source": [
    "from sklearn.neighbors import KNeighborsClassifier\n",
    "\n",
    "knn = KNeighborsClassifier(n_neighbors=5)\n",
    "knn.fit(x_train, y_train)\n",
    "\n",
    "y_test_pred = knn.predict(x_test)\n",
    "print(y_test)\n",
    "print(y_test_pred)"
   ]
  },
  {
   "cell_type": "markdown",
   "metadata": {},
   "source": [
    "### 평가점수"
   ]
  },
  {
   "cell_type": "markdown",
   "metadata": {},
   "source": [
    "클래스가 0과 1 두 종류 밖에 없는 이진 분류의 경우에 일반적으로 클래스 이름을 양성(Positive)와 음성(Negative)로 나눈다. 이 때 결과를 나타내는 이진 분류결과표(Binary Confusion Matrix) 결과표는 다음과 같다."
   ]
  },
  {
   "cell_type": "markdown",
   "metadata": {},
   "source": [
    "|  | 양성이라고 예측 | 음성이라고 예측 |\n",
    "| --- | --- | --- |\n",
    "| 실제 양성 | 양성 예측이 맞음 (True Positive) | 음성 예측이 틀림 (False Negative) |\n",
    "| 실제 음성 | 양성 예측이 틀림 (False Positive) | 음성 예측이 맞음 (True Negative) |"
   ]
  },
  {
   "cell_type": "markdown",
   "metadata": {},
   "source": [
    "위를 토대로 분류의 결과를 다양한 척도로 평가점수를 사용한다.\n",
    "\n",
    "- 정확도(accuracy) : 전체 샘플 중 맞게 예측한 샘플 수의 비율\n",
    "\n",
    "$$\\mathrm{accuracy} = \\frac{TP+TN}{TP+TN+FP+FN}$$\n",
    "\n",
    "- 정밀도(precision) : 양성 클래스에 속한다고 출력한 샘플 중 실제로 양성 클래스에 속하는 샘플 수 의 비율\n",
    "\n",
    "$$\\mathrm{precision} = \\frac{TP}{TP+FP}$$\n",
    "\n",
    "- 재현율(recall) : 실제 양성 클래스에 속한 표본 중에 양성 클래스에 속한다고 출력한 표본의 수의 비율\n",
    "\n",
    "$$\\mathrm{recall} = \\frac{TP}{TP+FN}$$\n",
    "\n",
    "- 위양성율(fall-out) : 실제 양성 클래스에 속하지 않는 표본 중에 양성 클래스에 속한다고 출력한 표본의 비율\n",
    "\n",
    "$$\\mathrm{fallout} = \\frac{FP}{FP+TN}$$\n",
    "\n",
    "- F-score : 정밀도와 재현율의 가중조화평균을 F-score라고 한다. 정밀도에 주어지는 가중치를 베타라고 한다.\n",
    "\n",
    "$$F_{\\beta} = (1+\\beta^{2})(\\mathrm{precision} \\cdot \\mathrm{recall})/(\\beta^{2} \\, \\mathrm{precision} + \\mathrm{recall})$$\n",
    "\n",
    "베타가 1인 경우 특별히 F1-score라고도 부른다.\n",
    "\n",
    "$$F_{1} = (2 \\, \\cdot \\mathrm{precision} \\cdot \\mathrm{recall})/( \\mathrm{precision} + \\mathrm{recall})$$\n",
    "\n",
    "scikit-learn의 metrics 패키지에서 정밀도, 재현율, F1-score를 구하는 `classification_report`가 있다. 또 정확도, 정밀도, 재현율을 각각 `accuracy_score`, `precision_score`, `recall_score`로 구할 수 있다."
   ]
  },
  {
   "cell_type": "code",
   "execution_count": 5,
   "metadata": {},
   "outputs": [
    {
     "name": "stdout",
     "output_type": "stream",
     "text": [
      "              precision    recall  f1-score   support\n",
      "\n",
      "           0       1.00      1.00      1.00        12\n",
      "           1       0.67      0.80      0.73         5\n",
      "           2       0.92      0.85      0.88        13\n",
      "\n",
      "    accuracy                           0.90        30\n",
      "   macro avg       0.86      0.88      0.87        30\n",
      "weighted avg       0.91      0.90      0.90        30\n",
      "\n"
     ]
    }
   ],
   "source": [
    "from sklearn.metrics import classification_report\n",
    "\n",
    "print(classification_report(y_test, y_test_pred))"
   ]
  },
  {
   "cell_type": "markdown",
   "metadata": {},
   "source": [
    "### ROC Curve, AUC"
   ]
  },
  {
   "cell_type": "markdown",
   "metadata": {},
   "source": [
    "재현율과 위양성률은 일반적으로 양의 상관 관계가 있다. 재현율을 높이기 위해서는 양성으로 판단하는 기준을 낮추면 되는데, 이렇게 되면 음성임에도 양성으로 판단되는 표본 데이터가 같이 증가해 위양성율이 동시에 증가한다.\n",
    "\n",
    "ROC(Receiver Operator Characteristic) 커브는 클래스 판별 기준값의 변화에 따른 위양성률과 재현율의 변화를 시각화한 것이다. scikit-learn에서는 `roc_curve`를 활용하면 구할 수 있다.\n",
    "\n",
    "AUC(Area Under the Curve)는 ROC curve의 면적을 의미한다. 위양성률 값이 같을 때 재현률 값이 크거나 재현률 값이 같을 때 위양성률 값이 작을수록 AUC가 1에 가까운 값이고 좋은 모형이다. scikit-learn에서는 `auc`, `roc_auc_score` 를 활용하면 구할 수 있다."
   ]
  },
  {
   "cell_type": "markdown",
   "metadata": {},
   "source": [
    "우선 `label_binarize`를 사용하여 클래스별로 이진화를 한다."
   ]
  },
  {
   "cell_type": "code",
   "execution_count": 6,
   "metadata": {},
   "outputs": [
    {
     "name": "stdout",
     "output_type": "stream",
     "text": [
      "(30, 3) (30, 3)\n"
     ]
    }
   ],
   "source": [
    "from sklearn.preprocessing import label_binarize\n",
    "\n",
    "labels = [0, 1, 2]\n",
    "y_test = label_binarize(y_test, classes=labels)\n",
    "y_test_pred = label_binarize(y_test_pred, classes=labels)\n",
    "\n",
    "print(y_test.shape, y_test_pred.shape)"
   ]
  },
  {
   "cell_type": "code",
   "execution_count": 7,
   "metadata": {},
   "outputs": [
    {
     "data": {
      "image/png": "[encoded data removed]",
      "text/plain": [
       "<Figure size 1500x500 with 3 Axes>"
      ]
     },
     "metadata": {},
     "output_type": "display_data"
    },
    {
     "name": "stdout",
     "output_type": "stream",
     "text": [
      "0.9178883861236803\n"
     ]
    }
   ],
   "source": [
    "from sklearn.metrics import roc_curve, auc, roc_auc_score\n",
    "import matplotlib.pyplot as plt\n",
    "\n",
    "n_classes = 3\n",
    "fpr = dict()\n",
    "tpr = dict()\n",
    "roc_auc = dict()\n",
    "for i in range(n_classes):\n",
    "    fpr[i], tpr[i], _ = roc_curve(y_test[:, i], y_test_pred[:, i])\n",
    "    roc_auc[i] = auc(fpr[i], tpr[i])\n",
    "\n",
    "plt.figure(figsize=(15, 5))\n",
    "for idx, i in enumerate(range(n_classes)):\n",
    "    plt.subplot(1, 3, 1+idx)\n",
    "    plt.plot(fpr[i], tpr[i], label='ROC curve (area = %0.2f)' % roc_auc[i])\n",
    "    plt.plot([0, 1], [0, 1], 'k--')\n",
    "    plt.xlim([0.0, 1.0])\n",
    "    plt.ylim([0.0, 1.05])\n",
    "    plt.xlabel('False Positive Rate')\n",
    "    plt.ylabel('True Positive Rate')\n",
    "    plt.title('Class %0.0f' % idx)\n",
    "    plt.legend(loc=\"lower right\")\n",
    "plt.show()\n",
    "\n",
    "print(roc_auc_score(y_test, y_test_pred, multi_class='raise'))"
   ]
  },
  {
   "cell_type": "markdown",
   "metadata": {},
   "source": [
    "# SVM"
   ]
  },
  {
   "cell_type": "markdown",
   "metadata": {},
   "source": [
    "### 라그랑주 승수"
   ]
  },
  {
   "cell_type": "markdown",
   "metadata": {},
   "source": [
    "라그랑주 승수법은 최적화 문제에서 사용되는 수학적 기법으로써 최대 또는 최소값을 찾으려는 문제에서 해결방법으로 사용된다. 라그랑주 승수법을 사용하는 방법은 목적 함수 $f(x,y)$와 제약 조건 $g(x,y)=0$에 대해 새로운 변수 $\\lambda$를 이용하여 다음의 보조 방정식을 만든 다음, 보조방정식에 대해 모든 변수에 대한 편미분 값이 0이되는 변수의 해를 찾는 것이다.\n",
    "\n",
    "$$L(x,y,\\lambda)=f(x,y)-\\lambda g(x,y)$$\n",
    "\n",
    "이렇게 목적 함수와 제약 조건에 대해 위와 같은 보조 방정식을 만들고 문제를 풀 수 있게 되는 이유는 제약 조건을 만족시키면서 목적 함수를 최대화 또는 최소화 시키는 점에서는 목적함수의 gradient(쉽게 말해 기울기)와 제약 조건의 gradient가 평행하기 때문이다.\n",
    "\n",
    "아래 그림에서 $d_{1}$이 최대값이라고 가정할 때, $g(x, y)=c$라는 제약 조건이 붙었다고 하자. 자세히 보면 $f(x, y)$와 $g(x, y)=c$가 접점을 이루는 곳이(미분했을 때의 기울기가 같아지는 곳이) 제한된 조건을 만족하는 $f(x, y)$의 최대값이다."
   ]
  },
  {
   "cell_type": "markdown",
   "metadata": {},
   "source": [
    "<img src='\n",
    "https://raw.githubusercontent.com/angeloyeo/angeloyeo.github.io/master/pics/2020-09-30-SVM/pic3.png' width='400' height='300'/>"
   ]
  },
  {
   "cell_type": "markdown",
   "metadata": {},
   "source": [
    "### Decision Rule"
   ]
  },
  {
   "cell_type": "markdown",
   "metadata": {},
   "source": [
    "Decision rule이란 새로운 입력 $\\vec{u}$에 대해서 이 입력의 class가 +인지 -인지 결정하는 방법에 대한 것이다. 다음과 같이 2차원 공간 위에 decision boundary와 법선 벡터 $\\vec{u}$가 있다고 하자."
   ]
  },
  {
   "cell_type": "markdown",
   "metadata": {},
   "source": [
    "<img src='\n",
    "https://raw.githubusercontent.com/angeloyeo/angeloyeo.github.io/master/pics/2020-09-30-SVM/pic4.png' width='400' height='300'/>"
   ]
  },
  {
   "cell_type": "markdown",
   "metadata": {},
   "source": [
    "아직 $\\vec{w}$가 무엇인지는 모르지만 우리가 설정하려고 하는 것은 가운데 dashed line보다 위에 있으면 +로, 아래에 있으면 -로 classify하려는 것이다. 즉, 우리는 decision rule을 다음과 같이 설정할 수 있다.\n",
    "\n",
    "$$\\vec{w}\\cdot\\vec{u}\\geq c$$\n",
    "\n",
    "이 때 c는 임의의 상수다. 즉, 아직 $\\vec{w}$와 c가 정해진 값은 아니지만 이 조건을 만족하면 +라고 정하자는 decision rule을 지정할 수 있는 것이\n",
    "다. 이 식을 약간 변형시키면,\n",
    "\n",
    "$$\\vec{w}\\cdot\\vec{u}+b\\geq 0$$\n",
    "\n",
    "으로 변형시킬 수 있다."
   ]
  },
  {
   "cell_type": "markdown",
   "metadata": {},
   "source": [
    "### street 생성에 대한 조건"
   ]
  },
  {
   "cell_type": "markdown",
   "metadata": {},
   "source": [
    "두 가지의 클래스로 샘플들이 구별되어 있다고 하자. 하나는 positive samples($x_{+}$), 나머지 하나는 negative samples($x_{-}$)이다.\n",
    "\n",
    "아래 그림에서 우선 실선으로 표시된 두 개의 선 위에 positive samples와 negative samples가 걸쳐있다는 것을 알 수 있다. 또, 실선들 사이에 있는 dashed line으로부터 실선까지의 거리는 같게 설정했다.\n",
    "\n",
    "따라서 우리는 위의 식부터 $\\vec{w}\\cdot\\vec{u}+b\\geq 0$ 0이 기준이 아니라 dashed line을 기준으로 $\\delta$를 만큼 떨어져있다고 확장해서 생각해도 될 것이다.\n",
    "\n",
    "$$\\vec{w}\\cdot\\vec{x}_{+}+b\\geq \\delta$$\n",
    "\n",
    "$$\\vec{w}\\cdot\\vec{x}_{-}+b\\leq -\\delta$$\n",
    "\n",
    "여기서 우리는 $\\delta$를 정규화하여 1로 생각해도 되고, 위의 두 식을 합치면 다음과 같이 표현할 수 있다.\n",
    "\n",
    "$$y_{i}(\\vec{w}\\cdot\\vec{x}_{i}+b)-1\\geq 0$$"
   ]
  },
  {
   "cell_type": "markdown",
   "metadata": {},
   "source": [
    "<img src='\n",
    "https://raw.githubusercontent.com/angeloyeo/angeloyeo.github.io/master/pics/2020-09-30-SVM/pic4.png' width='400' height='300'/>"
   ]
  },
  {
   "cell_type": "markdown",
   "metadata": {},
   "source": [
    "### street의 너비와 최적화 문제 설정"
   ]
  },
  {
   "cell_type": "markdown",
   "metadata": {},
   "source": [
    "아래 그림에서 실선 위에 있는 $x_{+}$와 $x_{-}$에 대한 원점으로부터의 벡터 $\\vec{x_{+}}$와 $\\vec{x_{-}}$에 대하여, $\\vec{x_{+}}-\\vec{x_{-}}$로 생각해보자. 이것을 이용해 두 실선의 거리를 생각할 수 있는데, $\\vec{w}$는 dashed line에 수직하기 때문에 $\\vec{w}$와 방향은 같고 크기는 1인 벡터를 이용하면 두 실선 사이의 거리를 다음과 같이 표현할 수 있다.\n",
    "\n",
    "$$\\frac{\\vec{w}}{|\\vec{w}|}\\cdot(\\vec{x_{+}}-\\vec{x_{-}})$$"
   ]
  },
  {
   "cell_type": "markdown",
   "metadata": {},
   "source": [
    "<img src='\n",
    "https://raw.githubusercontent.com/angeloyeo/angeloyeo.github.io/master/pics/2020-09-30-SVM/pic5.png\n",
    "' width='400' height='300'/>"
   ]
  },
  {
   "cell_type": "markdown",
   "metadata": {},
   "source": [
    "이 때 식을 간편하게 생각하기 위해 $y_{i}=\\pm 1$이라고 생각해보자. 이를 통해 우리는 $\\vec{w}\\cdot\\vec{x}_{i} = 1-b$ 와 $\\vec{w}\\cdot\\vec{x}_{i} = -1-b$이라는 식을 얻을 수 있다. 이 식들을 위의 식에 다시 대입하면, 다음과 같은 결과를 얻게 된다.\n",
    "\n",
    "$$\\begin{matrix}\\frac{\\vec{w}}{|\\vec{w}|}\\cdot(\\vec{x_{+}}-\\vec{x_{-}}) \\\\ \\\\ = \\frac{1}{|\\vec{w}|}\\cdot(\\vec{w}\\cdot \\vec{x_{+}}-\\vec{w}\\cdot \\vec{x_{-}}) \\\\ \\\\ = \\frac{1}{|\\vec{w}|}\\cdot(1-b+1+b)= \\frac{2}{|\\vec{w}|} \\end{matrix}$$\n",
    "\n",
    "즉, 두 실선 사이의 거리는 $\\frac{2}{|\\vec{w}|}$이므로, 우리의 목표는 이 거리를 최대화하는 것이다. 즉 우리의 목표를 다음과 같이 표현할 수 있다.\n",
    "\n",
    "$$ \\min\\frac{1}{2}|\\vec{w}|$$"
   ]
  },
  {
   "cell_type": "markdown",
   "metadata": {},
   "source": [
    "### 최적화 계산"
   ]
  },
  {
   "cell_type": "markdown",
   "metadata": {},
   "source": [
    "따라서 우리는 다음의 $\\frac{1}{2} |\\vec{w}|^{2}$ 목적함수를 다음의 $y_{i}(\\vec{w}\\cdot\\vec{x}_{i}+b)-1 = 0$ 조건에서 최적화하면 된다. 따라서 라그랑주 승수법을 활용해 최적화를 진행해보도록 하겠다.\n",
    "\n",
    "$$L=\\frac{1}{2} |\\vec{w}|^{2} - \\sum_{i=1}^{n} \\lambda_{i} \\, [y_{i}(\\vec{w}\\cdot\\vec{x}_{i}+b)-1] = 0$$\n",
    "\n",
    "$$\\frac{\\partial L}{\\partial w} = \\vec{w} - \\sum_{i=1}^{n} \\lambda_{i} \\, y_{i} \\, \\vec{x}_{i}=0$$\n",
    "\n",
    "$$\\frac{\\partial L}{\\partial b} = \\sum_{i=1}^{n} \\lambda_{i} \\, y_{i} = 0$$\n",
    "\n",
    "여기서 잠정적인 결론으로는 $\\vec{w} = \\sum_{i=1}^{n} \\lambda_{i} y_{i}\\vec{x}_{i}$와, $\\sum_{i=1}^{n} \\lambda_{i} y_{i} = 0$을 도출할 수 있다. 이를 위의 라그랑주 방정식에 대입하도록 하겠다.\n",
    "\n",
    "$$\\begin{matrix} L=\\frac{1}{2} |\\vec{w}|^{2} - \\sum\\limits_{i=1}^{n} [\\lambda_{i} \\, y_{i} \\, \\vec{w} \\cdot \\vec{x}_{i}-\\lambda_{i} \\, y_{i}\\, b-\\lambda_{i}] \\\\ \\\\ =\\frac{1}{2} |\\vec{w}|^{2} - \\sum\\limits_{i=1}^{n}\\sum\\limits_{j=1}^{n}\\lambda_{i}\\, \\lambda_{j}  \\, y_{i}\\, y_{j} \\, \\vec{x}_{i}^{T} \\, \\vec{x}_{j}+ \\sum\\limits_{i=1}^{n}\\lambda_{i} \\\\ \\\\ = \\frac{1}{2}|\\vec{w}|^{2} - |\\vec{w}|^{2} + \\sum\\limits_{i=1}^{n}\\lambda_{i} \\\\ \\\\ = \\sum\\limits_{i=1}^{n}\\lambda_{i} - \\frac{1}{2}|\\vec{w}|^{2}\\end{matrix}$$\n",
    "\n",
    "여기서 $ |\\vec{w}|^{2} = \\sum\\limits_{i=1}^{n} \\sum\\limits_{j=1}^{n} \\lambda_{i} \\, \\lambda_{j} \\, y_{i} \\, y_{j} \\, \\vec{x}_{i}^{T} \\, \\vec{x}_{j}$ 를 다시 대입하면 다음과 같이 풀어서 사용할 수 있다.\n",
    "\n",
    "$$ L=\\sum\\limits_{i=1}^{n}\\lambda_{i} - \\frac{1}{2} \\sum\\limits_{i=1}^{n} \\sum\\limits_{j=1}^{n} \\lambda_{i} \\, \\lambda_{j} \\, y_{i} \\, y_{j} \\, \\vec{x}_{i}^{T} \\, \\vec{x}_{j}$$\n",
    "\n",
    "위를 듀얼 형식이라고 부르기도 한다. 이를 통해서 $X=\\mathbb{R}^{d}$(d차원)의 형태를 데이터의 feature의 개수(n개)로 줄여 보다 간략하게 표현할 수 있는 장점이 있다."
   ]
  },
  {
   "cell_type": "markdown",
   "metadata": {},
   "source": [
    "### Kernel Tricks"
   ]
  },
  {
   "cell_type": "markdown",
   "metadata": {},
   "source": [
    "위에서 라그랑주 함수를 통해서 L의 최대값은 $\\vec{x}_{i} \\cdot \\vec{x}_{j}$으로 결정된다. 따라서 $\\vec{x}_{i} \\cdot \\vec{x}_{j}$를 적절하게 잘 변형시킨다면 L의 최대값을 더 끌어올려줄 수 있다. 이것을 하는 방법은 $\\vec{x}_{i}$, $\\vec{x}_{j}$ 각각을 혹은 $\\vec{x}_{i} \\cdot \\vec{x}_{j}$를 통째로 적절하게 변형시켜주는 것이다. 적절한 $\\phi(\\cdot)$을 찾아 $\\phi(\\vec{x}_{i}) \\cdot \\phi(\\vec{x}_{j})$과 같이 변형시켜주면 된다. 기하학적으로 표현하면 다음과 같이 쉽게 설명가능하다."
   ]
  },
  {
   "cell_type": "markdown",
   "metadata": {},
   "source": [
    "<img src='\n",
    "https://raw.githubusercontent.com/angeloyeo/angeloyeo.github.io/master/pics/2020-09-30-SVM/pic6.png\n",
    "' width='600' height='300'/>"
   ]
  },
  {
   "cell_type": "markdown",
   "metadata": {},
   "source": [
    "왼쪽 평면에 있는 sample들이 오른쪽과 같이 변형되는데, 이것은 sample들이 있는 sample 공간을 kernel 함수를 이용해 공간을 3차원 공간으로 변형시켜주었기 때문이다. 그런 다음 3차원 공간에서 hyperplane을 이용하면 샘플들을 더 쉽게 구별할 수 있다."
   ]
  },
  {
   "cell_type": "markdown",
   "metadata": {},
   "source": [
    "### 예제"
   ]
  },
  {
   "cell_type": "markdown",
   "metadata": {},
   "source": [
    "붓꽃 문제를 서포트 벡터 머신으로 풀어보자. 다음과 같은 데이터만 사용한 이진 분류 문제로 바꾸어 풀어본다. 위의 예제와 마찬가지로 커널 인수 `kernel`과 슬랙변수 가중치 인수 `C`는 각각 `linear`, `1e10`으로 한다. (특징 변수를 꽃받침의 길이와 폭만 사용한다. 붓꽃 종을 Setosa와 Versicolour만 대상으로 한다.)"
   ]
  },
  {
   "cell_type": "code",
   "execution_count": 8,
   "metadata": {},
   "outputs": [
    {
     "name": "stdout",
     "output_type": "stream",
     "text": [
      "              precision    recall  f1-score   support\n",
      "\n",
      "           0       1.00      1.00      1.00        50\n",
      "           1       1.00      1.00      1.00        50\n",
      "\n",
      "    accuracy                           1.00       100\n",
      "   macro avg       1.00      1.00      1.00       100\n",
      "weighted avg       1.00      1.00      1.00       100\n",
      "\n"
     ]
    }
   ],
   "source": [
    "from sklearn.datasets import load_iris\n",
    "iris = load_iris()\n",
    "X1 = iris.data[:100, :2]\n",
    "y1 = iris.target[:100]\n",
    "\n",
    "from sklearn.svm import SVC\n",
    "svm = SVC(kernel=\"linear\", C=1e10).fit(X1, y1)\n",
    "\n",
    "from sklearn.metrics import classification_report\n",
    "print(classification_report(y1, svm.predict(X1)))"
   ]
  },
  {
   "cell_type": "markdown",
   "metadata": {},
   "source": [
    "# 군집"
   ]
  },
  {
   "cell_type": "markdown",
   "metadata": {},
   "source": [
    "머신러닝의 학습 방법은 크게 지도 학습(supervised learning)과 비지도 학습(unsupervised learning)으로 나눌 수 있다. \n",
    "- 지도 학습 : 라벨링이 된 데이터를 학습시키는 것을 의미\n",
    "- 비지도 학습 : 라벨링이 되지 않은 데이터를 학습시키는 것을 의미\n",
    "\n",
    "(여기서 라벨링이란 train data에 정답이 표시된것을 의미한다.)\n",
    "\n",
    "비지도학습의 가장 대표적인 학습 방법으로는 군집이 있다. 군집(clustering)은 비슷한 샘플 데이터끼리 그룹으로 모으는 작업을 의미하며, 군집 알고리즘을 통해 만들어진 그룹을 클러스터(cluster)라고 부른다. 군집의 가장 대표적인 알고리즘으로는 K-means와 PCA가 있다."
   ]
  },
  {
   "cell_type": "markdown",
   "metadata": {},
   "source": [
    "<img src='https://gaussian37.github.io/assets/img/ml/concept/k-means/unsupervised-learning.PNG' width='600' height='320'/>"
   ]
  },
  {
   "cell_type": "markdown",
   "metadata": {},
   "source": [
    "# K-means"
   ]
  },
  {
   "cell_type": "markdown",
   "metadata": {},
   "source": [
    "### 알고리즘"
   ]
  },
  {
   "cell_type": "markdown",
   "metadata": {},
   "source": [
    "K-means 알고리즘의 원리는 다음과 같다.\n",
    "\n",
    "1. training sample에서 우리가 cluster의 개수만큼 클러스터 중심(cluster center)/센트로이드(centroid)를 임의로 지정한다. (Random하게 K개의 센트로이드를 초기화한다.)\n",
    "\n",
    "$$\\mu_{1}, \\mu_{2}, \\cdots, \\mu_{k} \\in \\mathbb{R}^{n}$$\n",
    "\n",
    "2. 모든 training sample에 대해서 가장 가까운 센트로이드의 cluster로 할당한다. (cluster assignment step)\n",
    "\n",
    "$$\\min_{k}||x^{(i)}-\\mu_{k}||^{2}$$\n",
    "\n",
    "3. 각 cluster에 해당하는 모든 점들의 평균을 구하고, 그 평균으로 센트로이드를 옮긴다(갱신한다). (move centroid step)\n",
    "\n",
    "$$\\mu_{k}=\\frac{1}{m}(x^{1}, \\cdots, x^{i}, \\cdots, x^{m})$$\n",
    "\n",
    "4. 2번과 3번을 계속해서 반복하면, 센트로이드가 더 이상 움직이지 않고 수렴하는 지점에서 cluster가 결정된다.\n",
    "\n",
    "- $\\mu_{k}$ : cluster k의 centriod 위치\n",
    "- $k$ : cluster의 개수\n",
    "- $\\{x^{i}\\}$ : 각 cluster에 있는 training set\n",
    "- $m$ : 각 cluster에 있는 training set의 개수"
   ]
  },
  {
   "cell_type": "markdown",
   "metadata": {},
   "source": [
    "<p float=\"left\">\n",
    "    <img src=\"https://gaussian37.github.io/assets/img/ml/concept/k-means/2.PNG\" width=\"200\" height='180'/>\n",
    "    <img src=\"https://gaussian37.github.io/assets/img/ml/concept/k-means/3.PNG\" width=\"200\" height='180'/>\n",
    "    <img src=\"https://gaussian37.github.io/assets/img/ml/concept/k-means/6.PNG\" width=\"200\" height='180'/>\n",
    "</p>"
   ]
  },
  {
   "cell_type": "markdown",
   "metadata": {},
   "source": [
    "### 최적화"
   ]
  },
  {
   "cell_type": "markdown",
   "metadata": {},
   "source": [
    "K-means 알고리즘을 최적화하는 방법은 다음과 같다. 아래는 K-means 알고리즘의 비용함수다.(Distortion function이라고 부르기도 한다.)\n",
    "\n",
    "$$J(c^{(1)}, \\cdots, c^{(m)}, \\mu^{(1)}, \\cdots, \\mu^{(k)})=\\frac{1}{m}\\sum^{m}_{i=1}||x^{(i)}-\\mu_{c^{(i)}}||^{2}$$\n",
    "\n",
    "$$ \\min_{c, \\, \\mu} J(c^{(1)}, \\cdots, c^{(m)}, \\mu^{(1)}, \\cdots, \\mu^{(k)})$$\n",
    "\n",
    "- $c^{(i)}$ : 각각의 training set($x^{i}$)이 할당되어 있는 cluster의 인덱스\n",
    "- $\\mu_{k}$ : cluster k의 centriod 위치\n",
    "- $\\mu_{c^{(i)}}$ : cluster의 인덱스($c^{(i)}$)의 centriod 위치\n",
    "\n",
    "우리의 최종 목적은 비용함수 J를 최소화하는 c와 $\\mu$를 찾는 것이다.\n",
    "\n",
    "+ 추가적으로 random initialization을 통해 여러번 시행시켜 local optima에 도달하지 않고 가장 좋은 모델을 선택하는 것이 바람직하다."
   ]
  },
  {
   "cell_type": "markdown",
   "metadata": {},
   "source": [
    "### + K의 값 정하기"
   ]
  },
  {
   "cell_type": "markdown",
   "metadata": {},
   "source": [
    "cluster의 개수인 k를 결정하는 것은 일반적으로 데이터를 직접 확인하거나 다른 clustering algorithm의 결과를 보고 선택할 수 있다. 그 중에서 Elbow Method가 있다. 이 방법은 k의 개수를 1에서 점차 늘려가면서 비용함수(Distortion function)을 계산한다. x축을 k(cluster의 개수), y축을 비용함수로 설정하고 그래프를 그려보면, 특정 k 이후의 비용이 거의 변하지 않는 지점이 있다. 우리는 그곳을 elbow point라고 일컫고, 보통 해당 k를 선택하게 된다."
   ]
  },
  {
   "cell_type": "markdown",
   "metadata": {},
   "source": [
    "<img src='https://gaussian37.github.io/assets/img/ml/concept/k-means/15.PNG\n",
    "' width='600' height='320'/>"
   ]
  },
  {
   "cell_type": "markdown",
   "metadata": {},
   "source": [
    "### 예제"
   ]
  },
  {
   "cell_type": "markdown",
   "metadata": {},
   "source": [
    "KMeans 알고리즘를 scikit-learn에 있는 붗꽃 종류 데이터를 활용해 서술했다. 우선 dataset에서 DataFrame을 활용해 구조를 파악하고, feature, target variable을 설정한다."
   ]
  },
  {
   "cell_type": "code",
   "execution_count": 9,
   "metadata": {},
   "outputs": [],
   "source": [
    "from sklearn.datasets import load_iris\n",
    "iris = load_iris()\n",
    "x_data = iris.data[:, :2] #use only 'sepal length and sepal width' # 'sepal length (cm)''sepal width (cm)'\n",
    "y_data = iris.target"
   ]
  },
  {
   "cell_type": "code",
   "execution_count": 10,
   "metadata": {},
   "outputs": [
    {
     "data": {
      "text/html": [
       "<div>\n",
       "<style scoped>\n",
       "    .dataframe tbody tr th:only-of-type {\n",
       "        vertical-align: middle;\n",
       "    }\n",
       "\n",
       "    .dataframe tbody tr th {\n",
       "        vertical-align: top;\n",
       "    }\n",
       "\n",
       "    .dataframe thead th {\n",
       "        text-align: right;\n",
       "    }\n",
       "</style>\n",
       "<table border=\"1\" class=\"dataframe\">\n",
       "  <thead>\n",
       "    <tr style=\"text-align: right;\">\n",
       "      <th></th>\n",
       "      <th>sepal length (cm)</th>\n",
       "      <th>sepal width (cm)</th>\n",
       "      <th>petal length (cm)</th>\n",
       "      <th>petal width (cm)</th>\n",
       "      <th>target</th>\n",
       "    </tr>\n",
       "  </thead>\n",
       "  <tbody>\n",
       "    <tr>\n",
       "      <th>0</th>\n",
       "      <td>5.1</td>\n",
       "      <td>3.5</td>\n",
       "      <td>1.4</td>\n",
       "      <td>0.2</td>\n",
       "      <td>0</td>\n",
       "    </tr>\n",
       "    <tr>\n",
       "      <th>1</th>\n",
       "      <td>4.9</td>\n",
       "      <td>3.0</td>\n",
       "      <td>1.4</td>\n",
       "      <td>0.2</td>\n",
       "      <td>0</td>\n",
       "    </tr>\n",
       "    <tr>\n",
       "      <th>2</th>\n",
       "      <td>4.7</td>\n",
       "      <td>3.2</td>\n",
       "      <td>1.3</td>\n",
       "      <td>0.2</td>\n",
       "      <td>0</td>\n",
       "    </tr>\n",
       "    <tr>\n",
       "      <th>3</th>\n",
       "      <td>4.6</td>\n",
       "      <td>3.1</td>\n",
       "      <td>1.5</td>\n",
       "      <td>0.2</td>\n",
       "      <td>0</td>\n",
       "    </tr>\n",
       "    <tr>\n",
       "      <th>4</th>\n",
       "      <td>5.0</td>\n",
       "      <td>3.6</td>\n",
       "      <td>1.4</td>\n",
       "      <td>0.2</td>\n",
       "      <td>0</td>\n",
       "    </tr>\n",
       "  </tbody>\n",
       "</table>\n",
       "</div>"
      ],
      "text/plain": [
       "   sepal length (cm)  sepal width (cm)  petal length (cm)  petal width (cm)  \\\n",
       "0                5.1               3.5                1.4               0.2   \n",
       "1                4.9               3.0                1.4               0.2   \n",
       "2                4.7               3.2                1.3               0.2   \n",
       "3                4.6               3.1                1.5               0.2   \n",
       "4                5.0               3.6                1.4               0.2   \n",
       "\n",
       "   target  \n",
       "0       0  \n",
       "1       0  \n",
       "2       0  \n",
       "3       0  \n",
       "4       0  "
      ]
     },
     "execution_count": 10,
     "metadata": {},
     "output_type": "execute_result"
    }
   ],
   "source": [
    "import pandas as pd\n",
    "df = pd.DataFrame(iris.data, columns=iris.feature_names)\n",
    "df['target'] = iris.target\n",
    "df.head()"
   ]
  },
  {
   "cell_type": "code",
   "execution_count": 11,
   "metadata": {},
   "outputs": [
    {
     "data": {
      "text/plain": [
       "0    50\n",
       "1    50\n",
       "2    50\n",
       "Name: target, dtype: int64"
      ]
     },
     "execution_count": 11,
     "metadata": {},
     "output_type": "execute_result"
    }
   ],
   "source": [
    "df['target'].value_counts()"
   ]
  },
  {
   "cell_type": "code",
   "execution_count": 12,
   "metadata": {},
   "outputs": [
    {
     "data": {
      "text/html": [
       "<style>#sk-container-id-1 {color: black;background-color: white;}#sk-container-id-1 pre{padding: 0;}#sk-container-id-1 div.sk-toggleable {background-color: white;}#sk-container-id-1 label.sk-toggleable__label {cursor: pointer;display: block;width: 100%;margin-bottom: 0;padding: 0.3em;box-sizing: border-box;text-align: center;}#sk-container-id-1 label.sk-toggleable__label-arrow:before {content: \"▸\";float: left;margin-right: 0.25em;color: #696969;}#sk-container-id-1 label.sk-toggleable__label-arrow:hover:before {color: black;}#sk-container-id-1 div.sk-estimator:hover label.sk-toggleable__label-arrow:before {color: black;}#sk-container-id-1 div.sk-toggleable__content {max-height: 0;max-width: 0;overflow: hidden;text-align: left;background-color: #f0f8ff;}#sk-container-id-1 div.sk-toggleable__content pre {margin: 0.2em;color: black;border-radius: 0.25em;background-color: #f0f8ff;}#sk-container-id-1 input.sk-toggleable__control:checked~div.sk-toggleable__content {max-height: 200px;max-width: 100%;overflow: auto;}#sk-container-id-1 input.sk-toggleable__control:checked~label.sk-toggleable__label-arrow:before {content: \"▾\";}#sk-container-id-1 div.sk-estimator input.sk-toggleable__control:checked~label.sk-toggleable__label {background-color: #d4ebff;}#sk-container-id-1 div.sk-label input.sk-toggleable__control:checked~label.sk-toggleable__label {background-color: #d4ebff;}#sk-container-id-1 input.sk-hidden--visually {border: 0;clip: rect(1px 1px 1px 1px);clip: rect(1px, 1px, 1px, 1px);height: 1px;margin: -1px;overflow: hidden;padding: 0;position: absolute;width: 1px;}#sk-container-id-1 div.sk-estimator {font-family: monospace;background-color: #f0f8ff;border: 1px dotted black;border-radius: 0.25em;box-sizing: border-box;margin-bottom: 0.5em;}#sk-container-id-1 div.sk-estimator:hover {background-color: #d4ebff;}#sk-container-id-1 div.sk-parallel-item::after {content: \"\";width: 100%;border-bottom: 1px solid gray;flex-grow: 1;}#sk-container-id-1 div.sk-label:hover label.sk-toggleable__label {background-color: #d4ebff;}#sk-container-id-1 div.sk-serial::before {content: \"\";position: absolute;border-left: 1px solid gray;box-sizing: border-box;top: 0;bottom: 0;left: 50%;z-index: 0;}#sk-container-id-1 div.sk-serial {display: flex;flex-direction: column;align-items: center;background-color: white;padding-right: 0.2em;padding-left: 0.2em;position: relative;}#sk-container-id-1 div.sk-item {position: relative;z-index: 1;}#sk-container-id-1 div.sk-parallel {display: flex;align-items: stretch;justify-content: center;background-color: white;position: relative;}#sk-container-id-1 div.sk-item::before, #sk-container-id-1 div.sk-parallel-item::before {content: \"\";position: absolute;border-left: 1px solid gray;box-sizing: border-box;top: 0;bottom: 0;left: 50%;z-index: -1;}#sk-container-id-1 div.sk-parallel-item {display: flex;flex-direction: column;z-index: 1;position: relative;background-color: white;}#sk-container-id-1 div.sk-parallel-item:first-child::after {align-self: flex-end;width: 50%;}#sk-container-id-1 div.sk-parallel-item:last-child::after {align-self: flex-start;width: 50%;}#sk-container-id-1 div.sk-parallel-item:only-child::after {width: 0;}#sk-container-id-1 div.sk-dashed-wrapped {border: 1px dashed gray;margin: 0 0.4em 0.5em 0.4em;box-sizing: border-box;padding-bottom: 0.4em;background-color: white;}#sk-container-id-1 div.sk-label label {font-family: monospace;font-weight: bold;display: inline-block;line-height: 1.2em;}#sk-container-id-1 div.sk-label-container {text-align: center;}#sk-container-id-1 div.sk-container {/* jupyter's `normalize.less` sets `[hidden] { display: none; }` but bootstrap.min.css set `[hidden] { display: none !important; }` so we also need the `!important` here to be able to override the default hidden behavior on the sphinx rendered scikit-learn.org. See: https://github.com/scikit-learn/scikit-learn/issues/21755 */display: inline-block !important;position: relative;}#sk-container-id-1 div.sk-text-repr-fallback {display: none;}</style><div id=\"sk-container-id-1\" class=\"sk-top-container\"><div class=\"sk-text-repr-fallback\"><pre>KMeans(n_clusters=3, random_state=42)</pre><b>In a Jupyter environment, please rerun this cell to show the HTML representation or trust the notebook. <br />On GitHub, the HTML representation is unable to render, please try loading this page with nbviewer.org.</b></div><div class=\"sk-container\" hidden><div class=\"sk-item\"><div class=\"sk-estimator sk-toggleable\"><input class=\"sk-toggleable__control sk-hidden--visually\" id=\"sk-estimator-id-1\" type=\"checkbox\" checked><label for=\"sk-estimator-id-1\" class=\"sk-toggleable__label sk-toggleable__label-arrow\">KMeans</label><div class=\"sk-toggleable__content\"><pre>KMeans(n_clusters=3, random_state=42)</pre></div></div></div></div></div>"
      ],
      "text/plain": [
       "KMeans(n_clusters=3, random_state=42)"
      ]
     },
     "execution_count": 12,
     "metadata": {},
     "output_type": "execute_result"
    }
   ],
   "source": [
    "from sklearn.cluster import KMeans\n",
    "km = KMeans(n_clusters=3, random_state=42)\n",
    "km.fit(x_data)"
   ]
  },
  {
   "cell_type": "code",
   "execution_count": 13,
   "metadata": {},
   "outputs": [
    {
     "data": {
      "text/plain": [
       "array([0, 0, 0, 0, 0, 0, 0, 0, 0, 0, 0, 0, 0, 0, 0, 0, 0, 0, 0, 0, 0, 0,\n",
       "       0, 0, 0, 0, 0, 0, 0, 0, 0, 0, 0, 0, 0, 0, 0, 0, 0, 0, 0, 0, 0, 0,\n",
       "       0, 0, 0, 0, 0, 0, 1, 1, 1, 2, 1, 2, 1, 2, 1, 2, 2, 2, 2, 2, 2, 1,\n",
       "       2, 2, 2, 2, 2, 2, 2, 2, 1, 1, 1, 1, 2, 2, 2, 2, 2, 2, 2, 2, 1, 2,\n",
       "       2, 2, 2, 2, 2, 2, 2, 2, 2, 2, 2, 2, 1, 2, 1, 1, 1, 1, 2, 1, 1, 1,\n",
       "       1, 1, 1, 2, 2, 1, 1, 1, 1, 2, 1, 2, 1, 2, 1, 1, 2, 2, 1, 1, 1, 1,\n",
       "       1, 2, 2, 1, 1, 1, 2, 1, 1, 1, 2, 1, 1, 1, 2, 1, 1, 2], dtype=int32)"
      ]
     },
     "execution_count": 13,
     "metadata": {},
     "output_type": "execute_result"
    }
   ],
   "source": [
    "km.labels_"
   ]
  },
  {
   "cell_type": "code",
   "execution_count": 14,
   "metadata": {},
   "outputs": [
    {
     "data": {
      "text/plain": [
       "(array([0, 1, 2], dtype=int32), array([50, 47, 53]))"
      ]
     },
     "execution_count": 14,
     "metadata": {},
     "output_type": "execute_result"
    }
   ],
   "source": [
    "import numpy as np\n",
    "np.unique(km.labels_, return_counts=True)"
   ]
  },
  {
   "cell_type": "markdown",
   "metadata": {},
   "source": [
    "`.transform` 메소드는 훈련 데이터 샘플에서 클러스터 중심까지 거리로 변환해준다."
   ]
  },
  {
   "cell_type": "code",
   "execution_count": 15,
   "metadata": {},
   "outputs": [
    {
     "data": {
      "text/plain": [
       "array([[0.11840608, 1.76483558, 1.05159358],\n",
       "       [0.44093083, 1.91421501, 0.9261403 ],\n",
       "       [0.38160189, 2.11649197, 1.18751365],\n",
       "       [0.52193869, 2.21291325, 1.24233499],\n",
       "       [0.17210462, 1.88740674, 1.19250806],\n",
       "       [0.61483331, 1.6362795 , 1.26401576],\n",
       "       [0.40696437, 2.23658316, 1.37037386],\n",
       "       [0.02863564, 1.84176313, 1.04835901],\n",
       "       [0.80375369, 2.41906566, 1.38917649],\n",
       "       [0.34470277, 1.91293635, 0.96397369],\n",
       "       [0.47876926, 1.54505593, 1.07457758],\n",
       "       [0.2078942 , 2.03892075, 1.20353254],\n",
       "       [0.47499474, 2.01414307, 1.02100579],\n",
       "       [0.82560281, 2.51386918, 1.50533642],\n",
       "       [0.9785806 , 1.37197092, 1.30781396],\n",
       "       [1.19432826, 1.73068857, 1.70913197],\n",
       "       [0.61483331, 1.6362795 , 1.26401576],\n",
       "       [0.11840608, 1.76483558, 1.05159358],\n",
       "       [0.78741349, 1.32839928, 1.10998895],\n",
       "       [0.38369259, 1.86009779, 1.2962937 ],\n",
       "       [0.39499367, 1.44978574, 0.80011792],\n",
       "       [0.28778464, 1.82341915, 1.21196862],\n",
       "       [0.44093083, 2.27431682, 1.48355768],\n",
       "       [0.15880806, 1.72755083, 0.90709988],\n",
       "       [0.2078942 , 2.03892075, 1.20353254],\n",
       "       [0.42804205, 1.81429488, 0.83247755],\n",
       "       [0.02863564, 1.84176313, 1.04835901],\n",
       "       [0.20692994, 1.66796026, 0.99052111],\n",
       "       [0.1960102 , 1.64529179, 0.91083623],\n",
       "       [0.38160189, 2.11649197, 1.18751365],\n",
       "       [0.38732415, 2.01292789, 1.05544411],\n",
       "       [0.39499367, 1.44978574, 0.80011792],\n",
       "       [0.69944264, 1.91121159, 1.51993049],\n",
       "       [0.91652605, 1.7292127 , 1.53217074],\n",
       "       [0.34470277, 1.91293635, 0.96397369],\n",
       "       [0.22807893, 1.81710723, 0.92522307],\n",
       "       [0.49921939, 1.38001155, 0.85263189],\n",
       "       [0.2020396 , 1.9836475 , 1.2596795 ],\n",
       "       [0.74190296, 2.41391488, 1.40759396],\n",
       "       [0.0980816 , 1.74342716, 0.97690308],\n",
       "       [0.07224957, 1.86204131, 1.1182871 ],\n",
       "       [1.23629285, 2.43899307, 1.33268066],\n",
       "       [0.64747201, 2.41602935, 1.46435639],\n",
       "       [0.07224957, 1.86204131, 1.1182871 ],\n",
       "       [0.38369259, 1.86009779, 1.2962937 ],\n",
       "       [0.47499474, 2.01414307, 1.02100579],\n",
       "       [0.38369259, 1.86009779, 1.2962937 ],\n",
       "       [0.46563935, 2.21632386, 1.2786343 ],\n",
       "       [0.40052466, 1.63699451, 1.11329869],\n",
       "       [0.12814055, 1.82674165, 0.98363976],\n",
       "       [2.00699278, 0.22542149, 1.32728976],\n",
       "       [1.41252257, 0.43143249, 0.80622577],\n",
       "       [1.92219146, 0.09089366, 1.19787548],\n",
       "       [1.23143006, 1.52419004, 0.47840143],\n",
       "       [1.62062334, 0.4161193 , 0.73433322],\n",
       "       [0.9359594 , 1.14611553, 0.13031167],\n",
       "       [1.30031535, 0.56017281, 0.80388209],\n",
       "       [1.03345053, 2.02819644, 0.92123789],\n",
       "       [1.67917242, 0.27515171, 0.85207848],\n",
       "       [0.7534056 , 1.65566916, 0.57363456],\n",
       "       [1.4280126 , 2.10727361, 1.03823144],\n",
       "       [0.99117102, 0.91579866, 0.33251472],\n",
       "       [1.57987974, 1.19385214, 0.54200884],\n",
       "       [1.214751  , 0.73380816, 0.38681086],\n",
       "       [0.79474524, 1.22525115, 0.27056893],\n",
       "       [1.72546226, 0.11562024, 1.01209665],\n",
       "       [0.73213387, 1.21505011, 0.35315291],\n",
       "       [1.07722792, 1.07977833, 0.02747211],\n",
       "       [1.71278136, 1.0677905 , 0.65141356],\n",
       "       [1.10182576, 1.34194443, 0.25917139],\n",
       "       [0.92261585, 0.92135767, 0.52305344],\n",
       "       [1.26143569, 0.76378534, 0.34367602],\n",
       "       [1.59236302, 0.7700276 , 0.5604917 ],\n",
       "       [1.26143569, 0.76378534, 0.34367602],\n",
       "       [1.49064416, 0.4481237 , 0.65990279],\n",
       "       [1.65046054, 0.22542149, 0.88178635],\n",
       "       [1.90074196, 0.27476481, 1.03203408],\n",
       "       [1.7472321 , 0.1351357 , 0.97613021],\n",
       "       [1.12553099, 0.83128071, 0.30714756],\n",
       "       [1.08037956, 1.2096975 , 0.11816202],\n",
       "       [1.14053496, 1.47589351, 0.40047142],\n",
       "       [1.14053496, 1.47589351, 0.40047142],\n",
       "       [1.07722792, 1.07977833, 0.02747211],\n",
       "       [1.23207954, 0.89488259, 0.22654085],\n",
       "       [0.58173877, 1.41472723, 0.48389146],\n",
       "       [0.99439429, 0.87553385, 0.74289083],\n",
       "       [1.72546226, 0.11562024, 1.01209665],\n",
       "       [1.71663042, 0.92883246, 0.65660648],\n",
       "       [0.73213387, 1.21505011, 0.35315291],\n",
       "       [1.05129444, 1.43295779, 0.33449483],\n",
       "       [0.96416804, 1.39587765, 0.28878405],\n",
       "       [1.17474252, 0.71664552, 0.44847751],\n",
       "       [1.14717915, 1.11839834, 0.09615239],\n",
       "       [1.12801596, 1.97127401, 0.86744039],\n",
       "       [0.93958501, 1.26926263, 0.1737489 ],\n",
       "       [0.81536495, 1.11525494, 0.31622777],\n",
       "       [0.87202064, 1.12636015, 0.22020574],\n",
       "       [1.30553437, 0.63711948, 0.4742422 ],\n",
       "       [0.93274863, 1.80653835, 0.70053888],\n",
       "       [0.9359594 , 1.14611553, 0.13031167],\n",
       "       [1.30031535, 0.56017281, 0.80388209],\n",
       "       [1.07722792, 1.07977833, 0.02747211],\n",
       "       [2.13729268, 0.29673033, 1.36160283],\n",
       "       [1.39757647, 0.5416346 , 0.56585217],\n",
       "       [1.55409781, 0.321509  , 0.78883721],\n",
       "       [2.62907208, 0.79074834, 1.85212779],\n",
       "       [0.93403426, 1.99716979, 0.89453266],\n",
       "       [2.35397961, 0.51752886, 1.5404606 ],\n",
       "       [1.93153307, 0.58543124, 0.94619396],\n",
       "       [2.2007317 , 0.6527894 , 1.69065132],\n",
       "       [1.51129746, 0.33701752, 0.88616196],\n",
       "       [1.57264745, 0.55731686, 0.62646056],\n",
       "       [1.84434812, 0.07555439, 1.07150045],\n",
       "       [1.1588011 , 1.25230254, 0.20604085],\n",
       "       [1.01233394, 1.04929863, 0.11074363],\n",
       "       [1.41252257, 0.43143249, 0.80622577],\n",
       "       [1.55409781, 0.321509  , 0.78883721],\n",
       "       [2.71956246, 1.14611553, 2.22210167],\n",
       "       [2.81837187, 1.0061333 , 1.92863232],\n",
       "       [1.57987974, 1.19385214, 0.54200884],\n",
       "       [1.90767398, 0.15286608, 1.23548173],\n",
       "       [0.86441888, 1.24343637, 0.20420116],\n",
       "       [2.76622848, 0.92871792, 1.92941481],\n",
       "       [1.48472893, 0.6349451 , 0.52646919],\n",
       "       [1.69882901, 0.25215235, 1.10786213],\n",
       "       [2.20581504, 0.40707305, 1.51402251],\n",
       "       [1.34908117, 0.67142747, 0.43976838],\n",
       "       [1.17474252, 0.71664552, 0.44847751],\n",
       "       [1.52892773, 0.49568989, 0.63558026],\n",
       "       [2.23535679, 0.39432943, 1.45919337],\n",
       "       [2.47499899, 0.64821027, 1.62996701],\n",
       "       [2.91781082, 1.30708623, 2.39756165],\n",
       "       [1.52892773, 0.49568989, 0.63558026],\n",
       "       [1.43833932, 0.58160266, 0.53728879],\n",
       "       [1.37201312, 0.85624487, 0.33925557],\n",
       "       [2.72778665, 0.89035372, 1.95081018],\n",
       "       [1.2943029 , 0.60737135, 0.88189333],\n",
       "       [1.43206843, 0.41355485, 0.74732226],\n",
       "       [1.08222918, 0.81617032, 0.38190189],\n",
       "       [1.92219146, 0.09089366, 1.19787548],\n",
       "       [1.72546226, 0.11562024, 1.01209665],\n",
       "       [1.92219146, 0.09089366, 1.19787548],\n",
       "       [1.07722792, 1.07977833, 0.02747211],\n",
       "       [1.80843026, 0.12617936, 1.14504676],\n",
       "       [1.69882901, 0.25215235, 1.10786213],\n",
       "       [1.7472321 , 0.1351357 , 0.97613021],\n",
       "       [1.59236302, 0.7700276 , 0.5604917 ],\n",
       "       [1.55409781, 0.321509  , 0.78883721],\n",
       "       [1.19432826, 0.69386825, 0.82610703],\n",
       "       [0.99117102, 0.91579866, 0.33251472]])"
      ]
     },
     "execution_count": 15,
     "metadata": {},
     "output_type": "execute_result"
    }
   ],
   "source": [
    "km.transform(x_data)"
   ]
  },
  {
   "cell_type": "markdown",
   "metadata": {},
   "source": [
    "`.predict` 메소드는 가장 가까운 centriod의 cluster로 출력한다."
   ]
  },
  {
   "cell_type": "code",
   "execution_count": 16,
   "metadata": {},
   "outputs": [
    {
     "data": {
      "text/plain": [
       "array([0, 0, 0, 0, 0, 0, 0, 0, 0, 0, 0, 0, 0, 0, 0, 0, 0, 0, 0, 0, 0, 0,\n",
       "       0, 0, 0, 0, 0, 0, 0, 0, 0, 0, 0, 0, 0, 0, 0, 0, 0, 0, 0, 0, 0, 0,\n",
       "       0, 0, 0, 0, 0, 0, 1, 1, 1, 2, 1, 2, 1, 2, 1, 2, 2, 2, 2, 2, 2, 1,\n",
       "       2, 2, 2, 2, 2, 2, 2, 2, 1, 1, 1, 1, 2, 2, 2, 2, 2, 2, 2, 2, 1, 2,\n",
       "       2, 2, 2, 2, 2, 2, 2, 2, 2, 2, 2, 2, 1, 2, 1, 1, 1, 1, 2, 1, 1, 1,\n",
       "       1, 1, 1, 2, 2, 1, 1, 1, 1, 2, 1, 2, 1, 2, 1, 1, 2, 2, 1, 1, 1, 1,\n",
       "       1, 2, 2, 1, 1, 1, 2, 1, 1, 1, 2, 1, 1, 1, 2, 1, 1, 2], dtype=int32)"
      ]
     },
     "execution_count": 16,
     "metadata": {},
     "output_type": "execute_result"
    }
   ],
   "source": [
    "y_predict = km.predict(x_data)\n",
    "y_predict"
   ]
  },
  {
   "cell_type": "markdown",
   "metadata": {},
   "source": [
    "KMeans는 반복적으로 클러스터 중심을 옮기면서 최적의 클러스터를 찾는데, `n_iter_` 메소드는 이 알고리즘이 반복한 횟수를 출력한다."
   ]
  },
  {
   "cell_type": "code",
   "execution_count": 17,
   "metadata": {},
   "outputs": [
    {
     "name": "stdout",
     "output_type": "stream",
     "text": [
      "4\n"
     ]
    }
   ],
   "source": [
    "print(km.n_iter_)"
   ]
  },
  {
   "cell_type": "code",
   "execution_count": 18,
   "metadata": {},
   "outputs": [
    {
     "data": {
      "text/plain": [
       "<matplotlib.legend.Legend at 0x288882ac0>"
      ]
     },
     "execution_count": 18,
     "metadata": {},
     "output_type": "execute_result"
    },
    {
     "data": {
      "image/png": "[encoded data removed]",
      "text/plain": [
       "<Figure size 640x480 with 1 Axes>"
      ]
     },
     "metadata": {},
     "output_type": "display_data"
    }
   ],
   "source": [
    "#Visualising the clusters\n",
    "plt.scatter(x_data[y_predict == 0, 0], x_data[y_predict == 0, 1], s = 10, c = 'blue', label = 'Iris-setosa')\n",
    "plt.scatter(x_data[y_predict == 1, 0], x_data[y_predict == 1, 1], s = 10, c = 'orange', label = 'Iris-versicolour')\n",
    "plt.scatter(x_data[y_predict == 2, 0], x_data[y_predict == 2, 1], s = 10, c = 'green', label = 'Iris-virginica')\n",
    "\n",
    "#Plotting the centroids of the clusters\n",
    "plt.scatter(km.cluster_centers_[:, 0], km.cluster_centers_[:,1], s = 50, c = 'red', label = 'Centroids')\n",
    "\n",
    "plt.legend()"
   ]
  },
  {
   "cell_type": "markdown",
   "metadata": {},
   "source": [
    "최적의 k를 찾는 Elbow method를 진행해보겠다. centriod와 샘플 사이의 거리의 제곱 합을 inertia라고 부르는데, inertia는 클러스터에 속한 샘플이 얼마나 가깝게 모여있는지를 나타낸다고 생각하면 된다. 일반적으로 클러스터 개수가 늘어나면 inertia도 줄어든다. KMeans에는 `inertia_` 메소드를 통해 Elbow method를 실행할 수 있다."
   ]
  },
  {
   "cell_type": "code",
   "execution_count": 19,
   "metadata": {},
   "outputs": [
    {
     "data": {
      "image/png": "[encoded data removed]",
      "text/plain": [
       "<Figure size 640x480 with 1 Axes>"
      ]
     },
     "metadata": {},
     "output_type": "display_data"
    }
   ],
   "source": [
    "import matplotlib.pyplot as plt\n",
    "from sklearn.cluster import KMeans\n",
    "\n",
    "inertia = []\n",
    "for k in range(2, 7):\n",
    "    km = KMeans(n_clusters=k, random_state=42)\n",
    "    km.fit(x_data)\n",
    "    inertia.append(km.inertia_)\n",
    "plt.plot(range(2, 7), inertia)\n",
    "plt.xlabel('k')\n",
    "plt.ylabel('inertia')\n",
    "plt.show()"
   ]
  },
  {
   "cell_type": "code",
   "execution_count": null,
   "metadata": {},
   "outputs": [],
   "source": []
  }
 ],
 "metadata": {
  "kernelspec": {
   "display_name": "Python 3.8.13 ('study')",
   "language": "python",
   "name": "python3"
  },
  "language_info": {
   "codemirror_mode": {
    "name": "ipython",
    "version": 3
   },
   "file_extension": ".py",
   "mimetype": "text/x-python",
   "name": "python",
   "nbconvert_exporter": "python",
   "pygments_lexer": "ipython3",
   "version": "3.8.15 | packaged by conda-forge | (default, Nov 22 2022, 08:52:09) \n[Clang 14.0.6 ]"
  },
  "vscode": {
   "interpreter": {
    "hash": "d8dc7d3aa09af79666e556f106494fe4e31b040c6a4ab6a124d4dbda5928b8f5"
   }
  }
 },
 "nbformat": 4,
 "nbformat_minor": 2
}
