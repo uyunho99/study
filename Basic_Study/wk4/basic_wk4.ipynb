{
 "cells": [
  {
   "cell_type": "markdown",
   "metadata": {},
   "source": [
    "# 분류"
   ]
  },
  {
   "cell_type": "markdown",
   "metadata": {},
   "source": []
  },
  {
   "cell_type": "markdown",
   "metadata": {},
   "source": []
  },
  {
   "cell_type": "markdown",
   "metadata": {},
   "source": []
  },
  {
   "cell_type": "markdown",
   "metadata": {},
   "source": []
  },
  {
   "cell_type": "markdown",
   "metadata": {},
   "source": [
    "# 군집"
   ]
  },
  {
   "cell_type": "markdown",
   "metadata": {},
   "source": [
    "머신러닝의 학습 방법은 크게 지도 학습(supervised learning)과 비지도 학습(unsupervised learning)으로 나눌 수 있다. \n",
    "- 지도 학습 : 라벨링이 된 데이터를 학습시키는 것을 의미\n",
    "- 비지도 학습 : 라벨링이 되지 않은 데이터를 학습 시키는 것을 의미\n",
    "\n",
    "(여기서 라벨링이란 train data에 정답이 표시된것을 의미한다.)\n",
    "\n",
    "비지도학습의 가장 대표적인 학습 방법으로는 군집이 있다. 군집(clustering)은 비슷한 샘플 데이터끼리 그룹으로 모으는 작업을 의미하며, 군집 알고리즘을 통해 만들어진 그룹을 클러스터(cluster)라고 부른다. 군집의 가장 대표적인 알고리즘으로는 K-means와 PCA가 있다."
   ]
  },
  {
   "cell_type": "markdown",
   "metadata": {},
   "source": [
    "<img src='https://gaussian37.github.io/assets/img/ml/concept/k-means/unsupervised-learning.PNG' width='600' height='320'/>"
   ]
  },
  {
   "cell_type": "markdown",
   "metadata": {},
   "source": [
    "# K-means"
   ]
  },
  {
   "cell_type": "markdown",
   "metadata": {},
   "source": [
    "### 알고리즘"
   ]
  },
  {
   "cell_type": "markdown",
   "metadata": {},
   "source": [
    "K-means 알고리즘의 원리는 다음과 같다.\n",
    "\n",
    "1. training sample에서 우리가 cluster의 개수만큼 클러스터 중심(cluster center)/센트로이드(centroid)를 임의로 지정한다. (Random하게 K개의 센트로이드를 초기화한다.)\n",
    "\n",
    "$$\\mu_{1}, \\mu_{2}, \\cdots, \\mu_{k} \\in \\mathbb{R}^{n}$$\n",
    "\n",
    "2. 모든 training sample에 대해서 가장 가까운 센트로이드의 cluster로 할당한다. (cluster assignment step)\n",
    "\n",
    "$$\\min_{k}||x^{(i)}-\\mu_{k}||^{2}$$\n",
    "\n",
    "3. 각 cluster에 해당하는 모든 점들의 평균을 구하고, 그 평균으로 센트로이드를 옮긴다(갱신한다). (move centroid step)\n",
    "\n",
    "$$\\mu_{k}=\\frac{1}{m}(x^{1}, \\cdots, x^{i}, \\cdots, x^{m})$$\n",
    "\n",
    "4. 2번과 3번을 계속해서 반복하면, 센트로이드가 더 이상 움직이지 않고 수렴하는 지점에서 cluster가 결정된다.\n",
    "\n",
    "- $\\mu_{k}$ : cluster k의 centriod 위치\n",
    "- $k$ : cluster의 개수\n",
    "- $\\{x^{i}\\}$ : 각 cluster에 있는 training set\n",
    "- $m$ : 각 cluster에 있는 training set의 개수"
   ]
  },
  {
   "cell_type": "markdown",
   "metadata": {},
   "source": [
    "<p float=\"left\">\n",
    "    <img src=\"https://gaussian37.github.io/assets/img/ml/concept/k-means/2.PNG\" width=\"200\" height='180'/>\n",
    "    <img src=\"https://gaussian37.github.io/assets/img/ml/concept/k-means/3.PNG\" width=\"200\" height='180'/>\n",
    "    <img src=\"https://gaussian37.github.io/assets/img/ml/concept/k-means/6.PNG\" width=\"200\" height='180'/>\n",
    "</p>"
   ]
  },
  {
   "cell_type": "markdown",
   "metadata": {},
   "source": [
    "### 최적화"
   ]
  },
  {
   "cell_type": "markdown",
   "metadata": {},
   "source": [
    "K-means 알고리즘을 최적화하는 방법은 다음과 같다. 아래는 K-means 알고리즘의 비용함수다.(Distortion function이라고 부르기도 한다.)\n",
    "\n",
    "$$J(c^{(1)}, \\cdots, c^{(m)}, \\mu^{(1)}, \\cdots, \\mu^{(k)})=\\frac{1}{m}\\sum^{m}_{i=1}||x^{(i)}-\\mu_{c^{(i)}}||^{2}$$\n",
    "\n",
    "$$ \\min_{c, \\, \\mu} J(c^{(1)}, \\cdots, c^{(m)}, \\mu^{(1)}, \\cdots, \\mu^{(k)})$$\n",
    "\n",
    "- $c^{(i)}$ : 각각의 training set($x^{i}$)이 할당되어 있는 cluster의 인덱스\n",
    "- $\\mu_{k}$ : cluster k의 centriod 위치\n",
    "- $\\mu_{c^{(i)}}$ : cluster의 인덱스($c^{(i)}$)의 centriod 위치\n",
    "\n",
    "우리의 최종 목적은 비용함수 J를 최소화하는 c와 $\\mu$를 찾는 것이다.\n",
    "\n",
    "+ 추가적으로 random initialization을 통해 여러번 시행시켜 local optima에 도달하지 않고 가장 좋은 모델을 선택하는 것이 바람직하다."
   ]
  },
  {
   "cell_type": "markdown",
   "metadata": {},
   "source": [
    "### + K의 값 정하기"
   ]
  },
  {
   "cell_type": "markdown",
   "metadata": {},
   "source": [
    "cluster의 개수인 k를 결정하는 것은 일반적으로 데이터를 직접 확인하거나 다른 clustering algorithm의 결과를 보고 선택할 수 있다. 그 중에서 Elbow Method가 있다. 이 방법은 k의 개수를 1에서 점차 늘려가면서 비용함수(Distortion function)을 계산한다. x축을 k(cluster의 개수), y축을 비용함수로 설정하고 그래프를 그려보면, 특정 k 이후의 비용이 거의 변하지 않는 지점이 있다. 우리는 그곳을 elbow point라고 일컫고, 보통 해당 k를 선택하게 된다."
   ]
  },
  {
   "cell_type": "markdown",
   "metadata": {},
   "source": [
    "<img src='https://gaussian37.github.io/assets/img/ml/concept/k-means/15.PNG\n",
    "' width='600' height='320'/>"
   ]
  },
  {
   "cell_type": "code",
   "execution_count": null,
   "metadata": {},
   "outputs": [],
   "source": []
  }
 ],
 "metadata": {
  "kernelspec": {
   "display_name": "Python 3 (ipykernel)",
   "language": "python",
   "name": "python3"
  },
  "language_info": {
   "codemirror_mode": {
    "name": "ipython",
    "version": 3
   },
   "file_extension": ".py",
   "mimetype": "text/x-python",
   "name": "python",
   "nbconvert_exporter": "python",
   "pygments_lexer": "ipython3",
   "version": "3.10.6"
  },
  "vscode": {
   "interpreter": {
    "hash": "b0fa6594d8f4cbf19f97940f81e996739fb7646882a419484c72d19e05852a7e"
   }
  }
 },
 "nbformat": 4,
 "nbformat_minor": 2
}
