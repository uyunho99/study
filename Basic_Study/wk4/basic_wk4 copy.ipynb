{
 "cells": [
  {
   "cell_type": "markdown",
   "metadata": {},
   "source": [
    "# 분류"
   ]
  },
  {
   "cell_type": "markdown",
   "metadata": {},
   "source": [
    "머신러닝의 학습 방법은 크게 지도 학습(supervised learning)과 비지도 학습(unsupervised learning)으로 나눌 수 있다. \n",
    "- 지도 학습 : 라벨링이 된 데이터를 학습시키는 것을 의미\n",
    "- 비지도 학습 : 라벨링이 되지 않은 데이터를 학습 시키는 것을 의미\n",
    "\n",
    "(여기서 라벨링이란 학습시킬 데이터(train data)에 각각에 맞추고 싶은 정답(target data)이 표시된 것을 의미한다.)\n",
    "\n",
    "지도학습은 target data의 형태에 따라 분류(classification)와 회귀(regression)로 나눌 수 있다.\n",
    "- 분류 : target data가 categorical/discrete 형태인 경우, 데이터가 속한 그룹을 찾아내는 것을 의미\n",
    "- 회귀 : target data가 continuous 형태인 경우, feature variable과 target variable의 관계를 찾아내는 것을 의미"
   ]
  },
  {
   "cell_type": "markdown",
   "metadata": {},
   "source": [
    "<img src='https://img1.daumcdn.net/thumb/R1280x0/?scode=mtistory2&fname=https%3A%2F%2Fblog.kakaocdn.net%2Fdn%2FbblCkC%2FbtqEq8rEkUa%2FLM1DLkUgBku9ApbkTYX90K%2Fimg.png' width='600' height='300'/>"
   ]
  },
  {
   "cell_type": "markdown",
   "metadata": {},
   "source": [
    "# KNN Classifier"
   ]
  },
  {
   "cell_type": "markdown",
   "metadata": {},
   "source": [
    "k-NN(k-Nearest Neighbors) 알고리즘은 가장 간단한 분류 머신러닝 알고리즘이다. 1) 임의의 k를 정해, 2) 예측할 데이터를 기준으로 가장 가까운 k개의 요소(이웃)의 분류 클래스를 기준으로 3) 더 많은 이웃이 있는 클래스로 분류한다. "
   ]
  },
  {
   "cell_type": "markdown",
   "metadata": {},
   "source": []
  },
  {
   "cell_type": "markdown",
   "metadata": {},
   "source": [
    "# SVM"
   ]
  },
  {
   "cell_type": "markdown",
   "metadata": {},
   "source": [
    "### 로지스틱 회귀 비용함수"
   ]
  },
  {
   "cell_type": "markdown",
   "metadata": {},
   "source": [
    "지난 시간에 배운 로지스틱 회귀의 비용 곡선을 잠깐 다뤄보도록 하겠다.\n",
    "\n",
    "$$Cost(h_{\\theta}(x), y) = \\begin{cases} -\\log(h_{\\theta}(x)) \\qquad \\; \\,  (y=1)\\\\ -\\log(1-h_{\\theta}(x)) \\quad (y=0)\\\\ \\end{cases}$$\n",
    "\n",
    "$y = 1$인 경우에, $h_{\\theta}(x)=1$이면 비용은 0에 가깝지만, $h_{\\theta}(x)=0$이면 비용은 무한대이다. (반대도 마찬가지다.) 아래 비용함수를 그려보도록 하겠다."
   ]
  },
  {
   "cell_type": "code",
   "execution_count": 27,
   "metadata": {},
   "outputs": [
    {
     "data": {
      "image/png": "[encoded data removed]",
      "text/plain": [
       "<Figure size 640x480 with 1 Axes>"
      ]
     },
     "metadata": {},
     "output_type": "display_data"
    }
   ],
   "source": [
    "import matplotlib.pyplot as plt\n",
    "import numpy as np\n",
    "\n",
    "x = np.arange(-3, 3, 0.1)\n",
    "\n",
    "plt.plot(x, -np.log(1/(1+np.exp(-x))))\n",
    "plt.plot(x, np.piecewise(x, [x < 1, x >= 1], [lambda x: ((-2.6/4)*x)+0.65, lambda x: 0]))\n",
    "plt.grid(alpha=0.5)\n",
    "plt.show()"
   ]
  },
  {
   "cell_type": "markdown",
   "metadata": {},
   "source": [
    "SVM(Support Vector Machine)에서 비용 곡선은 다음 주황색 함수를 사용할 것이다.(log를 사용하지 않고 직선의 함수다.) 1을 기준으로 1보다 크면 비용이 0이고, 1을 기준으로 1보다 작은 구간에서는 기울기가 음(-)인 직선을 그린다. (기울기의 크기는 중요하지 않다.) 이렇게 로지스틱 회귀의 비용함수와 유사한 직선을 새롭게 만들어, 더 쉽게 최적화를 진행하려고 한다. (piecewise-linear한 비용함수를 hinge loss function이라고 부른다.)\n",
    "이 때, $y=1$일 때의 cost를 $cost_{1}(z)$라고 표현하고, $y=0$일 때의 cost를 $cost_{0}(z)$라고 표현한다."
   ]
  },
  {
   "cell_type": "markdown",
   "metadata": {},
   "source": [
    "### SVM 비용함수"
   ]
  },
  {
   "cell_type": "markdown",
   "metadata": {},
   "source": [
    "따라서 로지스틱 회귀의 비용 함수에서 새롭게 정의한 $cost_{1}(z)$, $cost_{0}(z)$을 대입해서 새롭게 SVM 비용 함수를 정의한다.\n",
    "\n",
    "$$ \\min_{\\theta} \\frac{1}{m} \\Bigg[ \\sum_{i=1}^{m} y^{i} (-\\log h_{\\theta}(x^{i})) + (1-y^{i}) \\big(-\\log (1-h_{\\theta}(x^{i})) \\big) \\Bigg] + \\frac{\\lambda}{2m}\\sum_{i=1}^{n}\\theta_{j}^{2}$$\n",
    "\n",
    "$$ \\min_{\\theta} \\frac{1}{\\lambda} \\Bigg[ \\sum_{i=1}^{m} y^{i} cost_{1}(\\theta^{T}x^{i}) + (1-y^{i}) cost_{0}(\\theta^{T}x^{i}) \\Bigg] + \\frac{1}{2}\\sum_{i=1}^{n}\\theta_{j}^{2}$$\n",
    "\n"
   ]
  },
  {
   "cell_type": "markdown",
   "metadata": {},
   "source": [
    "### SVM 가설함수"
   ]
  },
  {
   "cell_type": "markdown",
   "metadata": {},
   "source": [
    "SVM의 가설함수는 다음과 같다.\n",
    "\n",
    "$$h_{\\theta}(x) = \\begin{cases} 1 \\quad  (\\mathrm{if} \\; \\, \\theta^{T}x^{i} > 0) \\\\ 0 \\quad (\\mathrm{if} \\; \\, \\theta^{T}x^{i} < 0)\\\\ \\end{cases}$$\n",
    "\n",
    "y가 1이거나 0일 확률로 계산하지 않으며, 가설 함수의 결과 값은 0 또는 1로 명확하다."
   ]
  },
  {
   "cell_type": "markdown",
   "metadata": {},
   "source": [
    "# 군집"
   ]
  },
  {
   "cell_type": "markdown",
   "metadata": {},
   "source": [
    "머신러닝의 학습 방법은 크게 지도 학습(supervised learning)과 비지도 학습(unsupervised learning)으로 나눌 수 있다. \n",
    "- 지도 학습 : 라벨링이 된 데이터를 학습시키는 것을 의미\n",
    "- 비지도 학습 : 라벨링이 되지 않은 데이터를 학습 시키는 것을 의미\n",
    "\n",
    "(여기서 라벨링이란 train data에 정답이 표시된것을 의미한다.)\n",
    "\n",
    "비지도학습의 가장 대표적인 학습 방법으로는 군집이 있다. 군집(clustering)은 비슷한 샘플 데이터끼리 그룹으로 모으는 작업을 의미하며, 군집 알고리즘을 통해 만들어진 그룹을 클러스터(cluster)라고 부른다. 군집의 가장 대표적인 알고리즘으로는 K-means와 PCA가 있다."
   ]
  },
  {
   "cell_type": "markdown",
   "metadata": {},
   "source": [
    "<img src='https://gaussian37.github.io/assets/img/ml/concept/k-means/unsupervised-learning.PNG' width='600' height='320'/>"
   ]
  },
  {
   "cell_type": "markdown",
   "metadata": {},
   "source": [
    "# K-means"
   ]
  },
  {
   "cell_type": "markdown",
   "metadata": {},
   "source": [
    "### 알고리즘"
   ]
  },
  {
   "cell_type": "markdown",
   "metadata": {},
   "source": [
    "K-means 알고리즘의 원리는 다음과 같다.\n",
    "\n",
    "1. training sample에서 우리가 cluster의 개수만큼 클러스터 중심(cluster center)/센트로이드(centroid)를 임의로 지정한다. (Random하게 K개의 센트로이드를 초기화한다.)\n",
    "\n",
    "$$\\mu_{1}, \\mu_{2}, \\cdots, \\mu_{k} \\in \\mathbb{R}^{n}$$\n",
    "\n",
    "2. 모든 training sample에 대해서 가장 가까운 센트로이드의 cluster로 할당한다. (cluster assignment step)\n",
    "\n",
    "$$\\min_{k}||x^{(i)}-\\mu_{k}||^{2}$$\n",
    "\n",
    "3. 각 cluster에 해당하는 모든 점들의 평균을 구하고, 그 평균으로 센트로이드를 옮긴다(갱신한다). (move centroid step)\n",
    "\n",
    "$$\\mu_{k}=\\frac{1}{m}(x^{1}, \\cdots, x^{i}, \\cdots, x^{m})$$\n",
    "\n",
    "4. 2번과 3번을 계속해서 반복하면, 센트로이드가 더 이상 움직이지 않고 수렴하는 지점에서 cluster가 결정된다.\n",
    "\n",
    "- $\\mu_{k}$ : cluster k의 centriod 위치\n",
    "- $k$ : cluster의 개수\n",
    "- $\\{x^{i}\\}$ : 각 cluster에 있는 training set\n",
    "- $m$ : 각 cluster에 있는 training set의 개수"
   ]
  },
  {
   "cell_type": "markdown",
   "metadata": {},
   "source": [
    "<p float=\"left\">\n",
    "    <img src=\"https://gaussian37.github.io/assets/img/ml/concept/k-means/2.PNG\" width=\"200\" height='180'/>\n",
    "    <img src=\"https://gaussian37.github.io/assets/img/ml/concept/k-means/3.PNG\" width=\"200\" height='180'/>\n",
    "    <img src=\"https://gaussian37.github.io/assets/img/ml/concept/k-means/6.PNG\" width=\"200\" height='180'/>\n",
    "</p>"
   ]
  },
  {
   "cell_type": "markdown",
   "metadata": {},
   "source": [
    "### 최적화"
   ]
  },
  {
   "cell_type": "markdown",
   "metadata": {},
   "source": [
    "K-means 알고리즘을 최적화하는 방법은 다음과 같다. 아래는 K-means 알고리즘의 비용함수다.(Distortion function이라고 부르기도 한다.)\n",
    "\n",
    "$$J(c^{(1)}, \\cdots, c^{(m)}, \\mu^{(1)}, \\cdots, \\mu^{(k)})=\\frac{1}{m}\\sum^{m}_{i=1}||x^{(i)}-\\mu_{c^{(i)}}||^{2}$$\n",
    "\n",
    "$$ \\min_{c, \\, \\mu} J(c^{(1)}, \\cdots, c^{(m)}, \\mu^{(1)}, \\cdots, \\mu^{(k)})$$\n",
    "\n",
    "- $c^{(i)}$ : 각각의 training set($x^{i}$)이 할당되어 있는 cluster의 인덱스\n",
    "- $\\mu_{k}$ : cluster k의 centriod 위치\n",
    "- $\\mu_{c^{(i)}}$ : cluster의 인덱스($c^{(i)}$)의 centriod 위치\n",
    "\n",
    "우리의 최종 목적은 비용함수 J를 최소화하는 c와 $\\mu$를 찾는 것이다.\n",
    "\n",
    "+ 추가적으로 random initialization을 통해 여러번 시행시켜 local optima에 도달하지 않고 가장 좋은 모델을 선택하는 것이 바람직하다."
   ]
  },
  {
   "cell_type": "markdown",
   "metadata": {},
   "source": [
    "### + K의 값 정하기"
   ]
  },
  {
   "cell_type": "markdown",
   "metadata": {},
   "source": [
    "cluster의 개수인 k를 결정하는 것은 일반적으로 데이터를 직접 확인하거나 다른 clustering algorithm의 결과를 보고 선택할 수 있다. 그 중에서 Elbow Method가 있다. 이 방법은 k의 개수를 1에서 점차 늘려가면서 비용함수(Distortion function)을 계산한다. x축을 k(cluster의 개수), y축을 비용함수로 설정하고 그래프를 그려보면, 특정 k 이후의 비용이 거의 변하지 않는 지점이 있다. 우리는 그곳을 elbow point라고 일컫고, 보통 해당 k를 선택하게 된다."
   ]
  },
  {
   "cell_type": "markdown",
   "metadata": {},
   "source": [
    "<img src='https://gaussian37.github.io/assets/img/ml/concept/k-means/15.PNG\n",
    "' width='600' height='320'/>"
   ]
  },
  {
   "cell_type": "markdown",
   "metadata": {},
   "source": [
    "### 예제"
   ]
  },
  {
   "cell_type": "markdown",
   "metadata": {},
   "source": []
  },
  {
   "cell_type": "code",
   "execution_count": 3,
   "metadata": {},
   "outputs": [],
   "source": [
    "from sklearn.datasets import load_iris\n",
    "iris = load_iris()\n",
    "x_data = iris.data[:, :2] #use only 'sepal length and sepal width' # 'sepal length (cm)''sepal width (cm)'\n",
    "y_data = iris.target"
   ]
  },
  {
   "cell_type": "code",
   "execution_count": 4,
   "metadata": {},
   "outputs": [
    {
     "data": {
      "text/html": [
       "<div>\n",
       "<style scoped>\n",
       "    .dataframe tbody tr th:only-of-type {\n",
       "        vertical-align: middle;\n",
       "    }\n",
       "\n",
       "    .dataframe tbody tr th {\n",
       "        vertical-align: top;\n",
       "    }\n",
       "\n",
       "    .dataframe thead th {\n",
       "        text-align: right;\n",
       "    }\n",
       "</style>\n",
       "<table border=\"1\" class=\"dataframe\">\n",
       "  <thead>\n",
       "    <tr style=\"text-align: right;\">\n",
       "      <th></th>\n",
       "      <th>sepal length (cm)</th>\n",
       "      <th>sepal width (cm)</th>\n",
       "      <th>petal length (cm)</th>\n",
       "      <th>petal width (cm)</th>\n",
       "      <th>target</th>\n",
       "    </tr>\n",
       "  </thead>\n",
       "  <tbody>\n",
       "    <tr>\n",
       "      <th>0</th>\n",
       "      <td>5.1</td>\n",
       "      <td>3.5</td>\n",
       "      <td>1.4</td>\n",
       "      <td>0.2</td>\n",
       "      <td>0</td>\n",
       "    </tr>\n",
       "    <tr>\n",
       "      <th>1</th>\n",
       "      <td>4.9</td>\n",
       "      <td>3.0</td>\n",
       "      <td>1.4</td>\n",
       "      <td>0.2</td>\n",
       "      <td>0</td>\n",
       "    </tr>\n",
       "    <tr>\n",
       "      <th>2</th>\n",
       "      <td>4.7</td>\n",
       "      <td>3.2</td>\n",
       "      <td>1.3</td>\n",
       "      <td>0.2</td>\n",
       "      <td>0</td>\n",
       "    </tr>\n",
       "    <tr>\n",
       "      <th>3</th>\n",
       "      <td>4.6</td>\n",
       "      <td>3.1</td>\n",
       "      <td>1.5</td>\n",
       "      <td>0.2</td>\n",
       "      <td>0</td>\n",
       "    </tr>\n",
       "    <tr>\n",
       "      <th>4</th>\n",
       "      <td>5.0</td>\n",
       "      <td>3.6</td>\n",
       "      <td>1.4</td>\n",
       "      <td>0.2</td>\n",
       "      <td>0</td>\n",
       "    </tr>\n",
       "  </tbody>\n",
       "</table>\n",
       "</div>"
      ],
      "text/plain": [
       "   sepal length (cm)  sepal width (cm)  petal length (cm)  petal width (cm)  \\\n",
       "0                5.1               3.5                1.4               0.2   \n",
       "1                4.9               3.0                1.4               0.2   \n",
       "2                4.7               3.2                1.3               0.2   \n",
       "3                4.6               3.1                1.5               0.2   \n",
       "4                5.0               3.6                1.4               0.2   \n",
       "\n",
       "   target  \n",
       "0       0  \n",
       "1       0  \n",
       "2       0  \n",
       "3       0  \n",
       "4       0  "
      ]
     },
     "execution_count": 4,
     "metadata": {},
     "output_type": "execute_result"
    }
   ],
   "source": [
    "import pandas as pd\n",
    "df = pd.DataFrame(iris.data, columns=iris.feature_names)\n",
    "df['target'] = iris.target\n",
    "df.head()"
   ]
  },
  {
   "cell_type": "code",
   "execution_count": 5,
   "metadata": {},
   "outputs": [
    {
     "data": {
      "text/plain": [
       "0    50\n",
       "1    50\n",
       "2    50\n",
       "Name: target, dtype: int64"
      ]
     },
     "execution_count": 5,
     "metadata": {},
     "output_type": "execute_result"
    }
   ],
   "source": [
    "df['target'].value_counts()"
   ]
  },
  {
   "cell_type": "code",
   "execution_count": 6,
   "metadata": {},
   "outputs": [
    {
     "data": {
      "text/html": [
       "<style>#sk-container-id-1 {color: black;background-color: white;}#sk-container-id-1 pre{padding: 0;}#sk-container-id-1 div.sk-toggleable {background-color: white;}#sk-container-id-1 label.sk-toggleable__label {cursor: pointer;display: block;width: 100%;margin-bottom: 0;padding: 0.3em;box-sizing: border-box;text-align: center;}#sk-container-id-1 label.sk-toggleable__label-arrow:before {content: \"▸\";float: left;margin-right: 0.25em;color: #696969;}#sk-container-id-1 label.sk-toggleable__label-arrow:hover:before {color: black;}#sk-container-id-1 div.sk-estimator:hover label.sk-toggleable__label-arrow:before {color: black;}#sk-container-id-1 div.sk-toggleable__content {max-height: 0;max-width: 0;overflow: hidden;text-align: left;background-color: #f0f8ff;}#sk-container-id-1 div.sk-toggleable__content pre {margin: 0.2em;color: black;border-radius: 0.25em;background-color: #f0f8ff;}#sk-container-id-1 input.sk-toggleable__control:checked~div.sk-toggleable__content {max-height: 200px;max-width: 100%;overflow: auto;}#sk-container-id-1 input.sk-toggleable__control:checked~label.sk-toggleable__label-arrow:before {content: \"▾\";}#sk-container-id-1 div.sk-estimator input.sk-toggleable__control:checked~label.sk-toggleable__label {background-color: #d4ebff;}#sk-container-id-1 div.sk-label input.sk-toggleable__control:checked~label.sk-toggleable__label {background-color: #d4ebff;}#sk-container-id-1 input.sk-hidden--visually {border: 0;clip: rect(1px 1px 1px 1px);clip: rect(1px, 1px, 1px, 1px);height: 1px;margin: -1px;overflow: hidden;padding: 0;position: absolute;width: 1px;}#sk-container-id-1 div.sk-estimator {font-family: monospace;background-color: #f0f8ff;border: 1px dotted black;border-radius: 0.25em;box-sizing: border-box;margin-bottom: 0.5em;}#sk-container-id-1 div.sk-estimator:hover {background-color: #d4ebff;}#sk-container-id-1 div.sk-parallel-item::after {content: \"\";width: 100%;border-bottom: 1px solid gray;flex-grow: 1;}#sk-container-id-1 div.sk-label:hover label.sk-toggleable__label {background-color: #d4ebff;}#sk-container-id-1 div.sk-serial::before {content: \"\";position: absolute;border-left: 1px solid gray;box-sizing: border-box;top: 0;bottom: 0;left: 50%;z-index: 0;}#sk-container-id-1 div.sk-serial {display: flex;flex-direction: column;align-items: center;background-color: white;padding-right: 0.2em;padding-left: 0.2em;position: relative;}#sk-container-id-1 div.sk-item {position: relative;z-index: 1;}#sk-container-id-1 div.sk-parallel {display: flex;align-items: stretch;justify-content: center;background-color: white;position: relative;}#sk-container-id-1 div.sk-item::before, #sk-container-id-1 div.sk-parallel-item::before {content: \"\";position: absolute;border-left: 1px solid gray;box-sizing: border-box;top: 0;bottom: 0;left: 50%;z-index: -1;}#sk-container-id-1 div.sk-parallel-item {display: flex;flex-direction: column;z-index: 1;position: relative;background-color: white;}#sk-container-id-1 div.sk-parallel-item:first-child::after {align-self: flex-end;width: 50%;}#sk-container-id-1 div.sk-parallel-item:last-child::after {align-self: flex-start;width: 50%;}#sk-container-id-1 div.sk-parallel-item:only-child::after {width: 0;}#sk-container-id-1 div.sk-dashed-wrapped {border: 1px dashed gray;margin: 0 0.4em 0.5em 0.4em;box-sizing: border-box;padding-bottom: 0.4em;background-color: white;}#sk-container-id-1 div.sk-label label {font-family: monospace;font-weight: bold;display: inline-block;line-height: 1.2em;}#sk-container-id-1 div.sk-label-container {text-align: center;}#sk-container-id-1 div.sk-container {/* jupyter's `normalize.less` sets `[hidden] { display: none; }` but bootstrap.min.css set `[hidden] { display: none !important; }` so we also need the `!important` here to be able to override the default hidden behavior on the sphinx rendered scikit-learn.org. See: https://github.com/scikit-learn/scikit-learn/issues/21755 */display: inline-block !important;position: relative;}#sk-container-id-1 div.sk-text-repr-fallback {display: none;}</style><div id=\"sk-container-id-1\" class=\"sk-top-container\"><div class=\"sk-text-repr-fallback\"><pre>KMeans(n_clusters=3, random_state=42)</pre><b>In a Jupyter environment, please rerun this cell to show the HTML representation or trust the notebook. <br />On GitHub, the HTML representation is unable to render, please try loading this page with nbviewer.org.</b></div><div class=\"sk-container\" hidden><div class=\"sk-item\"><div class=\"sk-estimator sk-toggleable\"><input class=\"sk-toggleable__control sk-hidden--visually\" id=\"sk-estimator-id-1\" type=\"checkbox\" checked><label for=\"sk-estimator-id-1\" class=\"sk-toggleable__label sk-toggleable__label-arrow\">KMeans</label><div class=\"sk-toggleable__content\"><pre>KMeans(n_clusters=3, random_state=42)</pre></div></div></div></div></div>"
      ],
      "text/plain": [
       "KMeans(n_clusters=3, random_state=42)"
      ]
     },
     "execution_count": 6,
     "metadata": {},
     "output_type": "execute_result"
    }
   ],
   "source": [
    "from sklearn.cluster import KMeans\n",
    "km = KMeans(n_clusters=3, random_state=42)\n",
    "km.fit(x_data)"
   ]
  },
  {
   "cell_type": "code",
   "execution_count": 7,
   "metadata": {},
   "outputs": [
    {
     "data": {
      "text/plain": [
       "array([0, 0, 0, 0, 0, 0, 0, 0, 0, 0, 0, 0, 0, 0, 0, 0, 0, 0, 0, 0, 0, 0,\n",
       "       0, 0, 0, 0, 0, 0, 0, 0, 0, 0, 0, 0, 0, 0, 0, 0, 0, 0, 0, 0, 0, 0,\n",
       "       0, 0, 0, 0, 0, 0, 1, 1, 1, 2, 1, 2, 1, 2, 1, 2, 2, 2, 2, 2, 2, 1,\n",
       "       2, 2, 2, 2, 2, 2, 2, 2, 1, 1, 1, 1, 2, 2, 2, 2, 2, 2, 2, 2, 1, 2,\n",
       "       2, 2, 2, 2, 2, 2, 2, 2, 2, 2, 2, 2, 1, 2, 1, 1, 1, 1, 2, 1, 1, 1,\n",
       "       1, 1, 1, 2, 2, 1, 1, 1, 1, 2, 1, 2, 1, 2, 1, 1, 2, 2, 1, 1, 1, 1,\n",
       "       1, 2, 2, 1, 1, 1, 2, 1, 1, 1, 2, 1, 1, 1, 2, 1, 1, 2], dtype=int32)"
      ]
     },
     "execution_count": 7,
     "metadata": {},
     "output_type": "execute_result"
    }
   ],
   "source": [
    "km.labels_"
   ]
  },
  {
   "cell_type": "code",
   "execution_count": 8,
   "metadata": {},
   "outputs": [
    {
     "data": {
      "text/plain": [
       "(array([0, 1, 2], dtype=int32), array([50, 47, 53]))"
      ]
     },
     "execution_count": 8,
     "metadata": {},
     "output_type": "execute_result"
    }
   ],
   "source": [
    "import numpy as np\n",
    "np.unique(km.labels_, return_counts=True)"
   ]
  },
  {
   "cell_type": "markdown",
   "metadata": {},
   "source": [
    "`.transform` 메소드는 훈련 데이터 샘플에서 클러스터 중심까지 거리로 변환해준다."
   ]
  },
  {
   "cell_type": "code",
   "execution_count": 9,
   "metadata": {},
   "outputs": [
    {
     "data": {
      "text/plain": [
       "array([[0.11840608, 1.76483558, 1.05159358],\n",
       "       [0.44093083, 1.91421501, 0.9261403 ],\n",
       "       [0.38160189, 2.11649197, 1.18751365],\n",
       "       [0.52193869, 2.21291325, 1.24233499],\n",
       "       [0.17210462, 1.88740674, 1.19250806],\n",
       "       [0.61483331, 1.6362795 , 1.26401576],\n",
       "       [0.40696437, 2.23658316, 1.37037386],\n",
       "       [0.02863564, 1.84176313, 1.04835901],\n",
       "       [0.80375369, 2.41906566, 1.38917649],\n",
       "       [0.34470277, 1.91293635, 0.96397369],\n",
       "       [0.47876926, 1.54505593, 1.07457758],\n",
       "       [0.2078942 , 2.03892075, 1.20353254],\n",
       "       [0.47499474, 2.01414307, 1.02100579],\n",
       "       [0.82560281, 2.51386918, 1.50533642],\n",
       "       [0.9785806 , 1.37197092, 1.30781396],\n",
       "       [1.19432826, 1.73068857, 1.70913197],\n",
       "       [0.61483331, 1.6362795 , 1.26401576],\n",
       "       [0.11840608, 1.76483558, 1.05159358],\n",
       "       [0.78741349, 1.32839928, 1.10998895],\n",
       "       [0.38369259, 1.86009779, 1.2962937 ],\n",
       "       [0.39499367, 1.44978574, 0.80011792],\n",
       "       [0.28778464, 1.82341915, 1.21196862],\n",
       "       [0.44093083, 2.27431682, 1.48355768],\n",
       "       [0.15880806, 1.72755083, 0.90709988],\n",
       "       [0.2078942 , 2.03892075, 1.20353254],\n",
       "       [0.42804205, 1.81429488, 0.83247755],\n",
       "       [0.02863564, 1.84176313, 1.04835901],\n",
       "       [0.20692994, 1.66796026, 0.99052111],\n",
       "       [0.1960102 , 1.64529179, 0.91083623],\n",
       "       [0.38160189, 2.11649197, 1.18751365],\n",
       "       [0.38732415, 2.01292789, 1.05544411],\n",
       "       [0.39499367, 1.44978574, 0.80011792],\n",
       "       [0.69944264, 1.91121159, 1.51993049],\n",
       "       [0.91652605, 1.7292127 , 1.53217074],\n",
       "       [0.34470277, 1.91293635, 0.96397369],\n",
       "       [0.22807893, 1.81710723, 0.92522307],\n",
       "       [0.49921939, 1.38001155, 0.85263189],\n",
       "       [0.2020396 , 1.9836475 , 1.2596795 ],\n",
       "       [0.74190296, 2.41391488, 1.40759396],\n",
       "       [0.0980816 , 1.74342716, 0.97690308],\n",
       "       [0.07224957, 1.86204131, 1.1182871 ],\n",
       "       [1.23629285, 2.43899307, 1.33268066],\n",
       "       [0.64747201, 2.41602935, 1.46435639],\n",
       "       [0.07224957, 1.86204131, 1.1182871 ],\n",
       "       [0.38369259, 1.86009779, 1.2962937 ],\n",
       "       [0.47499474, 2.01414307, 1.02100579],\n",
       "       [0.38369259, 1.86009779, 1.2962937 ],\n",
       "       [0.46563935, 2.21632386, 1.2786343 ],\n",
       "       [0.40052466, 1.63699451, 1.11329869],\n",
       "       [0.12814055, 1.82674165, 0.98363976],\n",
       "       [2.00699278, 0.22542149, 1.32728976],\n",
       "       [1.41252257, 0.43143249, 0.80622577],\n",
       "       [1.92219146, 0.09089366, 1.19787548],\n",
       "       [1.23143006, 1.52419004, 0.47840143],\n",
       "       [1.62062334, 0.4161193 , 0.73433322],\n",
       "       [0.9359594 , 1.14611553, 0.13031167],\n",
       "       [1.30031535, 0.56017281, 0.80388209],\n",
       "       [1.03345053, 2.02819644, 0.92123789],\n",
       "       [1.67917242, 0.27515171, 0.85207848],\n",
       "       [0.7534056 , 1.65566916, 0.57363456],\n",
       "       [1.4280126 , 2.10727361, 1.03823144],\n",
       "       [0.99117102, 0.91579866, 0.33251472],\n",
       "       [1.57987974, 1.19385214, 0.54200884],\n",
       "       [1.214751  , 0.73380816, 0.38681086],\n",
       "       [0.79474524, 1.22525115, 0.27056893],\n",
       "       [1.72546226, 0.11562024, 1.01209665],\n",
       "       [0.73213387, 1.21505011, 0.35315291],\n",
       "       [1.07722792, 1.07977833, 0.02747211],\n",
       "       [1.71278136, 1.0677905 , 0.65141356],\n",
       "       [1.10182576, 1.34194443, 0.25917139],\n",
       "       [0.92261585, 0.92135767, 0.52305344],\n",
       "       [1.26143569, 0.76378534, 0.34367602],\n",
       "       [1.59236302, 0.7700276 , 0.5604917 ],\n",
       "       [1.26143569, 0.76378534, 0.34367602],\n",
       "       [1.49064416, 0.4481237 , 0.65990279],\n",
       "       [1.65046054, 0.22542149, 0.88178635],\n",
       "       [1.90074196, 0.27476481, 1.03203408],\n",
       "       [1.7472321 , 0.1351357 , 0.97613021],\n",
       "       [1.12553099, 0.83128071, 0.30714756],\n",
       "       [1.08037956, 1.2096975 , 0.11816202],\n",
       "       [1.14053496, 1.47589351, 0.40047142],\n",
       "       [1.14053496, 1.47589351, 0.40047142],\n",
       "       [1.07722792, 1.07977833, 0.02747211],\n",
       "       [1.23207954, 0.89488259, 0.22654085],\n",
       "       [0.58173877, 1.41472723, 0.48389146],\n",
       "       [0.99439429, 0.87553385, 0.74289083],\n",
       "       [1.72546226, 0.11562024, 1.01209665],\n",
       "       [1.71663042, 0.92883246, 0.65660648],\n",
       "       [0.73213387, 1.21505011, 0.35315291],\n",
       "       [1.05129444, 1.43295779, 0.33449483],\n",
       "       [0.96416804, 1.39587765, 0.28878405],\n",
       "       [1.17474252, 0.71664552, 0.44847751],\n",
       "       [1.14717915, 1.11839834, 0.09615239],\n",
       "       [1.12801596, 1.97127401, 0.86744039],\n",
       "       [0.93958501, 1.26926263, 0.1737489 ],\n",
       "       [0.81536495, 1.11525494, 0.31622777],\n",
       "       [0.87202064, 1.12636015, 0.22020574],\n",
       "       [1.30553437, 0.63711948, 0.4742422 ],\n",
       "       [0.93274863, 1.80653835, 0.70053888],\n",
       "       [0.9359594 , 1.14611553, 0.13031167],\n",
       "       [1.30031535, 0.56017281, 0.80388209],\n",
       "       [1.07722792, 1.07977833, 0.02747211],\n",
       "       [2.13729268, 0.29673033, 1.36160283],\n",
       "       [1.39757647, 0.5416346 , 0.56585217],\n",
       "       [1.55409781, 0.321509  , 0.78883721],\n",
       "       [2.62907208, 0.79074834, 1.85212779],\n",
       "       [0.93403426, 1.99716979, 0.89453266],\n",
       "       [2.35397961, 0.51752886, 1.5404606 ],\n",
       "       [1.93153307, 0.58543124, 0.94619396],\n",
       "       [2.2007317 , 0.6527894 , 1.69065132],\n",
       "       [1.51129746, 0.33701752, 0.88616196],\n",
       "       [1.57264745, 0.55731686, 0.62646056],\n",
       "       [1.84434812, 0.07555439, 1.07150045],\n",
       "       [1.1588011 , 1.25230254, 0.20604085],\n",
       "       [1.01233394, 1.04929863, 0.11074363],\n",
       "       [1.41252257, 0.43143249, 0.80622577],\n",
       "       [1.55409781, 0.321509  , 0.78883721],\n",
       "       [2.71956246, 1.14611553, 2.22210167],\n",
       "       [2.81837187, 1.0061333 , 1.92863232],\n",
       "       [1.57987974, 1.19385214, 0.54200884],\n",
       "       [1.90767398, 0.15286608, 1.23548173],\n",
       "       [0.86441888, 1.24343637, 0.20420116],\n",
       "       [2.76622848, 0.92871792, 1.92941481],\n",
       "       [1.48472893, 0.6349451 , 0.52646919],\n",
       "       [1.69882901, 0.25215235, 1.10786213],\n",
       "       [2.20581504, 0.40707305, 1.51402251],\n",
       "       [1.34908117, 0.67142747, 0.43976838],\n",
       "       [1.17474252, 0.71664552, 0.44847751],\n",
       "       [1.52892773, 0.49568989, 0.63558026],\n",
       "       [2.23535679, 0.39432943, 1.45919337],\n",
       "       [2.47499899, 0.64821027, 1.62996701],\n",
       "       [2.91781082, 1.30708623, 2.39756165],\n",
       "       [1.52892773, 0.49568989, 0.63558026],\n",
       "       [1.43833932, 0.58160266, 0.53728879],\n",
       "       [1.37201312, 0.85624487, 0.33925557],\n",
       "       [2.72778665, 0.89035372, 1.95081018],\n",
       "       [1.2943029 , 0.60737135, 0.88189333],\n",
       "       [1.43206843, 0.41355485, 0.74732226],\n",
       "       [1.08222918, 0.81617032, 0.38190189],\n",
       "       [1.92219146, 0.09089366, 1.19787548],\n",
       "       [1.72546226, 0.11562024, 1.01209665],\n",
       "       [1.92219146, 0.09089366, 1.19787548],\n",
       "       [1.07722792, 1.07977833, 0.02747211],\n",
       "       [1.80843026, 0.12617936, 1.14504676],\n",
       "       [1.69882901, 0.25215235, 1.10786213],\n",
       "       [1.7472321 , 0.1351357 , 0.97613021],\n",
       "       [1.59236302, 0.7700276 , 0.5604917 ],\n",
       "       [1.55409781, 0.321509  , 0.78883721],\n",
       "       [1.19432826, 0.69386825, 0.82610703],\n",
       "       [0.99117102, 0.91579866, 0.33251472]])"
      ]
     },
     "execution_count": 9,
     "metadata": {},
     "output_type": "execute_result"
    }
   ],
   "source": [
    "km.transform(x_data)"
   ]
  },
  {
   "cell_type": "markdown",
   "metadata": {},
   "source": [
    "`.predict` 메소드는 가장 가까운 centriod의 cluster로 출력한다."
   ]
  },
  {
   "cell_type": "code",
   "execution_count": 10,
   "metadata": {},
   "outputs": [
    {
     "data": {
      "text/plain": [
       "array([0, 0, 0, 0, 0, 0, 0, 0, 0, 0, 0, 0, 0, 0, 0, 0, 0, 0, 0, 0, 0, 0,\n",
       "       0, 0, 0, 0, 0, 0, 0, 0, 0, 0, 0, 0, 0, 0, 0, 0, 0, 0, 0, 0, 0, 0,\n",
       "       0, 0, 0, 0, 0, 0, 1, 1, 1, 2, 1, 2, 1, 2, 1, 2, 2, 2, 2, 2, 2, 1,\n",
       "       2, 2, 2, 2, 2, 2, 2, 2, 1, 1, 1, 1, 2, 2, 2, 2, 2, 2, 2, 2, 1, 2,\n",
       "       2, 2, 2, 2, 2, 2, 2, 2, 2, 2, 2, 2, 1, 2, 1, 1, 1, 1, 2, 1, 1, 1,\n",
       "       1, 1, 1, 2, 2, 1, 1, 1, 1, 2, 1, 2, 1, 2, 1, 1, 2, 2, 1, 1, 1, 1,\n",
       "       1, 2, 2, 1, 1, 1, 2, 1, 1, 1, 2, 1, 1, 1, 2, 1, 1, 2], dtype=int32)"
      ]
     },
     "execution_count": 10,
     "metadata": {},
     "output_type": "execute_result"
    }
   ],
   "source": [
    "km.predict(x_data)"
   ]
  },
  {
   "cell_type": "markdown",
   "metadata": {},
   "source": [
    "KMeans는 반복적으로 클러스터 중심을 옮기면서 최적의 클러스터를 찾는데, `n_iter_` 메소드는 이 알고리즘이 반복한 횟수를 출력한다."
   ]
  },
  {
   "cell_type": "code",
   "execution_count": 11,
   "metadata": {},
   "outputs": [
    {
     "name": "stdout",
     "output_type": "stream",
     "text": [
      "4\n"
     ]
    }
   ],
   "source": [
    "print(km.n_iter_)"
   ]
  },
  {
   "cell_type": "markdown",
   "metadata": {},
   "source": [
    "최적의 k를 찾는 Elbow method를 진행해보겠다. centriod와 샘플 사이의 거리의 제곱 합을 inertia라고 부르는데, inertia는 클러스터에 속한 샘플이 얼마나 가깝게 모여있는지를 나타낸다고 생각하면 된다. 일반적으로 클러스터 개수가 늘어나면 inertia도 줄어든다. KMeans에는 `inertia_` 메소드를 통해 Elbow method를 실행할 수 있다."
   ]
  },
  {
   "cell_type": "code",
   "execution_count": 14,
   "metadata": {},
   "outputs": [
    {
     "data": {
      "image/png": "[encoded data removed]",
      "text/plain": [
       "<Figure size 640x480 with 1 Axes>"
      ]
     },
     "metadata": {},
     "output_type": "display_data"
    }
   ],
   "source": [
    "import matplotlib.pyplot as plt\n",
    "from sklearn.cluster import KMeans\n",
    "\n",
    "inertia = []\n",
    "for k in range(2, 7):\n",
    "    km = KMeans(n_clusters=k, random_state=42)\n",
    "    km.fit(x_data)\n",
    "    inertia.append(km.inertia_)\n",
    "plt.plot(range(2, 7), inertia)\n",
    "plt.xlabel('k')\n",
    "plt.ylabel('inertia')\n",
    "plt.show()"
   ]
  },
  {
   "cell_type": "code",
   "execution_count": null,
   "metadata": {},
   "outputs": [],
   "source": []
  }
 ],
 "metadata": {
  "kernelspec": {
   "display_name": "Python 3.8.13 ('study')",
   "language": "python",
   "name": "python3"
  },
  "language_info": {
   "codemirror_mode": {
    "name": "ipython",
    "version": 3
   },
   "file_extension": ".py",
   "mimetype": "text/x-python",
   "name": "python",
   "nbconvert_exporter": "python",
   "pygments_lexer": "ipython3",
   "version": "3.8.13"
  },
  "vscode": {
   "interpreter": {
    "hash": "d8dc7d3aa09af79666e556f106494fe4e31b040c6a4ab6a124d4dbda5928b8f5"
   }
  }
 },
 "nbformat": 4,
 "nbformat_minor": 2
}
