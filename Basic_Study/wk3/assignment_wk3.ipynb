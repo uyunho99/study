{
 "cells": [
  {
   "cell_type": "markdown",
   "metadata": {},
   "source": [
    "### Problem 1.\n",
    "\n",
    "numpy logistic regression\n",
    "\n",
    "https://yamalab.tistory.com/79\n",
    "\n",
    "https://pythonkim.tistory.com/18\n"
   ]
  },
  {
   "cell_type": "markdown",
   "metadata": {},
   "source": [
    "### Problem 2.\n",
    "\n",
    "실제 데이터 > 다중선형회귀"
   ]
  },
  {
   "cell_type": "code",
   "execution_count": null,
   "metadata": {},
   "outputs": [],
   "source": [
    "import numpy as np\n",
    "\n",
    "# 변수(x, y) 설정\n",
    "x_train = np.array([]) # array comprehension으로 작성하기\n",
    "y_train = np.array([]) # array comprehension으로 작성하기\n",
    "\n",
    "# parameter(가중치, 편향) 초기화\n",
    "W = 0.0\n",
    "b = 0.0\n",
    "\n",
    "# 최소제곱법 작성하기 위한 변수 저장(데이터 개수, epochs, learning_rate)\n",
    "n_data = len(x_train)\n",
    "epochs = 5000\n",
    "learning_rate = 0.01\n",
    "\n",
    "# 최소제곱법 실행\n",
    "for i in range(epochs):\n",
    "    # 가설함수 세우기\n",
    "    hypothesis = x_train * W + b\n",
    "    # 비용함수 세우기\n",
    "    cost = np.sum((hypothesis - y_train) ** 2) / n_data\n",
    "    # 경사하강법 구현\n",
    "    gradient_w = np.sum((W * x_train - y_train + b) * 2 * x_train) / n_data\n",
    "    gradient_b = np.sum((W * x_train - y_train + b) * 2) / n_data\n",
    "    W -= learning_rate * gradient_w\n",
    "    b -= learning_rate * gradient_b\n",
    "    \n",
    "    # 결과 출력\n",
    "    if i % 100 == 0:\n",
    "        print('Epoch ({:10d}/{:10d}) cost: {:10f}, W: {:10f}, b:{:10f}'.format(i, epochs, cost, W, b))\n",
    "\n",
    "# 최종 결과 출력\n",
    "print('W: {:10f}'.format(W))\n",
    "print('b: {:10f}'.format(b))\n",
    "print('result : ')\n",
    "print(x_train * W + b)"
   ]
  }
 ],
 "metadata": {
  "kernelspec": {
   "display_name": "Python 3.8.13",
   "language": "python",
   "name": "python3"
  },
  "language_info": {
   "codemirror_mode": {
    "name": "ipython",
    "version": 3
   },
   "file_extension": ".py",
   "mimetype": "text/x-python",
   "name": "python",
   "nbconvert_exporter": "python",
   "pygments_lexer": "ipython3",
   "version": "3.8.13"
  },
  "orig_nbformat": 4,
  "vscode": {
   "interpreter": {
    "hash": "d8dc7d3aa09af79666e556f106494fe4e31b040c6a4ab6a124d4dbda5928b8f5"
   }
  }
 },
 "nbformat": 4,
 "nbformat_minor": 2
}
