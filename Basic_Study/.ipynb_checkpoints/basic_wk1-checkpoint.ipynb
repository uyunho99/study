{
 "cells": [
  {
   "cell_type": "markdown",
   "id": "eb972c3d-c17c-45ba-bea2-698469632cc8",
   "metadata": {
    "tags": []
   },
   "source": [
    "# 1주차: Python Basic"
   ]
  },
  {
   "cell_type": "markdown",
   "id": "433b21ea-c7f1-41a9-9e2a-3e20e41df095",
   "metadata": {
    "tags": []
   },
   "source": [
    "## 목차\n",
    "1. 자료구조\n",
    "2. Generator\n",
    "3. 함수\n",
    "4. Class\n",
    "5. 과제"
   ]
  },
  {
   "cell_type": "code",
   "execution_count": 1,
   "id": "edf4078b-2f1c-4307-b7e3-9fb96bb28bf8",
   "metadata": {},
   "outputs": [],
   "source": [
    "from time import time\n",
    "from random import randint"
   ]
  },
  {
   "cell_type": "markdown",
   "id": "956a030e-2b3e-4f6b-9adc-52884682b1c3",
   "metadata": {},
   "source": [
    "## 1. 자료구조\n",
    "파이썬에서 쓰이는 대표적인 자료구조로 list, set, dict가 있다. 각 자료구조는 특징이 있으며 적절한 때에 적절한 자료구조를 사용할 필요가 있다."
   ]
  },
  {
   "cell_type": "markdown",
   "id": "7fb64a33-3fcf-41b1-9016-e30181dced55",
   "metadata": {},
   "source": [
    "### list\n",
    "list는 데이터를 순차적으로 저장하는 자료구조로써 index로 데이터에 접근할 수 있다는 특징이 있다. list를 생성하는 가장 기본적인 방법은 아래 두가지 일 것이다."
   ]
  },
  {
   "cell_type": "code",
   "execution_count": 2,
   "id": "e39b99ff-b205-4c76-9c6e-1bbedf8a691b",
   "metadata": {},
   "outputs": [
    {
     "data": {
      "text/plain": [
       "[0, 1, 2, 3]"
      ]
     },
     "execution_count": 2,
     "metadata": {},
     "output_type": "execute_result"
    }
   ],
   "source": [
    "arr = [0, 1, 2, 3]\n",
    "arr"
   ]
  },
  {
   "cell_type": "code",
   "execution_count": 3,
   "id": "6ce9cece-2eda-4364-b2b1-725e9dc18666",
   "metadata": {},
   "outputs": [
    {
     "data": {
      "text/plain": [
       "[0, 1, 2, 3]"
      ]
     },
     "execution_count": 3,
     "metadata": {},
     "output_type": "execute_result"
    }
   ],
   "source": [
    "arr = []\n",
    "for i in range(4):\n",
    "    arr.append(i)\n",
    "arr"
   ]
  },
  {
   "cell_type": "code",
   "execution_count": 4,
   "id": "81c06c34-a2b5-4cba-bb74-47eacd2a9fc1",
   "metadata": {},
   "outputs": [
    {
     "data": {
      "text/plain": [
       "2"
      ]
     },
     "execution_count": 4,
     "metadata": {},
     "output_type": "execute_result"
    }
   ],
   "source": [
    "arr[2]"
   ]
  },
  {
   "cell_type": "markdown",
   "id": "30aeda51-0b5a-4447-969c-f19eef093a20",
   "metadata": {},
   "source": [
    "그러나 두번째 방법의 경우 작업이 복잡해질 경우 가독성이 떨어질 수 있다. 이를 파이썬에서 제공하는 comprehension 문법을 통해 간결하게 바꿀 수 있다.\n",
    "\n",
    "comprehension을 이용할 경우 약간 복잡한 로직도 간단하게 구현할 수 있다는 장점이 있다."
   ]
  },
  {
   "cell_type": "code",
   "execution_count": 5,
   "id": "eaf67a6e-5415-4e73-9f99-e9a6ffac0074",
   "metadata": {},
   "outputs": [
    {
     "data": {
      "text/plain": [
       "[0, 1, 2, 3]"
      ]
     },
     "execution_count": 5,
     "metadata": {},
     "output_type": "execute_result"
    }
   ],
   "source": [
    "arr = [i for i in range(4)]\n",
    "# arr = list(range(4))\n",
    "\n",
    "arr"
   ]
  },
  {
   "cell_type": "code",
   "execution_count": 3,
   "id": "aed67950-9604-468b-a7a4-e659c5e18e61",
   "metadata": {},
   "outputs": [
    {
     "data": {
      "text/plain": [
       "[1, 0, 3, 2, 5, 4, 7, 6, 9, 8, 11, 10, 13, 12, 15, 14, 17, 16, 19, 18]"
      ]
     },
     "execution_count": 3,
     "metadata": {},
     "output_type": "execute_result"
    }
   ],
   "source": [
    "arr = [i-1 if i%2 else i+1 for i in range(20)]\n",
    "# arr = list(i-1 if i%2 else i+1 for i in range(20))\n",
    "arr"
   ]
  },
  {
   "cell_type": "markdown",
   "id": "f71e3da2-5b13-4863-9bba-a59192d086ba",
   "metadata": {},
   "source": [
    "list의 또다른 중요한 기능으로는 slicing이 있다. list의 일부분을 slicing을 통해 간편하게 가져올 수 있다.\n",
    "\n",
    "slicing은 아래와 같이 콜론이 하나인 형태와 두개인 형태로 나뉜다."
   ]
  },
  {
   "cell_type": "code",
   "execution_count": 4,
   "id": "4c082856-7ffc-4602-97b8-0c9e39b8ccb3",
   "metadata": {},
   "outputs": [
    {
     "name": "stdout",
     "output_type": "stream",
     "text": [
      "[3, 2, 5, 4, 7, 6, 9, 8]\n",
      "[3, 5, 7, 9]\n"
     ]
    }
   ],
   "source": [
    "print(arr[2:10]) # index 2,3,4,..,9\n",
    "print(arr[2:10:2]) # index 2,4,6,8"
   ]
  },
  {
   "cell_type": "markdown",
   "id": "7e2b3910-d84f-433b-b8dd-62e5827a67d3",
   "metadata": {},
   "source": [
    "콜론이 두개일 경우 index의 공차까지 고려하여 slicing을 할 수 있다. 또한 모든 위치에 숫자를 적을 필요가 없다. 예를 시작 index는 4인데 그 이후로는 끝까지 데이터를 받고 싶으면 다음과 같이 작성할 수 있다."
   ]
  },
  {
   "cell_type": "code",
   "execution_count": 5,
   "id": "4ead4c3c-64a4-4eff-a799-9d768d8ab6e7",
   "metadata": {},
   "outputs": [
    {
     "name": "stdout",
     "output_type": "stream",
     "text": [
      "[5, 4, 7, 6, 9, 8, 11, 10, 13, 12, 15, 14, 17, 16, 19, 18]\n",
      "[5, 7, 9, 11, 13, 15, 17, 19]\n"
     ]
    }
   ],
   "source": [
    "print(arr[4:])\n",
    "print(arr[4::2])"
   ]
  },
  {
   "cell_type": "markdown",
   "id": "978a1d33-a17f-44a3-9c0a-069e74d1cfab",
   "metadata": {},
   "source": [
    "파이썬의 index에서 특이한 점 중 하나는 음수 index를 사용할 수 있다. 즉, index가 -1일 경우 마지막 데이터 포인트를 반환하며 값이 내려갈 수록 위치도 왼쪽으로 바뀐다.\n",
    "\n",
    "이를 slicing에도 응용하여 마지막 원소에서부터 한 칸씩 띄어서 데이터를 가져 올 수도 있다."
   ]
  },
  {
   "cell_type": "code",
   "execution_count": 6,
   "id": "90871f99",
   "metadata": {},
   "outputs": [
    {
     "data": {
      "text/plain": [
       "18"
      ]
     },
     "execution_count": 6,
     "metadata": {},
     "output_type": "execute_result"
    }
   ],
   "source": [
    "arr[-1]"
   ]
  },
  {
   "cell_type": "code",
   "execution_count": 9,
   "id": "b7d9d0ab-3478-4c7f-a0ec-51205d6d66c7",
   "metadata": {},
   "outputs": [
    {
     "data": {
      "text/plain": [
       "[18, 16, 14, 12, 10, 8, 6, 4, 2, 0]"
      ]
     },
     "execution_count": 9,
     "metadata": {},
     "output_type": "execute_result"
    }
   ],
   "source": [
    "arr[::-2]"
   ]
  },
  {
   "cell_type": "code",
   "execution_count": 7,
   "id": "7002239c",
   "metadata": {},
   "outputs": [
    {
     "data": {
      "text/plain": [
       "[18, 19, 16, 17, 14, 15, 12, 13, 10, 11, 8, 9, 6, 7, 4, 5, 2, 3, 0, 1]"
      ]
     },
     "execution_count": 7,
     "metadata": {},
     "output_type": "execute_result"
    }
   ],
   "source": [
    "arr[::-1]"
   ]
  },
  {
   "cell_type": "markdown",
   "id": "161253e8-49d3-4800-a7f5-ed439416b9e9",
   "metadata": {},
   "source": [
    "이 외에도 list끼리의 덧셈 등 다양한 list 연산을 파이썬에서 제공한다."
   ]
  },
  {
   "cell_type": "code",
   "execution_count": 10,
   "id": "0e123555-3be7-40da-b293-8e76abe6ea60",
   "metadata": {},
   "outputs": [
    {
     "data": {
      "text/plain": [
       "[2, 4, 4, 1, 9, 8, 7]"
      ]
     },
     "execution_count": 10,
     "metadata": {},
     "output_type": "execute_result"
    }
   ],
   "source": [
    "[2,4,4]+[1,9]+[8,7]"
   ]
  },
  {
   "cell_type": "markdown",
   "id": "06a5e9e0-bfb8-4322-98ec-bf7179e0c562",
   "metadata": {},
   "source": [
    "### set\n",
    "set은 중복되지 않은 데이터를 저장하고 싶을 때 유용하게 쓰일 수 있다. set()이나 {}을 통해 생성 할 수 있다. set에서는 list와 다르게 add라는 이름의 메소드를 통해 데이터를 추가 할 수 있다. "
   ]
  },
  {
   "cell_type": "code",
   "execution_count": 11,
   "id": "362418b2-76ed-4377-b557-aa17e7805c27",
   "metadata": {},
   "outputs": [
    {
     "data": {
      "text/plain": [
       "{1, 2, 3, 5, 6}"
      ]
     },
     "execution_count": 11,
     "metadata": {},
     "output_type": "execute_result"
    }
   ],
   "source": [
    "arr = [1, 2, 3, 1, 1, 5, 6, 3, 2]\n",
    "arr_no_red = set(arr)\n",
    "arr_no_red"
   ]
  },
  {
   "cell_type": "code",
   "execution_count": 12,
   "id": "f9b58096-d86d-45cd-bc89-af82de7552a9",
   "metadata": {},
   "outputs": [
    {
     "name": "stdout",
     "output_type": "stream",
     "text": [
      "[1, 1, 3, 3, 5, 5, 7, 7, 9, 9, 11, 11, 13, 13, 15, 15, 17, 17, 19, 19]\n",
      "{1, 3, 5, 7, 9, 11, 13, 15, 17, 19}\n"
     ]
    }
   ],
   "source": [
    "arr = [i if i%2 else i+1 for i in range(20)]\n",
    "s = {i if i%2 else i+1 for i in range(20)}\n",
    "# s = set(i if i%2 else i+1 for i in range(20))\n",
    "print(arr)\n",
    "print(s)"
   ]
  },
  {
   "cell_type": "code",
   "execution_count": 13,
   "id": "6b53205b-c919-4686-91ea-3cb6fc767721",
   "metadata": {},
   "outputs": [
    {
     "data": {
      "text/plain": [
       "{1, 3, 5, 7, 9, 11, 13, 15, 17, 19, 21}"
      ]
     },
     "execution_count": 13,
     "metadata": {},
     "output_type": "execute_result"
    }
   ],
   "source": [
    "s.add(21)\n",
    "s"
   ]
  },
  {
   "cell_type": "markdown",
   "id": "a1249954-81c4-4bc9-904a-37e4dbf4afe4",
   "metadata": {},
   "source": [
    "이 외에도 union, intersection 등 set 간의 다양한 연산을 지원한다."
   ]
  },
  {
   "cell_type": "markdown",
   "id": "ac810f11-c83a-4bc9-ba8e-8f26a9bd1155",
   "metadata": {},
   "source": [
    "### set vs list\n",
    "set은 중복 제거 뿐 아니라 빠른 데이터 탐색에 대한 이점도 가지고 있다. 비교를 위해 무작위 값이 list와 set에 존재하는지 판별하는 작업을 1000번 수행 한 후 실행시간을 비교해보면 큰 차이가 난다는 것을 확인할 수 있다."
   ]
  },
  {
   "cell_type": "code",
   "execution_count": 14,
   "id": "785d83f5-d43d-438d-a893-8a2009510660",
   "metadata": {},
   "outputs": [
    {
     "name": "stdout",
     "output_type": "stream",
     "text": [
      "time elapsed: 5.2565\n"
     ]
    }
   ],
   "source": [
    "biglist = [i for i in range(10**6)]\n",
    "bigset = {i for i in range(10**6)}\n",
    "\n",
    "s = time()\n",
    "for i in range(1000):\n",
    "    isin = randint(1, 10**7) in biglist\n",
    "print(\"time elapsed:\", round(time()-s,4))"
   ]
  },
  {
   "cell_type": "code",
   "execution_count": 15,
   "id": "d9a54f95-92dd-4973-808a-c7e0cc42c8da",
   "metadata": {},
   "outputs": [
    {
     "name": "stdout",
     "output_type": "stream",
     "text": [
      "time elapsed: 0.0017\n"
     ]
    }
   ],
   "source": [
    "s = time()\n",
    "for i in range(1000):\n",
    "    isin = randint(1, 10**7) in bigset\n",
    "print(\"time elapsed:\", round(time()-s,4))"
   ]
  },
  {
   "cell_type": "markdown",
   "id": "e3d4bd12-76ce-47b8-a472-26001a476be6",
   "metadata": {},
   "source": [
    "### dict\n",
    "dict는 key-value 값을 가지는 자료구조로써 key를 index와 같은 형태로 사용할 수 있다는 장점이 있다. dict를 생성하기 위한 방법은 일반적인 방법과 순서쌍에 대한 comprehension을 이용하는 방법이 있다."
   ]
  },
  {
   "cell_type": "code",
   "execution_count": 16,
   "id": "1996289f-eb4a-4c85-91d5-efe71b8ade72",
   "metadata": {},
   "outputs": [
    {
     "name": "stdout",
     "output_type": "stream",
     "text": [
      "{'파이썬': 'python', '러스트': 'rust', '자바': 'java', '스위프트': 'swift'}\n",
      "{'파이썬': 'python', '러스트': 'rust', '자바': 'java', '스위프트': 'swift'}\n"
     ]
    }
   ],
   "source": [
    "dict_1 = {\n",
    "    \"파이썬\": \"python\",\n",
    "    \"러스트\": \"rust\",\n",
    "    \"자바\": \"java\",\n",
    "    \"스위프트\": \"swift\"\n",
    "}\n",
    "key_val = [(\"파이썬\", \"python\"), (\"러스트\", \"rust\"), (\"자바\", \"java\"), (\"스위프트\", \"swift\")]\n",
    "dict_2 = dict(key_val)\n",
    "\n",
    "print(dict_1)\n",
    "print(dict_2)"
   ]
  },
  {
   "cell_type": "code",
   "execution_count": 17,
   "id": "b9bc1d7b-ed78-49ce-8250-ec8de3027d9e",
   "metadata": {},
   "outputs": [
    {
     "name": "stdout",
     "output_type": "stream",
     "text": [
      "java\n",
      "swift\n"
     ]
    }
   ],
   "source": [
    "print(dict_1[\"자바\"])\n",
    "print(dict_2[\"스위프트\"])"
   ]
  },
  {
   "cell_type": "markdown",
   "id": "a86ff0a2-4c41-40f8-baee-3caebac5290f",
   "metadata": {},
   "source": [
    "dict를 다시 key, value를 가지고 있는 list로 바꾸고 싶다면 items 메소드를 사용할 수 있다. 이 외에 key만 뽑고 싶다면 keys, values만 뽑고 싶으면 values 메소드를 사용하면 된다."
   ]
  },
  {
   "cell_type": "code",
   "execution_count": 18,
   "id": "7b4ce964-00c3-4ec7-837c-b160a6d836c7",
   "metadata": {},
   "outputs": [
    {
     "data": {
      "text/plain": [
       "[('파이썬', 'python'), ('러스트', 'rust'), ('자바', 'java'), ('스위프트', 'swift')]"
      ]
     },
     "execution_count": 18,
     "metadata": {},
     "output_type": "execute_result"
    }
   ],
   "source": [
    "list(dict_2.items())"
   ]
  },
  {
   "cell_type": "markdown",
   "id": "4bb1f7c4-5269-4be3-a1c8-9732f436a9d5",
   "metadata": {},
   "source": [
    "이 외에도 dict에서의 in 키워드가 어떻게 작동하는지와 dict에서의 삽입 삭제 연산을 알아보면 유용하다. 또한 ordereddict나 defaultdict와 같은 특별한 dict 형태의 자료구조에 대해서 알아보면 유용하다."
   ]
  },
  {
   "cell_type": "markdown",
   "id": "0450781c-45bd-4fa8-bd3d-109e784d07cc",
   "metadata": {},
   "source": [
    "## 2. Generator\n",
    "파이썬의 가장 큰 특징 중 하나를 꼽을 수 있는 것으로 generator가 있다. generator를 자유롭게 쓸 수 있다면 조금 더 간결하면서도 효율적인 코드를 작성할 수 있다.\n",
    "\n",
    "generator는 순회 가능하지만(즉, iterable 하지만) 실제 데이터가 메모리 상에는 올라가지 않은 데이터를 뜻한다. 데이터가 실제 메모리 상에 존재하지는 않기 메모리 측면에서 훨씬 효율적이다.\n",
    "\n",
    "파이썬의 for 문은 다른 언어에 비해 비효율적이다. 그러나 generator를 쓴다면 for 문의 사용을 최소화 할 수 있다. 앞으로 다양한 머신러닝 프레임워크를 쓸 때에도 효율적인 구현을 위해서는 for 문의 사용을 최소화 해야하기 때문에 generator를 이용한 파이썬 코딩이 도움이 될 수 있다.\n",
    "\n",
    "generator의 실제 구현은 yield 키워드를 통해서 가능하기에 관심이 있을 경우 검색을 권장한다.\n",
    "\n",
    "파이썬에서 제공하는 가장 대표적인 generator는 range이다. 실제 range에 어떤 큰 숫자를 넣더라고 메모리 초과 에러가 뜨지는 않는다. 그러나 이러한 generator를 list와 같은 자료구조를 통해 메모리 상에 올리는 순간 에러가 발생할 것이다."
   ]
  },
  {
   "cell_type": "code",
   "execution_count": 19,
   "id": "e91bd10f-4a2c-4eb5-ab87-88e5d248b510",
   "metadata": {},
   "outputs": [
    {
     "data": {
      "text/plain": [
       "range(0, 100000000000000000000)"
      ]
     },
     "execution_count": 19,
     "metadata": {},
     "output_type": "execute_result"
    }
   ],
   "source": [
    "range(10**20)\n",
    "# list(range(10**20)) <- don't try"
   ]
  },
  {
   "cell_type": "markdown",
   "id": "ec232a38-d939-4db3-9ffa-460d032b7320",
   "metadata": {},
   "source": [
    "데이터가 메모리 상에 올라와 있지 않기 때문에, 당연히 접근할 수도 없다. 오로지 for 문을 통해서만 접근할 수 있다."
   ]
  },
  {
   "cell_type": "code",
   "execution_count": 20,
   "id": "fc5a8f96-79cf-423f-98c1-ac7bd73605ca",
   "metadata": {},
   "outputs": [
    {
     "name": "stdout",
     "output_type": "stream",
     "text": [
      "0\n",
      "1\n",
      "2\n",
      "3\n",
      "4\n"
     ]
    }
   ],
   "source": [
    "for i in range(10**20):\n",
    "    if i == 5:\n",
    "        break\n",
    "    print(i)\n",
    "# print(range(10**20)[5]) <- error!"
   ]
  },
  {
   "cell_type": "markdown",
   "id": "581ac0b6-a7d3-418d-8c17-65836082a462",
   "metadata": {},
   "source": [
    "range 외에 파이썬에서 기본 제공하는 중요한 generator로는 enumerate, map, zip, filter, sorted가 있다. 각각의 기능은 다음과 같다.\n",
    "- enumerate(iterable): 각 데이터의 위치와 해당 데이터의 순서쌍을 반환한다.\n",
    "- map(function, iterable): 각 데이터를 function을 통해 바꾸어 반환한다.\n",
    "- zip(iterable1, iterable2, ...): 순회 가능한 n개의 데이터를 순서쌍으로 묶어서 반환한다. \n",
    "- filter(function, iterable): 특정 조건을 만족하는 데이터만 반환한다.\n",
    "- sorted(iterable, key=function): 특정 조건에 따라 정렬한 순서대로 반환한다. 디폴트로 오름차순으로 반환한다."
   ]
  },
  {
   "cell_type": "code",
   "execution_count": 8,
   "id": "99dac35f-1710-4303-a695-e6a967c2e7ca",
   "metadata": {},
   "outputs": [
    {
     "name": "stdout",
     "output_type": "stream",
     "text": [
      "enumerate: [(0, 3), (1, 1), (2, 4), (3, 1), (4, 5), (5, 9), (6, 2)]\n",
      "enumerate to dict: {0: 3, 1: 1, 2: 4, 3: 1, 4: 5, 5: 9, 6: 2}\n",
      "zip to list: [(6, 4, 3), (7, 9, 1), (6, 6, 4), (8, 7, 1), (5, 3, 5), (4, 4, 9), (3, 1, 2)]\n"
     ]
    }
   ],
   "source": [
    "list1 = [3,1,4,1,5,9,2]\n",
    "list2 = [4,9,6,7,3,4,1]\n",
    "list3 = [6,7,6,8,5,4,3]\n",
    "print(\"enumerate:\",list(enumerate(list1)))\n",
    "print(\"enumerate to dict:\",dict(enumerate(list1)))\n",
    "print(\"zip to list:\",list(zip(list3,list2,list1)))"
   ]
  },
  {
   "cell_type": "code",
   "execution_count": 22,
   "id": "139bd669-8ce8-4824-a5b3-e8b2590d6ffb",
   "metadata": {},
   "outputs": [
    {
     "name": "stdout",
     "output_type": "stream",
     "text": [
      "map: [9, 1, 16, 1, 25, 81, 4]\n",
      "type conversion to string using map: ['3', '1', '4', '1', '5', '9', '2']\n",
      "type conversion to integer using map: [5, 2, 1, 4, 5, 7]\n",
      "filter: [4, 9, 6, 7, 4]\n",
      "sorted: [3, 4, 5, 6, 6, 7, 8]\n"
     ]
    }
   ],
   "source": [
    "def map_func(x):\n",
    "    return x*x\n",
    "def func(x):\n",
    "    return x > 3\n",
    "print(\"map:\",list(map(map_func, list1)))\n",
    "print(\"type conversion to string using map:\",list(map(str, list1)))\n",
    "print(\"type conversion to integer using map:\",list(map(int, \"521457\")))\n",
    "print(\"filter:\",list(filter(func, list2)))\n",
    "print(\"sorted:\",list(sorted(list3)))"
   ]
  },
  {
   "cell_type": "markdown",
   "id": "972964fe-2fb3-4ee4-9558-4071d83582d4",
   "metadata": {},
   "source": [
    "이 외에도 itertools 에서 다양한 기능을 하는 generator를 제공하기에 찾아보는 것을 권장한다."
   ]
  },
  {
   "cell_type": "code",
   "execution_count": 23,
   "id": "a784cb56-e19f-4a4d-9324-84d5f7f6dad7",
   "metadata": {},
   "outputs": [
    {
     "name": "stdout",
     "output_type": "stream",
     "text": [
      "(0, 1)\n",
      "(0, 2)\n",
      "(0, 3)\n",
      "(0, 4)\n",
      "(1, 2)\n",
      "(1, 3)\n",
      "(1, 4)\n",
      "(2, 3)\n",
      "(2, 4)\n",
      "(3, 4)\n"
     ]
    }
   ],
   "source": [
    "from itertools import combinations\n",
    "for i in combinations(range(5), 2):\n",
    "    print(i)"
   ]
  },
  {
   "cell_type": "markdown",
   "id": "f37ad7ef-41b1-4827-9603-cdda72a211aa",
   "metadata": {},
   "source": [
    "### join\n",
    "generator와 연동이 좋은 메소드로는 문자열 처리에 큰 도움이 되는 join 메소드가 있다. join은 여러 문자열을 특정 문자열로 연결해주는 역할을 한다."
   ]
  },
  {
   "cell_type": "code",
   "execution_count": 24,
   "id": "24facdf7-f8b8-4fd9-8b46-d99555b9a3f9",
   "metadata": {},
   "outputs": [
    {
     "data": {
      "text/plain": [
       "'You are the drug that I am addicted to'"
      ]
     },
     "execution_count": 24,
     "metadata": {},
     "output_type": "execute_result"
    }
   ],
   "source": [
    "words = [\"You\",\"are\",\"the\",\"drug\",\"that\",\"I\",\"am\",\"addicted\",\"to\"]\n",
    "' '.join(words)"
   ]
  },
  {
   "cell_type": "code",
   "execution_count": 25,
   "id": "e9bb0e7f-1884-4e4e-9ccb-d78d346c3491",
   "metadata": {},
   "outputs": [
    {
     "data": {
      "text/plain": [
       "'You-are-the-drug-that-I-am-addicted-to'"
      ]
     },
     "execution_count": 25,
     "metadata": {},
     "output_type": "execute_result"
    }
   ],
   "source": [
    "sents = 'You are the drug that I am addicted to'\n",
    "words = sents.split()\n",
    "'-'.join(words)"
   ]
  },
  {
   "cell_type": "code",
   "execution_count": 26,
   "id": "03b3997f-da34-477d-88b1-0d1654c4c93a",
   "metadata": {},
   "outputs": [
    {
     "data": {
      "text/plain": [
       "'axbxcxdxe'"
      ]
     },
     "execution_count": 26,
     "metadata": {},
     "output_type": "execute_result"
    }
   ],
   "source": [
    "\"x\".join(\"abcde\")"
   ]
  },
  {
   "cell_type": "markdown",
   "id": "18223e21-7aff-4d48-b7da-ee733164ebdc",
   "metadata": {},
   "source": [
    "join 안의 인자는 list나 string이 아닌 generator여도 된다. 그러나 반환되는 모든 데이터는 문자열이기 때문에 map을 통해서 데이터 타입을 바꾸어 준다면 완벽히 join을 사용할 수 있다."
   ]
  },
  {
   "cell_type": "code",
   "execution_count": 27,
   "id": "88cd5bc3-d657-465d-9dd9-9859e0b64c77",
   "metadata": {},
   "outputs": [
    {
     "data": {
      "text/plain": [
       "'3141592'"
      ]
     },
     "execution_count": 27,
     "metadata": {},
     "output_type": "execute_result"
    }
   ],
   "source": [
    "''.join(map(str, list1))"
   ]
  },
  {
   "cell_type": "markdown",
   "id": "33315b26-c09b-43d1-bf05-263dd8639ea0",
   "metadata": {},
   "source": [
    "## 3. 함수\n",
    "함수는 대부분의 프로그래밍 언어에 존재하며 파이썬에선 def 키워드를 통해 함수를 정의한다. 이번 강의에서는 파이썬에서의 특별한 함수 사용법을 알아본다."
   ]
  },
  {
   "cell_type": "markdown",
   "id": "f6db657e-c83c-48e4-a770-43466f94e585",
   "metadata": {},
   "source": [
    "### 익명 함수\n",
    "generator는 일반적으로 특정 함수에 따라서 데이터를 반환할 때 매우 유용하다. 그러나 함수를 def를 통해 매번 정의를 한다면 코드가 매우 복잡해질 것이다. 이를 lambda 키워드를 통해 간결하게 익명 함수를 생성함으로써 해결한다."
   ]
  },
  {
   "cell_type": "code",
   "execution_count": 28,
   "id": "c800f5d3-d42e-4bf2-8f6c-e296be9640c2",
   "metadata": {},
   "outputs": [
    {
     "name": "stdout",
     "output_type": "stream",
     "text": [
      "map with lambda: [9, 1, 16, 1, 25, 81, 4]\n",
      "filter with lambda: [4, 9, 6, 7, 4]\n"
     ]
    }
   ],
   "source": [
    "list1 = [3,1,4,1,5,9,2]\n",
    "list2 = [4,9,6,7,3,4,1]\n",
    "print(\"map with lambda:\",list(map(lambda x:x*x,list1)))\n",
    "print(\"filter with lambda:\",list(filter(lambda x:x>3,list2)))"
   ]
  },
  {
   "cell_type": "markdown",
   "id": "70887ec7-a385-4e52-88d5-7b6ca1213739",
   "metadata": {},
   "source": [
    "익명 함수는 하나의 변수로 생각하여 사용 할 수도 있다."
   ]
  },
  {
   "cell_type": "code",
   "execution_count": 29,
   "id": "791bf9f0-d0d1-4ca2-a3df-0290d36f2354",
   "metadata": {},
   "outputs": [
    {
     "name": "stdout",
     "output_type": "stream",
     "text": [
      "map with lambda: [16, 1, 25, 9, 4, 36, 49]\n",
      "sort with lambda: [1, 2, 3, -4, -5, -6, -7]\n"
     ]
    }
   ],
   "source": [
    "nums = [-4, 1, -5, 3, 2, -6, -7]\n",
    "func = lambda x:x*x\n",
    "print(\"map with lambda:\", list(map(func, nums)))\n",
    "print(\"sort with lambda:\", list(sorted(nums, key=func)))"
   ]
  },
  {
   "cell_type": "markdown",
   "id": "b3deb338-baf8-4b42-a555-81cebf1a9b9f",
   "metadata": {},
   "source": [
    "### unpacking\n",
    "파이썬을 통해 다양한 함수를 쓰다보면 인자의 개수가 많은 함수를 쓰는 경우도 있다. 이러한 함수를 사용할 때 unpacking을 통해 간결하게 코드를 짤 수 있다."
   ]
  },
  {
   "cell_type": "code",
   "execution_count": 30,
   "id": "2d03d7c6-f9d1-4438-8aff-06a9e5fb3bdb",
   "metadata": {},
   "outputs": [
    {
     "name": "stdout",
     "output_type": "stream",
     "text": [
      "naive: 43\n",
      "unpacking: 43\n"
     ]
    }
   ],
   "source": [
    "def so_many_args(a,b,c,d,e,f):\n",
    "    return a+b*b+c+d*d+e+f*f\n",
    "args = [6,-5,4,3,-2,-1]\n",
    "print(\"naive:\", so_many_args(args[0],args[1],args[2],args[3],args[4],args[5]))\n",
    "print(\"unpacking:\", so_many_args(*args))"
   ]
  },
  {
   "cell_type": "markdown",
   "id": "a5ac2208-6c36-4135-80f7-a25fa1fe544d",
   "metadata": {},
   "source": [
    "인자의 개수가 가변적인 함수를 쓸 때도 unpacking은 유용하다. 가장 대표적인 예시로는 zip이 있다. 묶고 싶은 iterable 객체의 개수가 가변적일 경우 일일히 인자로 넘겨주는 것이 아닌 unpacking을 통해 인자로 넘겨주는 것이 가장 좋다.\n",
    "\n",
    "다음의 예제를 살펴보자. 아래 코드와 같이 zip할 iterable의 개수가 가변적인 경우 unpacking이 없다면 if문을 통해 모든 경우의 수에 대해 처리를 해야한다."
   ]
  },
  {
   "cell_type": "code",
   "execution_count": 31,
   "id": "68e2cc1f-de7d-4c96-9411-dc67825a8711",
   "metadata": {},
   "outputs": [
    {
     "name": "stdout",
     "output_type": "stream",
     "text": [
      "num_vecs: 2\n",
      "[(-3, 1), (1, 7), (5, 3), (6, -8)]\n"
     ]
    }
   ],
   "source": [
    "# 다음의 예제를 여러번 실행해 보세요.\n",
    "vectors = [\n",
    "    [-3,1,5,6],\n",
    "    [1,7,3,-8],\n",
    "    [-8,6,5,2],\n",
    "    [7,-2,-4,-7]\n",
    "]\n",
    "num_vecs = randint(2, 4)\n",
    "print(\"num_vecs:\", num_vecs)\n",
    "sampled = vectors[:num_vecs]\n",
    "\n",
    "if num_vecs == 2:\n",
    "    print(list(zip(sampled[0], sampled[1])))\n",
    "elif num_vecs == 3:\n",
    "    print(list(zip(sampled[0], sampled[1], sampled[2])))\n",
    "elif num_vecs == 4:\n",
    "    print(list(zip(sampled[0], sampled[1], sampled[2], sampled[3])))"
   ]
  },
  {
   "cell_type": "markdown",
   "id": "5c23cb95-6cfb-4b45-a7a8-30840cc328cb",
   "metadata": {},
   "source": [
    "그러나 unpacking을 사용하면 매우 간결해진다."
   ]
  },
  {
   "cell_type": "code",
   "execution_count": 32,
   "id": "d9a0d147-59fb-4d36-931b-e22fe871ffd3",
   "metadata": {},
   "outputs": [
    {
     "name": "stdout",
     "output_type": "stream",
     "text": [
      "num_vecs: 3\n",
      "[(-3, 1, -8), (1, 7, 6), (5, 3, 5), (6, -8, 2)]\n"
     ]
    }
   ],
   "source": [
    "# 다음의 예제를 여러번 실행해 보세요.\n",
    "num_vecs = randint(2, 4)\n",
    "print(\"num_vecs:\", num_vecs)\n",
    "sampled = vectors[:num_vecs]\n",
    "\n",
    "print(list(zip(*sampled)))"
   ]
  },
  {
   "cell_type": "markdown",
   "id": "d2423eeb-d67b-45d0-ad1f-e066da0f44c5",
   "metadata": {},
   "source": [
    "## 4. Class\n",
    "파이썬에서는 클래스를 제공한다. 객체 지향 프로그래밍에 대해 개인적으로 공부하는 것을 추천한다.\n",
    "\n",
    "파이썬에서 클래스는 다음과 같이 선언한다. 클래스에는 생성자가 필요하며, 생성자의 이름은 __init__으로 고정된다. 일반적으로 생성자에서 멤버 변수를 선언하기도 한다. 그리고 클래스에서 메소드를 만들어 기능을 구현할 수 있다. 각 메소드의 첫번째 인자는 반드시 현재 객체를 뜻하는 self가 되어야 한다."
   ]
  },
  {
   "cell_type": "code",
   "execution_count": 33,
   "id": "6f5080a7-3dc2-4dd8-afa6-6bd241d9632b",
   "metadata": {},
   "outputs": [
    {
     "name": "stdout",
     "output_type": "stream",
     "text": [
      "var1: 1 var2: 4\n",
      "increment var2\n",
      "var1: 1 var2: 5\n",
      "increment var1\n",
      "var1: 2 var2: 5\n",
      "increment var2\n",
      "var1: 2 var2: 6\n",
      "increment var1\n",
      "var1: 3 var2: 6\n",
      "increment var2\n",
      "var1: 3 var2: 7\n",
      "increment var1\n",
      "var1: 4 var2: 7\n",
      "increment var2\n",
      "var1: 4 var2: 8\n",
      "increment var1\n",
      "var1: 5 var2: 8\n",
      "increment var2\n",
      "var1: 5 var2: 9\n",
      "increment var1\n",
      "var1: 6 var2: 9\n"
     ]
    }
   ],
   "source": [
    "class MyClass:\n",
    "    def __init__(self, var1, var2):\n",
    "        self.var1 = var1\n",
    "        self.var2 = var2\n",
    "        \n",
    "    def increment_var1(self):\n",
    "        self.var1 += 1\n",
    "    \n",
    "    def increment_var2(self):\n",
    "        self.var2 += 1\n",
    "\n",
    "v = [1, 4]\n",
    "myclass = MyClass(*v)\n",
    "\n",
    "print(\"var1:\", myclass.var1, \"var2:\", myclass.var2)\n",
    "for i in range(10):\n",
    "    if i % 2:\n",
    "        myclass.increment_var1()\n",
    "        print(\"increment var1\")\n",
    "    else:\n",
    "        myclass.increment_var2()\n",
    "        print(\"increment var2\")\n",
    "    print(\"var1:\", myclass.var1, \"var2:\", myclass.var2)"
   ]
  },
  {
   "cell_type": "markdown",
   "id": "952f5bb6-965b-44aa-be71-b552f3ac3b2a",
   "metadata": {},
   "source": [
    "### 상속\n",
    "상속을 다른 클래스에서 구현된 기능을 현재 클래스에서 쉽게 가져올 수 있다. 다음 예제를 보자.\n",
    "\n",
    "상속을 통해 IncAndDec 클래스에 inc 메소드를 구현하지 않고도 사용할 수 있다는 것을 확인할 수 있다."
   ]
  },
  {
   "cell_type": "code",
   "execution_count": 34,
   "id": "4ac088fc-d552-462d-b5e3-679509e7f9ce",
   "metadata": {},
   "outputs": [
    {
     "data": {
      "text/plain": [
       "0"
      ]
     },
     "execution_count": 34,
     "metadata": {},
     "output_type": "execute_result"
    }
   ],
   "source": [
    "class Increment:\n",
    "    def __init__(self):\n",
    "        self.var = 0\n",
    "    \n",
    "    def inc(self):\n",
    "        self.var += 1\n",
    "        \n",
    "class IncAndDec(Increment):\n",
    "    # 가져오고 싶은 클래스를 괄호 안에 추가\n",
    "    # 해당 클래스가 부모 클래스가 된다.\n",
    "    def __init__(self):\n",
    "        # super()를 통해 부모 클래스를 불러오고 생성자를 호출한다.\n",
    "        super().__init__()\n",
    "    \n",
    "    def dec(self):\n",
    "        self.var -= 1\n",
    "\n",
    "iad = IncAndDec()\n",
    "iad.var"
   ]
  },
  {
   "cell_type": "code",
   "execution_count": 35,
   "id": "96f24499-ff29-4c59-b57f-c2c1c133e79f",
   "metadata": {},
   "outputs": [
    {
     "name": "stdout",
     "output_type": "stream",
     "text": [
      "1\n",
      "0\n"
     ]
    }
   ],
   "source": [
    "iad.inc()\n",
    "print(iad.var)\n",
    "iad.dec()\n",
    "print(iad.var)"
   ]
  },
  {
   "cell_type": "markdown",
   "id": "0f55cfa4-17f5-44ea-b846-ce52399f9980",
   "metadata": {},
   "source": [
    "### Magic Method\n",
    "파이썬 클래스의 특별한 점 중 하나는 매직 메소드다. 매직 메소드를 통해 클래스를 더욱 특별하게 사용할 수 있다. 이번 강의에서는 가장 간단한 __str__메소드에 대해 알아본다. 더 다양한 매직 메소드는 구글링을 통해 알아보는 것을 권장한다.\n",
    "\n",
    "__str__메소드는 클래스를 문자열로 바꿨을 때 어떻게 출력하는지를 결정하는 메소드로 다음과 같이 쓸 수 있다."
   ]
  },
  {
   "cell_type": "code",
   "execution_count": 36,
   "id": "e1182ddf-13ee-4c6e-bb11-243956165c3d",
   "metadata": {},
   "outputs": [
    {
     "name": "stdout",
     "output_type": "stream",
     "text": [
      "한재연은 17학번이며 수학과에서 재학중입니다.\n",
      "박은빈은 11학번이며 심리학과를 졸업했습니다.\n"
     ]
    }
   ],
   "source": [
    "class Student:\n",
    "    def __init__(self, name, major, year, graduated):\n",
    "        self.name = name\n",
    "        self.major = major\n",
    "        self.year = year\n",
    "        self.graduated = graduated\n",
    "        \n",
    "    def __str__(self):\n",
    "        if not self.graduated:\n",
    "            return \"{}은 {}학번이며 {}에서 재학중입니다.\".format(self.name, self.year, self.major)\n",
    "        else:\n",
    "            return \"{}은 {}학번이며 {}를 졸업했습니다.\".format(self.name, self.year, self.major)\n",
    "        \n",
    "me = Student(\"한재연\", \"수학과\", 17, False)\n",
    "park = Student(\"박은빈\", \"심리학과\", 11, True)\n",
    "print(str(me))\n",
    "print(str(park))"
   ]
  },
  {
   "cell_type": "markdown",
   "id": "1df3ee61-1821-49fb-a579-30efc12177ef",
   "metadata": {},
   "source": [
    "## 5. 과제\n",
    "assignment1.py에 있는 함수들을 작성하고 현재 노트북 파일의 코드를 실행하여 결과를 확인하세요.\n",
    "\n",
    "주의해야 할 점으론 주어진 예제에 대해서 맞다고 해서 정확한 코드를 작성했다는 보장이 없기에 다양한 예제를 시도해야 합니다."
   ]
  },
  {
   "cell_type": "code",
   "execution_count": 37,
   "id": "864505e8-0958-4c90-b4cb-7c22d4eb1ceb",
   "metadata": {},
   "outputs": [],
   "source": [
    "# 과제 확인을 위해 해당 코드 셀을 먼저 실행하세요.\n",
    "%load_ext autoreload\n",
    "%autoreload 2"
   ]
  },
  {
   "cell_type": "markdown",
   "id": "63ed868a-47fc-4a43-806e-13dd5cd2e9e0",
   "metadata": {},
   "source": [
    "### Problem 1\n",
    "크기 N x M 2차원 자연수 리스트가 주어집니다. 이 때, 각 리스트가 가지고 있는 숫자 중 자리수의 합이 가장 큰 숫자만을 뽑아내어 크기 N의 리스트를 구하세요. 자리수의 합이 같다면 먼저 나온 숫자를 출력하세요.\n",
    "\n",
    "단, 함수 내부의 코드는 오로지 **한 줄**이어야 합니다."
   ]
  },
  {
   "cell_type": "code",
   "execution_count": 38,
   "id": "8a0a6a08-d3ce-49b3-99c2-1b6e829345eb",
   "metadata": {},
   "outputs": [
    {
     "name": "stdout",
     "output_type": "stream",
     "text": [
      "your answer: None\n",
      "wrong\n"
     ]
    }
   ],
   "source": [
    "from assignment1 import p1\n",
    "\n",
    "example = [\n",
    "    [1523, 7257, 27118, 1113001, 986, 54],\n",
    "    [825, 57114, 189084, 97490, 4638, 2567],\n",
    "    [8793, 246, 1461, 8628, 11464, 19867],\n",
    "    [790071, 780086, 522, 7528, 97653, 2456],\n",
    "    [4628, 8970, 2451, 16489, 1451, 791145]\n",
    "]\n",
    "answer = [986, 189084, 19867, 97653, 16489]\n",
    "your_work = p1(example)\n",
    "\n",
    "print(\"your answer:\", your_work)\n",
    "print(\"correct\" if answer is not None and answer == your_work else \"wrong\")"
   ]
  },
  {
   "cell_type": "code",
   "execution_count": 39,
   "id": "d3fc35d1-079f-41fc-8ec9-ca5bef18e677",
   "metadata": {},
   "outputs": [
    {
     "name": "stdout",
     "output_type": "stream",
     "text": [
      "your answer: None\n",
      "wrong\n"
     ]
    }
   ],
   "source": [
    "# 예제를 직접 만들어 실행하세요.\n",
    "from assignment1 import p1\n",
    "\n",
    "example = [\n",
    "    [993, 100004, 72],\n",
    "    [54, 1111113, 9],\n",
    "    [1000002, 11, 101]\n",
    "]\n",
    "answer = [993, 54, 1000002]\n",
    "your_work = p1(example)\n",
    "\n",
    "print(\"your answer:\", your_work)\n",
    "print(\"correct\" if answer is not None and answer == your_work else \"wrong\")"
   ]
  },
  {
   "cell_type": "code",
   "execution_count": 40,
   "id": "1d1d7a84-9055-45a0-aa4e-bcf64dc0b274",
   "metadata": {},
   "outputs": [
    {
     "name": "stdout",
     "output_type": "stream",
     "text": [
      "your answer: None\n",
      "wrong\n"
     ]
    }
   ],
   "source": [
    "# 예제를 직접 만들어 실행하세요.\n",
    "from assignment1 import p1\n",
    "\n",
    "example = [\n",
    "    [123, 321, 123, 322],\n",
    "    [654, 1513, 144, 876],\n",
    "    [4010, 241, 1531, 541],\n",
    "    [3, 1, 4, 4]\n",
    "]\n",
    "answer = [322, 876, 1531, 4]\n",
    "your_work = p1(example)\n",
    "\n",
    "print(\"your answer:\", your_work)\n",
    "print(\"correct\" if answer is not None and answer == your_work else \"wrong\")"
   ]
  },
  {
   "cell_type": "code",
   "execution_count": 41,
   "id": "91a0cf57-b2da-4387-b6b1-9c8ef53a12ec",
   "metadata": {},
   "outputs": [
    {
     "name": "stdout",
     "output_type": "stream",
     "text": [
      "your answer: None\n",
      "wrong\n"
     ]
    }
   ],
   "source": [
    "# 예제를 직접 만들어 실행하세요.\n",
    "from assignment1 import p1\n",
    "\n",
    "example = None\n",
    "answer = None\n",
    "your_work = p1(example)\n",
    "\n",
    "print(\"your answer:\", your_work)\n",
    "print(\"correct\" if answer is not None and answer == your_work else \"wrong\")"
   ]
  },
  {
   "cell_type": "markdown",
   "id": "e35dbf29-2a5d-451e-b253-bd3b1ddee24d",
   "metadata": {},
   "source": [
    "### Problem 2\n",
    "\n",
    "one-hot encoding이란 인덱스의 집합이 주어졌을 때, 해당 인덱스에만 1을 부여하고 나머지 인덱스에는 0을 부여하여 데이터를 표현하는 방식입니다.\n",
    "\n",
    "예를 들어, 주어진 인덱스의 집합이 [3, 0, 2, 1] 이라면 해당 집합을 다음과 같은 2차원 행렬로 표현할 수 있습니다.\n",
    "\n",
    "\\begin{matrix}\n",
    "0 & 0 & 0 & 1 \\\\\n",
    "1 & 0 & 0 & 0 \\\\\n",
    "0 & 0 & 1 & 0 \\\\\n",
    "0 & 1 & 0 & 0\n",
    "\\end{matrix}\n",
    "\n",
    "크기 N의 정수 리스트가 주어집니다. 인덱스는 음수가 될 수 없기 때문에 음수 데이터를 삭제 한 이후, one-hot encoding이 되어있는 2차원 리스트를 구하세요.\n",
    "\n",
    "주어지는 리스트는 0 이상의 정수가 적어도 하나 존재함이 보장됩니다.\n",
    "\n",
    "단, 함수 내부 코드는 최대 **세 줄**이어야 합니다."
   ]
  },
  {
   "cell_type": "code",
   "execution_count": 42,
   "id": "dd88209f-f452-4632-a88b-9cca78bbca1c",
   "metadata": {},
   "outputs": [
    {
     "name": "stdout",
     "output_type": "stream",
     "text": [
      "your answer: None\n",
      "wrong\n"
     ]
    }
   ],
   "source": [
    "from assignment1 import p2\n",
    "\n",
    "example = [5,1,0,-3,1,0,-2,4]\n",
    "answer = [\n",
    "    [0, 0, 0, 0, 0, 1],\n",
    "    [0, 1, 0, 0, 0, 0],\n",
    "    [1, 0, 0, 0, 0, 0],\n",
    "    [0, 1, 0, 0, 0, 0],\n",
    "    [1, 0, 0, 0, 0, 0],\n",
    "    [0, 0, 0, 0, 1, 0]]\n",
    "your_work = p2(example)\n",
    "\n",
    "print(\"your answer:\", your_work)\n",
    "print(\"correct\" if answer is not None and answer == your_work else \"wrong\")"
   ]
  },
  {
   "cell_type": "code",
   "execution_count": 43,
   "id": "75de9d4e-b9a4-4171-ad5c-d915490d1e6b",
   "metadata": {},
   "outputs": [
    {
     "name": "stdout",
     "output_type": "stream",
     "text": [
      "your answer: None\n",
      "wrong\n"
     ]
    }
   ],
   "source": [
    "from assignment1 import p2\n",
    "\n",
    "example = [0,-1,-2,-3]\n",
    "answer = [[1]]\n",
    "your_work = p2(example)\n",
    "\n",
    "print(\"your answer:\", your_work)\n",
    "print(\"correct\" if answer is not None and answer == your_work else \"wrong\")"
   ]
  },
  {
   "cell_type": "code",
   "execution_count": 44,
   "id": "ebe7235b-16af-4c8d-bc31-c4c8106bc828",
   "metadata": {},
   "outputs": [
    {
     "name": "stdout",
     "output_type": "stream",
     "text": [
      "your answer: None\n",
      "wrong\n"
     ]
    }
   ],
   "source": [
    "from assignment1 import p2\n",
    "\n",
    "example = [10, 0, 5, -5, 0, -10]\n",
    "answer = [\n",
    "    [0, 0, 0, 0, 0, 0, 0, 0, 0, 0, 1],\n",
    "    [1, 0, 0, 0, 0, 0, 0, 0, 0, 0, 0],\n",
    "    [0, 0, 0, 0, 0, 1, 0, 0, 0, 0, 0],\n",
    "    [1, 0, 0, 0, 0, 0, 0, 0, 0, 0, 0]]\n",
    "your_work = p2(example)\n",
    "\n",
    "print(\"your answer:\", your_work)\n",
    "print(\"correct\" if answer is not None and answer == your_work else \"wrong\")"
   ]
  },
  {
   "cell_type": "code",
   "execution_count": 45,
   "id": "771740e0-055f-4855-b12e-1c6ace69fdb9",
   "metadata": {},
   "outputs": [
    {
     "name": "stdout",
     "output_type": "stream",
     "text": [
      "your answer: None\n",
      "wrong\n"
     ]
    }
   ],
   "source": [
    "from assignment1 import p2\n",
    "\n",
    "example = None\n",
    "answer = None\n",
    "your_work = p2(example)\n",
    "\n",
    "print(\"your answer:\", your_work)\n",
    "print(\"correct\" if answer is not None and answer == your_work else \"wrong\")"
   ]
  },
  {
   "cell_type": "markdown",
   "id": "c2ef76b4-5e00-4101-9a81-a59159c31a17",
   "metadata": {},
   "source": [
    "### Problem 3\n",
    "다솜이는 프로젝트를 위해 주어진 세글자 한글 단어가 한국 이름이 될 수 있는지 판별하고자 합니다. 그러나 다솜이가 가지고 있는 이름 데이터는 모두 세글자이며 모든 한글 이름에 비해 데이터의 개수가 매우 적습니다.\n",
    "\n",
    "데이터가 적은 문제를 해결하기 위해 다솜이는 다음의 방법을 고안했습니다.\n",
    "\n",
    "1. 데이터에 있는 이름의 첫 글자는 항상 성이고 나머지 두 글자는 이름이다.\n",
    "2. 주어진 단어의 첫 글자가 데이터에 존재하는 성이면서 주어진 단어의 나머지 두 글자가 데이터에 존재하는 이름이라면 한국 이름이 될 수 있다고 판단한다.\n",
    "\n",
    "예를 들어, 이름 데이터가 [한재연, 이혁준, 김선웅, 배윤호, 연유정] 일 때, 단순 비교를 할 경우 \"한윤호\" 라는 이름에 대해서는, 데이터셋에 존재하지 않기 때문에 한국 이름이 될 수 없다고 판단합니다. 그러나, 위와 같은 방법을 이용한다면 성이 한씨인 데이터가 \"한재연\"으로 존재하며, 이름이 \"윤호\"인 데이터가 \"배윤호\"로 존재하므로, 데이터셋에 존재하지 않음에도 불구하고 이름으로 판단할 수 있습니다.\n",
    "\n",
    "돈이 많은 다솜이는 현금을 대가로 당신에게 해당 로직의 구현을 부탁했습니다.\n",
    "\n",
    "입력으로 세글자 한글 단어를 가지고 있는 두 리스트가 주어집니다. 첫번째 리스트는 판별하고싶은 단어이며 두번째 리스트는 다솜이가 가지고 있는 이름 데이터입니다. 함수의 출력으로는 각 단어가 이름이 될 수 있는지 여부를 나타내는 True/False 값입니다. 만약 해당 단어가 이름이 될 수 있다면 True, 그렇지 않다면 False가 들어 있는 리스트를 출력해야 합니다.\n",
    "\n",
    "단, 함수 내부 코드는 최대 **네 줄**이어야 합니다."
   ]
  },
  {
   "cell_type": "code",
   "execution_count": 46,
   "id": "6dbb3436-8be2-4a4d-8395-1ca356cb6323",
   "metadata": {},
   "outputs": [
    {
     "name": "stdout",
     "output_type": "stream",
     "text": [
      "your answer: None\n",
      "wrong\n"
     ]
    }
   ],
   "source": [
    "from assignment1 import p3\n",
    "\n",
    "sample = [\"한윤호\", \"김유정\", \"배혁준\", \"오재연\", \"정승훈\", \"김선웅\", \"비행기\"]\n",
    "data = [\"한재연\", \"이혁준\", \"김선웅\", \"배윤호\", \"연유정\"]\n",
    "answer = [True, True, True, False, False, True, False]\n",
    "your_work = p3(sample, data)\n",
    "\n",
    "print(\"your answer:\", your_work)\n",
    "print(\"correct\" if answer is not None and answer == your_work else \"wrong\")"
   ]
  },
  {
   "cell_type": "code",
   "execution_count": 47,
   "id": "7ea58ebd-a294-4f52-838f-b32f8cabbe7d",
   "metadata": {},
   "outputs": [
    {
     "name": "stdout",
     "output_type": "stream",
     "text": [
      "your answer: None\n",
      "wrong\n"
     ]
    }
   ],
   "source": [
    "from assignment1 import p3\n",
    "\n",
    "sample = [\"컴퓨터\", \"전태형\", \"김호석\", \"민지민\", \"박태석\", \"마스크\"]\n",
    "data = [\"김남준\", \"전정국\", \"박지민\", \"김석진\", \"김태형\", \"민윤기\", \"정호석\"]\n",
    "answer = [False, True, True, True, False, False]\n",
    "your_work = p3(sample, data)\n",
    "\n",
    "print(\"your answer:\", your_work)\n",
    "print(\"correct\" if answer is not None and answer == your_work else \"wrong\")"
   ]
  },
  {
   "cell_type": "code",
   "execution_count": 48,
   "id": "aada6a56-f533-4eb5-8ba2-cb11b96abff4",
   "metadata": {},
   "outputs": [
    {
     "name": "stdout",
     "output_type": "stream",
     "text": [
      "your answer: None\n",
      "wrong\n"
     ]
    }
   ],
   "source": [
    "from assignment1 import p3\n",
    "\n",
    "sample = [\"전화기\", \"컴퓨터\", \"마스크\", \"유튜브\", \"비행기\", \"유재석\"]\n",
    "data = [\"전퓨터\", \"비화기\", \"컴스크\", \"유행기\", \"마튜브\"]\n",
    "answer = [True, True, True, True, True, False]\n",
    "your_work = p3(sample, data)\n",
    "\n",
    "print(\"your answer:\", your_work)\n",
    "print(\"correct\" if answer is not None and answer == your_work else \"wrong\")"
   ]
  },
  {
   "cell_type": "code",
   "execution_count": 49,
   "id": "2f26b404-4ed4-490b-bf6e-399eb9107132",
   "metadata": {},
   "outputs": [
    {
     "name": "stdout",
     "output_type": "stream",
     "text": [
      "your answer: None\n",
      "wrong\n"
     ]
    }
   ],
   "source": [
    "from assignment1 import p3\n",
    "\n",
    "sample = None\n",
    "data = None\n",
    "answer = None\n",
    "your_work = p3(sample, data)\n",
    "\n",
    "print(\"your answer:\", your_work)\n",
    "print(\"correct\" if answer is not None and answer == your_work else \"wrong\")"
   ]
  },
  {
   "cell_type": "markdown",
   "id": "10bb3180-5741-4fbe-a591-a7f004d4b6ca",
   "metadata": {},
   "source": [
    "### Problem 4\n",
    "자연어 처리에서 중요한 작업 중 하나는 문장을 벡터로 바꾸는 일입니다. 이를 위해서 먼저 가지고 있는 문장 데이터를 단어 단위로 나눈 후, 각 단어에 인덱스를 매칭 시켜야 합니다. 다음으로는, 바꾸고 싶은 문장을 단어 단위로 나눈 후, 각 단어를 해당 단어에 매칭된 인덱스로 바꾸는 작업을 합니다. 이러한 과정을 통해 하나의 문장은 하나의 정수 벡터로 변환됩니다.\n",
    "\n",
    "승훈이에게는 방대한 영어 문장 데이터셋이 있습니다. 이 데이터셋을 이용하여 주어진 문장을 벡터로 바꾸고자 합니다. 그러나 승훈이는 위와 같은 방법엔 주어진 문장에 존재하는 단어가 데이터셋에는 존재하지 않을 경우, 즉 Out of Vocabulary에 대한 처리를 할 수 없다는 문제점을 발견했습니다. 이를 해결하기 위해 승훈이는 다음과 같은 방법으로 단어에 인덱스를 매칭하고자 합니다.\n",
    "\n",
    "1. 모든 글자를 소문자로 변경한다.\n",
    "2. 띄어쓰기(공백)를 기준으로 문장을 나눈다.\n",
    "3. 각 단어에 대한 인덱스는 사전순으로 인덱스에 매칭한다.\n",
    "4. 그럼에도 주어진 단어가 데이터에 존재하지 않을 경우 (마지막 인덱스 + 1)로 해당 단어를 변환한다.\n",
    "\n",
    "예를 들어, 데이터셋으로 [\"Hello my name is Park\", \"my favorite park is Yosemite\"] 가 주어지면, 모든 글자를 소문자로 변경 한 후 띄어쓰기 기준으로 문장을 나눈 후 합치면 [\"hello\", \"my\", \"name\", \"is\", \"park\", \"my\", \"favorite\", \"park\", \"is\", \"yosemite\"]가 됩니다. 그러나 \"my\", \"is\", \"park\"는 중복 되기 때문에 오로지 [\"hello\", \"my\", \"name\", \"is\", \"park\", \"favorite\", \"yosemite\"] 만 남게 되며, 이를 사전 순서대로 인덱스를 부여하면 다음과 같이 인덱스가 매칭이 됩니다.\n",
    "\n",
    "- favorite: 0\n",
    "- hello: 1\n",
    "- is: 2\n",
    "- my: 3\n",
    "- name: 4\n",
    "- park: 5\n",
    "- yosemite: 6\n",
    "\n",
    "이 때, 주어진 문장이 \"Hello my favorite food is pizza\"라면, \"hello\", \"my\", \"favorite\", \"is\" 는 각각 1, 3, 0, 2으로 변환이 가능하지만, \"food\", \"pizza\"는 단어 셋에 존재하지 않기 때문에 마지막 인덱스인 6에 1을 더한 7로 변환하여 최종적으로 [1, 3, 0, 7, 2, 7]이 됩니다.\n",
    "\n",
    "파이썬을 하나도 모르기에 구현 할 수 없었던 승훈이는 해당 로직에 대한 구현을 당신에게 부탁했습니다. 입력으로 변환할 영어 문장 리스트와 문장 데이터셋 리스트가 주어질 때, 각 영어 문장을 벡터로 변환한 2차원 리스트를 반환하는 함수를 구현하세요. 주어지는 영어 문장은 오로지 알파벳 대소문자와 공백만으로 이루어져 있습니다.\n",
    "\n",
    "단, 함수 내부 코드는 최대 **여섯 줄**이어야 합니다."
   ]
  },
  {
   "cell_type": "code",
   "execution_count": 50,
   "id": "c25ec95b-7fa4-48f4-b34a-760e6eda020c",
   "metadata": {},
   "outputs": [
    {
     "name": "stdout",
     "output_type": "stream",
     "text": [
      "your answer: None\n",
      "wrong\n"
     ]
    }
   ],
   "source": [
    "from assignment1 import p4\n",
    "\n",
    "sample = [\"Hello my favorite food is pizza\", \"Yosemite is the best park ever\"]\n",
    "data = [\"Hello my name is Park\", \"my favorite park is Yosemite\"] \n",
    "answer = [[1, 3, 0, 7, 2, 7], [6, 2, 7, 7, 5, 7]]\n",
    "your_work = p4(sample, data)\n",
    "\n",
    "print(\"your answer:\", your_work)\n",
    "print(\"correct\" if answer is not None and answer == your_work else \"wrong\")"
   ]
  },
  {
   "cell_type": "code",
   "execution_count": 51,
   "id": "bfeb3565-3e29-4643-939e-990744c6b1fb",
   "metadata": {},
   "outputs": [
    {
     "name": "stdout",
     "output_type": "stream",
     "text": [
      "your answer: None\n",
      "wrong\n"
     ]
    }
   ],
   "source": [
    "from assignment1 import p4\n",
    "\n",
    "sample = [\n",
    "    \"What is the point in saying that when you know how I will react\",\n",
    "    \"You think you can just take it back but shit just dont work like that\",\n",
    "    \"You are the drug that I am addicted to and I want you so bad\",\n",
    "    \"Guess I am stuck with you and that is that\"\n",
    "]\n",
    "          \n",
    "data = [\n",
    "    \"What is the trick\",\n",
    "    \"I wish I knew\",\n",
    "    \"I am so done with thinking through all the things I could have been\",\n",
    "    \"And I know you want me too\",\n",
    "    \"All it takes is that one look at you and I run right back to you\",\n",
    "    \"You cross the line and it is time to say F you\"\n",
    "]\n",
    "answer = [\n",
    "    [35, 12, 26, 39, 39, 39, 25, 39, 38, 15, 39, 11, 39, 39],\n",
    "    [38, 39, 38, 39, 39, 39, 13, 4, 39, 39, 39, 39, 39, 39, 25],\n",
    "    [38, 39, 26, 39, 25, 11, 1, 39, 31, 2, 11, 34, 38, 23, 39],\n",
    "    [39, 11, 1, 39, 37, 38, 2, 25, 12, 25]]\n",
    "your_work = p4(sample, data)\n",
    "\n",
    "print(\"your answer:\", your_work)\n",
    "print(\"correct\" if answer is not None and answer == your_work else \"wrong\")"
   ]
  },
  {
   "cell_type": "code",
   "execution_count": 52,
   "id": "b4e262b6-5f49-4a3a-a68a-de315243bcf9",
   "metadata": {},
   "outputs": [
    {
     "name": "stdout",
     "output_type": "stream",
     "text": [
      "your answer: None\n",
      "wrong\n"
     ]
    }
   ],
   "source": [
    "from assignment1 import p4\n",
    "\n",
    "sample = None\n",
    "data = None\n",
    "answer = None\n",
    "your_work = p4(sample, data)\n",
    "\n",
    "print(\"your answer:\", your_work)\n",
    "print(\"correct\" if answer is not None and answer == your_work else \"wrong\")"
   ]
  },
  {
   "cell_type": "markdown",
   "id": "70694316-d3e9-475e-99f3-8a1432edb890",
   "metadata": {},
   "source": [
    "### Problem 5\n",
    "컴퓨터로 이미지를 표현할 때 일반적으로 2차원(흑백) 혹은 3차원(컬러) 행렬을 사용합니다. 이미지를 행렬로 표현하면 이미지에 대한 전처리를 편리하게 할 수 있습니다.\n",
    "\n",
    "지연이는 프로젝트를 위해 흑백 이미지 데이터를 전처리 할 수 있는 코드를 만들고자 합니다. 흑백 이미지는 모든 원소가 0에서 1사이 값을 가지는 2차원 행렬로 표현 합니다. 이 때, 주로 구현할 기능은 다음과 같습니다.\n",
    "\n",
    "- ImgAdd: 두 이미지의 각 원소를 더하는 연산. 단, 결과 값이 0보다 작을 경우 0, 1보다 클 경우 1의 값을 가진다.\n",
    "- Transpose: 이미지를 transpose 시키는 연산.\n",
    "- FixBrightness: 특정 값보다 값이 높은 부분을 특정 비율만큼 줄여주는 연산.\n",
    "- Pad: 상하좌우 1줄씩 0으로 채워진 데이터를 추가하는 연산.\n",
    "\n",
    "지연이는 처음에는 막막했지만 구글링을 통해 2차원 행렬에 대한 기본적인 연산을 할 수 있는 클래스를 발견했습니다. 그러나 클래스에 대해 잘 몰랐던 지연이는 당신에게 구현을 부탁했습니다.\n",
    "\n",
    "assignment1.py에는 Matrix2d라는 클래스가 존재합니다. 해당 클래스를 상속받아 p5 함수가 적절한 작동을 할 수 있게끔 GrayScaleImg 클래스를 작성하세요.\n",
    "\n",
    "Hint: generator 등을 사용하여 간결하게 구현해보세요."
   ]
  },
  {
   "cell_type": "code",
   "execution_count": 53,
   "id": "bf3c4a9b-337f-4598-9c32-387902a9c9f6",
   "metadata": {},
   "outputs": [
    {
     "name": "stdout",
     "output_type": "stream",
     "text": [
      "[Error] 'GrayScaleImg' object has no attribute 'shape'\n",
      "your answer:\n",
      "None\n",
      "wrong\n"
     ]
    }
   ],
   "source": [
    "from assignment1 import Matrix2d, p5\n",
    "from pprint import pprint\n",
    "\n",
    "args = [[[0,0.1,0.2],[0.2,0.3,0.5]],0.4,[[0.1,1,0.1],[0.1,0.1,0.1]],0.15,0.5]\n",
    "answer = {\n",
    "    'lower': [(0, 0), (0, 1), (0, 2), (1, 0), (1, 1)],\n",
    "    'add': Matrix2d([[0.1, 1, 0.30000000000000004], [0.30000000000000004, 0.4, 0.6]]),\n",
    "    'transpose': Matrix2d([[0.1, 0.30000000000000004], [1, 0.4], [0.30000000000000004, 0.6]]),\n",
    "    'fix': Matrix2d([[0.1, 0.15000000000000002], [0.5, 0.2], [0.15000000000000002, 0.3]]),\n",
    "    'pad': Matrix2d([[0, 0, 0, 0], [0, 0.1, 0.15000000000000002, 0], [0, 0.5, 0.2, 0], [0, 0.15000000000000002, 0.3, 0], [0, 0, 0, 0]])}\n",
    "your_work = p5(*args)\n",
    "\n",
    "print(\"your answer:\")\n",
    "pprint(your_work)\n",
    "print(\"correct\" if answer is not None and answer == your_work else \"wrong\")"
   ]
  },
  {
   "cell_type": "code",
   "execution_count": 54,
   "id": "9d1d767c-97f8-4642-9286-82d30469ac45",
   "metadata": {},
   "outputs": [
    {
     "name": "stdout",
     "output_type": "stream",
     "text": [
      "[Error] 'int' object is not iterable\n",
      "your answer:\n",
      "None\n",
      "wrong\n"
     ]
    }
   ],
   "source": [
    "from assignment1 import Matrix2d, p5\n",
    "from pprint import pprint\n",
    "\n",
    "args = [0,0,0,0,0]\n",
    "answer = None\n",
    "your_work = p5(*args)\n",
    "\n",
    "print(\"your answer:\")\n",
    "pprint(your_work)\n",
    "print(\"correct\" if answer is not None and answer == your_work else \"wrong\")"
   ]
  },
  {
   "cell_type": "markdown",
   "id": "65469f6a-681e-4b77-a6f8-c0100884ab4c",
   "metadata": {},
   "source": [
    "### Problem 6 (Bonus)\n",
    "피보나치 수열은 자연수 $n$에 대해 다음을 만족합니다.\n",
    "\n",
    "$$ a_n=a_{n-1}+a_{n-2} \\forall n \\geq  2, a_0=0,a_1=1 $$\n",
    "\n",
    "입력으로 0보다 크거나 같은 정수 n이 들어올 때 n번째 피보나치 수 $a_n$을 구하는 함수를 작성하세요. 단, 숫자가 너무 커질 수 있으니 $10^9+7$로 나눈 나머지를 구하세요."
   ]
  },
  {
   "cell_type": "code",
   "execution_count": 55,
   "id": "fd7511e5-278d-4694-986b-ec42bc0b99a9",
   "metadata": {},
   "outputs": [
    {
     "name": "stdout",
     "output_type": "stream",
     "text": [
      "your answer: None\n",
      "wrong\n"
     ]
    }
   ],
   "source": [
    "from assignment1 import p6\n",
    "\n",
    "n = 10\n",
    "answer = 55\n",
    "your_work = p6(n)\n",
    "\n",
    "print(\"your answer:\", your_work)\n",
    "print(\"correct\" if answer is not None and answer == your_work else \"wrong\")"
   ]
  },
  {
   "cell_type": "code",
   "execution_count": 56,
   "id": "4808f348-335d-4925-b0e1-a09d6bb161c3",
   "metadata": {},
   "outputs": [
    {
     "name": "stdout",
     "output_type": "stream",
     "text": [
      "your answer: None\n",
      "wrong\n"
     ]
    }
   ],
   "source": [
    "from assignment1 import p6\n",
    "\n",
    "n = 100\n",
    "answer = 687995182\n",
    "your_work = p6(n)\n",
    "\n",
    "print(\"your answer:\", your_work)\n",
    "print(\"correct\" if answer is not None and answer == your_work else \"wrong\")"
   ]
  },
  {
   "cell_type": "code",
   "execution_count": 57,
   "id": "2e8455e7-c785-4e27-874b-5aef17c7fbc2",
   "metadata": {},
   "outputs": [
    {
     "name": "stdout",
     "output_type": "stream",
     "text": [
      "your answer: None\n",
      "wrong\n"
     ]
    }
   ],
   "source": [
    "from assignment1 import p6\n",
    "\n",
    "n = 10**15\n",
    "answer = 648325137\n",
    "your_work = p6(n)\n",
    "\n",
    "print(\"your answer:\", your_work)\n",
    "print(\"correct\" if answer is not None and answer == your_work else \"wrong\")"
   ]
  },
  {
   "cell_type": "code",
   "execution_count": null,
   "id": "a1f7837c-b983-4486-b474-a4e57b14c000",
   "metadata": {},
   "outputs": [],
   "source": []
  }
 ],
 "metadata": {
  "kernelspec": {
   "display_name": "Python 3",
   "language": "python",
   "name": "python3"
  },
  "language_info": {
   "codemirror_mode": {
    "name": "ipython",
    "version": 3
   },
   "file_extension": ".py",
   "mimetype": "text/x-python",
   "name": "python",
   "nbconvert_exporter": "python",
   "pygments_lexer": "ipython3",
   "version": "3.9.12"
  },
  "vscode": {
   "interpreter": {
    "hash": "b0fa6594d8f4cbf19f97940f81e996739fb7646882a419484c72d19e05852a7e"
   }
  }
 },
 "nbformat": 4,
 "nbformat_minor": 5
}
