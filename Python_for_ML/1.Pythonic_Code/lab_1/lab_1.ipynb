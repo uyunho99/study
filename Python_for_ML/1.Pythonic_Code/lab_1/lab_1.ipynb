{
 "cells": [
  {
   "cell_type": "code",
   "execution_count": 1,
   "metadata": {},
   "outputs": [
    {
     "data": {
      "text/plain": [
       "True"
      ]
     },
     "execution_count": 1,
     "metadata": {},
     "output_type": "execute_result"
    }
   ],
   "source": [
    "def vector_size_check(*vector_variables):\n",
    "    return all(len(vector_variables[0]) == x\n",
    "                for x in [len(vector) for vector in vector_variables[1:]])\n",
    "    \n",
    "vector_size_check([1,2,3], [2,3,4], [5,6,7])"
   ]
  },
  {
   "cell_type": "code",
   "execution_count": 2,
   "metadata": {},
   "outputs": [
    {
     "name": "stdout",
     "output_type": "stream",
     "text": [
      "[9, 14]\n"
     ]
    }
   ],
   "source": [
    "def vector_addition(*vector_variables):\n",
    "    if vector_size_check(*vector_variables) == False:\n",
    "        raise ArithmeticError\n",
    "    return [sum(elements) for elements in zip(*vector_variables)]\n",
    "\n",
    "print(vector_addition([1, 3], [2, 4], [6, 7]))"
   ]
  },
  {
   "cell_type": "code",
   "execution_count": 3,
   "metadata": {},
   "outputs": [
    {
     "name": "stdout",
     "output_type": "stream",
     "text": [
      "[-1, -1]\n"
     ]
    }
   ],
   "source": [
    "def vector_subtraction(*vector_variables):\n",
    "    if vector_size_check(*vector_variables) == False:\n",
    "        raise ArithmeticError\n",
    "    return [elements[0]*2-sum(elements) for elements in zip(*vector_variables)]\n",
    "\n",
    "print(vector_subtraction([1, 3], [2, 4]))"
   ]
  },
  {
   "cell_type": "code",
   "execution_count": 4,
   "metadata": {},
   "outputs": [
    {
     "name": "stdout",
     "output_type": "stream",
     "text": [
      "[5, 10, 15]\n"
     ]
    }
   ],
   "source": [
    "def scalar_vector_product(alpha, vector_variable):\n",
    "    return [alpha*elements for elements in vector_variable]\n",
    "\n",
    "print(scalar_vector_product(5,[1,2,3]))"
   ]
  },
  {
   "cell_type": "code",
   "execution_count": 5,
   "metadata": {},
   "outputs": [
    {
     "name": "stdout",
     "output_type": "stream",
     "text": [
      "False\n"
     ]
    }
   ],
   "source": [
    "def matrix_size_check(*matrix_variables):\n",
    "    return all([len(set(len(matrix[0]) for matrix in matrix_variables)) == 1]) \\\n",
    "           and all([len(matrix_variables[0]) == len(matrix) for matrix in matrix_variables])\n",
    "\n",
    "matrix_x = [[2, 2], [2, 2], [2, 2]]\n",
    "matrix_y = [[2, 5], [2, 1]]\n",
    "matrix_z = [[2, 4], [5, 3]]\n",
    "print(matrix_size_check(matrix_x, matrix_y, matrix_z))"
   ]
  },
  {
   "cell_type": "code",
   "execution_count": null,
   "metadata": {},
   "outputs": [],
   "source": [
    "def is_matrix_equal(*matrix_variables):\n",
    "    return None\n",
    "\n",
    "matrix_x = [[2, 2], [2, 2]]\n",
    "matrix_y = [[2, 5], [2, 1]]\n",
    "print (is_matrix_equal(matrix_x, matrix_y, matrix_y, matrix_y))"
   ]
  },
  {
   "cell_type": "code",
   "execution_count": null,
   "metadata": {},
   "outputs": [],
   "source": []
  }
 ],
 "metadata": {
  "kernelspec": {
   "display_name": "Python 3.10.4 64-bit",
   "language": "python",
   "name": "python3"
  },
  "language_info": {
   "codemirror_mode": {
    "name": "ipython",
    "version": 3
   },
   "file_extension": ".py",
   "mimetype": "text/x-python",
   "name": "python",
   "nbconvert_exporter": "python",
   "pygments_lexer": "ipython3",
   "version": "3.10.4"
  },
  "orig_nbformat": 4,
  "vscode": {
   "interpreter": {
    "hash": "aee8b7b246df8f9039afb4144a1f6fd8d2ca17a180786b69acc140d282b71a49"
   }
  }
 },
 "nbformat": 4,
 "nbformat_minor": 2
}
